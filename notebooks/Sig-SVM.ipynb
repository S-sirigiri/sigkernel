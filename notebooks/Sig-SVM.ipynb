{
 "cells": [
  {
   "cell_type": "code",
   "execution_count": 48,
   "metadata": {},
   "outputs": [],
   "source": [
    "import sys\n",
    "sys.path.append('../src')\n",
    "sys.path.append('../utils')\n",
    "\n",
    "import numpy as np\n",
    "import pandas as pd\n",
    "from tqdm import notebook as tqdm\n",
    "import matplotlib.pyplot as plt\n",
    "\n",
    "from sklearn.svm import SVC\n",
    "from sklearn.preprocessing import LabelEncoder, MinMaxScaler, StandardScaler\n",
    "from sklearn.metrics import accuracy_score\n",
    "from tslearn.datasets import UCR_UEA_datasets\n",
    "from tslearn.preprocessing import TimeSeriesScalerMinMax\n",
    "from tslearn.svm import TimeSeriesSVC\n",
    "\n",
    "from transformers import AddTime, LeadLag\n",
    "import iisignature\n",
    "from tools import *\n",
    "from sigKer_fast import sig_kernel"
   ]
  },
  {
   "cell_type": "code",
   "execution_count": 49,
   "metadata": {},
   "outputs": [],
   "source": [
    "def transform(paths, at=False, ll=False):\n",
    "    if ll:\n",
    "        paths = LeadLag().fit_transform(paths)\n",
    "    if at:\n",
    "        paths = AddTime().fit_transform(paths)\n",
    "#     derivatives = [np.diff(p,axis=0) for p in paths]\n",
    "#     derivatives = [d/d.max() for d in derivatives]\n",
    "#     paths = [d.cumsum(0) for d in derivatives]\n",
    "#     return [p/p.max() for p in paths]\n",
    "    return paths"
   ]
  },
  {
   "cell_type": "code",
   "execution_count": 346,
   "metadata": {},
   "outputs": [
    {
     "name": "stdout",
     "output_type": "stream",
     "text": [
      "Handwriting\n",
      "(150, 152, 3)\n",
      "(850, 152, 3)\n"
     ]
    }
   ],
   "source": [
    "data = UCR_UEA_datasets().list_multivariate_datasets()\n",
    "\n",
    "k = 13\n",
    "name = data[k]\n",
    "print(name)\n",
    "\n",
    "x_train, y_train, x_test, y_test = UCR_UEA_datasets().load_dataset(data[k])\n",
    "\n",
    "# x_train = TimeSeriesScalerMinMax().fit_transform(x_train)\n",
    "# x_test = TimeSeriesScalerMinMax().fit_transform(x_test)\n",
    "\n",
    "print(x_train.shape)\n",
    "print(x_test.shape)"
   ]
  },
  {
   "cell_type": "code",
   "execution_count": 347,
   "metadata": {},
   "outputs": [],
   "source": [
    "scale = 0.1\n",
    "x_train = scale*np.array(transform(x_train, at=False, ll=False))\n",
    "x_test = scale*np.array(transform(x_test, at=False, ll=False))\n",
    "l = x_train.shape[1]"
   ]
  },
  {
   "cell_type": "code",
   "execution_count": 348,
   "metadata": {},
   "outputs": [
    {
     "data": {
      "image/png": "[encoded data removed]",
      "text/plain": [
       "<Figure size 432x288 with 1 Axes>"
      ]
     },
     "metadata": {
      "needs_background": "light"
     },
     "output_type": "display_data"
    }
   ],
   "source": [
    "plt.plot(x_train[1])\n",
    "plt.show()"
   ]
  },
  {
   "cell_type": "code",
   "execution_count": 349,
   "metadata": {},
   "outputs": [
    {
     "data": {
      "text/plain": [
       "array(['1.0', '10.0', '11.0', '12.0', '13.0', '14.0', '15.0', '16.0',\n",
       "       '17.0', '18.0', '19.0', '2.0', '20.0', '21.0', '22.0', '23.0',\n",
       "       '24.0', '25.0', '26.0', '3.0', '4.0', '5.0', '6.0', '7.0', '8.0',\n",
       "       '9.0'], dtype='<U4')"
      ]
     },
     "execution_count": 349,
     "metadata": {},
     "output_type": "execute_result"
    }
   ],
   "source": [
    "np.unique(y_train)"
   ]
  },
  {
   "cell_type": "code",
   "execution_count": 350,
   "metadata": {},
   "outputs": [],
   "source": [
    "M,N,n = x_train.shape[0], x_test.shape[0], 0"
   ]
  },
  {
   "cell_type": "code",
   "execution_count": 351,
   "metadata": {},
   "outputs": [
    {
     "data": {
      "application/vnd.jupyter.widget-view+json": {
       "model_id": "67e7b6690221463fb8b05c188771944e",
       "version_major": 2,
       "version_minor": 0
      },
      "text/plain": [
       "HBox(children=(FloatProgress(value=0.0, max=150.0), HTML(value='')))"
      ]
     },
     "metadata": {},
     "output_type": "display_data"
    },
    {
     "name": "stdout",
     "output_type": "stream",
     "text": [
      "\n"
     ]
    }
   ],
   "source": [
    "gram_matrix = np.zeros((M,M), dtype=np.float64)\n",
    "test_matrix = np.zeros((N,M), dtype=np.float64)\n",
    "\n",
    "for i in tqdm.tqdm(range(M)):\n",
    "    for j in range(M):\n",
    "        gram_matrix[i,j] = sig_kernel(x_train[i], x_train[j], n)\n",
    "    for k in range(N):\n",
    "        test_matrix[k,i] = sig_kernel(x_train[i], x_test[k], n)"
   ]
  },
  {
   "cell_type": "code",
   "execution_count": 344,
   "metadata": {},
   "outputs": [
    {
     "data": {
      "application/vnd.jupyter.widget-view+json": {
       "model_id": "02e7c7d261f240159e888359ceaf9e99",
       "version_major": 2,
       "version_minor": 0
      },
      "text/plain": [
       "HBox(children=(FloatProgress(value=0.0), HTML(value='')))"
      ]
     },
     "metadata": {},
     "output_type": "display_data"
    },
    {
     "name": "stdout",
     "output_type": "stream",
     "text": [
      "\n"
     ]
    }
   ],
   "source": [
    "results_penalty = []\n",
    "for p in tqdm.tqdm(np.linspace(1, 1000, 100)):\n",
    "    clf = SVC(C=p, kernel='precomputed', decision_function_shape='ovo', gamma='auto')\n",
    "    clf.fit(gram_matrix, y_train)\n",
    "    predictions = clf.predict(test_matrix)\n",
    "    results_penalty.append(accuracy_score(predictions, y_test))"
   ]
  },
  {
   "cell_type": "code",
   "execution_count": 345,
   "metadata": {},
   "outputs": [
    {
     "data": {
      "text/plain": [
       "[<matplotlib.lines.Line2D at 0x1ad98bcd490>]"
      ]
     },
     "execution_count": 345,
     "metadata": {},
     "output_type": "execute_result"
    },
    {
     "data": {
      "image/png": "[encoded data removed]",
      "text/plain": [
       "<Figure size 432x288 with 1 Axes>"
      ]
     },
     "metadata": {
      "needs_background": "light"
     },
     "output_type": "display_data"
    }
   ],
   "source": [
    "plt.plot(results_penalty)"
   ]
  },
  {
   "cell_type": "code",
   "execution_count": 199,
   "metadata": {},
   "outputs": [],
   "source": [
    "final_results = {}\n",
    "\n",
    "# standard kernels\n",
    "for ker in ['linear', 'poly', 'rbf']:\n",
    "    if ker == 'poly':\n",
    "        for d in range(2, 5):\n",
    "            clf = SVC(C=2000, kernel=ker, degree=d, decision_function_shape='ovo', gamma='auto')\n",
    "            clf.fit([c.reshape(-1) for c in x_train], y_train)\n",
    "            predictions = clf.predict([c.reshape(-1) for c in x_test])\n",
    "            final_results[ker + f'-{d}'] = accuracy_score(predictions, y_test)\n",
    "    else:\n",
    "        clf = SVC(C=2000, kernel=ker, decision_function_shape='ovo', gamma='auto')\n",
    "        clf.fit([c.reshape(-1) for c in x_train], y_train)\n",
    "        predictions = clf.predict([c.reshape(-1) for c in x_test])\n",
    "        final_results[ker] = accuracy_score(predictions, y_test)\n",
    "    \n",
    "# signature naive kernel\n",
    "clf = SVC(C=2000, kernel='linear', decision_function_shape='ovo', gamma='auto')\n",
    "for d in range(1,5):\n",
    "    clf.fit([iisignature.sig(c,d) for c in x_train], y_train)\n",
    "    predictions = clf.predict([iisignature.sig(c,d) for c in x_test])\n",
    "    final_results[f'sig-naive-{d}'] = accuracy_score(predictions, y_test)\n",
    "\n",
    "final_results['sig-PDE'] = max(results_penalty)\n",
    "\n",
    "# Global alignement kernel\n",
    "for gamma in [0.0001, 0.001, 0.01, 0.1, 1.]:\n",
    "    clf = TimeSeriesSVC(kernel=\"gak\", gamma=gamma)\n",
    "    clf.fit(x_train, y_train)\n",
    "    final_results[f'GAK-{np.round(gamma,5)}'] = clf.score(x_test, y_test)"
   ]
  },
  {
   "cell_type": "code",
   "execution_count": 200,
   "metadata": {},
   "outputs": [
    {
     "name": "stdout",
     "output_type": "stream",
     "text": [
      "             accuracy (%)\n",
      "linear           0.937037\n",
      "poly-2           0.870370\n",
      "poly-3           0.914815\n",
      "poly-4           0.874074\n",
      "rbf              0.937037\n",
      "sig-naive-1      0.740741\n",
      "sig-naive-2      0.762963\n",
      "sig-naive-3      0.755556\n",
      "sig-naive-4      0.759259\n",
      "sig-PDE          0.785185\n",
      "GAK-0.0001       0.166667\n",
      "GAK-0.001        0.448148\n",
      "GAK-0.01         0.622222\n",
      "GAK-0.1          0.485185\n",
      "GAK-1.0          0.855556\n"
     ]
    }
   ],
   "source": [
    "final_csv = pd.DataFrame.from_dict(final_results, orient='index').rename(columns={0:'accuracy (%)'})\n",
    "print(final_csv)\n",
    "final_csv.to_csv(f'../results/svm-{name}-{np.round(scale,3)}.csv')"
   ]
  },
  {
   "cell_type": "code",
   "execution_count": null,
   "metadata": {},
   "outputs": [],
   "source": []
  }
 ],
 "metadata": {
  "kernelspec": {
   "display_name": "Python 3",
   "language": "python",
   "name": "python3"
  },
  "language_info": {
   "codemirror_mode": {
    "name": "ipython",
    "version": 3
   },
   "file_extension": ".py",
   "mimetype": "text/x-python",
   "name": "python",
   "nbconvert_exporter": "python",
   "pygments_lexer": "ipython3",
   "version": "3.8.3"
  }
 },
 "nbformat": 4,
 "nbformat_minor": 2
}
