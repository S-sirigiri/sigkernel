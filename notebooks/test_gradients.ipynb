{
 "cells": [
  {
   "cell_type": "markdown",
   "metadata": {
    "toc": true
   },
   "source": [
    "<h1>Table of Contents<span class=\"tocSkip\"></span></h1>\n",
    "<div class=\"toc\"><ul class=\"toc-item\"></ul></div>"
   ]
  },
  {
   "cell_type": "code",
   "execution_count": 1,
   "metadata": {},
   "outputs": [],
   "source": [
    "import sys\n",
    "sys.path.append('../src')\n",
    "sys.path.append('../utils')\n",
    "\n",
    "import torch\n",
    "import time\n",
    "import numpy as np\n",
    "from sigKer_torch import SigLoss, SigKernel, SigLoss_naive, SigKernel_naive"
   ]
  },
  {
   "cell_type": "code",
   "execution_count": 2,
   "metadata": {},
   "outputs": [],
   "source": [
    "n=0"
   ]
  },
  {
   "cell_type": "markdown",
   "metadata": {},
   "source": [
    "# Sig kernel gradients"
   ]
  },
  {
   "cell_type": "code",
   "execution_count": 3,
   "metadata": {},
   "outputs": [],
   "source": [
    "A,M,N,D,var = 5, 20, 50, 2, 1e-1\n",
    "X = var*torch.randn((A,M,D), dtype=torch.double)\n",
    "Y = var*torch.randn((A,N,D), dtype=torch.double)\n",
    "X.requires_grad = True"
   ]
  },
  {
   "cell_type": "code",
   "execution_count": 4,
   "metadata": {},
   "outputs": [
    {
     "name": "stdout",
     "output_type": "stream",
     "text": [
      "time: 0.198 s\n"
     ]
    }
   ],
   "source": [
    "t = time.time()\n",
    "ker_naive = SigKernel_naive(X,Y,n)\n",
    "print('time:', np.round(time.time()-t,3), 's')"
   ]
  },
  {
   "cell_type": "code",
   "execution_count": 5,
   "metadata": {},
   "outputs": [
    {
     "name": "stdout",
     "output_type": "stream",
     "text": [
      "time: 0.005 s\n"
     ]
    }
   ],
   "source": [
    "t = time.time()\n",
    "ker = SigKernel.apply(X,Y,n)\n",
    "print('time:', np.round(time.time()-t,3), 's')"
   ]
  },
  {
   "cell_type": "code",
   "execution_count": 6,
   "metadata": {},
   "outputs": [
    {
     "data": {
      "text/plain": [
       "tensor(True)"
      ]
     },
     "execution_count": 6,
     "metadata": {},
     "output_type": "execute_result"
    }
   ],
   "source": [
    "torch.abs(ker.sum() - ker_naive.sum()) < 1e-6"
   ]
  },
  {
   "cell_type": "code",
   "execution_count": 7,
   "metadata": {},
   "outputs": [
    {
     "name": "stdout",
     "output_type": "stream",
     "text": [
      "time: 0.297 s\n"
     ]
    }
   ],
   "source": [
    "l = ker_naive.mean()\n",
    "t = time.time()\n",
    "l.backward()\n",
    "print('time:', np.round(time.time()-t,3), 's')\n",
    "ker_grad_naive = X.grad"
   ]
  },
  {
   "cell_type": "code",
   "execution_count": 8,
   "metadata": {},
   "outputs": [
    {
     "name": "stdout",
     "output_type": "stream",
     "text": [
      "time: 0.001 s\n"
     ]
    }
   ],
   "source": [
    "X.grad.data.zero_()\n",
    "t = time.time()\n",
    "l = ker.mean()\n",
    "l.backward()\n",
    "# b.backward()\n",
    "print('time:', np.round(time.time()-t,3), 's')\n",
    "ker_grad = X.grad"
   ]
  },
  {
   "cell_type": "code",
   "execution_count": 9,
   "metadata": {},
   "outputs": [
    {
     "data": {
      "text/plain": [
       "tensor(True)"
      ]
     },
     "execution_count": 9,
     "metadata": {},
     "output_type": "execute_result"
    }
   ],
   "source": [
    "torch.abs(ker_grad.sum() - ker_grad_naive.sum()) < 1e-6"
   ]
  },
  {
   "cell_type": "markdown",
   "metadata": {},
   "source": [
    "# Sig Loss gradients"
   ]
  },
  {
   "cell_type": "code",
   "execution_count": 10,
   "metadata": {},
   "outputs": [],
   "source": [
    "A,M,N,D,var = 5, 20, 50, 2, 1e-1\n",
    "X = var*torch.randn((A,M,D), dtype=torch.double)\n",
    "Y = var*torch.randn((A,N,D), dtype=torch.double)\n",
    "X.requires_grad = True"
   ]
  },
  {
   "cell_type": "code",
   "execution_count": 11,
   "metadata": {},
   "outputs": [
    {
     "name": "stdout",
     "output_type": "stream",
     "text": [
      "time: 0.586 s\n",
      "time: 0.007 s\n"
     ]
    },
    {
     "data": {
      "text/plain": [
       "tensor(True)"
      ]
     },
     "execution_count": 11,
     "metadata": {},
     "output_type": "execute_result"
    }
   ],
   "source": [
    "t = time.time()\n",
    "l_naive = SigLoss_naive(n).forward(X,Y)\n",
    "print('time:', np.round(time.time()-t,3), 's')\n",
    "\n",
    "t = time.time()\n",
    "l = SigLoss(n).forward(X,Y)\n",
    "print('time:', np.round(time.time()-t,3), 's')\n",
    "\n",
    "torch.abs(l.sum() - l_naive.sum()) < 1e-6"
   ]
  },
  {
   "cell_type": "code",
   "execution_count": 12,
   "metadata": {},
   "outputs": [
    {
     "name": "stdout",
     "output_type": "stream",
     "text": [
      "time: 0.433 s\n"
     ]
    }
   ],
   "source": [
    "t = time.time()\n",
    "l_naive.backward()\n",
    "print('time:', np.round(time.time()-t,3), 's')\n",
    "l_grad_naive = X.grad"
   ]
  },
  {
   "cell_type": "code",
   "execution_count": 13,
   "metadata": {},
   "outputs": [
    {
     "name": "stdout",
     "output_type": "stream",
     "text": [
      "time: 0.0 s\n"
     ]
    }
   ],
   "source": [
    "X.grad.data.zero_()\n",
    "t = time.time()\n",
    "l.backward()\n",
    "print('time:', np.round(time.time()-t,3), 's')\n",
    "l_grad = X.grad"
   ]
  },
  {
   "cell_type": "code",
   "execution_count": 14,
   "metadata": {},
   "outputs": [
    {
     "data": {
      "text/plain": [
       "tensor(True)"
      ]
     },
     "execution_count": 14,
     "metadata": {},
     "output_type": "execute_result"
    }
   ],
   "source": [
    "torch.abs(l_grad.sum() - l_grad_naive.sum()) < 1e-6"
   ]
  },
  {
   "cell_type": "code",
   "execution_count": null,
   "metadata": {},
   "outputs": [],
   "source": []
  }
 ],
 "metadata": {
  "kernelspec": {
   "display_name": "Python 3",
   "language": "python",
   "name": "python3"
  },
  "language_info": {
   "codemirror_mode": {
    "name": "ipython",
    "version": 3
   },
   "file_extension": ".py",
   "mimetype": "text/x-python",
   "name": "python",
   "nbconvert_exporter": "python",
   "pygments_lexer": "ipython3",
   "version": "3.8.3"
  },
  "latex_envs": {
   "LaTeX_envs_menu_present": true,
   "autoclose": false,
   "autocomplete": true,
   "bibliofile": "biblio.bib",
   "cite_by": "apalike",
   "current_citInitial": 1,
   "eqLabelWithNumbers": true,
   "eqNumInitial": 1,
   "hotkeys": {
    "equation": "Ctrl-E",
    "itemize": "Ctrl-I"
   },
   "labels_anchors": false,
   "latex_user_defs": false,
   "report_style_numbering": false,
   "user_envs_cfg": false
  },
  "toc": {
   "nav_menu": {},
   "number_sections": true,
   "sideBar": true,
   "skip_h1_title": false,
   "title_cell": "Table of Contents",
   "title_sidebar": "Contents",
   "toc_cell": true,
   "toc_position": {},
   "toc_section_display": true,
   "toc_window_display": true
  }
 },
 "nbformat": 4,
 "nbformat_minor": 4
}
