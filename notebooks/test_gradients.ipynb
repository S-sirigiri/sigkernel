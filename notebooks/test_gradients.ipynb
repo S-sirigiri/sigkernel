{
  "nbformat": 4,
  "nbformat_minor": 0,
  "metadata": {
    "kernelspec": {
      "display_name": "Python 3",
      "language": "python",
      "name": "python3"
    },
    "language_info": {
      "codemirror_mode": {
        "name": "ipython",
        "version": 3
      },
      "file_extension": ".py",
      "mimetype": "text/x-python",
      "name": "python",
      "nbconvert_exporter": "python",
      "pygments_lexer": "ipython3",
      "version": "3.7.4"
    },
    "latex_envs": {
      "LaTeX_envs_menu_present": true,
      "autoclose": false,
      "autocomplete": true,
      "bibliofile": "biblio.bib",
      "cite_by": "apalike",
      "current_citInitial": 1,
      "eqLabelWithNumbers": true,
      "eqNumInitial": 1,
      "hotkeys": {
        "equation": "Ctrl-E",
        "itemize": "Ctrl-I"
      },
      "labels_anchors": false,
      "latex_user_defs": false,
      "report_style_numbering": false,
      "user_envs_cfg": false
    },
    "toc": {
      "nav_menu": {},
      "number_sections": true,
      "sideBar": true,
      "skip_h1_title": false,
      "title_cell": "Table of Contents",
      "title_sidebar": "Contents",
      "toc_cell": true,
      "toc_position": {},
      "toc_section_display": true,
      "toc_window_display": true
    },
    "colab": {
      "name": "test_gradients.ipynb",
      "provenance": [],
      "collapsed_sections": []
    },
    "accelerator": "GPU"
  },
  "cells": [
    {
      "cell_type": "code",
      "metadata": {
        "colab": {
          "base_uri": "https://localhost:8080/"
        },
        "id": "QCDN0CRnz1X0",
        "outputId": "3a6a0a5d-4de2-41b1-cf6b-20e49a5c9c43"
      },
      "source": [
        "!git clone 'https://github.com/crispitagorico/Signature-Kernel.git'"
      ],
      "execution_count": 1,
      "outputs": [
        {
          "output_type": "stream",
          "text": [
            "Cloning into 'Signature-Kernel'...\n",
            "remote: Enumerating objects: 91, done.\u001b[K\n",
            "remote: Counting objects: 100% (91/91), done.\u001b[K\n",
            "remote: Compressing objects: 100% (61/61), done.\u001b[K\n",
            "remote: Total 661 (delta 58), reused 62 (delta 30), pack-reused 570\u001b[K\n",
            "Receiving objects: 100% (661/661), 22.67 MiB | 32.42 MiB/s, done.\n",
            "Resolving deltas: 100% (360/360), done.\n"
          ],
          "name": "stdout"
        }
      ]
    },
    {
      "cell_type": "code",
      "metadata": {
        "colab": {
          "base_uri": "https://localhost:8080/"
        },
        "id": "tYQ_lRyUz5Ai",
        "outputId": "68ce7dae-4645-4fde-dc22-9a7cfafb0784"
      },
      "source": [
        "%cd /content/Signature-Kernel/src/ "
      ],
      "execution_count": 2,
      "outputs": [
        {
          "output_type": "stream",
          "text": [
            "/content/Signature-Kernel/src\n"
          ],
          "name": "stdout"
        }
      ]
    },
    {
      "cell_type": "code",
      "metadata": {
        "colab": {
          "base_uri": "https://localhost:8080/"
        },
        "id": "YLUsCAWfz6TK",
        "outputId": "0b45135d-5dd7-4052-9377-3748b041c95d"
      },
      "source": [
        "!python setup.py build_ext --inplace"
      ],
      "execution_count": 3,
      "outputs": [
        {
          "output_type": "stream",
          "text": [
            "Compiling sigKer_fast.pyx because it changed.\n",
            "[1/1] Cythonizing sigKer_fast.pyx\n",
            "/usr/local/lib/python3.6/dist-packages/Cython/Compiler/Main.py:369: FutureWarning: Cython directive 'language_level' not set, using 2 for now (Py2). This will change in a later release! File: /content/Signature-Kernel/src/sigKer_fast.pyx\n",
            "  tree = Parsing.p_module(s, pxd, full_module_name)\n",
            "running build_ext\n",
            "building 'sigKer_fast' extension\n",
            "creating build/temp.linux-x86_64-3.6\n",
            "x86_64-linux-gnu-gcc -pthread -DNDEBUG -g -fwrapv -O2 -Wall -g -fstack-protector-strong -Wformat -Werror=format-security -Wdate-time -D_FORTIFY_SOURCE=2 -fPIC -I/usr/include/python3.6m -c sigKer_fast.c -o build/temp.linux-x86_64-3.6/sigKer_fast.o\n",
            "creating build/lib.linux-x86_64-3.6\n",
            "x86_64-linux-gnu-gcc -pthread -shared -Wl,-O1 -Wl,-Bsymbolic-functions -Wl,-Bsymbolic-functions -Wl,-z,relro -Wl,-Bsymbolic-functions -Wl,-z,relro -g -fstack-protector-strong -Wformat -Werror=format-security -Wdate-time -D_FORTIFY_SOURCE=2 build/temp.linux-x86_64-3.6/sigKer_fast.o -o build/lib.linux-x86_64-3.6/sigKer_fast.cpython-36m-x86_64-linux-gnu.so\n",
            "copying build/lib.linux-x86_64-3.6/sigKer_fast.cpython-36m-x86_64-linux-gnu.so -> \n"
          ],
          "name": "stdout"
        }
      ]
    },
    {
      "cell_type": "code",
      "metadata": {
        "id": "UrN5Dvd4zxMT"
      },
      "source": [
        "import sys\n",
        "sys.path.append('../src')\n",
        "sys.path.append('../utils')\n",
        "\n",
        "import torch\n",
        "import time\n",
        "import numpy as np\n",
        "\n",
        "from sigLoss import SigLoss, SigLoss_naive\n",
        "from sigMMD import SigMMD, SigMMD_naive\n",
        "\n",
        "import matplotlib.pyplot as plt"
      ],
      "execution_count": 4,
      "outputs": []
    },
    {
      "cell_type": "markdown",
      "metadata": {
        "id": "O2_Sd6NYzxMW"
      },
      "source": [
        "# Sig Loss gradients"
      ]
    },
    {
      "cell_type": "code",
      "metadata": {
        "id": "K2et4eTUzxMW"
      },
      "source": [
        "A = 7\n",
        "M = 10\n",
        "N = 12\n",
        "D = 2\n",
        "\n",
        "X = np.random.randn(A,M,D).cumsum(axis=1)\n",
        "Y = np.random.randn(A,N,D).cumsum(axis=1)\n",
        "\n",
        "X /= np.max(X)\n",
        "Y /= np.max(Y)\n",
        "\n",
        "X_naive = torch.tensor(X, dtype=torch.float64)\n",
        "Y_naive = torch.tensor(Y, dtype=torch.float64)\n",
        "\n",
        "X_cpu = X_naive.clone()\n",
        "Y_cpu = Y_naive.clone()\n",
        "\n",
        "X_gpu = X_naive.clone().cuda()\n",
        "Y_gpu = Y_naive.clone().cuda()\n",
        "\n",
        "X_naive.requires_grad = True\n",
        "X_cpu.requires_grad = True\n",
        "X_gpu.requires_grad = True"
      ],
      "execution_count": 5,
      "outputs": []
    },
    {
      "cell_type": "code",
      "metadata": {
        "colab": {
          "base_uri": "https://localhost:8080/"
        },
        "id": "rOTSlIhyWFqH",
        "outputId": "719ca5e7-80f7-458f-b65d-d3a7fffcdd45"
      },
      "source": [
        "t = time.time()\r\n",
        "l_naive = SigLoss_naive(n_chunks=1).forward(X_naive,Y_naive)\r\n",
        "print('time:', np.round(time.time()-t,3), 's')\r\n",
        "print(l_naive)"
      ],
      "execution_count": 6,
      "outputs": [
        {
          "output_type": "stream",
          "text": [
            "time: 0.083 s\n",
            "tensor(1.2582, dtype=torch.float64, grad_fn=<MeanBackward0>)\n"
          ],
          "name": "stdout"
        }
      ]
    },
    {
      "cell_type": "code",
      "metadata": {
        "colab": {
          "base_uri": "https://localhost:8080/"
        },
        "id": "LM8j02BEzxMW",
        "outputId": "2410e04e-75b9-4754-b675-1aac52aaed15"
      },
      "source": [
        "t = time.time()\n",
        "l_cpu = SigLoss(n_chunks=1).forward(X_cpu,Y_cpu)\n",
        "print('time:', np.round(time.time()-t,3), 's')\n",
        "print(l_cpu)"
      ],
      "execution_count": 20,
      "outputs": [
        {
          "output_type": "stream",
          "text": [
            "time: 0.002 s\n",
            "tensor(2.3462, dtype=torch.float64, grad_fn=<MeanBackward0>)\n"
          ],
          "name": "stdout"
        }
      ]
    },
    {
      "cell_type": "code",
      "metadata": {
        "colab": {
          "base_uri": "https://localhost:8080/"
        },
        "id": "D-2MG5sBzxMW",
        "outputId": "b7b14613-abe1-49e6-d6c1-26b334b64f84"
      },
      "source": [
        "t = time.time()\n",
        "l_gpu = SigLoss(n_chunks=1).forward(X_gpu,Y_gpu)\n",
        "print('time:', np.round(time.time()-t,3), 's')\n",
        "print(l_gpu)"
      ],
      "execution_count": 21,
      "outputs": [
        {
          "output_type": "stream",
          "text": [
            "time: 0.225 s\n",
            "tensor(2.3462, device='cuda:0', dtype=torch.float64, grad_fn=<MeanBackward0>)\n"
          ],
          "name": "stdout"
        }
      ]
    },
    {
      "cell_type": "code",
      "metadata": {
        "colab": {
          "base_uri": "https://localhost:8080/"
        },
        "id": "Cvqh3o92zxMX",
        "outputId": "b52cc7af-4cef-477f-f7f5-961e4daf15fc"
      },
      "source": [
        "t = time.time()\n",
        "l_naive.backward()\n",
        "print('time:', np.round(time.time()-t,3), 's')"
      ],
      "execution_count": 22,
      "outputs": [
        {
          "output_type": "stream",
          "text": [
            "time: 0.069 s\n"
          ],
          "name": "stdout"
        }
      ]
    },
    {
      "cell_type": "code",
      "metadata": {
        "colab": {
          "base_uri": "https://localhost:8080/"
        },
        "id": "PAZCj0uSXORY",
        "outputId": "8f104cf1-7225-4dea-f1d6-73a627a5a610"
      },
      "source": [
        "t = time.time()\r\n",
        "l_cpu.backward()\r\n",
        "print('time:', np.round(time.time()-t,3), 's')"
      ],
      "execution_count": 23,
      "outputs": [
        {
          "output_type": "stream",
          "text": [
            "time: 0.003 s\n"
          ],
          "name": "stdout"
        }
      ]
    },
    {
      "cell_type": "code",
      "metadata": {
        "colab": {
          "base_uri": "https://localhost:8080/"
        },
        "id": "h7_ouXPGzxMX",
        "outputId": "bc3bfdfe-e6c6-44ed-dd44-c818eef95406"
      },
      "source": [
        "t = time.time()\n",
        "l_gpu.backward()\n",
        "print('time:', np.round(time.time()-t,3), 's')"
      ],
      "execution_count": 24,
      "outputs": [
        {
          "output_type": "stream",
          "text": [
            "time: 0.007 s\n"
          ],
          "name": "stdout"
        }
      ]
    },
    {
      "cell_type": "code",
      "metadata": {
        "colab": {
          "base_uri": "https://localhost:8080/"
        },
        "id": "9RpNBU6xA8QU",
        "outputId": "b33d9496-4447-4463-918c-2adcdfbbf763"
      },
      "source": [
        "torch.allclose(X_naive.grad, X_cpu.grad)"
      ],
      "execution_count": 41,
      "outputs": [
        {
          "output_type": "execute_result",
          "data": {
            "text/plain": [
              "True"
            ]
          },
          "metadata": {
            "tags": []
          },
          "execution_count": 41
        }
      ]
    },
    {
      "cell_type": "code",
      "metadata": {
        "colab": {
          "base_uri": "https://localhost:8080/"
        },
        "id": "7VJDYUlbA2ag",
        "outputId": "d5fa187b-ce0e-4fdc-86c0-14422c7ccf46"
      },
      "source": [
        "torch.allclose(X_naive.grad, X_gpu.grad.cpu())"
      ],
      "execution_count": 42,
      "outputs": [
        {
          "output_type": "execute_result",
          "data": {
            "text/plain": [
              "True"
            ]
          },
          "metadata": {
            "tags": []
          },
          "execution_count": 42
        }
      ]
    },
    {
      "cell_type": "markdown",
      "metadata": {
        "id": "aCN0FtGju96Z"
      },
      "source": [
        "# Sig MMD gradients"
      ]
    },
    {
      "cell_type": "code",
      "metadata": {
        "id": "pG_7n-IWvA7P"
      },
      "source": [
        "A = 3\r\n",
        "B = 2\r\n",
        "M = 7\r\n",
        "N = 6\r\n",
        "D = 4\r\n",
        "\r\n",
        "X = np.random.randn(A,M,D).cumsum(axis=1)\r\n",
        "Y = np.random.randn(B,N,D).cumsum(axis=1)\r\n",
        "\r\n",
        "X /= np.max(X)\r\n",
        "Y /= np.max(Y)\r\n",
        "\r\n",
        "X_naive = torch.tensor(X, dtype=torch.float64)\r\n",
        "Y_naive = torch.tensor(Y, dtype=torch.float64)\r\n",
        "\r\n",
        "X_cpu = X_naive.clone()\r\n",
        "Y_cpu = Y_naive.clone()\r\n",
        "\r\n",
        "X_gpu = X_naive.clone().cuda()\r\n",
        "Y_gpu = Y_naive.clone().cuda()\r\n",
        "\r\n",
        "X_naive.requires_grad = True\r\n",
        "X_cpu.requires_grad = True\r\n",
        "X_gpu.requires_grad = True"
      ],
      "execution_count": 27,
      "outputs": []
    },
    {
      "cell_type": "code",
      "metadata": {
        "colab": {
          "base_uri": "https://localhost:8080/"
        },
        "id": "fYiCXpsKvbvX",
        "outputId": "3fcb700c-244a-4e7e-c384-7be60570cd13"
      },
      "source": [
        "t = time.time()\r\n",
        "mmd_naive = SigMMD_naive().forward(X_naive,Y_naive)\r\n",
        "print('time:', np.round(time.time()-t,3), 's')\r\n",
        "print(mmd_naive)"
      ],
      "execution_count": 28,
      "outputs": [
        {
          "output_type": "stream",
          "text": [
            "time: 0.028 s\n",
            "tensor(1.7848, dtype=torch.float64, grad_fn=<SubBackward0>)\n"
          ],
          "name": "stdout"
        }
      ]
    },
    {
      "cell_type": "code",
      "metadata": {
        "colab": {
          "base_uri": "https://localhost:8080/"
        },
        "id": "jqdYxBgrvib-",
        "outputId": "406570c1-0d30-4ee0-9265-0b06fe9253fc"
      },
      "source": [
        "t = time.time()\r\n",
        "mmd_cpu = SigMMD().forward(X_cpu,Y_cpu)\r\n",
        "print('time:', np.round(time.time()-t,3), 's')\r\n",
        "print(mmd_cpu)"
      ],
      "execution_count": 29,
      "outputs": [
        {
          "output_type": "stream",
          "text": [
            "time: 0.002 s\n",
            "tensor(1.7848, dtype=torch.float64, grad_fn=<SubBackward0>)\n"
          ],
          "name": "stdout"
        }
      ]
    },
    {
      "cell_type": "code",
      "metadata": {
        "colab": {
          "base_uri": "https://localhost:8080/"
        },
        "id": "PQ4wjDykvtv3",
        "outputId": "430d6a12-e194-4e24-da95-471a4c9daa57"
      },
      "source": [
        "t = time.time()\r\n",
        "mmd_gpu = SigMMD().forward(X_gpu,Y_gpu)\r\n",
        "print('time:', np.round(time.time()-t,3), 's')\r\n",
        "print(mmd_gpu)"
      ],
      "execution_count": 30,
      "outputs": [
        {
          "output_type": "stream",
          "text": [
            "time: 0.009 s\n",
            "tensor(1.7848, device='cuda:0', dtype=torch.float64, grad_fn=<SubBackward0>)\n"
          ],
          "name": "stdout"
        }
      ]
    },
    {
      "cell_type": "code",
      "metadata": {
        "colab": {
          "base_uri": "https://localhost:8080/"
        },
        "id": "_Vbdm979ytGu",
        "outputId": "5999feea-3b0b-4e00-b13c-5a1e588e5539"
      },
      "source": [
        "t = time.time()\r\n",
        "mmd_naive.backward()\r\n",
        "print('time:', np.round(time.time()-t,3), 's')"
      ],
      "execution_count": 31,
      "outputs": [
        {
          "output_type": "stream",
          "text": [
            "time: 0.043 s\n"
          ],
          "name": "stdout"
        }
      ]
    },
    {
      "cell_type": "code",
      "metadata": {
        "colab": {
          "base_uri": "https://localhost:8080/"
        },
        "id": "tgzFxfL2yx4s",
        "outputId": "19ab2b26-36b5-4490-d84c-68b4d3b099d1"
      },
      "source": [
        "t = time.time()\r\n",
        "mmd_cpu.backward()\r\n",
        "print('time:', np.round(time.time()-t,3), 's')"
      ],
      "execution_count": 32,
      "outputs": [
        {
          "output_type": "stream",
          "text": [
            "time: 0.004 s\n"
          ],
          "name": "stdout"
        }
      ]
    },
    {
      "cell_type": "code",
      "metadata": {
        "colab": {
          "base_uri": "https://localhost:8080/"
        },
        "id": "A6KVhOyzy8RY",
        "outputId": "43f1dbdd-960f-46ec-af81-dab60e1c92e5"
      },
      "source": [
        "t = time.time()\r\n",
        "mmd_gpu.backward()\r\n",
        "print('time:', np.round(time.time()-t,3), 's')"
      ],
      "execution_count": 33,
      "outputs": [
        {
          "output_type": "stream",
          "text": [
            "time: 0.008 s\n"
          ],
          "name": "stdout"
        }
      ]
    },
    {
      "cell_type": "code",
      "metadata": {
        "colab": {
          "base_uri": "https://localhost:8080/"
        },
        "id": "NVOUTzOyABqr",
        "outputId": "57e7c52c-c8a9-46cb-adc3-30124a4e786d"
      },
      "source": [
        "torch.allclose(X_naive.grad, X_cpu.grad)"
      ],
      "execution_count": 39,
      "outputs": [
        {
          "output_type": "execute_result",
          "data": {
            "text/plain": [
              "True"
            ]
          },
          "metadata": {
            "tags": []
          },
          "execution_count": 39
        }
      ]
    },
    {
      "cell_type": "code",
      "metadata": {
        "id": "vLRD_QppzxMZ",
        "colab": {
          "base_uri": "https://localhost:8080/"
        },
        "outputId": "58ccb383-d84e-4bf7-9612-763c70c72085"
      },
      "source": [
        "torch.allclose(X_naive.grad, X_gpu.grad.cpu())"
      ],
      "execution_count": 40,
      "outputs": [
        {
          "output_type": "execute_result",
          "data": {
            "text/plain": [
              "True"
            ]
          },
          "metadata": {
            "tags": []
          },
          "execution_count": 40
        }
      ]
    },
    {
      "cell_type": "code",
      "metadata": {
        "id": "Jp3rXyo0-Pgv"
      },
      "source": [
        ""
      ],
      "execution_count": null,
      "outputs": []
    }
  ]
}