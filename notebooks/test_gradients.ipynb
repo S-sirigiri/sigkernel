{
 "cells": [
  {
   "cell_type": "code",
   "execution_count": 1,
   "metadata": {
    "id": "UrN5Dvd4zxMT"
   },
   "outputs": [],
   "source": [
    "import base\n",
    "\n",
    "import torch\n",
    "import time\n",
    "import numpy as np\n",
    "\n",
    "from sigLoss import SigLoss, SigLoss_naive\n",
    "from sigMMD import SigMMD, SigMMD_naive\n",
    "\n",
    "import matplotlib.pyplot as plt"
   ]
  },
  {
   "cell_type": "markdown",
   "metadata": {
    "id": "O2_Sd6NYzxMW"
   },
   "source": [
    "# Sig Loss gradients"
   ]
  },
  {
   "cell_type": "code",
   "execution_count": 2,
   "metadata": {},
   "outputs": [],
   "source": [
    "rbf=True\n",
    "sigma=1."
   ]
  },
  {
   "cell_type": "code",
   "execution_count": 325,
   "metadata": {
    "id": "K2et4eTUzxMW"
   },
   "outputs": [],
   "source": [
    "A = 1\n",
    "M = 3\n",
    "N = 2\n",
    "D = 2\n",
    "\n",
    "X = np.random.randn(A,M,D).cumsum(axis=1)\n",
    "Y = np.random.randn(A,N,D).cumsum(axis=1)\n",
    "\n",
    "X /= np.max(X)\n",
    "Y /= np.max(Y)"
   ]
  },
  {
   "cell_type": "code",
   "execution_count": 326,
   "metadata": {
    "id": "K2et4eTUzxMW"
   },
   "outputs": [],
   "source": [
    "X_naive = torch.tensor(X, dtype=torch.float64)\n",
    "Y_naive = torch.tensor(Y, dtype=torch.float64)\n",
    "\n",
    "X_cpu = X_naive.clone()\n",
    "Y_cpu = Y_naive.clone()\n",
    "\n",
    "# X_gpu = X_naive.clone().cuda()\n",
    "# Y_gpu = Y_naive.clone().cuda()\n",
    "\n",
    "X_naive.requires_grad = True\n",
    "X_cpu.requires_grad = True\n",
    "# X_gpu.requires_grad = True\n",
    "\n",
    "n = 0\n",
    "solver = 0"
   ]
  },
  {
   "cell_type": "code",
   "execution_count": 327,
   "metadata": {
    "colab": {
     "base_uri": "https://localhost:8080/"
    },
    "id": "rOTSlIhyWFqH",
    "outputId": "719ca5e7-80f7-458f-b65d-d3a7fffcdd45"
   },
   "outputs": [
    {
     "name": "stdout",
     "output_type": "stream",
     "text": [
      "time: 0.007 s\n",
      "tensor(4.8206, dtype=torch.float64, grad_fn=<AddBackward0>)\n"
     ]
    }
   ],
   "source": [
    "t = time.time()\n",
    "l_naive = SigLoss_naive(n=n,solver=solver,rbf=rbf,sigma=sigma).forward(X_naive,Y_naive)\n",
    "print('time:', np.round(time.time()-t,3), 's')\n",
    "print(l_naive)"
   ]
  },
  {
   "cell_type": "code",
   "execution_count": 328,
   "metadata": {
    "colab": {
     "base_uri": "https://localhost:8080/"
    },
    "id": "LM8j02BEzxMW",
    "outputId": "2410e04e-75b9-4754-b675-1aac52aaed15"
   },
   "outputs": [
    {
     "name": "stdout",
     "output_type": "stream",
     "text": [
      "time: 0.002 s\n",
      "tensor(4.8206, dtype=torch.float64, grad_fn=<AddBackward0>)\n"
     ]
    }
   ],
   "source": [
    "t = time.time()\n",
    "l_cpu = SigLoss(n=n,solver=solver,rbf=rbf,sigma=sigma).forward(X_cpu,Y_cpu)\n",
    "print('time:', np.round(time.time()-t,3), 's')\n",
    "print(l_cpu)"
   ]
  },
  {
   "cell_type": "code",
   "execution_count": 329,
   "metadata": {
    "colab": {
     "base_uri": "https://localhost:8080/"
    },
    "id": "D-2MG5sBzxMW",
    "outputId": "b7b14613-abe1-49e6-d6c1-26b334b64f84"
   },
   "outputs": [],
   "source": [
    "# t = time.time()\n",
    "# l_gpu = SigLoss(n=n,solver=solver).forward(X_gpu,Y_gpu)\n",
    "# print('time:', np.round(time.time()-t,3), 's')\n",
    "# print(l_gpu)"
   ]
  },
  {
   "cell_type": "code",
   "execution_count": 330,
   "metadata": {
    "colab": {
     "base_uri": "https://localhost:8080/"
    },
    "id": "Cvqh3o92zxMX",
    "outputId": "b52cc7af-4cef-477f-f7f5-961e4daf15fc"
   },
   "outputs": [
    {
     "name": "stdout",
     "output_type": "stream",
     "text": [
      "time: 0.006 s\n"
     ]
    }
   ],
   "source": [
    "t = time.time()\n",
    "l_naive.backward()\n",
    "print('time:', np.round(time.time()-t,3), 's')"
   ]
  },
  {
   "cell_type": "code",
   "execution_count": 331,
   "metadata": {
    "colab": {
     "base_uri": "https://localhost:8080/"
    },
    "id": "PAZCj0uSXORY",
    "outputId": "8f104cf1-7225-4dea-f1d6-73a627a5a610"
   },
   "outputs": [
    {
     "name": "stdout",
     "output_type": "stream",
     "text": [
      "time: 0.007 s\n"
     ]
    }
   ],
   "source": [
    "t = time.time()\n",
    "l_cpu.backward()\n",
    "print('time:', np.round(time.time()-t,3), 's')"
   ]
  },
  {
   "cell_type": "code",
   "execution_count": 332,
   "metadata": {
    "colab": {
     "base_uri": "https://localhost:8080/"
    },
    "id": "h7_ouXPGzxMX",
    "outputId": "bc3bfdfe-e6c6-44ed-dd44-c818eef95406"
   },
   "outputs": [],
   "source": [
    "# t = time.time()\n",
    "# l_gpu.backward()\n",
    "# print('time:', np.round(time.time()-t,3), 's')"
   ]
  },
  {
   "cell_type": "code",
   "execution_count": 333,
   "metadata": {
    "colab": {
     "base_uri": "https://localhost:8080/"
    },
    "id": "9RpNBU6xA8QU",
    "outputId": "b33d9496-4447-4463-918c-2adcdfbbf763"
   },
   "outputs": [],
   "source": [
    "# torch.allclose(X_naive.grad, X_cpu.grad)"
   ]
  },
  {
   "cell_type": "code",
   "execution_count": 334,
   "metadata": {},
   "outputs": [
    {
     "data": {
      "text/plain": [
       "tensor([[[ 0.1033,  4.2963],\n",
       "         [ 0.2582, -0.4314],\n",
       "         [ 1.0158, -2.0655]]], dtype=torch.float64)"
      ]
     },
     "execution_count": 334,
     "metadata": {},
     "output_type": "execute_result"
    }
   ],
   "source": [
    "X_naive.grad"
   ]
  },
  {
   "cell_type": "code",
   "execution_count": 335,
   "metadata": {},
   "outputs": [
    {
     "data": {
      "text/plain": [
       "tensor([[[ 0.0074,  3.0661],\n",
       "         [-0.2805, -0.4208],\n",
       "         [ 0.2539, -0.5164]]], dtype=torch.float64)"
      ]
     },
     "execution_count": 335,
     "metadata": {},
     "output_type": "execute_result"
    }
   ],
   "source": [
    "X_cpu.grad"
   ]
  },
  {
   "cell_type": "code",
   "execution_count": 336,
   "metadata": {
    "colab": {
     "base_uri": "https://localhost:8080/"
    },
    "id": "7VJDYUlbA2ag",
    "outputId": "d5fa187b-ce0e-4fdc-86c0-14422c7ccf46"
   },
   "outputs": [],
   "source": [
    "# torch.allclose(X_naive.grad, X_gpu.grad.cpu())"
   ]
  },
  {
   "cell_type": "code",
   "execution_count": null,
   "metadata": {},
   "outputs": [],
   "source": [
    "# torch.allclose(X_cpu.grad, X_gpu.grad.cpu())"
   ]
  },
  {
   "cell_type": "markdown",
   "metadata": {
    "id": "aCN0FtGju96Z"
   },
   "source": [
    "# Sig MMD gradients"
   ]
  },
  {
   "cell_type": "code",
   "execution_count": null,
   "metadata": {
    "id": "pG_7n-IWvA7P"
   },
   "outputs": [],
   "source": [
    "A = 1\n",
    "B = 1\n",
    "M = 3\n",
    "N = 3\n",
    "D = 2\n",
    "\n",
    "X = np.random.randn(A,M,D).cumsum(axis=1)\n",
    "Y = np.random.randn(B,N,D).cumsum(axis=1)\n",
    "\n",
    "X /= np.max(X)\n",
    "Y /= np.max(Y)\n",
    "\n",
    "X_naive = torch.tensor(X, dtype=torch.float64)\n",
    "Y_naive = torch.tensor(Y, dtype=torch.float64)\n",
    "\n",
    "X_cpu = X_naive.clone()\n",
    "Y_cpu = Y_naive.clone()\n",
    "\n",
    "X_gpu = X_naive.clone().cuda()\n",
    "Y_gpu = Y_naive.clone().cuda()\n",
    "\n",
    "X_naive.requires_grad = True\n",
    "X_cpu.requires_grad = True\n",
    "X_gpu.requires_grad = True"
   ]
  },
  {
   "cell_type": "code",
   "execution_count": null,
   "metadata": {
    "colab": {
     "base_uri": "https://localhost:8080/"
    },
    "id": "fYiCXpsKvbvX",
    "outputId": "3fcb700c-244a-4e7e-c384-7be60570cd13"
   },
   "outputs": [],
   "source": [
    "t = time.time()\n",
    "mmd_naive = SigMMD_naive(n=n,solver=solver).forward(X_naive,Y_naive)\n",
    "print('time:', np.round(time.time()-t,3), 's')\n",
    "print(mmd_naive)"
   ]
  },
  {
   "cell_type": "code",
   "execution_count": null,
   "metadata": {
    "colab": {
     "base_uri": "https://localhost:8080/"
    },
    "id": "jqdYxBgrvib-",
    "outputId": "406570c1-0d30-4ee0-9265-0b06fe9253fc"
   },
   "outputs": [],
   "source": [
    "t = time.time()\n",
    "mmd_cpu = SigMMD(n=n,solver=solver).forward(X_cpu,Y_cpu)\n",
    "print('time:', np.round(time.time()-t,3), 's')\n",
    "print(mmd_cpu)"
   ]
  },
  {
   "cell_type": "code",
   "execution_count": null,
   "metadata": {
    "colab": {
     "base_uri": "https://localhost:8080/"
    },
    "id": "PQ4wjDykvtv3",
    "outputId": "430d6a12-e194-4e24-da95-471a4c9daa57"
   },
   "outputs": [],
   "source": [
    "t = time.time()\n",
    "mmd_gpu = SigMMD(n=n,solver=solver).forward(X_gpu,Y_gpu)\n",
    "print('time:', np.round(time.time()-t,3), 's')\n",
    "print(mmd_gpu)"
   ]
  },
  {
   "cell_type": "code",
   "execution_count": null,
   "metadata": {
    "colab": {
     "base_uri": "https://localhost:8080/"
    },
    "id": "_Vbdm979ytGu",
    "outputId": "5999feea-3b0b-4e00-b13c-5a1e588e5539"
   },
   "outputs": [],
   "source": [
    "t = time.time()\n",
    "mmd_naive.backward()\n",
    "print('time:', np.round(time.time()-t,3), 's')"
   ]
  },
  {
   "cell_type": "code",
   "execution_count": null,
   "metadata": {
    "colab": {
     "base_uri": "https://localhost:8080/"
    },
    "id": "tgzFxfL2yx4s",
    "outputId": "19ab2b26-36b5-4490-d84c-68b4d3b099d1"
   },
   "outputs": [],
   "source": [
    "t = time.time()\n",
    "mmd_cpu.backward()\n",
    "print('time:', np.round(time.time()-t,3), 's')"
   ]
  },
  {
   "cell_type": "code",
   "execution_count": null,
   "metadata": {
    "colab": {
     "base_uri": "https://localhost:8080/"
    },
    "id": "A6KVhOyzy8RY",
    "outputId": "43f1dbdd-960f-46ec-af81-dab60e1c92e5"
   },
   "outputs": [],
   "source": [
    "t = time.time()\n",
    "mmd_gpu.backward()\n",
    "print('time:', np.round(time.time()-t,3), 's')"
   ]
  },
  {
   "cell_type": "code",
   "execution_count": null,
   "metadata": {
    "colab": {
     "base_uri": "https://localhost:8080/"
    },
    "id": "NVOUTzOyABqr",
    "outputId": "57e7c52c-c8a9-46cb-adc3-30124a4e786d"
   },
   "outputs": [],
   "source": [
    "torch.allclose(X_naive.grad, X_cpu.grad)"
   ]
  },
  {
   "cell_type": "code",
   "execution_count": null,
   "metadata": {
    "colab": {
     "base_uri": "https://localhost:8080/"
    },
    "id": "vLRD_QppzxMZ",
    "outputId": "58ccb383-d84e-4bf7-9612-763c70c72085"
   },
   "outputs": [],
   "source": [
    "torch.allclose(X_naive.grad, X_gpu.grad.cpu())"
   ]
  },
  {
   "cell_type": "code",
   "execution_count": null,
   "metadata": {
    "id": "Jp3rXyo0-Pgv"
   },
   "outputs": [],
   "source": [
    "torch.allclose(X_cpu.grad, X_cpu.grad)"
   ]
  }
 ],
 "metadata": {
  "accelerator": "GPU",
  "colab": {
   "collapsed_sections": [],
   "name": "test_gradients.ipynb",
   "provenance": []
  },
  "kernelspec": {
   "display_name": "Python 3",
   "language": "python",
   "name": "python3"
  },
  "language_info": {
   "codemirror_mode": {
    "name": "ipython",
    "version": 3
   },
   "file_extension": ".py",
   "mimetype": "text/x-python",
   "name": "python",
   "nbconvert_exporter": "python",
   "pygments_lexer": "ipython3",
   "version": "3.8.3"
  },
  "latex_envs": {
   "LaTeX_envs_menu_present": true,
   "autoclose": false,
   "autocomplete": true,
   "bibliofile": "biblio.bib",
   "cite_by": "apalike",
   "current_citInitial": 1,
   "eqLabelWithNumbers": true,
   "eqNumInitial": 1,
   "hotkeys": {
    "equation": "Ctrl-E",
    "itemize": "Ctrl-I"
   },
   "labels_anchors": false,
   "latex_user_defs": false,
   "report_style_numbering": false,
   "user_envs_cfg": false
  },
  "toc": {
   "nav_menu": {},
   "number_sections": true,
   "sideBar": true,
   "skip_h1_title": false,
   "title_cell": "Table of Contents",
   "title_sidebar": "Contents",
   "toc_cell": true,
   "toc_position": {},
   "toc_section_display": true,
   "toc_window_display": true
  }
 },
 "nbformat": 4,
 "nbformat_minor": 1
}
