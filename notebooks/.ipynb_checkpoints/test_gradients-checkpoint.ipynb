{
 "cells": [
  {
   "cell_type": "markdown",
   "metadata": {
    "toc": true
   },
   "source": [
    "<h1>Table of Contents<span class=\"tocSkip\"></span></h1>\n",
    "<div class=\"toc\"><ul class=\"toc-item\"></ul></div>"
   ]
  },
  {
   "cell_type": "code",
   "execution_count": 1,
   "metadata": {},
   "outputs": [],
   "source": [
    "import sys\n",
    "sys.path.append('../src')\n",
    "sys.path.append('../utils')\n",
    "\n",
    "import torch\n",
    "import time\n",
    "import numpy as np\n",
    "from tools import brownian, Lorenz\n",
    "from scipy.integrate import odeint\n",
    "from sigKer_torch import SigLoss, SigKernel, SigLoss_naive, SigKernel_naive\n",
    "import matplotlib.pyplot as plt"
   ]
  },
  {
   "cell_type": "markdown",
   "metadata": {},
   "source": [
    "# Sig kernel gradients"
   ]
  },
  {
   "cell_type": "code",
   "execution_count": 60,
   "metadata": {},
   "outputs": [],
   "source": [
    "n=5\n",
    "\n",
    "A, m, d = 1, 3, 3\n",
    "X = torch.tensor(Lorenz(A, m), dtype=torch.float64)\n",
    "Y = torch.tensor(Lorenz(A, m), dtype=torch.float64)\n",
    "X_ = X.clone()\n",
    "\n",
    "X.requires_grad = True\n",
    "X_.requires_grad = True"
   ]
  },
  {
   "cell_type": "code",
   "execution_count": 62,
   "metadata": {},
   "outputs": [
    {
     "name": "stdout",
     "output_type": "stream",
     "text": [
      "time: 3.26 s\n"
     ]
    }
   ],
   "source": [
    "t = time.time()\n",
    "ker_naive = SigKernel_naive(X,Y,n)\n",
    "print('time:', np.round(time.time()-t,3), 's')\n",
    "print(ker_naive)"
   ]
  },
  {
   "cell_type": "code",
   "execution_count": 64,
   "metadata": {},
   "outputs": [
    {
     "name": "stdout",
     "output_type": "stream",
     "text": [
      "time: 0.006 s\n"
     ]
    }
   ],
   "source": [
    "t = time.time()\n",
    "ker = SigKernel.apply(X_,Y,n)\n",
    "print('time:', np.round(time.time()-t,3), 's')\n",
    "print(ker)"
   ]
  },
  {
   "cell_type": "code",
   "execution_count": 67,
   "metadata": {},
   "outputs": [
    {
     "name": "stdout",
     "output_type": "stream",
     "text": [
      "time: 7.032 s\n",
      "tensor([[[  38.7228,   34.6038, -105.5668],\n",
      "         [ -32.3123,  -49.7007,   -7.8262],\n",
      "         [  -6.4105,   15.0969,  113.3930]]], dtype=torch.float64)\n"
     ]
    }
   ],
   "source": [
    "t = time.time()\n",
    "ker_naive.backward()\n",
    "print('time:', np.round(time.time()-t,3), 's')\n",
    "print(X.grad)"
   ]
  },
  {
   "cell_type": "code",
   "execution_count": 68,
   "metadata": {},
   "outputs": [
    {
     "name": "stdout",
     "output_type": "stream",
     "text": [
      "time: 0.001 s\n",
      "tensor([[[ 31.1878,  27.0379, -88.8584],\n",
      "         [-28.4850, -45.8999, -16.5074],\n",
      "         [ -2.7028,  18.8620, 105.3659]]], dtype=torch.float64)\n"
     ]
    }
   ],
   "source": [
    "# X.grad.data.zero_()\n",
    "t = time.time()\n",
    "ker.backward()\n",
    "print('time:', np.round(time.time()-t,3), 's')\n",
    "print(X_.grad)"
   ]
  },
  {
   "cell_type": "markdown",
   "metadata": {},
   "source": [
    "# Sig Loss gradients"
   ]
  },
  {
   "cell_type": "code",
   "execution_count": 69,
   "metadata": {},
   "outputs": [],
   "source": [
    "n=1\n",
    "\n",
    "A, m, d = 1, 3, 3\n",
    "X = torch.tensor(Lorenz(A, m), dtype=torch.float64)\n",
    "Y = torch.tensor(Lorenz(A, m), dtype=torch.float64)\n",
    "X_ = X.clone()\n",
    "\n",
    "X.requires_grad = True\n",
    "X_.requires_grad = True"
   ]
  },
  {
   "cell_type": "code",
   "execution_count": 70,
   "metadata": {},
   "outputs": [
    {
     "name": "stdout",
     "output_type": "stream",
     "text": [
      "time: 8.559 s\n",
      "tensor(24.1579, dtype=torch.float64, grad_fn=<MeanBackward0>)\n"
     ]
    }
   ],
   "source": [
    "t = time.time()\n",
    "l_naive = SigLoss_naive(n).forward(X,Y)\n",
    "print('time:', np.round(time.time()-t,3), 's')\n",
    "print(l_naive)"
   ]
  },
  {
   "cell_type": "code",
   "execution_count": 71,
   "metadata": {},
   "outputs": [
    {
     "name": "stdout",
     "output_type": "stream",
     "text": [
      "time: 0.011 s\n",
      "tensor(24.1579, dtype=torch.float64, grad_fn=<MeanBackward0>)\n"
     ]
    }
   ],
   "source": [
    "t = time.time()\n",
    "l = SigLoss(n).forward(X_,Y)\n",
    "print('time:', np.round(time.time()-t,3), 's')\n",
    "print(l)"
   ]
  },
  {
   "cell_type": "code",
   "execution_count": 72,
   "metadata": {},
   "outputs": [
    {
     "name": "stdout",
     "output_type": "stream",
     "text": [
      "time: 15.749 s\n",
      "tensor([[[-31.0708, -13.9698,  57.6901],\n",
      "         [ -7.0985,  55.3735,   6.9496],\n",
      "         [ 38.1693, -41.4038, -64.6398]]], dtype=torch.float64)\n"
     ]
    }
   ],
   "source": [
    "t = time.time()\n",
    "l_naive.backward()\n",
    "print('time:', np.round(time.time()-t,3), 's')\n",
    "print(X.grad)"
   ]
  },
  {
   "cell_type": "code",
   "execution_count": 73,
   "metadata": {},
   "outputs": [
    {
     "name": "stdout",
     "output_type": "stream",
     "text": [
      "time: 0.001 s\n",
      "tensor([[[-26.6542,  -9.0346,  48.9007],\n",
      "         [-11.1908,  51.6714,  14.9210],\n",
      "         [ 37.8450, -42.6368, -63.8218]]], dtype=torch.float64)\n"
     ]
    }
   ],
   "source": [
    "X.grad.data.zero_()\n",
    "t = time.time()\n",
    "l.backward()\n",
    "print('time:', np.round(time.time()-t,3), 's')\n",
    "print(X_.grad)"
   ]
  }
 ],
 "metadata": {
  "kernelspec": {
   "display_name": "Python 3",
   "language": "python",
   "name": "python3"
  },
  "language_info": {
   "codemirror_mode": {
    "name": "ipython",
    "version": 3
   },
   "file_extension": ".py",
   "mimetype": "text/x-python",
   "name": "python",
   "nbconvert_exporter": "python",
   "pygments_lexer": "ipython3",
   "version": "3.8.3"
  },
  "latex_envs": {
   "LaTeX_envs_menu_present": true,
   "autoclose": false,
   "autocomplete": true,
   "bibliofile": "biblio.bib",
   "cite_by": "apalike",
   "current_citInitial": 1,
   "eqLabelWithNumbers": true,
   "eqNumInitial": 1,
   "hotkeys": {
    "equation": "Ctrl-E",
    "itemize": "Ctrl-I"
   },
   "labels_anchors": false,
   "latex_user_defs": false,
   "report_style_numbering": false,
   "user_envs_cfg": false
  },
  "toc": {
   "nav_menu": {},
   "number_sections": true,
   "sideBar": true,
   "skip_h1_title": false,
   "title_cell": "Table of Contents",
   "title_sidebar": "Contents",
   "toc_cell": true,
   "toc_position": {},
   "toc_section_display": true,
   "toc_window_display": true
  }
 },
 "nbformat": 4,
 "nbformat_minor": 4
}
