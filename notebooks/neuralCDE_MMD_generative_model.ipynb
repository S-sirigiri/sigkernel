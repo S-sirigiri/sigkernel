{
  "nbformat": 4,
  "nbformat_minor": 0,
  "metadata": {
    "kernelspec": {
      "name": "python3",
      "display_name": "Python 3"
    },
    "colab": {
      "name": "neuralCDE_MMD_generative_model.ipynb",
      "provenance": [],
      "collapsed_sections": [],
      "toc_visible": true
    },
    "accelerator": "GPU"
  },
  "cells": [
    {
      "cell_type": "code",
      "metadata": {
        "id": "mN3TC_Ch9SXU"
      },
      "source": [
        "# !pip install signatory==1.2.3.1.6.0 --no-cache-dir --force-reinstall"
      ],
      "execution_count": null,
      "outputs": []
    },
    {
      "cell_type": "code",
      "metadata": {
        "colab": {
          "base_uri": "https://localhost:8080/"
        },
        "id": "M0YbZf7p9SXV",
        "outputId": "d03661fb-9e8f-4708-a25c-e71abeda2817"
      },
      "source": [
        "!pip install git+https://github.com/patrick-kidger/torchcde.git"
      ],
      "execution_count": 5,
      "outputs": [
        {
          "output_type": "stream",
          "text": [
            "Collecting git+https://github.com/patrick-kidger/torchcde.git\n",
            "  Cloning https://github.com/patrick-kidger/torchcde.git to /tmp/pip-req-build-2wrqox78\n",
            "  Running command git clone -q https://github.com/patrick-kidger/torchcde.git /tmp/pip-req-build-2wrqox78\n",
            "Requirement already satisfied: torch>=1.6.0 in /usr/local/lib/python3.6/dist-packages (from torchcde==0.1.0) (1.7.0+cu101)\n",
            "Collecting torchdiffeq>=0.1.0\n",
            "  Downloading https://files.pythonhosted.org/packages/67/af/377e42c20058f4891dedc1827c1a6b7b16772a452d18097d05c1db06b338/torchdiffeq-0.1.1-py3-none-any.whl\n",
            "Requirement already satisfied: future in /usr/local/lib/python3.6/dist-packages (from torch>=1.6.0->torchcde==0.1.0) (0.16.0)\n",
            "Requirement already satisfied: typing-extensions in /usr/local/lib/python3.6/dist-packages (from torch>=1.6.0->torchcde==0.1.0) (3.7.4.3)\n",
            "Requirement already satisfied: dataclasses in /usr/local/lib/python3.6/dist-packages (from torch>=1.6.0->torchcde==0.1.0) (0.8)\n",
            "Requirement already satisfied: numpy in /usr/local/lib/python3.6/dist-packages (from torch>=1.6.0->torchcde==0.1.0) (1.19.4)\n",
            "Building wheels for collected packages: torchcde\n",
            "  Building wheel for torchcde (setup.py) ... \u001b[?25l\u001b[?25hdone\n",
            "  Created wheel for torchcde: filename=torchcde-0.1.0-cp36-none-any.whl size=26752 sha256=7c7eef259992b6567b96d2cc066b71ffe448de34fef4823a2ad2898d723686ed\n",
            "  Stored in directory: /tmp/pip-ephem-wheel-cache-6udfz4cw/wheels/27/70/62/fcc2954fe81b4263df3751dbd62599080933abee0a3f4736b4\n",
            "Successfully built torchcde\n",
            "Installing collected packages: torchdiffeq, torchcde\n",
            "Successfully installed torchcde-0.1.0 torchdiffeq-0.1.1\n"
          ],
          "name": "stdout"
        }
      ]
    },
    {
      "cell_type": "code",
      "metadata": {
        "id": "_XO7-LidUzNY",
        "colab": {
          "base_uri": "https://localhost:8080/"
        },
        "outputId": "2460a824-4123-4440-c26d-3cc1d9375eb8"
      },
      "source": [
        "pip install git+https://github.com/google-research/torchsde.git"
      ],
      "execution_count": 6,
      "outputs": [
        {
          "output_type": "stream",
          "text": [
            "Collecting git+https://github.com/google-research/torchsde.git\n",
            "  Cloning https://github.com/google-research/torchsde.git to /tmp/pip-req-build-wsodp1vc\n",
            "  Running command git clone -q https://github.com/google-research/torchsde.git /tmp/pip-req-build-wsodp1vc\n",
            "  Installing build dependencies ... \u001b[?25l\u001b[?25hdone\n",
            "  Getting requirements to build wheel ... \u001b[?25l\u001b[?25hdone\n",
            "    Preparing wheel metadata ... \u001b[?25l\u001b[?25hdone\n",
            "Collecting trampoline>=0.1.2\n",
            "  Downloading https://files.pythonhosted.org/packages/73/54/d2805324fb746d8da86d3844bee4f55c0cfd6c136de61b713772d44c5bea/trampoline-0.1.2-py3-none-any.whl\n",
            "Requirement already satisfied: torch>=1.6.0 in /usr/local/lib/python3.6/dist-packages (from torchsde==0.2.4) (1.7.0+cu101)\n",
            "Requirement already satisfied: numpy==1.19.* in /usr/local/lib/python3.6/dist-packages (from torchsde==0.2.4) (1.19.4)\n",
            "Collecting scipy==1.5.*\n",
            "\u001b[?25l  Downloading https://files.pythonhosted.org/packages/c8/89/63171228d5ced148f5ced50305c89e8576ffc695a90b58fe5bb602b910c2/scipy-1.5.4-cp36-cp36m-manylinux1_x86_64.whl (25.9MB)\n",
            "\u001b[K     |████████████████████████████████| 25.9MB 131kB/s \n",
            "\u001b[?25hCollecting boltons>=20.2.1\n",
            "\u001b[?25l  Downloading https://files.pythonhosted.org/packages/71/e1/e7979a4a6d4b296b5935e926549fff540f7670ddaf09bbf137e2b022c039/boltons-20.2.1-py2.py3-none-any.whl (170kB)\n",
            "\u001b[K     |████████████████████████████████| 174kB 52.3MB/s \n",
            "\u001b[?25hRequirement already satisfied: future in /usr/local/lib/python3.6/dist-packages (from torch>=1.6.0->torchsde==0.2.4) (0.16.0)\n",
            "Requirement already satisfied: typing-extensions in /usr/local/lib/python3.6/dist-packages (from torch>=1.6.0->torchsde==0.2.4) (3.7.4.3)\n",
            "Requirement already satisfied: dataclasses in /usr/local/lib/python3.6/dist-packages (from torch>=1.6.0->torchsde==0.2.4) (0.8)\n",
            "Building wheels for collected packages: torchsde\n",
            "  Building wheel for torchsde (PEP 517) ... \u001b[?25l\u001b[?25hdone\n",
            "  Created wheel for torchsde: filename=torchsde-0.2.4-cp36-none-any.whl size=55585 sha256=68adbe1bfc648152c2d329cffacd9834db367af84da8274c654b60661c059dae\n",
            "  Stored in directory: /tmp/pip-ephem-wheel-cache-5wg2dofq/wheels/31/b5/4b/53c7d7c124c1bbfebd2c5f429ca86b5e59f6cd4718dc0f1229\n",
            "Successfully built torchsde\n",
            "\u001b[31mERROR: albumentations 0.1.12 has requirement imgaug<0.2.7,>=0.2.5, but you'll have imgaug 0.2.9 which is incompatible.\u001b[0m\n",
            "Installing collected packages: trampoline, scipy, boltons, torchsde\n",
            "  Found existing installation: scipy 1.4.1\n",
            "    Uninstalling scipy-1.4.1:\n",
            "      Successfully uninstalled scipy-1.4.1\n",
            "Successfully installed boltons-20.2.1 scipy-1.5.4 torchsde-0.2.4 trampoline-0.1.2\n"
          ],
          "name": "stdout"
        }
      ]
    },
    {
      "cell_type": "code",
      "metadata": {
        "colab": {
          "base_uri": "https://localhost:8080/"
        },
        "id": "f7D-l-GQ9rGb",
        "outputId": "82d79a66-aa1a-4ea5-cf59-c4cdedc65cdc"
      },
      "source": [
        "!git clone 'https://github.com/crispitagorico/Signature-Kernel.git'"
      ],
      "execution_count": 1,
      "outputs": [
        {
          "output_type": "stream",
          "text": [
            "Cloning into 'Signature-Kernel'...\n",
            "remote: Enumerating objects: 185, done.\u001b[K\n",
            "remote: Counting objects: 100% (185/185), done.\u001b[K\n",
            "remote: Compressing objects: 100% (124/124), done.\u001b[K\n",
            "remote: Total 755 (delta 125), reused 118 (delta 61), pack-reused 570\u001b[K\n",
            "Receiving objects: 100% (755/755), 25.30 MiB | 34.87 MiB/s, done.\n",
            "Resolving deltas: 100% (427/427), done.\n"
          ],
          "name": "stdout"
        }
      ]
    },
    {
      "cell_type": "code",
      "metadata": {
        "colab": {
          "base_uri": "https://localhost:8080/"
        },
        "id": "aQnp-FiQ9rw5",
        "outputId": "a746a003-97b3-4b7e-b08e-2ab45c48b547"
      },
      "source": [
        "%cd /content/Signature-Kernel/src/ \r\n",
        "\r\n",
        "!python setup.py build_ext --inplace"
      ],
      "execution_count": 2,
      "outputs": [
        {
          "output_type": "stream",
          "text": [
            "/content/Signature-Kernel/src\n",
            "Compiling sigKer_fast.pyx because it changed.\n",
            "[1/1] Cythonizing sigKer_fast.pyx\n",
            "/usr/local/lib/python3.6/dist-packages/Cython/Compiler/Main.py:369: FutureWarning: Cython directive 'language_level' not set, using 2 for now (Py2). This will change in a later release! File: /content/Signature-Kernel/src/sigKer_fast.pyx\n",
            "  tree = Parsing.p_module(s, pxd, full_module_name)\n",
            "running build_ext\n",
            "building 'sigKer_fast' extension\n",
            "creating build/temp.linux-x86_64-3.6\n",
            "x86_64-linux-gnu-gcc -pthread -DNDEBUG -g -fwrapv -O2 -Wall -g -fstack-protector-strong -Wformat -Werror=format-security -Wdate-time -D_FORTIFY_SOURCE=2 -fPIC -I/usr/include/python3.6m -c sigKer_fast.c -o build/temp.linux-x86_64-3.6/sigKer_fast.o\n",
            "creating build/lib.linux-x86_64-3.6\n",
            "x86_64-linux-gnu-gcc -pthread -shared -Wl,-O1 -Wl,-Bsymbolic-functions -Wl,-Bsymbolic-functions -Wl,-z,relro -Wl,-Bsymbolic-functions -Wl,-z,relro -g -fstack-protector-strong -Wformat -Werror=format-security -Wdate-time -D_FORTIFY_SOURCE=2 build/temp.linux-x86_64-3.6/sigKer_fast.o -o build/lib.linux-x86_64-3.6/sigKer_fast.cpython-36m-x86_64-linux-gnu.so\n",
            "copying build/lib.linux-x86_64-3.6/sigKer_fast.cpython-36m-x86_64-linux-gnu.so -> \n"
          ],
          "name": "stdout"
        }
      ]
    },
    {
      "cell_type": "code",
      "metadata": {
        "colab": {
          "base_uri": "https://localhost:8080/"
        },
        "id": "fyRqqsNhMDkh",
        "outputId": "9a3d3ce2-fd33-42ba-e57b-905f134fdc7e"
      },
      "source": [
        "%cd /content/Signature-Kernel/notebooks/"
      ],
      "execution_count": 3,
      "outputs": [
        {
          "output_type": "stream",
          "text": [
            "/content/Signature-Kernel/notebooks\n"
          ],
          "name": "stdout"
        }
      ]
    },
    {
      "cell_type": "code",
      "metadata": {
        "colab": {
          "base_uri": "https://localhost:8080/"
        },
        "id": "9shG_BfcmwFq",
        "outputId": "7a0d80e3-0a0e-493b-9030-2f6ca08e6a86"
      },
      "source": [
        "!git clone 'https://github.com/steveli/pytorch-sqrtm.git'"
      ],
      "execution_count": 4,
      "outputs": [
        {
          "output_type": "stream",
          "text": [
            "Cloning into 'pytorch-sqrtm'...\n",
            "remote: Enumerating objects: 3, done.\u001b[K\n",
            "remote: Counting objects: 100% (3/3), done.\u001b[K\n",
            "remote: Compressing objects: 100% (3/3), done.\u001b[K\n",
            "remote: Total 12 (delta 0), reused 1 (delta 0), pack-reused 9\u001b[K\n",
            "Unpacking objects: 100% (12/12), done.\n"
          ],
          "name": "stdout"
        }
      ]
    },
    {
      "cell_type": "code",
      "metadata": {
        "id": "TFnsVTS49SXV"
      },
      "source": [
        "import sys\n",
        "sys.path.append('../src')\n",
        "sys.path.append('pytorch-sqrtm')\n",
        "\n",
        "import numpy as np\n",
        "import math\n",
        "import torch\n",
        "import matplotlib.pyplot as plt\n",
        "\n",
        "from sqrtm import sqrtm\n",
        "\n",
        "import torchsde\n",
        "import torchcde\n",
        "\n",
        "# import signatory\n",
        "\n",
        "from sigMMD import SigMMD"
      ],
      "execution_count": 23,
      "outputs": []
    },
    {
      "cell_type": "code",
      "metadata": {
        "id": "nXWE_PQZp02m"
      },
      "source": [
        "y_dim = 2\r\n",
        "brownian_dim = 2\r\n",
        "# T = 20.\r\n",
        "\r\n",
        "device = 'cuda'"
      ],
      "execution_count": 24,
      "outputs": []
    },
    {
      "cell_type": "code",
      "metadata": {
        "id": "aovo0OlXu_Fn"
      },
      "source": [
        "class Lotka_Volterra_SDE(torch.nn.Module):\r\n",
        "    noise_type = 'general'\r\n",
        "    sde_type = 'ito'\r\n",
        "\r\n",
        "    def __init__(self, num_samples, a=.3, b=.0025, c=.15):\r\n",
        "        super().__init__()\r\n",
        "\r\n",
        "        self.num_samples = num_samples\r\n",
        "        self.a = a\r\n",
        "        self.b = b\r\n",
        "        self.c = c\r\n",
        "\r\n",
        "    def f(self, t, y):\r\n",
        "\r\n",
        "        A = torch.zeros((self.num_samples, y_dim), dtype=y.dtype, device=y.device)\r\n",
        "        \r\n",
        "        A[:,0] = self.a*y[:,0] - self.b*y[:,0]*y[:,1] \r\n",
        "        A[:,1] = self.b*y[:,0]*y[:,1] - self.c*y[:,1]\r\n",
        "        \r\n",
        "        return A\r\n",
        "\r\n",
        "    def g(self, t, y):\r\n",
        "\r\n",
        "        B = torch.zeros((self.num_samples, y_dim, brownian_dim), dtype=y.dtype, device=y.device)\r\n",
        "\r\n",
        "        B[:,0,0] = self.a*y[:,0] + self.b*y[:,0]*y[:,1]\r\n",
        "        B[:,0,1] = -self.b*y[:,0]*y[:,1]\r\n",
        "        B[:,1,0] = -self.b*y[:,0]*y[:,1]\r\n",
        "        B[:,1,1] = self.b*y[:,0]*y[:,1] + self.c*y[:,1]\r\n",
        "\r\n",
        "        for k in range(self.num_samples):\r\n",
        "            B[k,:,:] = sqrtm(B[k,:,:])\r\n",
        "\r\n",
        "        return B"
      ],
      "execution_count": 25,
      "outputs": []
    },
    {
      "cell_type": "code",
      "metadata": {
        "id": "OKvUNo8Ab6vw"
      },
      "source": [
        "def get_data(num_samples, length):\r\n",
        "    \r\n",
        "    # SDE simulator\r\n",
        "    sde = Lotka_Volterra_SDE(num_samples)\r\n",
        "\r\n",
        "    # initial condition\r\n",
        "    y_0 = torch.tensor([50., 40.]).repeat(num_samples,1)\r\n",
        "\r\n",
        "    # time grid\r\n",
        "    times = torch.linspace(0., T, length)\r\n",
        "\r\n",
        "    # Brownian motion simulator\r\n",
        "    bm = torchsde.BrownianInterval(t0=0., t1=T, size=(num_samples, brownian_dim))\r\n",
        "\r\n",
        "    # generate sample paths from solution\r\n",
        "    y_paths = torchsde.sdeint(sde, y_0, times, bm=bm, dt=0.1) # shape (length, num_samples, solution_dim)\r\n",
        "    y_paths = y_paths.permute(1,0,2)\r\n",
        "\r\n",
        "    # generate sample increments from Brownian motion \r\n",
        "    bm_increments = torch.stack([bm(t0, t1) for t0, t1 in zip(times[:-1], times[1:])], dim=0)\r\n",
        "\r\n",
        "    # generate sample paths from Brownian motion\r\n",
        "    bm_paths = torch.cat((torch.zeros(1, num_samples, brownian_dim), torch.cumsum(bm_increments, dim=0)))\r\n",
        "    bm_paths = bm_paths.permute(1,0,2)\r\n",
        "\r\n",
        "    # include time as a channel\r\n",
        "    times_ =  times.unsqueeze(0).unsqueeze(-1).expand(num_samples, length, 1)\r\n",
        "    bm_paths = torch.cat([times_, bm_paths], dim=2)  \r\n",
        "\r\n",
        "    return bm_paths, y_paths"
      ],
      "execution_count": 26,
      "outputs": []
    },
    {
      "cell_type": "code",
      "metadata": {
        "id": "OWwnCpRdXNoI"
      },
      "source": [
        "# num_samples, length = 500, 50"
      ],
      "execution_count": 16,
      "outputs": []
    },
    {
      "cell_type": "code",
      "metadata": {
        "id": "0tvXE8InYP3X"
      },
      "source": [
        "# x_data, y_data = get_data(num_samples, length)"
      ],
      "execution_count": 17,
      "outputs": []
    },
    {
      "cell_type": "code",
      "metadata": {
        "id": "Vnv45EuOahT5"
      },
      "source": [
        "# x_data -= x_data.min()\r\n",
        "# x_data /= x_data.max()\r\n",
        "\r\n",
        "# y_data -= y_data.min()\r\n",
        "# y_data /= y_data.max()"
      ],
      "execution_count": 18,
      "outputs": []
    },
    {
      "cell_type": "code",
      "metadata": {
        "id": "WoUG6d-llyCF"
      },
      "source": [
        "# torch.save(x_data, 'file_x_data.pt')\r\n",
        "# torch.save(y_data, 'file_y_data.pt')"
      ],
      "execution_count": 19,
      "outputs": []
    },
    {
      "cell_type": "code",
      "metadata": {
        "id": "VR4bvocZuhoR"
      },
      "source": [
        "x_data = 5*torch.load('../data/file_x_data.pt')[::5,:-10:5,:]\r\n",
        "y_data = 5*torch.load('../data/file_y_data.pt')[::5,:-10:5,:]"
      ],
      "execution_count": 27,
      "outputs": []
    },
    {
      "cell_type": "code",
      "metadata": {
        "colab": {
          "base_uri": "https://localhost:8080/",
          "height": 265
        },
        "id": "BrsfCqt8vJnc",
        "outputId": "bea9b3e6-f202-453c-c70c-ee8543522ca1"
      },
      "source": [
        "y_plot = y_data.cpu().numpy()\r\n",
        "for k in range(100):\r\n",
        "    plt.plot(y_plot[k][:,0], 'b', alpha=0.2)\r\n",
        "    plt.plot(y_plot[k][:,1], 'r', alpha=0.2)\r\n",
        "plt.show()"
      ],
      "execution_count": 28,
      "outputs": [
        {
          "output_type": "display_data",
          "data": {
            "image/png": "[encoded data removed]",
            "text/plain": [
              "<Figure size 432x288 with 1 Axes>"
            ]
          },
          "metadata": {
            "tags": [],
            "needs_background": "light"
          }
        }
      ]
    },
    {
      "cell_type": "code",
      "metadata": {
        "id": "TkVdu0TMQFiu"
      },
      "source": [
        "class VectorField(torch.nn.Module):\r\n",
        "    def __init__(self, input_dim, hidden_dim, inner_dim=32):\r\n",
        "        ######################\r\n",
        "        # input_dim is the number of input channels in the data X. (Determined by the data.)\r\n",
        "        # hidden_dim is the number of channels for z_t. (Determined by you.)\r\n",
        "        ######################\r\n",
        "        super(VectorField, self).__init__()\r\n",
        "        self.input_dim = input_dim\r\n",
        "        self.hidden_dim = hidden_dim\r\n",
        "\r\n",
        "        self.linear1 = torch.nn.Linear(hidden_dim, inner_dim)\r\n",
        "        self.linear2 = torch.nn.Linear(inner_dim, inner_dim)\r\n",
        "        self.linear3 = torch.nn.Linear(inner_dim, input_dim * hidden_dim)\r\n",
        "\r\n",
        "    ######################\r\n",
        "    # The t argument is not used here; it can be used when you want your CDE to behave differently at different times.\r\n",
        "    ######################\r\n",
        "    def forward(self, t, z):\r\n",
        "\r\n",
        "        # z has shape (batch, hidden_channels)\r\n",
        "        z = self.linear1(z)\r\n",
        "        z = z.relu()\r\n",
        "        # z = self.linear2(z)\r\n",
        "        # z = z.relu()\r\n",
        "        z = self.linear3(z)\r\n",
        "        z = z.tanh()\r\n",
        "        ######################\r\n",
        "        # Ignoring the batch dimension, the shape of the output tensor must be a matrix,\r\n",
        "        # because we need it to represent a linear map from R^input_channels to R^hidden_channels.\r\n",
        "        ######################\r\n",
        "        z = z.view(z.size(0), self.hidden_dim, self.input_dim)\r\n",
        "        return z"
      ],
      "execution_count": 29,
      "outputs": []
    },
    {
      "cell_type": "code",
      "metadata": {
        "id": "FgW3n03QRYV0"
      },
      "source": [
        "class NeuralCDE(torch.nn.Module):\r\n",
        "    def __init__(self, input_dim, hidden_dim, output_dim):\r\n",
        "        \r\n",
        "        super(NeuralCDE, self).__init__()\r\n",
        "\r\n",
        "        self.func = VectorField(input_dim, hidden_dim)\r\n",
        "\r\n",
        "        self.initial = torch.nn.Linear(input_dim, hidden_dim)\r\n",
        "        self.readout = torch.nn.Linear(hidden_dim, output_dim)\r\n",
        "\r\n",
        "    def forward(self, x):\r\n",
        "\r\n",
        "        # x, t = torchcde.logsignature_windows(x, depth=2, window_length=5)\r\n",
        "\r\n",
        "        coeffs = torchcde.linear_interpolation_coeffs(x)\r\n",
        "        # coeffs = linear_interpolation_coeffs(X_input, rectilinear=0)\r\n",
        "        X = torchcde.LinearInterpolation(coeffs)\r\n",
        "\r\n",
        "        # coeffs = torchcde.natural_cubic_coeffs(x)\r\n",
        "        # X = torchcde.NaturalCubicSpline(coeffs)\r\n",
        "        \r\n",
        "        X0 = X.evaluate(X.interval[0])\r\n",
        "        z0 = self.initial(X0)\r\n",
        "\r\n",
        "        z = torchcde.cdeint(X=X, \r\n",
        "                            func=self.func, \r\n",
        "                            z0=z0, \r\n",
        "                            t=X.grid_points,\r\n",
        "                            method='dopri5', \r\n",
        "                            options=dict(grid_points=X.grid_points, eps=1e-5)\r\n",
        "                            )\r\n",
        "\r\n",
        "        y = self.readout(z)\r\n",
        "        return y"
      ],
      "execution_count": 30,
      "outputs": []
    },
    {
      "cell_type": "code",
      "metadata": {
        "id": "We-Dbge1P3JH"
      },
      "source": [
        "# input_dim=3 because we have a 2-d Brownian motion with time.\r\n",
        "# hidden_dim=? is the number of hidden channels for the evolving z_t, which we get to choose.\r\n",
        "# output_dim=2 because we have a 2-d response.\r\n",
        "\r\n",
        "model = NeuralCDE(input_dim=3, hidden_dim=8, output_dim=2)\r\n",
        "# model = NeuralCDE(input_dim=signatory.logsignature_channels(3,2), hidden_dim=8, output_dim=2)"
      ],
      "execution_count": 31,
      "outputs": []
    },
    {
      "cell_type": "code",
      "metadata": {
        "id": "AnSKPNtXXf-O"
      },
      "source": [
        "x_train = x_data[10:100].cuda()#.double()\r\n",
        "y_train = y_data[10:100].cuda()#.double()\r\n",
        "x_test = x_data[:10].cuda()\r\n",
        "y_test = y_data[:10].cuda()\r\n",
        "\r\n",
        "model = model.cuda()#.double()"
      ],
      "execution_count": 34,
      "outputs": []
    },
    {
      "cell_type": "code",
      "metadata": {
        "id": "ZkwjNNoabMoP"
      },
      "source": [
        "optimizer = torch.optim.Adam(model.parameters(), lr=0.001)"
      ],
      "execution_count": 35,
      "outputs": []
    },
    {
      "cell_type": "code",
      "metadata": {
        "id": "57LXO2reU22w"
      },
      "source": [
        "train_dataset = torch.utils.data.TensorDataset(x_train, y_train)\r\n",
        "train_dataloader = torch.utils.data.DataLoader(train_dataset, batch_size=16)"
      ],
      "execution_count": 36,
      "outputs": []
    },
    {
      "cell_type": "code",
      "metadata": {
        "id": "22c12d1A_LUr"
      },
      "source": [
        "criterion = SigMMD(n=4, solver=2)\r\n",
        "# criterion = torch.nn.MSELoss()"
      ],
      "execution_count": 37,
      "outputs": []
    },
    {
      "cell_type": "code",
      "metadata": {
        "colab": {
          "base_uri": "https://localhost:8080/"
        },
        "id": "yCZwvnUPVEeq",
        "outputId": "71fab705-baf5-41d1-80f0-a0616de9f7a9"
      },
      "source": [
        "num_epochs = 100\r\n",
        "\r\n",
        "for epoch in range(num_epochs):\r\n",
        "\r\n",
        "    for batch in train_dataloader:\r\n",
        "        x, y = batch\r\n",
        "        pred_y = model(x)\r\n",
        "        loss = criterion(pred_y, y)\r\n",
        "        loss.backward()\r\n",
        "        optimizer.step()\r\n",
        "        optimizer.zero_grad()\r\n",
        "\r\n",
        "    if epoch%10==0:\r\n",
        "        model.eval()\r\n",
        "        with torch.no_grad():\r\n",
        "            y_pred = model(x_test)\r\n",
        "            test_loss = criterion(y_pred, y_test)\r\n",
        "        print('Epoch: {}   Training loss: {}   Test loss: {}'.format(epoch, loss.item(), test_loss.item()))\r\n",
        "        model.train()"
      ],
      "execution_count": null,
      "outputs": [
        {
          "output_type": "stream",
          "text": [
            "Epoch: 0   Training loss: 2.336878776550293   Test loss: 2.164522647857666\n",
            "Epoch: 10   Training loss: 1.117933988571167   Test loss: 0.9120349884033203\n",
            "Epoch: 20   Training loss: 0.670838475227356   Test loss: 0.47010764479637146\n"
          ],
          "name": "stdout"
        }
      ]
    },
    {
      "cell_type": "code",
      "metadata": {
        "id": "wmzMabTL_LXu"
      },
      "source": [
        "y_pred = model(x_test)"
      ],
      "execution_count": 74,
      "outputs": []
    },
    {
      "cell_type": "code",
      "metadata": {
        "colab": {
          "base_uri": "https://localhost:8080/",
          "height": 265
        },
        "id": "kRI8cly7iIg9",
        "outputId": "bd40374b-4b65-4640-94af-5d1dc437a076"
      },
      "source": [
        "y_pred_ = y_pred.cpu().detach().numpy()\r\n",
        "y_test_ = y_test.cpu().detach().numpy()\r\n",
        "for k in range(10):\r\n",
        "    plt.plot(y_pred_[k][:,0], y_pred_[k][:,1], 'b', alpha=0.2)\r\n",
        "    plt.plot(y_test_[k][:,0], y_test_[k][:,1], 'r', alpha=0.2)\r\n",
        "plt.show()"
      ],
      "execution_count": 75,
      "outputs": [
        {
          "output_type": "display_data",
          "data": {
            "image/png": "[encoded data removed]",
            "text/plain": [
              "<Figure size 432x288 with 1 Axes>"
            ]
          },
          "metadata": {
            "tags": [],
            "needs_background": "light"
          }
        }
      ]
    },
    {
      "cell_type": "markdown",
      "metadata": {
        "id": "QMltHNl9qflU"
      },
      "source": [
        "# Spirals Binary Classification"
      ]
    },
    {
      "cell_type": "code",
      "metadata": {
        "id": "h3wfYj7k9SXW"
      },
      "source": [
        "# class NeuralCDE(torch.nn.Module):\n",
        "#     def __init__(self, input_channels, hidden_channels, output_channels, log_sig=False, interpolation_type='cubic_splines'):\n",
        "        \n",
        "#         super(NeuralCDE, self).__init__()\n",
        "\n",
        "#         self.func = F(input_channels, hidden_channels)\n",
        "#         self.initial = torch.nn.Linear(input_channels, hidden_channels)\n",
        "#         self.readout = torch.nn.Linear(hidden_channels, output_channels)\n",
        "        \n",
        "#         self.log_sig = log_sig\n",
        "#         self.interpolation_type = interpolation_type\n",
        "        \n",
        "#     def forward_linear_interpolation(self, X_input):\n",
        "#         coeffs = torchcde.linear_interpolation_coeffs(X_input)\n",
        "# #         coeffs = linear_interpolation_coeffs(X_input, rectilinear=0)\n",
        "#         X = torchcde.LinearInterpolation(coeffs)\n",
        "    \n",
        "#         X0 = X.evaluate(X.interval[0])\n",
        "#         z0 = self.initial(X0)\n",
        "        \n",
        "#         z_T = torchcde.cdeint(X=X,\n",
        "#                               z0=z0,\n",
        "#                               func=self.func,\n",
        "#                               t=X.interval,\n",
        "#                               method='dopri5',\n",
        "#                               options=dict(grid_points=X.grid_points, eps=1e-5))\n",
        "        \n",
        "#         return z_T\n",
        "    \n",
        "        \n",
        "#     def forward_cubic_splines(self, X_input):\n",
        "#         coeffs = torchcde.natural_cubic_coeffs(X_input)\n",
        "#         X = torchcde.NaturalCubicSpline(coeffs)\n",
        "        \n",
        "#         X0 = X.evaluate(X.interval[0])\n",
        "#         z0 = self.initial(X0)\n",
        "        \n",
        "#         z_T = torchcde.cdeint(X=X,\n",
        "#                               z0=z0,\n",
        "#                               func=self.func,\n",
        "#                               t=X.interval)\n",
        "        \n",
        "#         return z_T\n",
        "        \n",
        "        \n",
        "#     def forward_logsig(self, X_input, depth=2, window=5):\n",
        "#         x, t = torchcde.logsignature_windows(X_input, depth, window)\n",
        "#         return x\n",
        "    \n",
        "        \n",
        "#     def forward(self, X_input):\n",
        "        \n",
        "#         if log_sig:\n",
        "#             X_input = self.forward_logsig(X_input)\n",
        "#             z_T = self.forward_linear_interpolation(X_input)\n",
        "        \n",
        "#         else:\n",
        "#             if self.interpolation_type=='cubic_splines':\n",
        "#                 z_T = self.forward_cubic_splines(X_input)\n",
        "#             else:\n",
        "#                 z_T = self.forward_linear_interpolation(X_input)\n",
        "            \n",
        "#         z_T = z_T[:, 1]\n",
        "#         pred_y = self.readout(z_T)\n",
        "#         return pred_y"
      ],
      "execution_count": null,
      "outputs": []
    }
  ]
}