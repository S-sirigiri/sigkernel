{
 "cells": [
  {
   "cell_type": "markdown",
   "metadata": {},
   "source": [
    "### Hyperparameters to reproduce results of paper \"Computing the untruncated signature kernel...\""
   ]
  },
  {
   "cell_type": "code",
   "execution_count": 1558,
   "metadata": {},
   "outputs": [],
   "source": [
    "# name, scale, rbf, sigma, ll, at = 'ArticularyWordRecognition', 1e-1, True, 6e-1, False, False\n",
    "# name, scale, rbf, sigma, ll, at = 'BasicMotions', 1e-1, True, 7e1, False, False\n",
    "# name, scale, rbf, sigma, ll, at = 'Cricket', 1e-1, True, 1e0, False, False # subsample_len every 10 time steps\n",
    "# name, scale, rbf, sigma, ll, at = 'Epilepsy', 1e-1, True, 1e0, False, False\n",
    "# name, scale, rbf, sigma, ll, at = 'ERing', 1e-2, True, 9e-2, False, True\n",
    "# name, scale, rbf, sigma, ll, at = 'Heartbeat', 1e-1, True, 1e1, False, True\n",
    "# name, scale, rbf, sigma, ll, at = 'Libras', 1e-1, True, 3e-2, False, False\n",
    "# name, scale, rbf, sigma, ll, at = 'NATOPS', 1e-1, True, 2.25e-1, False, True\n",
    "# name, scale, rbf, sigma, ll, at = 'RacketSports', 1e-1, True, 1e1, False, False\n",
    "# name, scale, rbf, sigma, ll, at = 'SelfRegulationSCP1', 1e-1, True, 2.5e2, False, False # subsample_len every 2 time steps\n",
    "name, scale, rbf, sigma, ll, at = 'UWaveGestureLibrary', 1e0, True, 3.5e1, False, True # subsample_len every 5 time steps"
   ]
  },
  {
   "cell_type": "code",
   "execution_count": 1559,
   "metadata": {},
   "outputs": [],
   "source": [
    "import base\n",
    "\n",
    "import warnings\n",
    "warnings.filterwarnings('ignore')\n",
    "\n",
    "import numpy as np\n",
    "import pandas as pd\n",
    "from tqdm import notebook as tqdm\n",
    "import matplotlib.pyplot as plt\n",
    "import torch \n",
    "\n",
    "import iisignature\n",
    "\n",
    "from sklearn.preprocessing import LabelEncoder\n",
    "from sklearn.metrics import confusion_matrix, classification_report\n",
    "from tslearn.datasets import UCR_UEA_datasets\n",
    "from tslearn.preprocessing import TimeSeriesScalerMinMax, TimeSeriesScalerMeanVariance\n",
    "from sklearn.model_selection import GridSearchCV, TimeSeriesSplit\n",
    "\n",
    "from tslearn.svm import TimeSeriesSVC\n",
    "\n",
    "from transformers_sig import AddTime, LeadLag\n",
    "\n",
    "from sigKer_fast import sig_kernel_Gram_matrix "
   ]
  },
  {
   "cell_type": "code",
   "execution_count": 1560,
   "metadata": {},
   "outputs": [],
   "source": [
    "def transform(paths, scale=1., at=False, ll=False):\n",
    "    paths = scale*paths\n",
    "    if ll:\n",
    "        paths = LeadLag().fit_transform(paths)\n",
    "    if at:\n",
    "        paths = AddTime().fit_transform(paths)\n",
    "    return np.array(paths)"
   ]
  },
  {
   "cell_type": "code",
   "execution_count": 1561,
   "metadata": {},
   "outputs": [],
   "source": [
    "data = UCR_UEA_datasets().list_multivariate_datasets()"
   ]
  },
  {
   "cell_type": "code",
   "execution_count": 1562,
   "metadata": {},
   "outputs": [],
   "source": [
    "X_train, Y_train, X_test, Y_test = UCR_UEA_datasets(use_cache=True).load_dataset(name)"
   ]
  },
  {
   "cell_type": "code",
   "execution_count": 1563,
   "metadata": {},
   "outputs": [
    {
     "name": "stdout",
     "output_type": "stream",
     "text": [
      "(120, 32, 3)\n",
      "(320, 32, 3)\n"
     ]
    }
   ],
   "source": [
    "subsample = 1\n",
    "subsample_len = 10\n",
    "\n",
    "x_train = X_train[::subsample,::subsample_len,:]\n",
    "y_train = Y_train[::subsample]\n",
    "x_test = X_test[::subsample,::subsample_len,:]\n",
    "y_test = Y_test[::subsample]\n",
    "\n",
    "# x_train = TimeSeriesScalerMinMax().fit_transform(x_train)\n",
    "# x_train = TimeSeriesScalerMeanVariance().fit_transform(x_train)\n",
    "# x_test = TimeSeriesScalerMinMax().fit_transform(x_test)\n",
    "# x_test = TimeSeriesScalerMeanVariance().fit_transform(x_test)\n",
    "\n",
    "y_train = LabelEncoder().fit_transform(y_train)\n",
    "y_test = LabelEncoder().fit_transform(y_test)\n",
    "\n",
    "print(x_train.shape)\n",
    "print(x_test.shape)"
   ]
  },
  {
   "cell_type": "code",
   "execution_count": 1564,
   "metadata": {},
   "outputs": [],
   "source": [
    "x_train = transform(x_train, scale, at, ll)\n",
    "x_test = transform(x_test, scale, at, ll)"
   ]
  },
  {
   "cell_type": "code",
   "execution_count": 1565,
   "metadata": {},
   "outputs": [
    {
     "name": "stdout",
     "output_type": "stream",
     "text": [
      "0\n"
     ]
    },
    {
     "data": {
      "image/png": "[encoded data removed]",
      "text/plain": [
       "<Figure size 432x288 with 1 Axes>"
      ]
     },
     "metadata": {
      "needs_background": "light"
     },
     "output_type": "display_data"
    }
   ],
   "source": [
    "k=0\n",
    "plt.plot(x_train[k])\n",
    "print(y_train[k])\n",
    "plt.show()"
   ]
  },
  {
   "cell_type": "code",
   "execution_count": 1566,
   "metadata": {},
   "outputs": [
    {
     "name": "stdout",
     "output_type": "stream",
     "text": [
      "classes: [0 1 2 3 4 5 6 7]\n"
     ]
    }
   ],
   "source": [
    "print(f'classes: {np.unique(y_train)}')"
   ]
  },
  {
   "cell_type": "code",
   "execution_count": 1567,
   "metadata": {},
   "outputs": [],
   "source": [
    "n,solver =  0,0"
   ]
  },
  {
   "cell_type": "code",
   "execution_count": 1568,
   "metadata": {},
   "outputs": [],
   "source": [
    "gram_matrix = sig_kernel_Gram_matrix(x_train, x_train, n, solver, sym=True, rbf=rbf, sigma=sigma)"
   ]
  },
  {
   "cell_type": "code",
   "execution_count": 1569,
   "metadata": {},
   "outputs": [],
   "source": [
    "test_matrix = sig_kernel_Gram_matrix(x_train, x_test, n, solver, sym=False, rbf=rbf, sigma=sigma)"
   ]
  },
  {
   "cell_type": "code",
   "execution_count": 1570,
   "metadata": {},
   "outputs": [],
   "source": [
    "# gram_matrix"
   ]
  },
  {
   "cell_type": "code",
   "execution_count": 1571,
   "metadata": {},
   "outputs": [],
   "source": [
    "svc_parameters = {'C': np.logspace(0, 3, 4), 'gamma': np.logspace(-3, 3, 7)}"
   ]
  },
  {
   "cell_type": "code",
   "execution_count": 1572,
   "metadata": {},
   "outputs": [],
   "source": [
    "svc = TimeSeriesSVC(kernel='precomputed', decision_function_shape='ovo')\n",
    "\n",
    "svc_model = GridSearchCV(estimator=svc, \n",
    "                         param_grid=svc_parameters, \n",
    "                         cv=TimeSeriesSplit(n_splits=5),\n",
    "                         n_jobs=-1)"
   ]
  },
  {
   "cell_type": "code",
   "execution_count": 1573,
   "metadata": {},
   "outputs": [
    {
     "data": {
      "text/plain": [
       "GridSearchCV(cv=TimeSeriesSplit(max_train_size=None, n_splits=5),\n",
       "             error_score=nan,\n",
       "             estimator=TimeSeriesSVC(C=1.0, cache_size=200, class_weight=None,\n",
       "                                     coef0=0.0, decision_function_shape='ovo',\n",
       "                                     degree=3, gamma='auto',\n",
       "                                     kernel='precomputed', max_iter=-1,\n",
       "                                     n_jobs=None, probability=False,\n",
       "                                     random_state=None, shrinking=True,\n",
       "                                     tol=0.001, verbose=0),\n",
       "             iid='deprecated', n_jobs=-1,\n",
       "             param_grid={'C': array([   1.,   10.,  100., 1000.]),\n",
       "                         'gamma': array([1.e-03, 1.e-02, 1.e-01, 1.e+00, 1.e+01, 1.e+02, 1.e+03])},\n",
       "             pre_dispatch='2*n_jobs', refit=True, return_train_score=False,\n",
       "             scoring=None, verbose=0)"
      ]
     },
     "execution_count": 1573,
     "metadata": {},
     "output_type": "execute_result"
    }
   ],
   "source": [
    "svc_model.fit(gram_matrix, y_train)"
   ]
  },
  {
   "cell_type": "code",
   "execution_count": 1574,
   "metadata": {},
   "outputs": [],
   "source": [
    "predictions = svc_model.predict(test_matrix.T)"
   ]
  },
  {
   "cell_type": "code",
   "execution_count": 1575,
   "metadata": {},
   "outputs": [
    {
     "data": {
      "text/plain": [
       "0.9"
      ]
     },
     "execution_count": 1575,
     "metadata": {},
     "output_type": "execute_result"
    }
   ],
   "source": [
    "svc_model.score(test_matrix.T, y_test)"
   ]
  },
  {
   "cell_type": "code",
   "execution_count": 1576,
   "metadata": {},
   "outputs": [],
   "source": [
    "# print(classification_report(predictions, y_test))"
   ]
  },
  {
   "cell_type": "code",
   "execution_count": 1577,
   "metadata": {},
   "outputs": [],
   "source": [
    "# confusion_matrix(predictions, y_test)"
   ]
  },
  {
   "cell_type": "code",
   "execution_count": 1578,
   "metadata": {},
   "outputs": [],
   "source": [
    "final = {}"
   ]
  },
  {
   "cell_type": "code",
   "execution_count": 1579,
   "metadata": {},
   "outputs": [],
   "source": [
    "# sig-PDE kernel\n",
    "final['sig-ker-PDE'] = svc_model.score(test_matrix.T, y_test)"
   ]
  },
  {
   "cell_type": "code",
   "execution_count": 1580,
   "metadata": {},
   "outputs": [
    {
     "data": {
      "application/vnd.jupyter.widget-view+json": {
       "model_id": "7c60eccb9f7847e4a993e8a06197d059",
       "version_major": 2,
       "version_minor": 0
      },
      "text/plain": [
       "HBox(children=(HTML(value=''), FloatProgress(value=0.0, max=2.0), HTML(value='')))"
      ]
     },
     "metadata": {},
     "output_type": "display_data"
    },
    {
     "name": "stdout",
     "output_type": "stream",
     "text": [
      "\n"
     ]
    }
   ],
   "source": [
    "# linear and rbf kernels\n",
    "for ker in tqdm.tqdm(['linear', 'rbf']):\n",
    "    \n",
    "    svc = TimeSeriesSVC(kernel=ker, gamma='auto', decision_function_shape='ovo')\n",
    "\n",
    "    svc_model = GridSearchCV(estimator=svc, \n",
    "                             param_grid=svc_parameters, \n",
    "                             cv=TimeSeriesSplit(n_splits=5),\n",
    "                             n_jobs=-1)\n",
    "    \n",
    "    svc_model.fit(x_train, y_train)\n",
    "    \n",
    "    final[ker] = svc_model.score(x_test, y_test)"
   ]
  },
  {
   "cell_type": "code",
   "execution_count": 1583,
   "metadata": {},
   "outputs": [
    {
     "data": {
      "application/vnd.jupyter.widget-view+json": {
       "model_id": "45ab04b45a0f4d648cac2830f323f133",
       "version_major": 2,
       "version_minor": 0
      },
      "text/plain": [
       "HBox(children=(HTML(value=''), FloatProgress(value=0.0, max=4.0), HTML(value='')))"
      ]
     },
     "metadata": {},
     "output_type": "display_data"
    },
    {
     "name": "stdout",
     "output_type": "stream",
     "text": [
      "\n"
     ]
    }
   ],
   "source": [
    "# global alignement kernel (GAK)\n",
    "for gamma in tqdm.tqdm([1., 0.1, 0.01, 'auto']):\n",
    "            \n",
    "    svc = TimeSeriesSVC(kernel='gak', gamma=gamma, decision_function_shape='ovo')\n",
    "\n",
    "    svc_model = GridSearchCV(estimator=svc, \n",
    "                             param_grid=svc_parameters, \n",
    "                             cv=TimeSeriesSplit(n_splits=5),\n",
    "                             n_jobs=-1)\n",
    "\n",
    "    svc_model.fit(x_train, y_train)\n",
    "\n",
    "    final[f'gak_{gamma}'] = svc_model.score(x_test, y_test)"
   ]
  },
  {
   "cell_type": "code",
   "execution_count": 1581,
   "metadata": {},
   "outputs": [
    {
     "data": {
      "application/vnd.jupyter.widget-view+json": {
       "model_id": "29e2d1e8335d4a4cae1e4e919ee6fb3b",
       "version_major": 2,
       "version_minor": 0
      },
      "text/plain": [
       "HBox(children=(HTML(value=''), FloatProgress(value=0.0, max=3.0), HTML(value='')))"
      ]
     },
     "metadata": {},
     "output_type": "display_data"
    },
    {
     "name": "stdout",
     "output_type": "stream",
     "text": [
      "\n"
     ]
    }
   ],
   "source": [
    "# truncated signature kernel\n",
    "for d in tqdm.tqdm(range(2,5)):\n",
    "    \n",
    "    svc = TimeSeriesSVC(kernel='linear', decision_function_shape='ovo')\n",
    "\n",
    "    svc_model = GridSearchCV(estimator=svc, \n",
    "                             param_grid=svc_parameters, \n",
    "                             cv=TimeSeriesSplit(n_splits=5),\n",
    "                             n_jobs=-1)\n",
    "\n",
    "    sig_train = iisignature.sig(x_train, d)\n",
    "    sig_test = iisignature.sig(x_test, d)\n",
    "\n",
    "    svc_model.fit(sig_train, y_train)\n",
    "\n",
    "    final[f'sig-ker-{d}'] = svc_model.score(sig_test, y_test)"
   ]
  },
  {
   "cell_type": "code",
   "execution_count": 1584,
   "metadata": {},
   "outputs": [
    {
     "data": {
      "text/plain": [
       "{'sig-ker-PDE': 0.9,\n",
       " 'linear': 0.79375,\n",
       " 'rbf': 0.840625,\n",
       " 'sig-ker-2': 0.809375,\n",
       " 'sig-ker-3': 0.7625,\n",
       " 'sig-ker-4': 0.775,\n",
       " 'gak_1.0': 0.890625,\n",
       " 'gak_0.1': 0.890625,\n",
       " 'gak_0.01': 0.890625,\n",
       " 'gak_auto': 0.890625}"
      ]
     },
     "execution_count": 1584,
     "metadata": {},
     "output_type": "execute_result"
    }
   ],
   "source": [
    "final"
   ]
  },
  {
   "cell_type": "code",
   "execution_count": 1585,
   "metadata": {},
   "outputs": [],
   "source": [
    "final_csv = pd.DataFrame.from_dict(final, orient='index').rename(columns={0:'accuracy (%)'})\n",
    "final_csv.to_csv(f'../results/{name}.csv')"
   ]
  },
  {
   "cell_type": "code",
   "execution_count": null,
   "metadata": {},
   "outputs": [],
   "source": []
  }
 ],
 "metadata": {
  "kernel_info": {
   "name": "python3"
  },
  "kernelspec": {
   "display_name": "Python 3",
   "language": "python",
   "name": "python3"
  },
  "language_info": {
   "codemirror_mode": {
    "name": "ipython",
    "version": 3
   },
   "file_extension": ".py",
   "mimetype": "text/x-python",
   "name": "python",
   "nbconvert_exporter": "python",
   "pygments_lexer": "ipython3",
   "version": "3.6.9"
  },
  "nteract": {
   "version": "nteract-front-end@1.0.0"
  }
 },
 "nbformat": 4,
 "nbformat_minor": 2
}
