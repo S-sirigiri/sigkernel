{
 "cells": [
  {
   "cell_type": "code",
   "execution_count": null,
   "metadata": {},
   "outputs": [],
   "source": [
    "import base\n",
    "\n",
    "import warnings\n",
    "warnings.filterwarnings('ignore')\n",
    "\n",
    "import numpy as np\n",
    "import pandas as pd\n",
    "from tqdm import notebook as tqdm\n",
    "import matplotlib.pyplot as plt\n",
    "import torch \n",
    "\n",
    "import iisignature\n",
    "\n",
    "from sklearn.preprocessing import LabelEncoder\n",
    "from sklearn.metrics import confusion_matrix, classification_report\n",
    "from tslearn.datasets import UCR_UEA_datasets\n",
    "from tslearn.preprocessing import TimeSeriesScalerMinMax, TimeSeriesScalerMeanVariance\n",
    "from sklearn.model_selection import GridSearchCV, TimeSeriesSplit\n",
    "\n",
    "from tslearn.svm import TimeSeriesSVC\n",
    "\n",
    "from transformers_sig import AddTime, LeadLag\n",
    "\n",
    "from sigKer_fast import sig_kernel_Gram_matrix \n",
    "# from sigKer_torch import SigKernelGramMat"
   ]
  },
  {
   "cell_type": "code",
   "execution_count": null,
   "metadata": {},
   "outputs": [],
   "source": [
    "def transform(paths, scale=1., at=False, ll=False):\n",
    "    paths = scale*paths\n",
    "    if ll:\n",
    "        paths = LeadLag().fit_transform(paths)\n",
    "    if at:\n",
    "        paths = AddTime().fit_transform(paths)\n",
    "    return np.array(paths)"
   ]
  },
  {
   "cell_type": "code",
   "execution_count": null,
   "metadata": {},
   "outputs": [],
   "source": [
    "data = UCR_UEA_datasets().list_multivariate_datasets()"
   ]
  },
  {
   "cell_type": "code",
   "execution_count": null,
   "metadata": {},
   "outputs": [],
   "source": [
    "name = data[26]\n",
    "print(name)"
   ]
  },
  {
   "cell_type": "code",
   "execution_count": null,
   "metadata": {},
   "outputs": [],
   "source": [
    "X_train, Y_train, X_test, Y_test = UCR_UEA_datasets(use_cache=True).load_dataset(name)"
   ]
  },
  {
   "cell_type": "code",
   "execution_count": null,
   "metadata": {},
   "outputs": [],
   "source": [
    "subsample = 1\n",
    "subsample_len = 1\n",
    "\n",
    "x_train = X_train[::subsample,::subsample_len,:]\n",
    "y_train = Y_train[::subsample]\n",
    "x_test = X_test[::subsample,::subsample_len,:]\n",
    "y_test = Y_test[::subsample]\n",
    "\n",
    "# x_train = TimeSeriesScalerMinMax().fit_transform(x_train)\n",
    "# x_train = TimeSeriesScalerMeanVariance().fit_transform(x_train)\n",
    "# x_test = TimeSeriesScalerMinMax().fit_transform(x_test)\n",
    "# x_test = TimeSeriesScalerMeanVariance().fit_transform(x_test)\n",
    "\n",
    "y_train = LabelEncoder().fit_transform(y_train)\n",
    "y_test = LabelEncoder().fit_transform(y_test)\n",
    "\n",
    "print(x_train.shape)\n",
    "print(x_test.shape)"
   ]
  },
  {
   "cell_type": "code",
   "execution_count": null,
   "metadata": {},
   "outputs": [],
   "source": [
    "scale = 1e-1\n",
    "at = True\n",
    "ll = False\n",
    "\n",
    "x_train = transform(x_train, scale, at, ll)\n",
    "x_test = transform(x_test, scale, at, ll)"
   ]
  },
  {
   "cell_type": "code",
   "execution_count": null,
   "metadata": {},
   "outputs": [],
   "source": [
    "k=6\n",
    "plt.plot(x_train[k])\n",
    "print(y_train[k])\n",
    "plt.show()"
   ]
  },
  {
   "cell_type": "code",
   "execution_count": null,
   "metadata": {},
   "outputs": [],
   "source": [
    "print(f'classes: {np.unique(y_train)}')"
   ]
  },
  {
   "cell_type": "code",
   "execution_count": null,
   "metadata": {},
   "outputs": [],
   "source": [
    "n,solver =  0,0"
   ]
  },
  {
   "cell_type": "code",
   "execution_count": null,
   "metadata": {},
   "outputs": [],
   "source": [
    "# x_train_ = torch.tensor(x_train).cuda()\n",
    "# x_test_ = torch.tensor(x_test).cuda()"
   ]
  },
  {
   "cell_type": "code",
   "execution_count": null,
   "metadata": {},
   "outputs": [],
   "source": [
    "rbf, sigma = True, 1e2"
   ]
  },
  {
   "cell_type": "code",
   "execution_count": null,
   "metadata": {},
   "outputs": [],
   "source": [
    "gram_matrix = sig_kernel_Gram_matrix(x_train, x_train, n, solver, sym=True, rbf=rbf, sigma=sigma)\n",
    "# gram_matrix_ = SigKernelGramMat.apply(x_train_, x_train_, n, solver, True)"
   ]
  },
  {
   "cell_type": "code",
   "execution_count": null,
   "metadata": {},
   "outputs": [],
   "source": [
    "test_matrix = sig_kernel_Gram_matrix(x_train, x_test, n, solver, sym=False, rbf=rbf, sigma=sigma)\n",
    "# test_matrix_ = SigKernelGramMat.apply(x_train_, x_test_, n, solver, False)"
   ]
  },
  {
   "cell_type": "code",
   "execution_count": null,
   "metadata": {},
   "outputs": [],
   "source": [
    "# gram_matrix = gram_matrix_.cpu().numpy()\n",
    "# test_matrix = test_matrix_.cpu().numpy()"
   ]
  },
  {
   "cell_type": "code",
   "execution_count": null,
   "metadata": {},
   "outputs": [],
   "source": [
    "gram_matrix"
   ]
  },
  {
   "cell_type": "code",
   "execution_count": null,
   "metadata": {},
   "outputs": [],
   "source": [
    "svc_parameters = {'C': np.logspace(0, 5, 6), 'gamma': np.logspace(-5, 5, 11)}\n",
    "# svc_parameters = {'C': np.logspace(0, 4, 5), 'gamma': np.logspace(-2, 2, 5)}"
   ]
  },
  {
   "cell_type": "code",
   "execution_count": null,
   "metadata": {},
   "outputs": [],
   "source": [
    "svc = TimeSeriesSVC(kernel='precomputed', decision_function_shape='ovo')\n",
    "\n",
    "svc_model = GridSearchCV(estimator=svc, \n",
    "                         param_grid=svc_parameters, \n",
    "                         cv=TimeSeriesSplit(n_splits=2),\n",
    "                         n_jobs=-1)"
   ]
  },
  {
   "cell_type": "code",
   "execution_count": null,
   "metadata": {},
   "outputs": [],
   "source": [
    "svc_model.fit(gram_matrix, y_train)"
   ]
  },
  {
   "cell_type": "code",
   "execution_count": null,
   "metadata": {},
   "outputs": [],
   "source": [
    "predictions = svc_model.predict(test_matrix.T)"
   ]
  },
  {
   "cell_type": "code",
   "execution_count": null,
   "metadata": {},
   "outputs": [],
   "source": [
    "svc_model.score(test_matrix.T, y_test)"
   ]
  },
  {
   "cell_type": "code",
   "execution_count": null,
   "metadata": {},
   "outputs": [],
   "source": [
    "print(classification_report(predictions, y_test))"
   ]
  },
  {
   "cell_type": "code",
   "execution_count": null,
   "metadata": {},
   "outputs": [],
   "source": [
    "confusion_matrix(predictions, y_test)"
   ]
  },
  {
   "cell_type": "code",
   "execution_count": null,
   "metadata": {},
   "outputs": [],
   "source": [
    "final = {}"
   ]
  },
  {
   "cell_type": "code",
   "execution_count": null,
   "metadata": {},
   "outputs": [],
   "source": [
    "final['sig-ker-PDE'] = svc_model.score(test_matrix.T, y_test)"
   ]
  },
  {
   "cell_type": "code",
   "execution_count": null,
   "metadata": {},
   "outputs": [],
   "source": [
    "for ker in tqdm.tqdm(['linear', 'rbf']):\n",
    "    \n",
    "    svc = TimeSeriesSVC(kernel=ker, gamma='auto', decision_function_shape='ovo')\n",
    "\n",
    "    svc_model = GridSearchCV(estimator=svc, \n",
    "                             param_grid=svc_parameters, \n",
    "                             cv=TimeSeriesSplit(n_splits=5),\n",
    "                             n_jobs=-1)\n",
    "    \n",
    "    svc_model.fit(x_train, y_train)\n",
    "    \n",
    "    final[ker] = svc_model.score(x_test, y_test)"
   ]
  },
  {
   "cell_type": "code",
   "execution_count": null,
   "metadata": {},
   "outputs": [],
   "source": [
    "for gamma in tqdm.tqdm([1., 0.1, 0.01, 0.001]):\n",
    "            \n",
    "    svc = TimeSeriesSVC(kernel='gak', gamma=gamma, decision_function_shape='ovo')\n",
    "\n",
    "    svc_model = GridSearchCV(estimator=svc, \n",
    "                             param_grid=svc_parameters, \n",
    "                             cv=TimeSeriesSplit(n_splits=5),\n",
    "                             n_jobs=-1)\n",
    "\n",
    "    svc_model.fit(x_train, y_train)\n",
    "\n",
    "    final[f'gak_{gamma}'] = svc_model.score(x_test, y_test)"
   ]
  },
  {
   "cell_type": "code",
   "execution_count": null,
   "metadata": {},
   "outputs": [],
   "source": [
    "### truncated signature kernel\n",
    "for d in tqdm.tqdm(range(1,4)):\n",
    "    \n",
    "    svc = TimeSeriesSVC(kernel='linear', decision_function_shape='ovo')\n",
    "\n",
    "    svc_model = GridSearchCV(estimator=svc, \n",
    "                             param_grid=svc_parameters, \n",
    "                             cv=TimeSeriesSplit(n_splits=5),\n",
    "                             n_jobs=-1)\n",
    "\n",
    "    sig_train = iisignature.sig(x_train, d)\n",
    "    sig_test = iisignature.sig(x_test, d)\n",
    "\n",
    "    svc_model.fit(sig_train, y_train)\n",
    "\n",
    "    final[f'sig-ker-{d}'] = svc_model.score(sig_test, y_test)"
   ]
  },
  {
   "cell_type": "code",
   "execution_count": null,
   "metadata": {},
   "outputs": [],
   "source": [
    "final"
   ]
  },
  {
   "cell_type": "code",
   "execution_count": null,
   "metadata": {},
   "outputs": [],
   "source": [
    "final_csv = pd.DataFrame.from_dict(final, orient='index').rename(columns={0:'accuracy (%)'})\n",
    "print(final_csv)\n",
    "if rbf:\n",
    "    if ll:\n",
    "        if at:\n",
    "            final_csv.to_csv(f'../results/svm-{name}-{np.round(scale,3)}-{np.round(sigma,1)}-LL-AT.csv')\n",
    "        else:\n",
    "            final_csv.to_csv(f'../results/svm-{name}-{np.round(scale,3)}-{np.round(sigma,1)}-LL.csv')\n",
    "    else:\n",
    "        if at:\n",
    "            final_csv.to_csv(f'../results/svm-{name}-{np.round(scale,3)}-{np.round(sigma,1)}-AT.csv')\n",
    "        else:\n",
    "            final_csv.to_csv(f'../results/svm-{name}-{np.round(scale,3)}-{np.round(sigma,1)}.csv')\n",
    "else:\n",
    "    if ll:\n",
    "        if at:\n",
    "            final_csv.to_csv(f'../results/svm-{name}-{np.round(scale,3)}-LL-AT.csv')\n",
    "        else:\n",
    "            final_csv.to_csv(f'../results/svm-{name}-{np.round(scale,3)}-LL.csv')\n",
    "    else:\n",
    "        if at:\n",
    "            final_csv.to_csv(f'../results/svm-{name}-{np.round(scale,3)}-AT.csv')\n",
    "        else:\n",
    "            final_csv.to_csv(f'../results/svm-{name}-{np.round(scale,3)}.csv')"
   ]
  },
  {
   "cell_type": "code",
   "execution_count": null,
   "metadata": {},
   "outputs": [],
   "source": []
  },
  {
   "cell_type": "code",
   "execution_count": null,
   "metadata": {},
   "outputs": [],
   "source": []
  }
 ],
 "metadata": {
  "kernel_info": {
   "name": "python3"
  },
  "kernelspec": {
   "display_name": "Python 3",
   "language": "python",
   "name": "python3"
  },
  "language_info": {
   "codemirror_mode": {
    "name": "ipython",
    "version": 3
   },
   "file_extension": ".py",
   "mimetype": "text/x-python",
   "name": "python",
   "nbconvert_exporter": "python",
   "pygments_lexer": "ipython3",
   "version": "3.6.9"
  },
  "nteract": {
   "version": "nteract-front-end@1.0.0"
  }
 },
 "nbformat": 4,
 "nbformat_minor": 2
}
