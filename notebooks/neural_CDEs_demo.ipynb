{
 "cells": [
  {
   "cell_type": "code",
   "execution_count": 2,
   "metadata": {},
   "outputs": [],
   "source": [
    "# !python -V"
   ]
  },
  {
   "cell_type": "code",
   "execution_count": 3,
   "metadata": {},
   "outputs": [
    {
     "name": "stdout",
     "output_type": "stream",
     "text": [
      "Collecting signatory==1.2.3.1.6.0\n",
      "  Downloading signatory-1.2.3.1.6.0.tar.gz (61 kB)\n",
      "\u001b[K     |████████████████████████████████| 61 kB 11.0 MB/s eta 0:00:01\n",
      "\u001b[?25hBuilding wheels for collected packages: signatory\n",
      "  Building wheel for signatory (setup.py) ... \u001b[?25ldone\n",
      "\u001b[?25h  Created wheel for signatory: filename=signatory-1.2.3.1.6.0-cp36-cp36m-linux_x86_64.whl size=5848359 sha256=46904276c441a54063c1f230040114c02883157318fa4839adbe6f24bc91e324\n",
      "  Stored in directory: /tmp/pip-ephem-wheel-cache-505iwrs7/wheels/a1/ad/5d/4ba1358812ff3288b6e88573006340ab1567d7ed130d6f7d50\n",
      "Successfully built signatory\n",
      "Installing collected packages: signatory\n",
      "Successfully installed signatory-1.2.3.1.6.0\n"
     ]
    }
   ],
   "source": [
    "!pip install signatory==1.2.3.1.6.0 --no-cache-dir --force-reinstall"
   ]
  },
  {
   "cell_type": "code",
   "execution_count": 4,
   "metadata": {},
   "outputs": [
    {
     "name": "stdout",
     "output_type": "stream",
     "text": [
      "Collecting git+https://github.com/patrick-kidger/torchcde.git\n",
      "  Cloning https://github.com/patrick-kidger/torchcde.git to /tmp/pip-req-build-0zmrshsd\n",
      "  Running command git clone -q https://github.com/patrick-kidger/torchcde.git /tmp/pip-req-build-0zmrshsd\n",
      "Requirement already satisfied: torch>=1.6.0 in /anaconda/envs/azureml_py36/lib/python3.6/site-packages (from torchcde==0.1.0) (1.6.0)\n",
      "Collecting torchdiffeq>=0.1.0\n",
      "  Downloading torchdiffeq-0.1.1-py3-none-any.whl (29 kB)\n",
      "Requirement already satisfied: future in /anaconda/envs/azureml_py36/lib/python3.6/site-packages (from torch>=1.6.0->torchcde==0.1.0) (0.18.2)\n",
      "Requirement already satisfied: numpy in /anaconda/envs/azureml_py36/lib/python3.6/site-packages (from torch>=1.6.0->torchcde==0.1.0) (1.18.5)\n",
      "Building wheels for collected packages: torchcde\n",
      "  Building wheel for torchcde (setup.py) ... \u001b[?25ldone\n",
      "\u001b[?25h  Created wheel for torchcde: filename=torchcde-0.1.0-py3-none-any.whl size=26753 sha256=f74ee0b6b2497acbd1957b144ffd02ee0ddd67e68134e7b5cf4f60253e76182e\n",
      "  Stored in directory: /tmp/pip-ephem-wheel-cache-yew1_lgw/wheels/c5/39/cc/d565aba71de7160b7cf6d2162178e8ef8ab3c52c76405f65d9\n",
      "Successfully built torchcde\n",
      "Installing collected packages: torchdiffeq, torchcde\n",
      "Successfully installed torchcde-0.1.0 torchdiffeq-0.1.1\n"
     ]
    }
   ],
   "source": [
    "!pip install git+https://github.com/patrick-kidger/torchcde.git"
   ]
  },
  {
   "cell_type": "code",
   "execution_count": 5,
   "metadata": {},
   "outputs": [],
   "source": [
    "import math\n",
    "import torch\n",
    "import torchcde"
   ]
  },
  {
   "cell_type": "markdown",
   "metadata": {},
   "source": [
    "# Controlled differential equations (CDEs)\n",
    "\n",
    "$$z_t = z_0 + \\int_0^t f_\\theta(z_s) dX_s$$\n",
    "\n",
    "where $X$ is your data and $f_\\theta$ is a neural network. "
   ]
  },
  {
   "cell_type": "code",
   "execution_count": 23,
   "metadata": {},
   "outputs": [],
   "source": [
    "class f_theta(torch.nn.Module):\n",
    "    def __init__(self, input_channels, hidden_channels):\n",
    "        ######################\n",
    "        # input_channels is the number of input channels in the data X. (Determined by the data.)\n",
    "        # hidden_channels is the number of channels for z_t. (Determined by you.)\n",
    "        ######################\n",
    "        super(f_theta, self).__init__()\n",
    "        self.input_channels = input_channels\n",
    "        self.hidden_channels = hidden_channels\n",
    "\n",
    "        self.linear1 = torch.nn.Linear(hidden_channels, 128)\n",
    "        self.linear2 = torch.nn.Linear(128, input_channels * hidden_channels)\n",
    "\n",
    "    ######################\n",
    "    # The t argument is not used here; it can be used when you want your CDE to behave differently at different times\n",
    "    ######################\n",
    "    def forward(self, t, z):\n",
    "        # z has shape (batch, hidden_channels)\n",
    "        z = self.linear1(z)\n",
    "        z = z.relu()\n",
    "        z = self.linear2(z)\n",
    "        z = z.tanh()\n",
    "        ######################\n",
    "        # Ignoring the batch dimension, the shape of the output tensor must be a matrix,\n",
    "        # because we need it to represent a linear map from R^input_channels to R^hidden_channels.\n",
    "        ######################\n",
    "        z = z.view(z.size(0), self.hidden_channels, self.input_channels)\n",
    "        return z"
   ]
  },
  {
   "cell_type": "markdown",
   "metadata": {},
   "source": [
    "Next, we need to package $f_\\theta$ up into a model that computes the integral."
   ]
  },
  {
   "cell_type": "code",
   "execution_count": 73,
   "metadata": {},
   "outputs": [],
   "source": [
    "class NeuralCDE(torch.nn.Module):\n",
    "    def __init__(self, input_channels, hidden_channels, output_channels, log_sig=False, interpolation_type='cubic_splines'):\n",
    "        \n",
    "        super(NeuralCDE, self).__init__()\n",
    "\n",
    "        self.func = f_theta(input_channels, hidden_channels)\n",
    "        self.initial = torch.nn.Linear(input_channels, hidden_channels)\n",
    "        self.readout = torch.nn.Linear(hidden_channels, output_channels)\n",
    "        \n",
    "        self.log_sig = log_sig\n",
    "        self.interpolation_type = interpolation_type\n",
    "        \n",
    "    def forward_linear_interpolation(self, X_input):\n",
    "        coeffs = linear_interpolation_coeffs(X_input)\n",
    "#         coeffs = linear_interpolation_coeffs(X_input, rectilinear=0)\n",
    "        X = LinearInterpolation(coeffs)\n",
    "    \n",
    "        X0 = X.evaluate(X.interval[0])\n",
    "        z0 = self.initial(X0)\n",
    "        \n",
    "        z_T = torchcde.cdeint(X=X,\n",
    "                              z0=z0,\n",
    "                              func=self.func,\n",
    "                              t=X.interval,\n",
    "                              method='dopri5',\n",
    "                              options=dict(grid_points=X.grid_points, eps=1e-5))\n",
    "        \n",
    "        return z_T\n",
    "    \n",
    "        \n",
    "    def forward_cubic_splines(self, X_input):\n",
    "        coeffs = torchcde.natural_cubic_coeffs(X_input)\n",
    "        X = torchcde.NaturalCubicSpline(coeffs)\n",
    "        \n",
    "        X0 = X.evaluate(X.interval[0])\n",
    "        z0 = self.initial(X0)\n",
    "        \n",
    "        z_T = torchcde.cdeint(X=X,\n",
    "                              z0=z0,\n",
    "                              func=self.func,\n",
    "                              t=X.interval)\n",
    "        \n",
    "        return z_T\n",
    "        \n",
    "        \n",
    "    def forward_logsig(self, X_input, depth=2, window=5):\n",
    "        x, t = torchcde.logsignature_windows(X_input, depth, window)\n",
    "        return x\n",
    "    \n",
    "        \n",
    "    def forward(self, X_input):\n",
    "        \n",
    "        if log_sig:\n",
    "            X_input = self.forward_logsig(X_input)\n",
    "            z_T = self.forward_linear_interpolation(X_input)\n",
    "        \n",
    "        else:\n",
    "            if self.interpolation_type=='cubic_splines':\n",
    "                z_T = self.forward_cubic_splines(X_input)\n",
    "\n",
    "            else:\n",
    "                z_T = self.forward_linear_interpolation(X_input)\n",
    "            \n",
    "        z_T = z_T[:, 1]\n",
    "        pred_y = self.readout(z_T)\n",
    "        return pred_y"
   ]
  },
  {
   "cell_type": "code",
   "execution_count": 35,
   "metadata": {},
   "outputs": [],
   "source": [
    "def get_data():\n",
    "    ######################\n",
    "    # Simple example which generates some spirals, some going clockwise, some going anticlockwise.\n",
    "    ######################\n",
    "    t = torch.linspace(0., 4 * math.pi, 100)\n",
    "\n",
    "    start = torch.rand(128) * 2 * math.pi\n",
    "    x_pos = torch.cos(start.unsqueeze(1) + t.unsqueeze(0)) / (1 + 0.5 * t)\n",
    "    x_pos[:64] *= -1\n",
    "    y_pos = torch.sin(start.unsqueeze(1) + t.unsqueeze(0)) / (1 + 0.5 * t)\n",
    "    x_pos += 0.01 * torch.randn_like(x_pos)\n",
    "    y_pos += 0.01 * torch.randn_like(y_pos)\n",
    "    ######################\n",
    "    # Easy to forget gotcha: time should be included as a channel; Neural CDEs need to be explicitly told the\n",
    "    # rate at which time passes. Here, we have a regularly sampled dataset, so appending time is pretty simple.\n",
    "    ######################\n",
    "    X = torch.stack([t.unsqueeze(0).repeat(128, 1), x_pos, y_pos], dim=2)\n",
    "    y = torch.zeros(128)\n",
    "    y[:64] = 1\n",
    "\n",
    "    perm = torch.randperm(128)\n",
    "    X = X[perm]\n",
    "    y = y[perm]\n",
    "\n",
    "    ######################\n",
    "    # X is a tensor of observations, of shape (batch=128, sequence=100, channels=3)\n",
    "    # y is a tensor of labels, of shape (batch=128,), either 0 or 1 corresponding to anticlockwise or clockwise respectively.\n",
    "    ######################\n",
    "    return X, y"
   ]
  },
  {
   "cell_type": "code",
   "execution_count": 36,
   "metadata": {},
   "outputs": [],
   "source": [
    "train_X, train_y = get_data()"
   ]
  },
  {
   "cell_type": "code",
   "execution_count": 37,
   "metadata": {},
   "outputs": [],
   "source": [
    "import matplotlib.pyplot as plt"
   ]
  },
  {
   "cell_type": "code",
   "execution_count": 38,
   "metadata": {},
   "outputs": [
    {
     "data": {
      "image/png": "[encoded data removed]",
      "text/plain": [
       "<Figure size 432x288 with 1 Axes>"
      ]
     },
     "metadata": {
      "needs_background": "light"
     },
     "output_type": "display_data"
    }
   ],
   "source": [
    "x = train_X.numpy()[2]\n",
    "plt.plot(x[:,1], x[:,2])\n",
    "plt.show()"
   ]
  },
  {
   "cell_type": "code",
   "execution_count": 39,
   "metadata": {},
   "outputs": [],
   "source": [
    "# input_channels=3 because we have both the horizontal and vertical position of a point in the spiral, and time.\n",
    "# hidden_channels=8 is the number of hidden channels for the evolving z_t, which we get to choose.\n",
    "# output_channels=1 because we're doing binary classification.\n",
    "\n",
    "model = NeuralCDE(input_channels=3, hidden_channels=8, output_channels=1)\n",
    "optimizer = torch.optim.Adam(model.parameters())"
   ]
  },
  {
   "cell_type": "code",
   "execution_count": 40,
   "metadata": {},
   "outputs": [],
   "source": [
    "train_dataset = torch.utils.data.TensorDataset(train_X, train_y)\n",
    "train_dataloader = torch.utils.data.DataLoader(train_dataset, batch_size=32)"
   ]
  },
  {
   "cell_type": "code",
   "execution_count": 41,
   "metadata": {},
   "outputs": [
    {
     "name": "stdout",
     "output_type": "stream",
     "text": [
      "Epoch: 0   Training loss: 0.6884132623672485\n",
      "Epoch: 1   Training loss: 0.5923997163772583\n",
      "Epoch: 2   Training loss: 0.5667720437049866\n",
      "Epoch: 3   Training loss: 0.5516722202301025\n",
      "Epoch: 4   Training loss: 0.5251402854919434\n",
      "Epoch: 5   Training loss: 0.4281567633152008\n",
      "Epoch: 6   Training loss: 0.33712008595466614\n",
      "Epoch: 7   Training loss: 0.24268469214439392\n",
      "Epoch: 8   Training loss: 0.12373997271060944\n",
      "Epoch: 9   Training loss: 0.03256629407405853\n",
      "Epoch: 10   Training loss: 0.006167020183056593\n",
      "Epoch: 11   Training loss: 0.0010502887889742851\n",
      "Epoch: 12   Training loss: 0.00034435439738444984\n",
      "Epoch: 13   Training loss: 0.0001677817926974967\n",
      "Epoch: 14   Training loss: 0.000108391119283624\n",
      "Epoch: 15   Training loss: 8.030966273508966e-05\n",
      "Epoch: 16   Training loss: 6.62156890030019e-05\n",
      "Epoch: 17   Training loss: 5.862833859282546e-05\n",
      "Epoch: 18   Training loss: 5.332798173185438e-05\n",
      "Epoch: 19   Training loss: 5.024005804443732e-05\n",
      "Epoch: 20   Training loss: 4.823607741855085e-05\n",
      "Epoch: 21   Training loss: 4.661203274736181e-05\n",
      "Epoch: 22   Training loss: 4.538283246802166e-05\n",
      "Epoch: 23   Training loss: 4.4481403165264055e-05\n",
      "Epoch: 24   Training loss: 4.390777394291945e-05\n",
      "Epoch: 25   Training loss: 4.322983659221791e-05\n",
      "Epoch: 26   Training loss: 4.2712079448392615e-05\n",
      "Epoch: 27   Training loss: 4.203788557788357e-05\n",
      "Epoch: 28   Training loss: 4.1587169107515365e-05\n",
      "Epoch: 29   Training loss: 4.142698526266031e-05\n"
     ]
    }
   ],
   "source": [
    "num_epochs = 30\n",
    "\n",
    "for epoch in range(num_epochs):\n",
    "    for batch in train_dataloader:\n",
    "        batch_coeffs, batch_y = batch\n",
    "        pred_y = model(batch_coeffs).squeeze(-1)\n",
    "        loss = torch.nn.functional.binary_cross_entropy_with_logits(pred_y, batch_y)\n",
    "        loss.backward()\n",
    "        optimizer.step()\n",
    "        optimizer.zero_grad()\n",
    "    print('Epoch: {}   Training loss: {}'.format(epoch, loss.item()))"
   ]
  },
  {
   "cell_type": "code",
   "execution_count": 43,
   "metadata": {},
   "outputs": [
    {
     "name": "stdout",
     "output_type": "stream",
     "text": [
      "Test Accuracy: 1.0\n"
     ]
    }
   ],
   "source": [
    "test_X, test_y = get_data()\n",
    "pred_y = model(test_X).squeeze(-1)\n",
    "binary_prediction = (torch.sigmoid(pred_y) > 0.5).to(test_y.dtype)\n",
    "prediction_matches = (binary_prediction == test_y).to(test_y.dtype)\n",
    "proportion_correct = prediction_matches.sum() / test_y.size(0)\n",
    "print('Test Accuracy: {}'.format(proportion_correct))"
   ]
  },
  {
   "cell_type": "code",
   "execution_count": 69,
   "metadata": {},
   "outputs": [],
   "source": [
    "batch, length, channels = 1, 100, 2\n",
    "x = torch.rand(batch, length, channels)\n",
    "depth, window = 3, 1"
   ]
  },
  {
   "cell_type": "code",
   "execution_count": 70,
   "metadata": {},
   "outputs": [
    {
     "data": {
      "text/plain": [
       "torch.Size([1, 100, 2])"
      ]
     },
     "execution_count": 70,
     "metadata": {},
     "output_type": "execute_result"
    }
   ],
   "source": [
    "x.shape"
   ]
  },
  {
   "cell_type": "code",
   "execution_count": 71,
   "metadata": {},
   "outputs": [],
   "source": [
    "x, t = torchcde.logsignature_windows(x, depth, window)"
   ]
  },
  {
   "cell_type": "code",
   "execution_count": 72,
   "metadata": {},
   "outputs": [
    {
     "data": {
      "text/plain": [
       "torch.Size([1, 100, 5])"
      ]
     },
     "execution_count": 72,
     "metadata": {},
     "output_type": "execute_result"
    }
   ],
   "source": [
    "x.shape"
   ]
  },
  {
   "cell_type": "code",
   "execution_count": null,
   "metadata": {},
   "outputs": [],
   "source": []
  },
  {
   "cell_type": "code",
   "execution_count": null,
   "metadata": {},
   "outputs": [],
   "source": []
  }
 ],
 "metadata": {
  "kernelspec": {
   "display_name": "Python 3.6 - AzureML",
   "language": "python",
   "name": "python3-azureml"
  },
  "language_info": {
   "codemirror_mode": {
    "name": "ipython",
    "version": 3
   },
   "file_extension": ".py",
   "mimetype": "text/x-python",
   "name": "python",
   "nbconvert_exporter": "python",
   "pygments_lexer": "ipython3",
   "version": "3.6.9"
  }
 },
 "nbformat": 4,
 "nbformat_minor": 4
}
