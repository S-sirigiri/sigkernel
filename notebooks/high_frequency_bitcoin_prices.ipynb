{
 "cells": [
  {
   "cell_type": "code",
   "execution_count": 51,
   "metadata": {},
   "outputs": [],
   "source": [
    "import pandas as pd\n",
    "import numpy as np\n",
    "import torch\n",
    "import matplotlib.pyplot as plt\n",
    "from tqdm import notebook as tqdm\n",
    "\n",
    "from sklearn.model_selection import train_test_split, GridSearchCV, TimeSeriesSplit\n",
    "from tslearn.preprocessing import TimeSeriesScalerMinMax, TimeSeriesScalerMeanVariance\n",
    "from sklearn.metrics import mean_absolute_error\n",
    "from sklearn.base import BaseEstimator, TransformerMixin\n",
    "from sklearn.utils import as_float_array"
   ]
  },
  {
   "cell_type": "code",
   "execution_count": 52,
   "metadata": {},
   "outputs": [],
   "source": [
    "class AddTime(BaseEstimator, TransformerMixin):\n",
    "    def __init__(self, init_time=0., total_time=1.):\n",
    "        self.init_time = init_time\n",
    "        self.total_time = total_time\n",
    "\n",
    "    def fit(self, X, y=None):\n",
    "        return self\n",
    "\n",
    "    def transform_instance(self, X):\n",
    "        t = np.linspace(self.init_time, self.init_time + 1, len(X))\n",
    "        return np.c_[t, X]\n",
    "\n",
    "    def transform(self, X, y=None):\n",
    "        return [self.transform_instance(x) for x in X]"
   ]
  },
  {
   "cell_type": "code",
   "execution_count": null,
   "metadata": {},
   "outputs": [],
   "source": [
    "class LeadLag(BaseEstimator, TransformerMixin):\n",
    "    def __init__(self):\n",
    "        pass\n",
    "\n",
    "    def fit(self, X, y=None):\n",
    "        return self\n",
    "\n",
    "    def transform_instance(self, X):\n",
    "        lag = []\n",
    "        lead = []\n",
    "\n",
    "        for val_lag, val_lead in zip(X[:-1], X[1:]):\n",
    "            lag.append(val_lag)\n",
    "            lead.append(val_lag)\n",
    "\n",
    "            lag.append(val_lag)\n",
    "            lead.append(val_lead)\n",
    "\n",
    "        lag.append(X[-1])\n",
    "        lead.append(X[-1])\n",
    "\n",
    "        return np.c_[lag, lead]\n",
    "\n",
    "    def transform(self, X, y=None):\n",
    "        return [self.transform_instance(x) for x in X]"
   ]
  },
  {
   "cell_type": "code",
   "execution_count": 3,
   "metadata": {},
   "outputs": [],
   "source": [
    "def mean_absolute_percentage_error(y_true, y_pred): \n",
    "    return np.mean(np.abs((y_true - y_pred) / y_true)) "
   ]
  },
  {
   "cell_type": "code",
   "execution_count": 4,
   "metadata": {},
   "outputs": [],
   "source": [
    "#Helper function that extract rolling windows of historical prices of size h and means of the next future f prices.\n",
    "def GetWindow(x, h_window=30, f_window=10):\n",
    "\n",
    "    # First window\n",
    "    X = np.array(x.iloc[:h_window,]).reshape(1,-1)\n",
    "   \n",
    "    # Append next window\n",
    "    for i in range(1,len(x)-h_window+1):\n",
    "        x_i = np.array(x.iloc[i:i+h_window,]).reshape(1,-1)\n",
    "        X = np.append(X, x_i, axis=0)\n",
    "        \n",
    "    # Cut the end that we can't use to predict future price\n",
    "    rolling_window = (pd.DataFrame(X)).iloc[:-f_window,]\n",
    "    return rolling_window\n",
    "\n",
    "def GetNextMean(x, h_window=30, f_window=10):\n",
    "    return pd.DataFrame((x.rolling(f_window).mean().iloc[h_window+f_window-1:,]))"
   ]
  },
  {
   "cell_type": "code",
   "execution_count": 49,
   "metadata": {},
   "outputs": [],
   "source": [
    "def PlotResult(y_train, y_test, y_train_predict, y_test_predict, \n",
    "               error_train, error_test, p_error_train, p_error_test, name='VOSF'):\n",
    "    \n",
    "    train_len = len(y_train)\n",
    "    test_len = len(y_test)\n",
    "            \n",
    "    #Visualise\n",
    "    fig, ax = plt.subplots(1, figsize=(12, 5))\n",
    "    ax.plot(y_train_predict,color='red')\n",
    "\n",
    "    ax.plot(range(train_len, train_len+test_len),\n",
    "            y_test_predict,\n",
    "            label='Predicted average price',\n",
    "            color='red',linestyle = '--')\n",
    "\n",
    "    ax.plot(np.array((y_train).append(y_test)),\n",
    "             label='Actual average price',\n",
    "             color='green')\n",
    "\n",
    "    ax.axvspan(len(y_train), len(y_train)+len(y_test),\n",
    "                alpha=0.3, color='lightgrey')\n",
    "    \n",
    "    ax.plot([], [], ' ', label='\\ntrain:  MAE={0:.3f}  MAPE={1:.3f}%'.format(error_train, p_error_train))\n",
    "    ax.plot([], [], ' ', label='test:   MAE={0:.3f}  MAPE={1:.3f}%'.format(error_test, p_error_test))\n",
    "\n",
    "    plt.grid(True)\n",
    "    plt.axis('tight')\n",
    "    plt.legend(loc=\"best\")\n",
    "#     plt.savefig('../pictures/bitcoin_prices_prediction_{}'.format(name))\n",
    "    plt.show()"
   ]
  },
  {
   "cell_type": "code",
   "execution_count": 26,
   "metadata": {},
   "outputs": [],
   "source": [
    "#data is from https://www.cryptodatadownload.com/data/gemini/\n",
    "# BTC_price_15 = pd.read_csv('../data/gemini_BTCUSD_2015_1min.csv',header=1)\n",
    "# BTC_price_16 = pd.read_csv('../data/gemini_BTCUSD_2016_1min.csv',header=1)\n",
    "BTC_price_17 = pd.read_csv('../data/gemini_BTCUSD_2017_1min.csv',header=1)\n",
    "BTC_price_18 = pd.read_csv('../data/gemini_BTCUSD_2018_1min.csv',header=1)\n",
    "BTC_price_19 = pd.read_csv('../data/gemini_BTCUSD_2019_1min.csv',header=1)\n",
    "BTC_price_20 = pd.read_csv('../data/gemini_BTCUSD_2020_1min.csv',header=1)"
   ]
  },
  {
   "cell_type": "code",
   "execution_count": 43,
   "metadata": {},
   "outputs": [],
   "source": [
    "BTC_price = pd.concat([BTC_price_20, BTC_price_19, BTC_price_18, BTC_price_17])"
   ]
  },
  {
   "cell_type": "code",
   "execution_count": 44,
   "metadata": {},
   "outputs": [],
   "source": [
    "#drop the first column and reverse order\n",
    "BTC_price = BTC_price.iloc[1:,:]\n",
    "BTC_price = BTC_price.iloc[::-1]\n",
    "BTC_price['Date'] = pd.to_datetime(BTC_price['Date'])\n",
    "BTC_price.set_index('Date', inplace=True)"
   ]
  },
  {
   "cell_type": "code",
   "execution_count": 45,
   "metadata": {},
   "outputs": [],
   "source": [
    "#select duration\n",
    "# initial_date = '2017-06-01'\n",
    "# finish_date = '2018-06-01'\n",
    "# BTC_price = BTC_price[initial_date:finish_date]"
   ]
  },
  {
   "cell_type": "code",
   "execution_count": 46,
   "metadata": {},
   "outputs": [
    {
     "data": {
      "image/png": "[encoded data removed]",
      "text/plain": [
       "<Figure size 864x432 with 1 Axes>"
      ]
     },
     "metadata": {
      "needs_background": "light"
     },
     "output_type": "display_data"
    }
   ],
   "source": [
    "ax = BTC_price.plot(y= 'Close', figsize=(12,6), legend=True, grid=True, use_index=True)\n",
    "plt.show()"
   ]
  },
  {
   "cell_type": "code",
   "execution_count": 47,
   "metadata": {},
   "outputs": [
    {
     "data": {
      "text/plain": [
       "2007867"
      ]
     },
     "execution_count": 47,
     "metadata": {},
     "output_type": "execute_result"
    }
   ],
   "source": [
    "len(BTC_price.index)"
   ]
  },
  {
   "cell_type": "code",
   "execution_count": 22,
   "metadata": {},
   "outputs": [],
   "source": [
    "# We use only close price\n",
    "close_price = BTC_price.loc[:,'Close']\n",
    "close_price = TimeSeriesScalerMeanVariance().fit_transform(close_price.values[None,:])\n",
    "close_price = pd.DataFrame(np.squeeze(close_price))"
   ]
  },
  {
   "cell_type": "code",
   "execution_count": 23,
   "metadata": {},
   "outputs": [],
   "source": [
    "h_window = 30\n",
    "f_window = 10"
   ]
  },
  {
   "cell_type": "code",
   "execution_count": 24,
   "metadata": {},
   "outputs": [],
   "source": [
    "# mean next price\n",
    "y = GetNextMean(close_price, h_window = h_window , f_window = f_window)"
   ]
  },
  {
   "cell_type": "code",
   "execution_count": 25,
   "metadata": {},
   "outputs": [
    {
     "ename": "KeyboardInterrupt",
     "evalue": "",
     "output_type": "error",
     "traceback": [
      "\u001b[1;31m---------------------------------------------------------------------------\u001b[0m",
      "\u001b[1;31mKeyboardInterrupt\u001b[0m                         Traceback (most recent call last)",
      "\u001b[1;32m<ipython-input-25-133b30d46dc3>\u001b[0m in \u001b[0;36m<module>\u001b[1;34m\u001b[0m\n\u001b[0;32m      1\u001b[0m \u001b[1;31m# normal window features\u001b[0m\u001b[1;33m\u001b[0m\u001b[1;33m\u001b[0m\u001b[1;33m\u001b[0m\u001b[0m\n\u001b[1;32m----> 2\u001b[1;33m \u001b[0mX_window\u001b[0m \u001b[1;33m=\u001b[0m \u001b[0mGetWindow\u001b[0m\u001b[1;33m(\u001b[0m\u001b[0mclose_price\u001b[0m\u001b[1;33m,\u001b[0m \u001b[0mh_window\u001b[0m\u001b[1;33m,\u001b[0m \u001b[0mf_window\u001b[0m\u001b[1;33m)\u001b[0m\u001b[1;33m.\u001b[0m\u001b[0mvalues\u001b[0m\u001b[1;33m\u001b[0m\u001b[1;33m\u001b[0m\u001b[0m\n\u001b[0m\u001b[0;32m      3\u001b[0m \u001b[0mX_window\u001b[0m \u001b[1;33m=\u001b[0m \u001b[0mnp\u001b[0m\u001b[1;33m.\u001b[0m\u001b[0marray\u001b[0m\u001b[1;33m(\u001b[0m\u001b[0mLeadLag\u001b[0m\u001b[1;33m(\u001b[0m\u001b[1;33m)\u001b[0m\u001b[1;33m.\u001b[0m\u001b[0mfit_transform\u001b[0m\u001b[1;33m(\u001b[0m\u001b[0mX_window\u001b[0m\u001b[1;33m)\u001b[0m\u001b[1;33m)\u001b[0m\u001b[1;33m\u001b[0m\u001b[1;33m\u001b[0m\u001b[0m\n\u001b[0;32m      4\u001b[0m \u001b[0mX_window\u001b[0m \u001b[1;33m=\u001b[0m \u001b[0mnp\u001b[0m\u001b[1;33m.\u001b[0m\u001b[0marray\u001b[0m\u001b[1;33m(\u001b[0m\u001b[0mAddTime\u001b[0m\u001b[1;33m(\u001b[0m\u001b[1;33m)\u001b[0m\u001b[1;33m.\u001b[0m\u001b[0mfit_transform\u001b[0m\u001b[1;33m(\u001b[0m\u001b[0mX_window\u001b[0m\u001b[1;33m)\u001b[0m\u001b[1;33m)\u001b[0m\u001b[1;33m\u001b[0m\u001b[1;33m\u001b[0m\u001b[0m\n",
      "\u001b[1;32m<ipython-input-4-e361f73b1c87>\u001b[0m in \u001b[0;36mGetWindow\u001b[1;34m(x, h_window, f_window)\u001b[0m\n\u001b[0;32m      8\u001b[0m     \u001b[1;32mfor\u001b[0m \u001b[0mi\u001b[0m \u001b[1;32min\u001b[0m \u001b[0mrange\u001b[0m\u001b[1;33m(\u001b[0m\u001b[1;36m1\u001b[0m\u001b[1;33m,\u001b[0m\u001b[0mlen\u001b[0m\u001b[1;33m(\u001b[0m\u001b[0mx\u001b[0m\u001b[1;33m)\u001b[0m\u001b[1;33m-\u001b[0m\u001b[0mh_window\u001b[0m\u001b[1;33m+\u001b[0m\u001b[1;36m1\u001b[0m\u001b[1;33m)\u001b[0m\u001b[1;33m:\u001b[0m\u001b[1;33m\u001b[0m\u001b[1;33m\u001b[0m\u001b[0m\n\u001b[0;32m      9\u001b[0m         \u001b[0mx_i\u001b[0m \u001b[1;33m=\u001b[0m \u001b[0mnp\u001b[0m\u001b[1;33m.\u001b[0m\u001b[0marray\u001b[0m\u001b[1;33m(\u001b[0m\u001b[0mx\u001b[0m\u001b[1;33m.\u001b[0m\u001b[0miloc\u001b[0m\u001b[1;33m[\u001b[0m\u001b[0mi\u001b[0m\u001b[1;33m:\u001b[0m\u001b[0mi\u001b[0m\u001b[1;33m+\u001b[0m\u001b[0mh_window\u001b[0m\u001b[1;33m,\u001b[0m\u001b[1;33m]\u001b[0m\u001b[1;33m)\u001b[0m\u001b[1;33m.\u001b[0m\u001b[0mreshape\u001b[0m\u001b[1;33m(\u001b[0m\u001b[1;36m1\u001b[0m\u001b[1;33m,\u001b[0m\u001b[1;33m-\u001b[0m\u001b[1;36m1\u001b[0m\u001b[1;33m)\u001b[0m\u001b[1;33m\u001b[0m\u001b[1;33m\u001b[0m\u001b[0m\n\u001b[1;32m---> 10\u001b[1;33m         \u001b[0mX\u001b[0m \u001b[1;33m=\u001b[0m \u001b[0mnp\u001b[0m\u001b[1;33m.\u001b[0m\u001b[0mappend\u001b[0m\u001b[1;33m(\u001b[0m\u001b[0mX\u001b[0m\u001b[1;33m,\u001b[0m \u001b[0mx_i\u001b[0m\u001b[1;33m,\u001b[0m \u001b[0maxis\u001b[0m\u001b[1;33m=\u001b[0m\u001b[1;36m0\u001b[0m\u001b[1;33m)\u001b[0m\u001b[1;33m\u001b[0m\u001b[1;33m\u001b[0m\u001b[0m\n\u001b[0m\u001b[0;32m     11\u001b[0m \u001b[1;33m\u001b[0m\u001b[0m\n\u001b[0;32m     12\u001b[0m     \u001b[1;31m# Cut the end that we can't use to predict future price\u001b[0m\u001b[1;33m\u001b[0m\u001b[1;33m\u001b[0m\u001b[1;33m\u001b[0m\u001b[0m\n",
      "\u001b[1;32m<__array_function__ internals>\u001b[0m in \u001b[0;36mappend\u001b[1;34m(*args, **kwargs)\u001b[0m\n",
      "\u001b[1;32m~\\anaconda3\\lib\\site-packages\\numpy\\lib\\function_base.py\u001b[0m in \u001b[0;36mappend\u001b[1;34m(arr, values, axis)\u001b[0m\n\u001b[0;32m   4669\u001b[0m         \u001b[0mvalues\u001b[0m \u001b[1;33m=\u001b[0m \u001b[0mravel\u001b[0m\u001b[1;33m(\u001b[0m\u001b[0mvalues\u001b[0m\u001b[1;33m)\u001b[0m\u001b[1;33m\u001b[0m\u001b[1;33m\u001b[0m\u001b[0m\n\u001b[0;32m   4670\u001b[0m         \u001b[0maxis\u001b[0m \u001b[1;33m=\u001b[0m \u001b[0marr\u001b[0m\u001b[1;33m.\u001b[0m\u001b[0mndim\u001b[0m\u001b[1;33m-\u001b[0m\u001b[1;36m1\u001b[0m\u001b[1;33m\u001b[0m\u001b[1;33m\u001b[0m\u001b[0m\n\u001b[1;32m-> 4671\u001b[1;33m     \u001b[1;32mreturn\u001b[0m \u001b[0mconcatenate\u001b[0m\u001b[1;33m(\u001b[0m\u001b[1;33m(\u001b[0m\u001b[0marr\u001b[0m\u001b[1;33m,\u001b[0m \u001b[0mvalues\u001b[0m\u001b[1;33m)\u001b[0m\u001b[1;33m,\u001b[0m \u001b[0maxis\u001b[0m\u001b[1;33m=\u001b[0m\u001b[0maxis\u001b[0m\u001b[1;33m)\u001b[0m\u001b[1;33m\u001b[0m\u001b[1;33m\u001b[0m\u001b[0m\n\u001b[0m\u001b[0;32m   4672\u001b[0m \u001b[1;33m\u001b[0m\u001b[0m\n\u001b[0;32m   4673\u001b[0m \u001b[1;33m\u001b[0m\u001b[0m\n",
      "\u001b[1;32m<__array_function__ internals>\u001b[0m in \u001b[0;36mconcatenate\u001b[1;34m(*args, **kwargs)\u001b[0m\n",
      "\u001b[1;31mKeyboardInterrupt\u001b[0m: "
     ]
    }
   ],
   "source": [
    "# normal window features\n",
    "X_window = GetWindow(close_price, h_window, f_window).values\n",
    "X_window = np.array(LeadLag().fit_transform(X_window))\n",
    "X_window = np.array(AddTime().fit_transform(X_window))"
   ]
  },
  {
   "cell_type": "code",
   "execution_count": 13,
   "metadata": {},
   "outputs": [],
   "source": [
    "x_train, x_test, y_train, y_test = train_test_split(X_window, y, test_size=0.2, shuffle=False)"
   ]
  },
  {
   "cell_type": "code",
   "execution_count": 48,
   "metadata": {},
   "outputs": [],
   "source": [
    "# # calculate errors\n",
    "# error_train = mean_absolute_error(y_train, y_train_predict)        \n",
    "# error_test = mean_absolute_error(y_test, y_test_predict)\n",
    "# p_error_train = mean_absolute_percentage_error(np.array(y_train).reshape(-1,1), np.array(y_train_predict).reshape(-1,1))\n",
    "# p_error_test = mean_absolute_percentage_error(np.array(y_test).reshape(-1,1), np.array(y_test_predict).reshape(-1,1))\n",
    "\n",
    "# # plot results\n",
    "# PlotResult(y_train, y_test, y_train_predict, y_test_predict, \n",
    "#            error_train, error_test, p_error_train, p_error_test, 'VOSF')"
   ]
  },
  {
   "cell_type": "code",
   "execution_count": null,
   "metadata": {},
   "outputs": [],
   "source": []
  }
 ],
 "metadata": {
  "kernel_info": {
   "name": "python3"
  },
  "kernelspec": {
   "display_name": "Python 3",
   "language": "python",
   "name": "python3"
  },
  "language_info": {
   "codemirror_mode": {
    "name": "ipython",
    "version": 3
   },
   "file_extension": ".py",
   "mimetype": "text/x-python",
   "name": "python",
   "nbconvert_exporter": "python",
   "pygments_lexer": "ipython3",
   "version": "3.8.3"
  },
  "nteract": {
   "version": "nteract-front-end@1.0.0"
  }
 },
 "nbformat": 4,
 "nbformat_minor": 4
}
