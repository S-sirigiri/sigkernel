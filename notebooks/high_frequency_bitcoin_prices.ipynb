{
 "cells": [
  {
   "cell_type": "code",
   "execution_count": 92,
   "metadata": {},
   "outputs": [],
   "source": [
    "import pandas as pd\n",
    "import numpy as np\n",
    "import torch\n",
    "import matplotlib.pyplot as plt\n",
    "from tqdm.notebook import trange\n",
    "import pickle\n",
    "\n",
    "from sklearn.model_selection import train_test_split, GridSearchCV, TimeSeriesSplit\n",
    "from tslearn.preprocessing import TimeSeriesScalerMinMax, TimeSeriesScalerMeanVariance\n",
    "from sklearn.metrics import mean_absolute_error\n",
    "from sklearn.base import BaseEstimator, TransformerMixin\n",
    "from sklearn.utils import as_float_array"
   ]
  },
  {
   "cell_type": "code",
   "execution_count": 54,
   "metadata": {},
   "outputs": [],
   "source": [
    "class AddTime(BaseEstimator, TransformerMixin):\n",
    "    def __init__(self, init_time=0., total_time=1.):\n",
    "        self.init_time = init_time\n",
    "        self.total_time = total_time\n",
    "\n",
    "    def fit(self, X, y=None):\n",
    "        return self\n",
    "\n",
    "    def transform_instance(self, X):\n",
    "        t = np.linspace(self.init_time, self.init_time + 1, len(X))\n",
    "        return np.c_[t, X]\n",
    "\n",
    "    def transform(self, X, y=None):\n",
    "        return [self.transform_instance(x) for x in X]"
   ]
  },
  {
   "cell_type": "code",
   "execution_count": 55,
   "metadata": {},
   "outputs": [],
   "source": [
    "class LeadLag(BaseEstimator, TransformerMixin):\n",
    "    def __init__(self):\n",
    "        pass\n",
    "\n",
    "    def fit(self, X, y=None):\n",
    "        return self\n",
    "\n",
    "    def transform_instance(self, X):\n",
    "        lag = []\n",
    "        lead = []\n",
    "\n",
    "        for val_lag, val_lead in zip(X[:-1], X[1:]):\n",
    "            lag.append(val_lag)\n",
    "            lead.append(val_lag)\n",
    "\n",
    "            lag.append(val_lag)\n",
    "            lead.append(val_lead)\n",
    "\n",
    "        lag.append(X[-1])\n",
    "        lead.append(X[-1])\n",
    "\n",
    "        return np.c_[lag, lead]\n",
    "\n",
    "    def transform(self, X, y=None):\n",
    "        return [self.transform_instance(x) for x in X]"
   ]
  },
  {
   "cell_type": "code",
   "execution_count": 96,
   "metadata": {},
   "outputs": [],
   "source": [
    "def mean_absolute_percentage_error(y_true, y_pred): \n",
    "    return np.mean(np.abs((y_true - y_pred) / y_true)) "
   ]
  },
  {
   "cell_type": "code",
   "execution_count": 221,
   "metadata": {},
   "outputs": [],
   "source": [
    "# Helper function that extract rolling windows of historical prices of size h and means of the next future f prices.\n",
    "def GetWindow(x, h_window=30, f_window=10):\n",
    "    \n",
    "    # LeadLag, AddTime\n",
    "    ll = LeadLag()\n",
    "    tt = AddTime()\n",
    "\n",
    "    # First window\n",
    "    x_ = [tt.transform_instance(ll.transform_instance(x[:h_window]))]\n",
    "    \n",
    "    # Append next window\n",
    "    for i in trange(1,len(x)-h_window+1):\n",
    "        x_i = x[i:i+h_window]\n",
    "        x_.append(tt.transform_instance(ll.transform_instance(x_i)))\n",
    "    \n",
    "    # Cut the end that we can't use to predict future price\n",
    "    return np.stack(x_)[:-f_window,:,:]\n",
    "\n",
    "def GetNextMean(x, h_window=30, f_window=10):\n",
    "    return x.rolling(f_window).mean().iloc[h_window+f_window-1:,].values"
   ]
  },
  {
   "cell_type": "code",
   "execution_count": 181,
   "metadata": {},
   "outputs": [],
   "source": [
    "def PlotResult(y_train, y_test, y_train_predict, y_test_predict, \n",
    "               error_train, error_test, p_error_train, p_error_test, name='VOSF'):\n",
    "    \n",
    "    train_len = len(y_train)\n",
    "    test_len = len(y_test)\n",
    "            \n",
    "    #Visualise\n",
    "    fig, ax = plt.subplots(1, figsize=(12, 5))\n",
    "    ax.plot(y_train_predict,color='red')\n",
    "\n",
    "    ax.plot(range(train_len, train_len+test_len),\n",
    "            y_test_predict,\n",
    "            label='Predicted average price',\n",
    "            color='red',linestyle = '--')\n",
    "\n",
    "    ax.plot(np.array((y_train).append(y_test)),\n",
    "             label='Actual average price',\n",
    "             color='green')\n",
    "\n",
    "    ax.axvspan(len(y_train), len(y_train)+len(y_test),\n",
    "                alpha=0.3, color='lightgrey')\n",
    "    \n",
    "    ax.plot([], [], ' ', label='\\ntrain:  MAE={0:.3f}  MAPE={1:.3f}%'.format(error_train, p_error_train))\n",
    "    ax.plot([], [], ' ', label='test:   MAE={0:.3f}  MAPE={1:.3f}%'.format(error_test, p_error_test))\n",
    "\n",
    "    plt.grid(True)\n",
    "    plt.axis('tight')\n",
    "    plt.legend(loc=\"best\")\n",
    "#     plt.savefig('../pictures/bitcoin_prices_prediction_{}'.format(name))\n",
    "    plt.show()"
   ]
  },
  {
   "cell_type": "code",
   "execution_count": 182,
   "metadata": {},
   "outputs": [],
   "source": [
    "#data is from https://www.cryptodatadownload.com/data/gemini/\n",
    "# BTC_price_15 = pd.read_csv('../data/gemini_BTCUSD_2015_1min.csv',header=1)\n",
    "# BTC_price_16 = pd.read_csv('../data/gemini_BTCUSD_2016_1min.csv',header=1)\n",
    "BTC_price_17 = pd.read_csv('../data/gemini_BTCUSD_2017_1min.csv',header=1)\n",
    "BTC_price_18 = pd.read_csv('../data/gemini_BTCUSD_2018_1min.csv',header=1)\n",
    "# BTC_price_19 = pd.read_csv('../data/gemini_BTCUSD_2019_1min.csv',header=1)\n",
    "# BTC_price_20 = pd.read_csv('../data/gemini_BTCUSD_2020_1min.csv',header=1)"
   ]
  },
  {
   "cell_type": "code",
   "execution_count": 228,
   "metadata": {},
   "outputs": [],
   "source": [
    "BTC_price = pd.concat([BTC_price_18, BTC_price_17])"
   ]
  },
  {
   "cell_type": "code",
   "execution_count": 229,
   "metadata": {},
   "outputs": [],
   "source": [
    "#drop the first column and reverse order\n",
    "BTC_price = BTC_price.iloc[1:,:]\n",
    "BTC_price = BTC_price.iloc[::-1]\n",
    "BTC_price['Date'] = pd.to_datetime(BTC_price['Date'])\n",
    "BTC_price.set_index('Date', inplace=True)"
   ]
  },
  {
   "cell_type": "code",
   "execution_count": 230,
   "metadata": {},
   "outputs": [],
   "source": [
    "# select duration\n",
    "initial_date = '2017-10-01 00:00:00'\n",
    "finish_date = '2018-04-01 00:00:00'\n",
    "BTC_price = BTC_price[initial_date:finish_date]"
   ]
  },
  {
   "cell_type": "code",
   "execution_count": 231,
   "metadata": {},
   "outputs": [
    {
     "data": {
      "image/png": "[encoded data removed]",
      "text/plain": [
       "<Figure size 864x432 with 1 Axes>"
      ]
     },
     "metadata": {
      "needs_background": "light"
     },
     "output_type": "display_data"
    }
   ],
   "source": [
    "ax = BTC_price.plot(y='Close', figsize=(12,6), legend=True, grid=True, use_index=True)\n",
    "plt.show()"
   ]
  },
  {
   "cell_type": "code",
   "execution_count": 232,
   "metadata": {},
   "outputs": [
    {
     "data": {
      "text/plain": [
       "262081"
      ]
     },
     "execution_count": 232,
     "metadata": {},
     "output_type": "execute_result"
    }
   ],
   "source": [
    "len(BTC_price.index)"
   ]
  },
  {
   "cell_type": "code",
   "execution_count": 233,
   "metadata": {},
   "outputs": [],
   "source": [
    "# We use only close price\n",
    "close_price = BTC_price.loc[:,'Close']\n",
    "close_price = TimeSeriesScalerMeanVariance().fit_transform(close_price.values[None,:])\n",
    "close_price = pd.DataFrame(np.squeeze(close_price))"
   ]
  },
  {
   "cell_type": "code",
   "execution_count": 234,
   "metadata": {},
   "outputs": [],
   "source": [
    "h_window = 6*30\n",
    "f_window = 30"
   ]
  },
  {
   "cell_type": "code",
   "execution_count": 239,
   "metadata": {},
   "outputs": [],
   "source": [
    "# mean next price\n",
    "y = GetNextMean(close_price, h_window = h_window , f_window = f_window)"
   ]
  },
  {
   "cell_type": "code",
   "execution_count": 240,
   "metadata": {},
   "outputs": [
    {
     "data": {
      "application/vnd.jupyter.widget-view+json": {
       "model_id": "89f395ccc9c24176bbe02f94401de5a2",
       "version_major": 2,
       "version_minor": 0
      },
      "text/plain": [
       "HBox(children=(FloatProgress(value=0.0, max=261901.0), HTML(value='')))"
      ]
     },
     "metadata": {},
     "output_type": "display_data"
    },
    {
     "name": "stdout",
     "output_type": "stream",
     "text": [
      "\n"
     ]
    }
   ],
   "source": [
    "# normal window features\n",
    "X_window = GetWindow(close_price.values, h_window, f_window)"
   ]
  },
  {
   "cell_type": "code",
   "execution_count": 241,
   "metadata": {},
   "outputs": [],
   "source": [
    "pickle.dump(X_window, open('X_window.obj', 'wb'))\n",
    "pickle.dump(y, open('y.obj', 'wb'))"
   ]
  },
  {
   "cell_type": "code",
   "execution_count": 94,
   "metadata": {},
   "outputs": [],
   "source": [
    "# X_window = pickle.load(open('X_window.obj', 'rb'))\n",
    "# y = pickle.load(open('y.obj', 'rb'))"
   ]
  },
  {
   "cell_type": "code",
   "execution_count": 13,
   "metadata": {},
   "outputs": [],
   "source": [
    "x_train, x_test, y_train, y_test = train_test_split(X_window, y, test_size=0.2, shuffle=False)"
   ]
  },
  {
   "cell_type": "code",
   "execution_count": 48,
   "metadata": {},
   "outputs": [],
   "source": [
    "# # calculate errors\n",
    "# error_train = mean_absolute_error(y_train, y_train_predict)        \n",
    "# error_test = mean_absolute_error(y_test, y_test_predict)\n",
    "# p_error_train = mean_absolute_percentage_error(np.array(y_train).reshape(-1,1), np.array(y_train_predict).reshape(-1,1))\n",
    "# p_error_test = mean_absolute_percentage_error(np.array(y_test).reshape(-1,1), np.array(y_test_predict).reshape(-1,1))\n",
    "\n",
    "# # plot results\n",
    "# PlotResult(y_train, y_test, y_train_predict, y_test_predict, \n",
    "#            error_train, error_test, p_error_train, p_error_test, 'VOSF')"
   ]
  },
  {
   "cell_type": "code",
   "execution_count": null,
   "metadata": {},
   "outputs": [],
   "source": []
  }
 ],
 "metadata": {
  "kernel_info": {
   "name": "python3"
  },
  "kernelspec": {
   "display_name": "Python 3",
   "language": "python",
   "name": "python3"
  },
  "language_info": {
   "codemirror_mode": {
    "name": "ipython",
    "version": 3
   },
   "file_extension": ".py",
   "mimetype": "text/x-python",
   "name": "python",
   "nbconvert_exporter": "python",
   "pygments_lexer": "ipython3",
   "version": "3.8.3"
  },
  "nteract": {
   "version": "nteract-front-end@1.0.0"
  }
 },
 "nbformat": 4,
 "nbformat_minor": 4
}
