{
 "cells": [
  {
   "cell_type": "code",
   "execution_count": 3,
   "metadata": {},
   "outputs": [],
   "source": [
    "import numpy as np\n",
    "import pandas as pd"
   ]
  },
  {
   "cell_type": "code",
   "execution_count": 4,
   "metadata": {},
   "outputs": [],
   "source": [
    "df = pd.read_json('CRUK0001.cumulative.withGeneLabels.json')"
   ]
  },
  {
   "cell_type": "code",
   "execution_count": 6,
   "metadata": {},
   "outputs": [
    {
     "data": {
      "text/html": [
       "<div>\n",
       "<style scoped>\n",
       "    .dataframe tbody tr th:only-of-type {\n",
       "        vertical-align: middle;\n",
       "    }\n",
       "\n",
       "    .dataframe tbody tr th {\n",
       "        vertical-align: top;\n",
       "    }\n",
       "\n",
       "    .dataframe thead th {\n",
       "        text-align: right;\n",
       "    }\n",
       "</style>\n",
       "<table border=\"1\" class=\"dataframe\">\n",
       "  <thead>\n",
       "    <tr style=\"text-align: right;\">\n",
       "      <th></th>\n",
       "      <th>0</th>\n",
       "      <th>1</th>\n",
       "      <th>2</th>\n",
       "    </tr>\n",
       "  </thead>\n",
       "  <tbody>\n",
       "    <tr>\n",
       "      <th>X35489</th>\n",
       "      <td>{'0': 0, '3': 0, '7': 0}</td>\n",
       "      <td>{'0': 0, '3': 0, '5': 0, '4': 0, '1': 1}</td>\n",
       "      <td>{'0': 0, '3': 0, '5': 0, '2': 0, '6': 0}</td>\n",
       "    </tr>\n",
       "    <tr>\n",
       "      <th>X35673</th>\n",
       "      <td>{'0': 0, '3': 0, '7': 0}</td>\n",
       "      <td>{'0': 0, '3': 0, '5': 0, '4': 0, '1': 0}</td>\n",
       "      <td>{'0': 0, '3': 0, '5': 0, '2': 0, '6': 0}</td>\n",
       "    </tr>\n",
       "    <tr>\n",
       "      <th>X35764</th>\n",
       "      <td>{'0': 0, '3': 0, '7': 0}</td>\n",
       "      <td>{'0': 0, '3': 0, '5': 0, '4': 0, '1': 0}</td>\n",
       "      <td>{'0': 0, '3': 0, '5': 0, '2': 0, '6': 0}</td>\n",
       "    </tr>\n",
       "    <tr>\n",
       "      <th>X35854</th>\n",
       "      <td>{'0': 0, '3': 0, '7': 0}</td>\n",
       "      <td>{'0': 0, '3': 0, '5': 0, '4': 0, '1': 0}</td>\n",
       "      <td>{'0': 0, '3': 0, '5': 0, '2': 0, '6': 0}</td>\n",
       "    </tr>\n",
       "    <tr>\n",
       "      <th>X36403</th>\n",
       "      <td>{'0': 0, '3': 0, '7': 0}</td>\n",
       "      <td>{'0': 0, '3': 0, '5': 0, '4': 0, '1': 0}</td>\n",
       "      <td>{'0': 0, '3': 0, '5': 0, '2': 0, '6': 0}</td>\n",
       "    </tr>\n",
       "  </tbody>\n",
       "</table>\n",
       "</div>"
      ],
      "text/plain": [
       "                               0                                         1  \\\n",
       "X35489  {'0': 0, '3': 0, '7': 0}  {'0': 0, '3': 0, '5': 0, '4': 0, '1': 1}   \n",
       "X35673  {'0': 0, '3': 0, '7': 0}  {'0': 0, '3': 0, '5': 0, '4': 0, '1': 0}   \n",
       "X35764  {'0': 0, '3': 0, '7': 0}  {'0': 0, '3': 0, '5': 0, '4': 0, '1': 0}   \n",
       "X35854  {'0': 0, '3': 0, '7': 0}  {'0': 0, '3': 0, '5': 0, '4': 0, '1': 0}   \n",
       "X36403  {'0': 0, '3': 0, '7': 0}  {'0': 0, '3': 0, '5': 0, '4': 0, '1': 0}   \n",
       "\n",
       "                                               2  \n",
       "X35489  {'0': 0, '3': 0, '5': 0, '2': 0, '6': 0}  \n",
       "X35673  {'0': 0, '3': 0, '5': 0, '2': 0, '6': 0}  \n",
       "X35764  {'0': 0, '3': 0, '5': 0, '2': 0, '6': 0}  \n",
       "X35854  {'0': 0, '3': 0, '5': 0, '2': 0, '6': 0}  \n",
       "X36403  {'0': 0, '3': 0, '5': 0, '2': 0, '6': 0}  "
      ]
     },
     "execution_count": 6,
     "metadata": {},
     "output_type": "execute_result"
    }
   ],
   "source": [
    "df.T.head()"
   ]
  },
  {
   "cell_type": "code",
   "execution_count": null,
   "metadata": {},
   "outputs": [],
   "source": []
  }
 ],
 "metadata": {
  "kernelspec": {
   "display_name": "Python 3",
   "language": "python",
   "name": "python3"
  },
  "language_info": {
   "codemirror_mode": {
    "name": "ipython",
    "version": 3
   },
   "file_extension": ".py",
   "mimetype": "text/x-python",
   "name": "python",
   "nbconvert_exporter": "python",
   "pygments_lexer": "ipython3",
   "version": "3.8.3"
  }
 },
 "nbformat": 4,
 "nbformat_minor": 4
}
