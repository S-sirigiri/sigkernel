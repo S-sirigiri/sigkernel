{
 "cells": [
  {
   "cell_type": "code",
   "execution_count": 105,
   "metadata": {},
   "outputs": [],
   "source": [
    "import base\n",
    "\n",
    "import warnings\n",
    "warnings.filterwarnings('ignore')\n",
    "\n",
    "import numpy as np\n",
    "import pandas as pd\n",
    "import copy\n",
    "import matplotlib.pyplot as plt\n",
    "from tqdm.notebook import tqdm, trange\n",
    "from joblib import Parallel, delayed\n",
    "\n",
    "from tslearn.preprocessing import TimeSeriesScalerMinMax, TimeSeriesScalerMeanVariance\n",
    "from sklearn.model_selection import train_test_split, GridSearchCV, TimeSeriesSplit\n",
    "from sklearn.pipeline import Pipeline\n",
    "from sklearn.base import BaseEstimator, TransformerMixin\n",
    "from sklearn.metrics import accuracy_score, classification_report\n",
    "\n",
    "from sklearn.svm import SVC\n",
    "\n",
    "from transformers_sig import AddTime, LeadLag\n",
    "from sigKer_fast import mmd_distance"
   ]
  },
  {
   "cell_type": "code",
   "execution_count": 55,
   "metadata": {},
   "outputs": [],
   "source": [
    "import os\n",
    "path = '../data/TracerX/'\n",
    "files = []\n",
    "outcome_df = pd.read_json('../data/TracerX/outcome.fullCohort.json')\n",
    "y = []\n",
    "for i in os.listdir(path):\n",
    "    if os.path.isfile(os.path.join(path,i)) and 'CRUK' in i:\n",
    "        patient_id = i[:8]\n",
    "        files.append(path + i)\n",
    "        y.append(outcome_df[outcome_df.ID == patient_id].outcome.values[0])"
   ]
  },
  {
   "cell_type": "code",
   "execution_count": 17,
   "metadata": {},
   "outputs": [
    {
     "data": {
      "application/vnd.jupyter.widget-view+json": {
       "model_id": "a962e1829ec144caaa2faf10654ddf50",
       "version_major": 2,
       "version_minor": 0
      },
      "text/plain": [
       "HBox(children=(FloatProgress(value=0.0, max=91.0), HTML(value='')))"
      ]
     },
     "metadata": {},
     "output_type": "display_data"
    },
    {
     "name": "stdout",
     "output_type": "stream",
     "text": [
      "\n"
     ]
    }
   ],
   "source": [
    "dataframes = []\n",
    "for file in tqdm(files):\n",
    "    dataframes.append(pd.read_json(file).T)"
   ]
  },
  {
   "cell_type": "code",
   "execution_count": 18,
   "metadata": {},
   "outputs": [
    {
     "data": {
      "application/vnd.jupyter.widget-view+json": {
       "model_id": "73c0e13087d14775806c1be1c1f87604",
       "version_major": 2,
       "version_minor": 0
      },
      "text/plain": [
       "HBox(children=(FloatProgress(value=0.0, max=91.0), HTML(value='')))"
      ]
     },
     "metadata": {},
     "output_type": "display_data"
    },
    {
     "name": "stdout",
     "output_type": "stream",
     "text": [
      "\n"
     ]
    }
   ],
   "source": [
    "trees = []\n",
    "for df in tqdm(dataframes):\n",
    "    trees.append([np.array([list(d.values()) for d in df.iloc[:,k].values]).T for k in range(len(df.columns))])"
   ]
  },
  {
   "cell_type": "code",
   "execution_count": 637,
   "metadata": {},
   "outputs": [
    {
     "data": {
      "application/vnd.jupyter.widget-view+json": {
       "model_id": "8b4a33ab5ede433abd0172d4c53176a2",
       "version_major": 2,
       "version_minor": 0
      },
      "text/plain": [
       "HBox(children=(FloatProgress(value=0.0, max=91.0), HTML(value='')))"
      ]
     },
     "metadata": {},
     "output_type": "display_data"
    },
    {
     "name": "stdout",
     "output_type": "stream",
     "text": [
      "\n"
     ]
    }
   ],
   "source": [
    "X = []\n",
    "masks = []\n",
    "\n",
    "for t in tqdm(trees):\n",
    "    \n",
    "    # find max length of the given tree\n",
    "    max_len_tree = 0\n",
    "    for d in t:\n",
    "        if d.shape[0]>max_len_tree:\n",
    "            max_len_tree = d.shape[0]\n",
    "            \n",
    "    # eliminate channels that end with 0 in all branches\n",
    "    mask = t[0][-1,:] != 0\n",
    "    for d in t[1:]:\n",
    "        mask_ = d[-1,:] !=0\n",
    "        mask = [i and j for i,j in zip(mask,mask_)]\n",
    "    masks.append(mask)\n",
    "        \n",
    "    # pad all branches to max length\n",
    "    tree = []\n",
    "    for d in t:\n",
    "        len_to_pad = max_len_tree - d.shape[0]\n",
    "        branch = np.concatenate([d,np.repeat(d[-1,np.newaxis,:], len_to_pad, axis=0)],axis=0)\n",
    "        tree.append(branch)\n",
    "    \n",
    "    tree = np.array(tree, dtype=np.float64)\n",
    "#     tree = TimeSeriesScalerMinMax().fit_transform(tree)\n",
    "#     tree = TimeSeriesScalerMeanVariance().fit_transform(tree)\n",
    "    X.append(tree)"
   ]
  },
  {
   "cell_type": "code",
   "execution_count": 639,
   "metadata": {},
   "outputs": [],
   "source": [
    "final_mask = masks[0]\n",
    "for m in masks[1:]:\n",
    "    final_mask = [i and j for i,j in zip(final_mask, m)]"
   ]
  },
  {
   "cell_type": "code",
   "execution_count": 641,
   "metadata": {},
   "outputs": [],
   "source": [
    "for m in final_mask:\n",
    "    if m:\n",
    "        print('hi')"
   ]
  },
  {
   "cell_type": "code",
   "execution_count": 630,
   "metadata": {},
   "outputs": [],
   "source": [
    "mask = X[0][2][-1,:]!=0\n",
    "mask_ = X[0][1][-1,:]!=0"
   ]
  },
  {
   "cell_type": "code",
   "execution_count": 642,
   "metadata": {},
   "outputs": [],
   "source": [
    "# [i and j for i,j in zip(mask,mask_)]"
   ]
  },
  {
   "cell_type": "code",
   "execution_count": 680,
   "metadata": {},
   "outputs": [
    {
     "name": "stdout",
     "output_type": "stream",
     "text": [
      "tree shape: (2, 3, 16450)\n",
      "class: 0\n"
     ]
    },
    {
     "data": {
      "image/png": "[encoded data removed]",
      "text/plain": [
       "<Figure size 1152x360 with 2 Axes>"
      ]
     },
     "metadata": {
      "needs_background": "light"
     },
     "output_type": "display_data"
    }
   ],
   "source": [
    "i = 13\n",
    "l_i = X[i].shape[0]\n",
    "print(f'tree shape: {X[i].shape}')\n",
    "print(f'class: {y[i]}')\n",
    "fig, ax = plt.subplots(1,l_i,figsize=(16,5))\n",
    "for j in range(l_i):\n",
    "    ax[j].plot(X[i][j][:,:])\n",
    "    ax[j].set_title(f'Branch {j+1}')\n",
    "plt.show()"
   ]
  },
  {
   "cell_type": "code",
   "execution_count": 536,
   "metadata": {},
   "outputs": [],
   "source": [
    "# train test split\n",
    "ind_train, ind_test, y_train, y_test = train_test_split(np.arange(len(y)), y, test_size=.3, stratify=y)"
   ]
  },
  {
   "cell_type": "code",
   "execution_count": 537,
   "metadata": {},
   "outputs": [],
   "source": [
    "# def mmd_distance_(t_i, t_j, sigma):\n",
    "#     return mmd_distance(t_i, t_j, n=1, solver=1, rbf=False, sigma=sigma)"
   ]
  },
  {
   "cell_type": "code",
   "execution_count": 538,
   "metadata": {},
   "outputs": [],
   "source": [
    "def create_mmd_distance_matrix(trees, scale=4e-2, n=0, solver=0, rbf=False, sigma=1e-3):\n",
    "    N = len(trees)\n",
    "    K_full = np.zeros((N,N))\n",
    "#     indices = np.triu_indices(N, k=0, m=N)\n",
    "#     K_full[indices] = Parallel(n_jobs=1,verbose=5)(\n",
    "#         delayed(mmd_distance_)(trees[i], trees[j], sigma)\n",
    "#         for i in range(N)\n",
    "#         for j in range(i,N)\n",
    "#     )\n",
    "    for i in trange(N, desc='1st loop'):\n",
    "        for j in trange(i,N, desc='2nd loop', leave=False):\n",
    "            K_full[i,j] = mmd_distance(scale*trees[i], scale*trees[j], n=n, solver=solver, rbf=rbf, sigma=sigma) \n",
    "\n",
    "    indices = np.tril_indices(N, k=-1, m=N)\n",
    "    K_full[indices] = K_full.T[indices]\n",
    "    return K_full"
   ]
  },
  {
   "cell_type": "code",
   "execution_count": 539,
   "metadata": {},
   "outputs": [
    {
     "data": {
      "application/vnd.jupyter.widget-view+json": {
       "model_id": "96714cddb32e4eccb3d6883a7d5d5fec",
       "version_major": 2,
       "version_minor": 0
      },
      "text/plain": [
       "HBox(children=(FloatProgress(value=0.0, description='1st loop', max=91.0, style=ProgressStyle(description_widt…"
      ]
     },
     "metadata": {},
     "output_type": "display_data"
    },
    {
     "data": {
      "application/vnd.jupyter.widget-view+json": {
       "model_id": "",
       "version_major": 2,
       "version_minor": 0
      },
      "text/plain": [
       "HBox(children=(FloatProgress(value=0.0, description='2nd loop', max=91.0, style=ProgressStyle(description_widt…"
      ]
     },
     "metadata": {},
     "output_type": "display_data"
    },
    {
     "data": {
      "application/vnd.jupyter.widget-view+json": {
       "model_id": "",
       "version_major": 2,
       "version_minor": 0
      },
      "text/plain": [
       "HBox(children=(FloatProgress(value=0.0, description='2nd loop', max=90.0, style=ProgressStyle(description_widt…"
      ]
     },
     "metadata": {},
     "output_type": "display_data"
    },
    {
     "data": {
      "application/vnd.jupyter.widget-view+json": {
       "model_id": "",
       "version_major": 2,
       "version_minor": 0
      },
      "text/plain": [
       "HBox(children=(FloatProgress(value=0.0, description='2nd loop', max=89.0, style=ProgressStyle(description_widt…"
      ]
     },
     "metadata": {},
     "output_type": "display_data"
    },
    {
     "data": {
      "application/vnd.jupyter.widget-view+json": {
       "model_id": "",
       "version_major": 2,
       "version_minor": 0
      },
      "text/plain": [
       "HBox(children=(FloatProgress(value=0.0, description='2nd loop', max=88.0, style=ProgressStyle(description_widt…"
      ]
     },
     "metadata": {},
     "output_type": "display_data"
    },
    {
     "data": {
      "application/vnd.jupyter.widget-view+json": {
       "model_id": "",
       "version_major": 2,
       "version_minor": 0
      },
      "text/plain": [
       "HBox(children=(FloatProgress(value=0.0, description='2nd loop', max=87.0, style=ProgressStyle(description_widt…"
      ]
     },
     "metadata": {},
     "output_type": "display_data"
    },
    {
     "data": {
      "application/vnd.jupyter.widget-view+json": {
       "model_id": "",
       "version_major": 2,
       "version_minor": 0
      },
      "text/plain": [
       "HBox(children=(FloatProgress(value=0.0, description='2nd loop', max=86.0, style=ProgressStyle(description_widt…"
      ]
     },
     "metadata": {},
     "output_type": "display_data"
    },
    {
     "data": {
      "application/vnd.jupyter.widget-view+json": {
       "model_id": "",
       "version_major": 2,
       "version_minor": 0
      },
      "text/plain": [
       "HBox(children=(FloatProgress(value=0.0, description='2nd loop', max=85.0, style=ProgressStyle(description_widt…"
      ]
     },
     "metadata": {},
     "output_type": "display_data"
    },
    {
     "data": {
      "application/vnd.jupyter.widget-view+json": {
       "model_id": "",
       "version_major": 2,
       "version_minor": 0
      },
      "text/plain": [
       "HBox(children=(FloatProgress(value=0.0, description='2nd loop', max=84.0, style=ProgressStyle(description_widt…"
      ]
     },
     "metadata": {},
     "output_type": "display_data"
    },
    {
     "data": {
      "application/vnd.jupyter.widget-view+json": {
       "model_id": "",
       "version_major": 2,
       "version_minor": 0
      },
      "text/plain": [
       "HBox(children=(FloatProgress(value=0.0, description='2nd loop', max=83.0, style=ProgressStyle(description_widt…"
      ]
     },
     "metadata": {},
     "output_type": "display_data"
    },
    {
     "data": {
      "application/vnd.jupyter.widget-view+json": {
       "model_id": "",
       "version_major": 2,
       "version_minor": 0
      },
      "text/plain": [
       "HBox(children=(FloatProgress(value=0.0, description='2nd loop', max=82.0, style=ProgressStyle(description_widt…"
      ]
     },
     "metadata": {},
     "output_type": "display_data"
    },
    {
     "data": {
      "application/vnd.jupyter.widget-view+json": {
       "model_id": "",
       "version_major": 2,
       "version_minor": 0
      },
      "text/plain": [
       "HBox(children=(FloatProgress(value=0.0, description='2nd loop', max=81.0, style=ProgressStyle(description_widt…"
      ]
     },
     "metadata": {},
     "output_type": "display_data"
    },
    {
     "data": {
      "application/vnd.jupyter.widget-view+json": {
       "model_id": "",
       "version_major": 2,
       "version_minor": 0
      },
      "text/plain": [
       "HBox(children=(FloatProgress(value=0.0, description='2nd loop', max=80.0, style=ProgressStyle(description_widt…"
      ]
     },
     "metadata": {},
     "output_type": "display_data"
    },
    {
     "data": {
      "application/vnd.jupyter.widget-view+json": {
       "model_id": "",
       "version_major": 2,
       "version_minor": 0
      },
      "text/plain": [
       "HBox(children=(FloatProgress(value=0.0, description='2nd loop', max=79.0, style=ProgressStyle(description_widt…"
      ]
     },
     "metadata": {},
     "output_type": "display_data"
    },
    {
     "data": {
      "application/vnd.jupyter.widget-view+json": {
       "model_id": "",
       "version_major": 2,
       "version_minor": 0
      },
      "text/plain": [
       "HBox(children=(FloatProgress(value=0.0, description='2nd loop', max=78.0, style=ProgressStyle(description_widt…"
      ]
     },
     "metadata": {},
     "output_type": "display_data"
    },
    {
     "data": {
      "application/vnd.jupyter.widget-view+json": {
       "model_id": "",
       "version_major": 2,
       "version_minor": 0
      },
      "text/plain": [
       "HBox(children=(FloatProgress(value=0.0, description='2nd loop', max=77.0, style=ProgressStyle(description_widt…"
      ]
     },
     "metadata": {},
     "output_type": "display_data"
    },
    {
     "data": {
      "application/vnd.jupyter.widget-view+json": {
       "model_id": "",
       "version_major": 2,
       "version_minor": 0
      },
      "text/plain": [
       "HBox(children=(FloatProgress(value=0.0, description='2nd loop', max=76.0, style=ProgressStyle(description_widt…"
      ]
     },
     "metadata": {},
     "output_type": "display_data"
    },
    {
     "data": {
      "application/vnd.jupyter.widget-view+json": {
       "model_id": "",
       "version_major": 2,
       "version_minor": 0
      },
      "text/plain": [
       "HBox(children=(FloatProgress(value=0.0, description='2nd loop', max=75.0, style=ProgressStyle(description_widt…"
      ]
     },
     "metadata": {},
     "output_type": "display_data"
    },
    {
     "data": {
      "application/vnd.jupyter.widget-view+json": {
       "model_id": "",
       "version_major": 2,
       "version_minor": 0
      },
      "text/plain": [
       "HBox(children=(FloatProgress(value=0.0, description='2nd loop', max=74.0, style=ProgressStyle(description_widt…"
      ]
     },
     "metadata": {},
     "output_type": "display_data"
    },
    {
     "data": {
      "application/vnd.jupyter.widget-view+json": {
       "model_id": "",
       "version_major": 2,
       "version_minor": 0
      },
      "text/plain": [
       "HBox(children=(FloatProgress(value=0.0, description='2nd loop', max=73.0, style=ProgressStyle(description_widt…"
      ]
     },
     "metadata": {},
     "output_type": "display_data"
    },
    {
     "data": {
      "application/vnd.jupyter.widget-view+json": {
       "model_id": "",
       "version_major": 2,
       "version_minor": 0
      },
      "text/plain": [
       "HBox(children=(FloatProgress(value=0.0, description='2nd loop', max=72.0, style=ProgressStyle(description_widt…"
      ]
     },
     "metadata": {},
     "output_type": "display_data"
    },
    {
     "data": {
      "application/vnd.jupyter.widget-view+json": {
       "model_id": "",
       "version_major": 2,
       "version_minor": 0
      },
      "text/plain": [
       "HBox(children=(FloatProgress(value=0.0, description='2nd loop', max=71.0, style=ProgressStyle(description_widt…"
      ]
     },
     "metadata": {},
     "output_type": "display_data"
    },
    {
     "data": {
      "application/vnd.jupyter.widget-view+json": {
       "model_id": "",
       "version_major": 2,
       "version_minor": 0
      },
      "text/plain": [
       "HBox(children=(FloatProgress(value=0.0, description='2nd loop', max=70.0, style=ProgressStyle(description_widt…"
      ]
     },
     "metadata": {},
     "output_type": "display_data"
    },
    {
     "data": {
      "application/vnd.jupyter.widget-view+json": {
       "model_id": "",
       "version_major": 2,
       "version_minor": 0
      },
      "text/plain": [
       "HBox(children=(FloatProgress(value=0.0, description='2nd loop', max=69.0, style=ProgressStyle(description_widt…"
      ]
     },
     "metadata": {},
     "output_type": "display_data"
    },
    {
     "data": {
      "application/vnd.jupyter.widget-view+json": {
       "model_id": "",
       "version_major": 2,
       "version_minor": 0
      },
      "text/plain": [
       "HBox(children=(FloatProgress(value=0.0, description='2nd loop', max=68.0, style=ProgressStyle(description_widt…"
      ]
     },
     "metadata": {},
     "output_type": "display_data"
    },
    {
     "data": {
      "application/vnd.jupyter.widget-view+json": {
       "model_id": "",
       "version_major": 2,
       "version_minor": 0
      },
      "text/plain": [
       "HBox(children=(FloatProgress(value=0.0, description='2nd loop', max=67.0, style=ProgressStyle(description_widt…"
      ]
     },
     "metadata": {},
     "output_type": "display_data"
    },
    {
     "data": {
      "application/vnd.jupyter.widget-view+json": {
       "model_id": "",
       "version_major": 2,
       "version_minor": 0
      },
      "text/plain": [
       "HBox(children=(FloatProgress(value=0.0, description='2nd loop', max=66.0, style=ProgressStyle(description_widt…"
      ]
     },
     "metadata": {},
     "output_type": "display_data"
    },
    {
     "data": {
      "application/vnd.jupyter.widget-view+json": {
       "model_id": "",
       "version_major": 2,
       "version_minor": 0
      },
      "text/plain": [
       "HBox(children=(FloatProgress(value=0.0, description='2nd loop', max=65.0, style=ProgressStyle(description_widt…"
      ]
     },
     "metadata": {},
     "output_type": "display_data"
    },
    {
     "data": {
      "application/vnd.jupyter.widget-view+json": {
       "model_id": "",
       "version_major": 2,
       "version_minor": 0
      },
      "text/plain": [
       "HBox(children=(FloatProgress(value=0.0, description='2nd loop', max=64.0, style=ProgressStyle(description_widt…"
      ]
     },
     "metadata": {},
     "output_type": "display_data"
    },
    {
     "data": {
      "application/vnd.jupyter.widget-view+json": {
       "model_id": "",
       "version_major": 2,
       "version_minor": 0
      },
      "text/plain": [
       "HBox(children=(FloatProgress(value=0.0, description='2nd loop', max=63.0, style=ProgressStyle(description_widt…"
      ]
     },
     "metadata": {},
     "output_type": "display_data"
    },
    {
     "data": {
      "application/vnd.jupyter.widget-view+json": {
       "model_id": "",
       "version_major": 2,
       "version_minor": 0
      },
      "text/plain": [
       "HBox(children=(FloatProgress(value=0.0, description='2nd loop', max=62.0, style=ProgressStyle(description_widt…"
      ]
     },
     "metadata": {},
     "output_type": "display_data"
    },
    {
     "data": {
      "application/vnd.jupyter.widget-view+json": {
       "model_id": "",
       "version_major": 2,
       "version_minor": 0
      },
      "text/plain": [
       "HBox(children=(FloatProgress(value=0.0, description='2nd loop', max=61.0, style=ProgressStyle(description_widt…"
      ]
     },
     "metadata": {},
     "output_type": "display_data"
    },
    {
     "data": {
      "application/vnd.jupyter.widget-view+json": {
       "model_id": "",
       "version_major": 2,
       "version_minor": 0
      },
      "text/plain": [
       "HBox(children=(FloatProgress(value=0.0, description='2nd loop', max=60.0, style=ProgressStyle(description_widt…"
      ]
     },
     "metadata": {},
     "output_type": "display_data"
    },
    {
     "data": {
      "application/vnd.jupyter.widget-view+json": {
       "model_id": "",
       "version_major": 2,
       "version_minor": 0
      },
      "text/plain": [
       "HBox(children=(FloatProgress(value=0.0, description='2nd loop', max=59.0, style=ProgressStyle(description_widt…"
      ]
     },
     "metadata": {},
     "output_type": "display_data"
    },
    {
     "data": {
      "application/vnd.jupyter.widget-view+json": {
       "model_id": "",
       "version_major": 2,
       "version_minor": 0
      },
      "text/plain": [
       "HBox(children=(FloatProgress(value=0.0, description='2nd loop', max=58.0, style=ProgressStyle(description_widt…"
      ]
     },
     "metadata": {},
     "output_type": "display_data"
    },
    {
     "data": {
      "application/vnd.jupyter.widget-view+json": {
       "model_id": "",
       "version_major": 2,
       "version_minor": 0
      },
      "text/plain": [
       "HBox(children=(FloatProgress(value=0.0, description='2nd loop', max=57.0, style=ProgressStyle(description_widt…"
      ]
     },
     "metadata": {},
     "output_type": "display_data"
    },
    {
     "data": {
      "application/vnd.jupyter.widget-view+json": {
       "model_id": "",
       "version_major": 2,
       "version_minor": 0
      },
      "text/plain": [
       "HBox(children=(FloatProgress(value=0.0, description='2nd loop', max=56.0, style=ProgressStyle(description_widt…"
      ]
     },
     "metadata": {},
     "output_type": "display_data"
    },
    {
     "data": {
      "application/vnd.jupyter.widget-view+json": {
       "model_id": "",
       "version_major": 2,
       "version_minor": 0
      },
      "text/plain": [
       "HBox(children=(FloatProgress(value=0.0, description='2nd loop', max=55.0, style=ProgressStyle(description_widt…"
      ]
     },
     "metadata": {},
     "output_type": "display_data"
    },
    {
     "data": {
      "application/vnd.jupyter.widget-view+json": {
       "model_id": "",
       "version_major": 2,
       "version_minor": 0
      },
      "text/plain": [
       "HBox(children=(FloatProgress(value=0.0, description='2nd loop', max=54.0, style=ProgressStyle(description_widt…"
      ]
     },
     "metadata": {},
     "output_type": "display_data"
    },
    {
     "data": {
      "application/vnd.jupyter.widget-view+json": {
       "model_id": "",
       "version_major": 2,
       "version_minor": 0
      },
      "text/plain": [
       "HBox(children=(FloatProgress(value=0.0, description='2nd loop', max=53.0, style=ProgressStyle(description_widt…"
      ]
     },
     "metadata": {},
     "output_type": "display_data"
    },
    {
     "data": {
      "application/vnd.jupyter.widget-view+json": {
       "model_id": "",
       "version_major": 2,
       "version_minor": 0
      },
      "text/plain": [
       "HBox(children=(FloatProgress(value=0.0, description='2nd loop', max=52.0, style=ProgressStyle(description_widt…"
      ]
     },
     "metadata": {},
     "output_type": "display_data"
    },
    {
     "data": {
      "application/vnd.jupyter.widget-view+json": {
       "model_id": "",
       "version_major": 2,
       "version_minor": 0
      },
      "text/plain": [
       "HBox(children=(FloatProgress(value=0.0, description='2nd loop', max=51.0, style=ProgressStyle(description_widt…"
      ]
     },
     "metadata": {},
     "output_type": "display_data"
    },
    {
     "data": {
      "application/vnd.jupyter.widget-view+json": {
       "model_id": "",
       "version_major": 2,
       "version_minor": 0
      },
      "text/plain": [
       "HBox(children=(FloatProgress(value=0.0, description='2nd loop', max=50.0, style=ProgressStyle(description_widt…"
      ]
     },
     "metadata": {},
     "output_type": "display_data"
    },
    {
     "data": {
      "application/vnd.jupyter.widget-view+json": {
       "model_id": "",
       "version_major": 2,
       "version_minor": 0
      },
      "text/plain": [
       "HBox(children=(FloatProgress(value=0.0, description='2nd loop', max=49.0, style=ProgressStyle(description_widt…"
      ]
     },
     "metadata": {},
     "output_type": "display_data"
    },
    {
     "data": {
      "application/vnd.jupyter.widget-view+json": {
       "model_id": "",
       "version_major": 2,
       "version_minor": 0
      },
      "text/plain": [
       "HBox(children=(FloatProgress(value=0.0, description='2nd loop', max=48.0, style=ProgressStyle(description_widt…"
      ]
     },
     "metadata": {},
     "output_type": "display_data"
    },
    {
     "data": {
      "application/vnd.jupyter.widget-view+json": {
       "model_id": "",
       "version_major": 2,
       "version_minor": 0
      },
      "text/plain": [
       "HBox(children=(FloatProgress(value=0.0, description='2nd loop', max=47.0, style=ProgressStyle(description_widt…"
      ]
     },
     "metadata": {},
     "output_type": "display_data"
    },
    {
     "data": {
      "application/vnd.jupyter.widget-view+json": {
       "model_id": "",
       "version_major": 2,
       "version_minor": 0
      },
      "text/plain": [
       "HBox(children=(FloatProgress(value=0.0, description='2nd loop', max=46.0, style=ProgressStyle(description_widt…"
      ]
     },
     "metadata": {},
     "output_type": "display_data"
    },
    {
     "data": {
      "application/vnd.jupyter.widget-view+json": {
       "model_id": "",
       "version_major": 2,
       "version_minor": 0
      },
      "text/plain": [
       "HBox(children=(FloatProgress(value=0.0, description='2nd loop', max=45.0, style=ProgressStyle(description_widt…"
      ]
     },
     "metadata": {},
     "output_type": "display_data"
    },
    {
     "data": {
      "application/vnd.jupyter.widget-view+json": {
       "model_id": "",
       "version_major": 2,
       "version_minor": 0
      },
      "text/plain": [
       "HBox(children=(FloatProgress(value=0.0, description='2nd loop', max=44.0, style=ProgressStyle(description_widt…"
      ]
     },
     "metadata": {},
     "output_type": "display_data"
    },
    {
     "data": {
      "application/vnd.jupyter.widget-view+json": {
       "model_id": "",
       "version_major": 2,
       "version_minor": 0
      },
      "text/plain": [
       "HBox(children=(FloatProgress(value=0.0, description='2nd loop', max=43.0, style=ProgressStyle(description_widt…"
      ]
     },
     "metadata": {},
     "output_type": "display_data"
    },
    {
     "data": {
      "application/vnd.jupyter.widget-view+json": {
       "model_id": "",
       "version_major": 2,
       "version_minor": 0
      },
      "text/plain": [
       "HBox(children=(FloatProgress(value=0.0, description='2nd loop', max=42.0, style=ProgressStyle(description_widt…"
      ]
     },
     "metadata": {},
     "output_type": "display_data"
    },
    {
     "data": {
      "application/vnd.jupyter.widget-view+json": {
       "model_id": "",
       "version_major": 2,
       "version_minor": 0
      },
      "text/plain": [
       "HBox(children=(FloatProgress(value=0.0, description='2nd loop', max=41.0, style=ProgressStyle(description_widt…"
      ]
     },
     "metadata": {},
     "output_type": "display_data"
    },
    {
     "data": {
      "application/vnd.jupyter.widget-view+json": {
       "model_id": "",
       "version_major": 2,
       "version_minor": 0
      },
      "text/plain": [
       "HBox(children=(FloatProgress(value=0.0, description='2nd loop', max=40.0, style=ProgressStyle(description_widt…"
      ]
     },
     "metadata": {},
     "output_type": "display_data"
    },
    {
     "data": {
      "application/vnd.jupyter.widget-view+json": {
       "model_id": "",
       "version_major": 2,
       "version_minor": 0
      },
      "text/plain": [
       "HBox(children=(FloatProgress(value=0.0, description='2nd loop', max=39.0, style=ProgressStyle(description_widt…"
      ]
     },
     "metadata": {},
     "output_type": "display_data"
    },
    {
     "data": {
      "application/vnd.jupyter.widget-view+json": {
       "model_id": "",
       "version_major": 2,
       "version_minor": 0
      },
      "text/plain": [
       "HBox(children=(FloatProgress(value=0.0, description='2nd loop', max=38.0, style=ProgressStyle(description_widt…"
      ]
     },
     "metadata": {},
     "output_type": "display_data"
    },
    {
     "data": {
      "application/vnd.jupyter.widget-view+json": {
       "model_id": "",
       "version_major": 2,
       "version_minor": 0
      },
      "text/plain": [
       "HBox(children=(FloatProgress(value=0.0, description='2nd loop', max=37.0, style=ProgressStyle(description_widt…"
      ]
     },
     "metadata": {},
     "output_type": "display_data"
    },
    {
     "data": {
      "application/vnd.jupyter.widget-view+json": {
       "model_id": "",
       "version_major": 2,
       "version_minor": 0
      },
      "text/plain": [
       "HBox(children=(FloatProgress(value=0.0, description='2nd loop', max=36.0, style=ProgressStyle(description_widt…"
      ]
     },
     "metadata": {},
     "output_type": "display_data"
    },
    {
     "data": {
      "application/vnd.jupyter.widget-view+json": {
       "model_id": "",
       "version_major": 2,
       "version_minor": 0
      },
      "text/plain": [
       "HBox(children=(FloatProgress(value=0.0, description='2nd loop', max=35.0, style=ProgressStyle(description_widt…"
      ]
     },
     "metadata": {},
     "output_type": "display_data"
    },
    {
     "data": {
      "application/vnd.jupyter.widget-view+json": {
       "model_id": "",
       "version_major": 2,
       "version_minor": 0
      },
      "text/plain": [
       "HBox(children=(FloatProgress(value=0.0, description='2nd loop', max=34.0, style=ProgressStyle(description_widt…"
      ]
     },
     "metadata": {},
     "output_type": "display_data"
    },
    {
     "data": {
      "application/vnd.jupyter.widget-view+json": {
       "model_id": "",
       "version_major": 2,
       "version_minor": 0
      },
      "text/plain": [
       "HBox(children=(FloatProgress(value=0.0, description='2nd loop', max=33.0, style=ProgressStyle(description_widt…"
      ]
     },
     "metadata": {},
     "output_type": "display_data"
    },
    {
     "data": {
      "application/vnd.jupyter.widget-view+json": {
       "model_id": "",
       "version_major": 2,
       "version_minor": 0
      },
      "text/plain": [
       "HBox(children=(FloatProgress(value=0.0, description='2nd loop', max=32.0, style=ProgressStyle(description_widt…"
      ]
     },
     "metadata": {},
     "output_type": "display_data"
    },
    {
     "data": {
      "application/vnd.jupyter.widget-view+json": {
       "model_id": "",
       "version_major": 2,
       "version_minor": 0
      },
      "text/plain": [
       "HBox(children=(FloatProgress(value=0.0, description='2nd loop', max=31.0, style=ProgressStyle(description_widt…"
      ]
     },
     "metadata": {},
     "output_type": "display_data"
    },
    {
     "data": {
      "application/vnd.jupyter.widget-view+json": {
       "model_id": "",
       "version_major": 2,
       "version_minor": 0
      },
      "text/plain": [
       "HBox(children=(FloatProgress(value=0.0, description='2nd loop', max=30.0, style=ProgressStyle(description_widt…"
      ]
     },
     "metadata": {},
     "output_type": "display_data"
    },
    {
     "data": {
      "application/vnd.jupyter.widget-view+json": {
       "model_id": "",
       "version_major": 2,
       "version_minor": 0
      },
      "text/plain": [
       "HBox(children=(FloatProgress(value=0.0, description='2nd loop', max=29.0, style=ProgressStyle(description_widt…"
      ]
     },
     "metadata": {},
     "output_type": "display_data"
    },
    {
     "data": {
      "application/vnd.jupyter.widget-view+json": {
       "model_id": "",
       "version_major": 2,
       "version_minor": 0
      },
      "text/plain": [
       "HBox(children=(FloatProgress(value=0.0, description='2nd loop', max=28.0, style=ProgressStyle(description_widt…"
      ]
     },
     "metadata": {},
     "output_type": "display_data"
    },
    {
     "data": {
      "application/vnd.jupyter.widget-view+json": {
       "model_id": "",
       "version_major": 2,
       "version_minor": 0
      },
      "text/plain": [
       "HBox(children=(FloatProgress(value=0.0, description='2nd loop', max=27.0, style=ProgressStyle(description_widt…"
      ]
     },
     "metadata": {},
     "output_type": "display_data"
    },
    {
     "data": {
      "application/vnd.jupyter.widget-view+json": {
       "model_id": "",
       "version_major": 2,
       "version_minor": 0
      },
      "text/plain": [
       "HBox(children=(FloatProgress(value=0.0, description='2nd loop', max=26.0, style=ProgressStyle(description_widt…"
      ]
     },
     "metadata": {},
     "output_type": "display_data"
    },
    {
     "data": {
      "application/vnd.jupyter.widget-view+json": {
       "model_id": "",
       "version_major": 2,
       "version_minor": 0
      },
      "text/plain": [
       "HBox(children=(FloatProgress(value=0.0, description='2nd loop', max=25.0, style=ProgressStyle(description_widt…"
      ]
     },
     "metadata": {},
     "output_type": "display_data"
    },
    {
     "data": {
      "application/vnd.jupyter.widget-view+json": {
       "model_id": "",
       "version_major": 2,
       "version_minor": 0
      },
      "text/plain": [
       "HBox(children=(FloatProgress(value=0.0, description='2nd loop', max=24.0, style=ProgressStyle(description_widt…"
      ]
     },
     "metadata": {},
     "output_type": "display_data"
    },
    {
     "data": {
      "application/vnd.jupyter.widget-view+json": {
       "model_id": "",
       "version_major": 2,
       "version_minor": 0
      },
      "text/plain": [
       "HBox(children=(FloatProgress(value=0.0, description='2nd loop', max=23.0, style=ProgressStyle(description_widt…"
      ]
     },
     "metadata": {},
     "output_type": "display_data"
    },
    {
     "data": {
      "application/vnd.jupyter.widget-view+json": {
       "model_id": "",
       "version_major": 2,
       "version_minor": 0
      },
      "text/plain": [
       "HBox(children=(FloatProgress(value=0.0, description='2nd loop', max=22.0, style=ProgressStyle(description_widt…"
      ]
     },
     "metadata": {},
     "output_type": "display_data"
    },
    {
     "data": {
      "application/vnd.jupyter.widget-view+json": {
       "model_id": "",
       "version_major": 2,
       "version_minor": 0
      },
      "text/plain": [
       "HBox(children=(FloatProgress(value=0.0, description='2nd loop', max=21.0, style=ProgressStyle(description_widt…"
      ]
     },
     "metadata": {},
     "output_type": "display_data"
    },
    {
     "data": {
      "application/vnd.jupyter.widget-view+json": {
       "model_id": "",
       "version_major": 2,
       "version_minor": 0
      },
      "text/plain": [
       "HBox(children=(FloatProgress(value=0.0, description='2nd loop', max=20.0, style=ProgressStyle(description_widt…"
      ]
     },
     "metadata": {},
     "output_type": "display_data"
    },
    {
     "data": {
      "application/vnd.jupyter.widget-view+json": {
       "model_id": "",
       "version_major": 2,
       "version_minor": 0
      },
      "text/plain": [
       "HBox(children=(FloatProgress(value=0.0, description='2nd loop', max=19.0, style=ProgressStyle(description_widt…"
      ]
     },
     "metadata": {},
     "output_type": "display_data"
    },
    {
     "data": {
      "application/vnd.jupyter.widget-view+json": {
       "model_id": "",
       "version_major": 2,
       "version_minor": 0
      },
      "text/plain": [
       "HBox(children=(FloatProgress(value=0.0, description='2nd loop', max=18.0, style=ProgressStyle(description_widt…"
      ]
     },
     "metadata": {},
     "output_type": "display_data"
    },
    {
     "data": {
      "application/vnd.jupyter.widget-view+json": {
       "model_id": "",
       "version_major": 2,
       "version_minor": 0
      },
      "text/plain": [
       "HBox(children=(FloatProgress(value=0.0, description='2nd loop', max=17.0, style=ProgressStyle(description_widt…"
      ]
     },
     "metadata": {},
     "output_type": "display_data"
    },
    {
     "data": {
      "application/vnd.jupyter.widget-view+json": {
       "model_id": "",
       "version_major": 2,
       "version_minor": 0
      },
      "text/plain": [
       "HBox(children=(FloatProgress(value=0.0, description='2nd loop', max=16.0, style=ProgressStyle(description_widt…"
      ]
     },
     "metadata": {},
     "output_type": "display_data"
    },
    {
     "data": {
      "application/vnd.jupyter.widget-view+json": {
       "model_id": "",
       "version_major": 2,
       "version_minor": 0
      },
      "text/plain": [
       "HBox(children=(FloatProgress(value=0.0, description='2nd loop', max=15.0, style=ProgressStyle(description_widt…"
      ]
     },
     "metadata": {},
     "output_type": "display_data"
    },
    {
     "data": {
      "application/vnd.jupyter.widget-view+json": {
       "model_id": "",
       "version_major": 2,
       "version_minor": 0
      },
      "text/plain": [
       "HBox(children=(FloatProgress(value=0.0, description='2nd loop', max=14.0, style=ProgressStyle(description_widt…"
      ]
     },
     "metadata": {},
     "output_type": "display_data"
    },
    {
     "data": {
      "application/vnd.jupyter.widget-view+json": {
       "model_id": "",
       "version_major": 2,
       "version_minor": 0
      },
      "text/plain": [
       "HBox(children=(FloatProgress(value=0.0, description='2nd loop', max=13.0, style=ProgressStyle(description_widt…"
      ]
     },
     "metadata": {},
     "output_type": "display_data"
    },
    {
     "data": {
      "application/vnd.jupyter.widget-view+json": {
       "model_id": "",
       "version_major": 2,
       "version_minor": 0
      },
      "text/plain": [
       "HBox(children=(FloatProgress(value=0.0, description='2nd loop', max=12.0, style=ProgressStyle(description_widt…"
      ]
     },
     "metadata": {},
     "output_type": "display_data"
    },
    {
     "data": {
      "application/vnd.jupyter.widget-view+json": {
       "model_id": "",
       "version_major": 2,
       "version_minor": 0
      },
      "text/plain": [
       "HBox(children=(FloatProgress(value=0.0, description='2nd loop', max=11.0, style=ProgressStyle(description_widt…"
      ]
     },
     "metadata": {},
     "output_type": "display_data"
    },
    {
     "data": {
      "application/vnd.jupyter.widget-view+json": {
       "model_id": "",
       "version_major": 2,
       "version_minor": 0
      },
      "text/plain": [
       "HBox(children=(FloatProgress(value=0.0, description='2nd loop', max=10.0, style=ProgressStyle(description_widt…"
      ]
     },
     "metadata": {},
     "output_type": "display_data"
    },
    {
     "data": {
      "application/vnd.jupyter.widget-view+json": {
       "model_id": "",
       "version_major": 2,
       "version_minor": 0
      },
      "text/plain": [
       "HBox(children=(FloatProgress(value=0.0, description='2nd loop', max=9.0, style=ProgressStyle(description_width…"
      ]
     },
     "metadata": {},
     "output_type": "display_data"
    },
    {
     "data": {
      "application/vnd.jupyter.widget-view+json": {
       "model_id": "",
       "version_major": 2,
       "version_minor": 0
      },
      "text/plain": [
       "HBox(children=(FloatProgress(value=0.0, description='2nd loop', max=8.0, style=ProgressStyle(description_width…"
      ]
     },
     "metadata": {},
     "output_type": "display_data"
    },
    {
     "data": {
      "application/vnd.jupyter.widget-view+json": {
       "model_id": "",
       "version_major": 2,
       "version_minor": 0
      },
      "text/plain": [
       "HBox(children=(FloatProgress(value=0.0, description='2nd loop', max=7.0, style=ProgressStyle(description_width…"
      ]
     },
     "metadata": {},
     "output_type": "display_data"
    },
    {
     "data": {
      "application/vnd.jupyter.widget-view+json": {
       "model_id": "",
       "version_major": 2,
       "version_minor": 0
      },
      "text/plain": [
       "HBox(children=(FloatProgress(value=0.0, description='2nd loop', max=6.0, style=ProgressStyle(description_width…"
      ]
     },
     "metadata": {},
     "output_type": "display_data"
    },
    {
     "data": {
      "application/vnd.jupyter.widget-view+json": {
       "model_id": "",
       "version_major": 2,
       "version_minor": 0
      },
      "text/plain": [
       "HBox(children=(FloatProgress(value=0.0, description='2nd loop', max=5.0, style=ProgressStyle(description_width…"
      ]
     },
     "metadata": {},
     "output_type": "display_data"
    },
    {
     "data": {
      "application/vnd.jupyter.widget-view+json": {
       "model_id": "",
       "version_major": 2,
       "version_minor": 0
      },
      "text/plain": [
       "HBox(children=(FloatProgress(value=0.0, description='2nd loop', max=4.0, style=ProgressStyle(description_width…"
      ]
     },
     "metadata": {},
     "output_type": "display_data"
    },
    {
     "data": {
      "application/vnd.jupyter.widget-view+json": {
       "model_id": "",
       "version_major": 2,
       "version_minor": 0
      },
      "text/plain": [
       "HBox(children=(FloatProgress(value=0.0, description='2nd loop', max=3.0, style=ProgressStyle(description_width…"
      ]
     },
     "metadata": {},
     "output_type": "display_data"
    },
    {
     "data": {
      "application/vnd.jupyter.widget-view+json": {
       "model_id": "",
       "version_major": 2,
       "version_minor": 0
      },
      "text/plain": [
       "HBox(children=(FloatProgress(value=0.0, description='2nd loop', max=2.0, style=ProgressStyle(description_width…"
      ]
     },
     "metadata": {},
     "output_type": "display_data"
    },
    {
     "data": {
      "application/vnd.jupyter.widget-view+json": {
       "model_id": "",
       "version_major": 2,
       "version_minor": 0
      },
      "text/plain": [
       "HBox(children=(FloatProgress(value=0.0, description='2nd loop', max=1.0, style=ProgressStyle(description_width…"
      ]
     },
     "metadata": {},
     "output_type": "display_data"
    },
    {
     "name": "stdout",
     "output_type": "stream",
     "text": [
      "\n"
     ]
    }
   ],
   "source": [
    "K_full = create_mmd_distance_matrix(X)"
   ]
  },
  {
   "cell_type": "code",
   "execution_count": 679,
   "metadata": {},
   "outputs": [
    {
     "name": "stdout",
     "output_type": "stream",
     "text": [
      "patient 0, class 0 --closest classes (0, 1, 0, 0, 0)\n",
      "closest patients (13, 84, 32, 6, 18, 41) \n",
      "\n",
      "patient 1, class 0 --closest classes (0, 0, 1, 0, 0)\n",
      "closest patients (13, 32, 84, 6, 18, 27) \n",
      "\n",
      "patient 2, class 1 --closest classes (0, 0, 0, 1, 0)\n",
      "closest patients (13, 6, 32, 84, 18, 27) \n",
      "\n",
      "patient 3, class 1 --closest classes (0, 0, 0, 1, 0)\n",
      "closest patients (13, 6, 32, 84, 18, 27) \n",
      "\n",
      "patient 4, class 1 --closest classes (0, 0, 1, 0, 0)\n",
      "closest patients (13, 32, 84, 6, 18, 27) \n",
      "\n",
      "patient 5, class 0 --closest classes (0, 1, 0, 0, 0)\n",
      "closest patients (13, 84, 32, 6, 18, 27) \n",
      "\n",
      "patient 6, class 0 --closest classes (0, 0, 1, 0, 0)\n",
      "closest patients (13, 32, 84, 18, 27, 41) \n",
      "\n",
      "patient 7, class 0 --closest classes (0, 0, 0, 1, 0)\n",
      "closest patients (13, 32, 6, 84, 18, 27) \n",
      "\n",
      "patient 8, class 0 --closest classes (0, 0, 0, 1, 0)\n",
      "closest patients (13, 32, 6, 84, 18, 27) \n",
      "\n",
      "patient 9, class 0 --closest classes (0, 0, 1, 0, 0)\n",
      "closest patients (13, 32, 84, 6, 18, 27) \n",
      "\n",
      "patient 10, class 0 --closest classes (0, 0, 0, 1, 0)\n",
      "closest patients (13, 6, 32, 84, 18, 27) \n",
      "\n",
      "patient 11, class 0 --closest classes (0, 0, 0, 1, 0)\n",
      "closest patients (13, 6, 32, 84, 18, 27) \n",
      "\n",
      "patient 12, class 0 --closest classes (0, 0, 0, 1, 0)\n",
      "closest patients (13, 32, 6, 84, 18, 27) \n",
      "\n",
      "patient 13, class 0 --closest classes (0, 0, 1, 0, 0)\n",
      "closest patients (6, 32, 84, 18, 27, 41) \n",
      "\n",
      "patient 14, class 0 --closest classes (0, 0, 0, 1, 0)\n",
      "closest patients (13, 6, 32, 84, 18, 27) \n",
      "\n",
      "patient 15, class 0 --closest classes (0, 0, 1, 0, 0)\n",
      "closest patients (13, 6, 84, 32, 18, 27) \n",
      "\n",
      "patient 16, class 0 --closest classes (0, 0, 1, 0, 0)\n",
      "closest patients (13, 32, 84, 6, 18, 27) \n",
      "\n",
      "patient 17, class 0 --closest classes (0, 0, 0, 1, 0)\n",
      "closest patients (13, 32, 6, 84, 18, 27) \n",
      "\n",
      "patient 18, class 0 --closest classes (0, 0, 0, 1, 0)\n",
      "closest patients (13, 32, 6, 84, 27, 41) \n",
      "\n",
      "patient 19, class 0 --closest classes (0, 0, 1, 0, 1)\n",
      "closest patients (32, 13, 84, 18, 3, 6) \n",
      "\n",
      "patient 20, class 1 --closest classes (0, 0, 0, 1, 0)\n",
      "closest patients (13, 32, 6, 84, 18, 27) \n",
      "\n",
      "patient 21, class 0 --closest classes (0, 0, 0, 1, 0)\n",
      "closest patients (13, 32, 6, 84, 18, 41) \n",
      "\n",
      "patient 22, class 1 --closest classes (0, 0, 0, 1, 0)\n",
      "closest patients (13, 32, 6, 84, 18, 27) \n",
      "\n",
      "patient 23, class 0 --closest classes (0, 0, 0, 1, 0)\n",
      "closest patients (32, 13, 6, 84, 18, 27) \n",
      "\n",
      "patient 24, class 0 --closest classes (0, 0, 1, 0, 0)\n",
      "closest patients (13, 32, 84, 6, 18, 27) \n",
      "\n",
      "patient 25, class 0 --closest classes (0, 1, 0, 0, 0)\n",
      "closest patients (13, 84, 6, 32, 18, 27) \n",
      "\n",
      "patient 26, class 0 --closest classes (0, 0, 0, 1, 0)\n",
      "closest patients (13, 6, 32, 84, 18, 41) \n",
      "\n",
      "patient 27, class 0 --closest classes (0, 0, 0, 1, 0)\n",
      "closest patients (13, 6, 32, 84, 18, 41) \n",
      "\n",
      "patient 28, class 1 --closest classes (0, 0, 0, 1, 0)\n",
      "closest patients (13, 32, 6, 84, 18, 41) \n",
      "\n",
      "patient 29, class 0 --closest classes (0, 1, 0, 0, 0)\n",
      "closest patients (13, 84, 6, 32, 18, 41) \n",
      "\n",
      "patient 30, class 0 --closest classes (0, 0, 0, 0, 1)\n",
      "closest patients (32, 13, 6, 18, 84, 41) \n",
      "\n",
      "patient 31, class 0 --closest classes (1, 0, 0, 0, 0)\n",
      "closest patients (84, 13, 32, 6, 18, 27) \n",
      "\n",
      "patient 32, class 0 --closest classes (0, 0, 1, 0, 0)\n",
      "closest patients (13, 6, 84, 18, 27, 41) \n",
      "\n",
      "patient 33, class 0 --closest classes (0, 0, 0, 1, 0)\n",
      "closest patients (13, 32, 6, 84, 18, 27) \n",
      "\n",
      "patient 34, class 1 --closest classes (0, 0, 0, 1, 0)\n",
      "closest patients (13, 32, 6, 84, 18, 27) \n",
      "\n",
      "patient 35, class 1 --closest classes (0, 0, 0, 1, 0)\n",
      "closest patients (13, 32, 6, 84, 18, 27) \n",
      "\n",
      "patient 36, class 1 --closest classes (0, 0, 1, 0, 0)\n",
      "closest patients (32, 13, 84, 6, 18, 27) \n",
      "\n",
      "patient 37, class 0 --closest classes (0, 0, 0, 1, 0)\n",
      "closest patients (13, 6, 32, 84, 18, 27) \n",
      "\n",
      "patient 38, class 0 --closest classes (0, 0, 0, 1, 0)\n",
      "closest patients (13, 6, 32, 84, 18, 27) \n",
      "\n",
      "patient 39, class 0 --closest classes (0, 0, 0, 1, 0)\n",
      "closest patients (13, 32, 6, 84, 18, 27) \n",
      "\n",
      "patient 40, class 1 --closest classes (0, 0, 0, 1, 0)\n",
      "closest patients (13, 32, 6, 84, 18, 27) \n",
      "\n",
      "patient 41, class 0 --closest classes (0, 0, 0, 1, 0)\n",
      "closest patients (13, 6, 32, 84, 18, 27) \n",
      "\n",
      "patient 42, class 1 --closest classes (0, 0, 0, 1, 0)\n",
      "closest patients (13, 32, 6, 84, 18, 27) \n",
      "\n",
      "patient 43, class 0 --closest classes (0, 0, 0, 1, 0)\n",
      "closest patients (13, 32, 6, 84, 18, 27) \n",
      "\n",
      "patient 44, class 0 --closest classes (0, 0, 1, 0, 0)\n",
      "closest patients (32, 13, 84, 6, 18, 41) \n",
      "\n",
      "patient 45, class 0 --closest classes (0, 0, 1, 0, 0)\n",
      "closest patients (13, 32, 84, 6, 18, 27) \n",
      "\n",
      "patient 46, class 0 --closest classes (0, 0, 0, 1, 0)\n",
      "closest patients (13, 6, 32, 84, 18, 27) \n",
      "\n",
      "patient 47, class 0 --closest classes (0, 1, 0, 0, 0)\n",
      "closest patients (13, 84, 32, 6, 18, 27) \n",
      "\n",
      "patient 48, class 1 --closest classes (0, 0, 0, 1, 0)\n",
      "closest patients (13, 32, 6, 84, 18, 27) \n",
      "\n",
      "patient 49, class 0 --closest classes (0, 1, 0, 0, 0)\n",
      "closest patients (13, 84, 32, 6, 18, 27) \n",
      "\n",
      "patient 50, class 0 --closest classes (0, 0, 1, 0, 0)\n",
      "closest patients (32, 13, 84, 6, 18, 27) \n",
      "\n",
      "patient 51, class 0 --closest classes (0, 0, 1, 0, 0)\n",
      "closest patients (13, 32, 84, 6, 18, 27) \n",
      "\n",
      "patient 52, class 0 --closest classes (1, 0, 0, 0, 0)\n",
      "closest patients (84, 13, 6, 18, 32, 27) \n",
      "\n",
      "patient 53, class 0 --closest classes (0, 1, 0, 0, 0)\n",
      "closest patients (13, 84, 6, 32, 18, 41) \n",
      "\n",
      "patient 54, class 0 --closest classes (1, 0, 0, 0, 0)\n",
      "closest patients (84, 13, 32, 6, 18, 27) \n",
      "\n",
      "patient 55, class 0 --closest classes (0, 1, 0, 0, 0)\n",
      "closest patients (13, 84, 32, 6, 18, 27) \n",
      "\n",
      "patient 56, class 1 --closest classes (0, 0, 0, 1, 0)\n",
      "closest patients (13, 32, 6, 84, 18, 27) \n",
      "\n",
      "patient 57, class 1 --closest classes (0, 1, 0, 0, 0)\n",
      "closest patients (13, 84, 32, 6, 18, 27) \n",
      "\n",
      "patient 58, class 0 --closest classes (0, 0, 0, 1, 0)\n",
      "closest patients (13, 6, 32, 84, 18, 27) \n",
      "\n",
      "patient 59, class 1 --closest classes (0, 0, 0, 1, 0)\n",
      "closest patients (6, 13, 32, 84, 18, 27) \n",
      "\n",
      "patient 60, class 0 --closest classes (0, 0, 0, 1, 0)\n",
      "closest patients (13, 32, 6, 84, 18, 27) \n",
      "\n",
      "patient 61, class 0 --closest classes (0, 1, 0, 0, 0)\n",
      "closest patients (13, 84, 32, 6, 18, 41) \n",
      "\n",
      "patient 62, class 0 --closest classes (0, 0, 0, 1, 0)\n",
      "closest patients (13, 6, 32, 84, 18, 27) \n",
      "\n",
      "patient 63, class 0 --closest classes (0, 0, 0, 1, 0)\n",
      "closest patients (13, 32, 6, 84, 18, 27) \n",
      "\n",
      "patient 64, class 0 --closest classes (0, 1, 0, 0, 0)\n",
      "closest patients (13, 84, 32, 6, 18, 27) \n",
      "\n",
      "patient 65, class 0 --closest classes (0, 0, 1, 0, 0)\n",
      "closest patients (13, 6, 84, 32, 18, 27) \n",
      "\n",
      "patient 66, class 0 --closest classes (0, 1, 0, 0, 0)\n",
      "closest patients (13, 84, 32, 6, 18, 27) \n",
      "\n",
      "patient 67, class 0 --closest classes (0, 0, 1, 0, 0)\n",
      "closest patients (13, 6, 84, 32, 18, 27) \n",
      "\n",
      "patient 68, class 0 --closest classes (0, 0, 0, 1, 0)\n",
      "closest patients (13, 6, 32, 84, 18, 27) \n",
      "\n",
      "patient 69, class 0 --closest classes (0, 0, 0, 1, 0)\n",
      "closest patients (13, 32, 6, 84, 18, 27) \n",
      "\n",
      "patient 70, class 0 --closest classes (0, 0, 0, 1, 0)\n",
      "closest patients (13, 6, 32, 84, 18, 27) \n",
      "\n",
      "patient 71, class 1 --closest classes (0, 0, 0, 1, 0)\n",
      "closest patients (13, 32, 6, 84, 18, 41) \n",
      "\n",
      "patient 72, class 0 --closest classes (0, 0, 0, 1, 0)\n",
      "closest patients (13, 6, 32, 84, 18, 27) \n",
      "\n",
      "patient 73, class 0 --closest classes (0, 0, 1, 0, 0)\n",
      "closest patients (13, 32, 84, 6, 18, 27) \n",
      "\n",
      "patient 74, class 1 --closest classes (0, 0, 1, 0, 0)\n",
      "closest patients (13, 6, 84, 32, 18, 27) \n",
      "\n",
      "patient 75, class 1 --closest classes (0, 1, 0, 0, 0)\n",
      "closest patients (13, 84, 32, 6, 18, 27) \n",
      "\n",
      "patient 76, class 0 --closest classes (0, 0, 1, 0, 0)\n",
      "closest patients (13, 6, 84, 32, 18, 27) \n",
      "\n",
      "patient 77, class 0 --closest classes (1, 0, 0, 0, 0)\n",
      "closest patients (84, 32, 13, 6, 18, 27) \n",
      "\n",
      "patient 78, class 0 --closest classes (0, 1, 0, 0, 0)\n",
      "closest patients (13, 84, 6, 32, 18, 27) \n",
      "\n",
      "patient 79, class 0 --closest classes (0, 1, 0, 0, 0)\n",
      "closest patients (32, 84, 13, 6, 18, 27) \n",
      "\n",
      "patient 80, class 0 --closest classes (0, 0, 1, 0, 0)\n",
      "closest patients (13, 32, 84, 6, 18, 27) \n",
      "\n",
      "patient 81, class 1 --closest classes (0, 1, 0, 0, 0)\n",
      "closest patients (13, 84, 32, 6, 18, 27) \n",
      "\n",
      "patient 82, class 1 --closest classes (0, 0, 1, 0, 0)\n",
      "closest patients (13, 32, 84, 6, 18, 41) \n",
      "\n",
      "patient 83, class 0 --closest classes (0, 0, 1, 0, 0)\n",
      "closest patients (32, 13, 84, 6, 18, 27) \n",
      "\n",
      "patient 84, class 1 --closest classes (0, 0, 0, 0, 0)\n",
      "closest patients (13, 32, 6, 18, 27, 41) \n",
      "\n",
      "patient 85, class 0 --closest classes (0, 1, 0, 0, 0)\n",
      "closest patients (13, 84, 6, 32, 18, 27) \n",
      "\n",
      "patient 86, class 1 --closest classes (0, 0, 0, 1, 0)\n",
      "closest patients (13, 32, 6, 84, 18, 27) \n",
      "\n",
      "patient 87, class 0 --closest classes (0, 1, 0, 0, 0)\n",
      "closest patients (13, 84, 6, 32, 18, 27) \n",
      "\n",
      "patient 88, class 1 --closest classes (0, 0, 0, 1, 0)\n",
      "closest patients (13, 32, 6, 84, 18, 27) \n",
      "\n",
      "patient 89, class 1 --closest classes (0, 0, 0, 1, 0)\n",
      "closest patients (32, 13, 6, 84, 18, 27) \n",
      "\n",
      "patient 90, class 1 --closest classes (0, 0, 0, 1, 0)\n",
      "closest patients (13, 6, 32, 84, 18, 27) \n",
      "\n"
     ]
    }
   ],
   "source": [
    "for j,dist in enumerate(np.round(K_full,3)):\n",
    "    ind = np.argsort(dist)\n",
    "    print(f'patient {j}, class {y[j]}', f'--closest classes {y[ind[1]], y[ind[2]], y[ind[3]], y[ind[4]], y[ind[5]]}')\n",
    "    print(f'closest patients {ind[1], ind[2], ind[3], ind[4], ind[5], ind[6]} \\n')"
   ]
  },
  {
   "cell_type": "code",
   "execution_count": 651,
   "metadata": {},
   "outputs": [
    {
     "data": {
      "text/plain": [
       "[<matplotlib.lines.Line2D at 0x25f56fbdd00>]"
      ]
     },
     "execution_count": 651,
     "metadata": {},
     "output_type": "execute_result"
    },
    {
     "data": {
      "image/png": "[encoded data removed]",
      "text/plain": [
       "<Figure size 432x288 with 1 Axes>"
      ]
     },
     "metadata": {
      "needs_background": "light"
     },
     "output_type": "display_data"
    }
   ],
   "source": [
    "plt.plot(np.round(K_full,3)[0,:])\n",
    "plt.plot(y)"
   ]
  },
  {
   "cell_type": "code",
   "execution_count": 542,
   "metadata": {},
   "outputs": [],
   "source": [
    "class TreeKernel(BaseEstimator, TransformerMixin):\n",
    "    def __init__(self, K_full=None, sigma=1.0):\n",
    "        super(TreeKernel, self).__init__()\n",
    "        self.K_full = K_full\n",
    "        self.sigma = sigma\n",
    "\n",
    "    def transform(self, ind):\n",
    "        return np.exp(-self.K_full[ind][:,self.ind_train]/self.sigma)\n",
    "\n",
    "    def fit(self, ind, y=None, **fit_params):\n",
    "        self.ind_train = ind\n",
    "        return self"
   ]
  },
  {
   "cell_type": "code",
   "execution_count": 589,
   "metadata": {},
   "outputs": [],
   "source": [
    "# parameters for grid search\n",
    "parameters = {'tree__sigma': np.logspace(-4, 4, 9),\n",
    "              'clf__kernel': ['precomputed'],\n",
    "              'clf__gamma': np.logspace(4, 4, 9), \n",
    "              'clf__C': np.logspace(0, 4, 5)\n",
    "              }"
   ]
  },
  {
   "cell_type": "code",
   "execution_count": 597,
   "metadata": {},
   "outputs": [],
   "source": [
    "# estimator: support vector classifier\n",
    "clf = SVC(class_weight={1:3})"
   ]
  },
  {
   "cell_type": "code",
   "execution_count": 598,
   "metadata": {},
   "outputs": [],
   "source": [
    "# building the estimator\n",
    "pipeline = Pipeline([('tree', TreeKernel(K_full=K_full)),\n",
    "                     ('clf', clf)\n",
    "                    ])"
   ]
  },
  {
   "cell_type": "code",
   "execution_count": 599,
   "metadata": {},
   "outputs": [],
   "source": [
    "# parameters search\n",
    "model = GridSearchCV(pipeline, parameters, verbose=0, n_jobs=-1, cv=5)"
   ]
  },
  {
   "cell_type": "code",
   "execution_count": 600,
   "metadata": {},
   "outputs": [
    {
     "data": {
      "text/plain": [
       "GridSearchCV(cv=5,\n",
       "             estimator=Pipeline(steps=[('tree',\n",
       "                                        TreeKernel(K_full=array([[ 0.        , 18.84110594, 19.29404155, ..., 24.28538096,\n",
       "        20.60150896, 25.85971139],\n",
       "       [18.84110594,  0.        ,  2.50540443, ...,  8.06816306,\n",
       "         3.9763809 ,  9.99043181],\n",
       "       [19.29404155,  2.50540443,  0.        , ...,  8.42214386,\n",
       "         4.4241152 , 10.24344474],\n",
       "       ...,\n",
       "       [24.28538096,  8.06816306,  8.42214386, ...,  0.        ,\n",
       "         9.75558385, 14.40387535],\n",
       "       [20.6...\n",
       "       [25.85971139,  9.99043181, 10.24344474, ..., 14.40387535,\n",
       "        11.46031389,  0.        ]]))),\n",
       "                                       ('clf', SVC(class_weight={1: 3}))]),\n",
       "             n_jobs=-1,\n",
       "             param_grid={'clf__C': array([1.e+00, 1.e+01, 1.e+02, 1.e+03, 1.e+04]),\n",
       "                         'clf__gamma': array([10000., 10000., 10000., 10000., 10000., 10000., 10000., 10000.,\n",
       "       10000.]),\n",
       "                         'clf__kernel': ['precomputed'],\n",
       "                         'tree__sigma': array([1.e-04, 1.e-03, 1.e-02, 1.e-01, 1.e+00, 1.e+01, 1.e+02, 1.e+03,\n",
       "       1.e+04])})"
      ]
     },
     "execution_count": 600,
     "metadata": {},
     "output_type": "execute_result"
    }
   ],
   "source": [
    "# fit the model\n",
    "model.fit(ind_train, y_train)"
   ]
  },
  {
   "cell_type": "code",
   "execution_count": 601,
   "metadata": {},
   "outputs": [
    {
     "data": {
      "text/plain": [
       "0.7307692307692308"
      ]
     },
     "execution_count": 601,
     "metadata": {},
     "output_type": "execute_result"
    }
   ],
   "source": [
    "# best score an 5-folds cross-validation split\n",
    "model.best_score_"
   ]
  },
  {
   "cell_type": "code",
   "execution_count": 602,
   "metadata": {},
   "outputs": [],
   "source": [
    "# predict on test set\n",
    "y_pred = model.predict(ind_test)"
   ]
  },
  {
   "cell_type": "code",
   "execution_count": 603,
   "metadata": {},
   "outputs": [
    {
     "name": "stdout",
     "output_type": "stream",
     "text": [
      "              precision    recall  f1-score   support\n",
      "\n",
      "           0       0.71      1.00      0.83        20\n",
      "           1       0.00      0.00      0.00         8\n",
      "\n",
      "    accuracy                           0.71        28\n",
      "   macro avg       0.36      0.50      0.42        28\n",
      "weighted avg       0.51      0.71      0.60        28\n",
      "\n"
     ]
    }
   ],
   "source": [
    "print(classification_report(y_test, y_pred))"
   ]
  },
  {
   "cell_type": "code",
   "execution_count": null,
   "metadata": {},
   "outputs": [],
   "source": []
  }
 ],
 "metadata": {
  "kernelspec": {
   "display_name": "Python 3",
   "language": "python",
   "name": "python3"
  },
  "language_info": {
   "codemirror_mode": {
    "name": "ipython",
    "version": 3
   },
   "file_extension": ".py",
   "mimetype": "text/x-python",
   "name": "python",
   "nbconvert_exporter": "python",
   "pygments_lexer": "ipython3",
   "version": "3.8.3"
  }
 },
 "nbformat": 4,
 "nbformat_minor": 4
}
