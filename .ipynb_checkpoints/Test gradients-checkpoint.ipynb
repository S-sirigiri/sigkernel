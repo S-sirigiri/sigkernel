{
 "cells": [
  {
   "cell_type": "code",
   "execution_count": 126,
   "metadata": {},
   "outputs": [],
   "source": [
    "import torch\n",
    "import time\n",
    "from sigKer_torch import SigKernel\n",
    "from kernel_gradients_PDE import SigKernel_PDE\n",
    "from kernel_gradient_torch import SigKernel_torch"
   ]
  },
  {
   "cell_type": "code",
   "execution_count": 163,
   "metadata": {},
   "outputs": [],
   "source": [
    "A,M,N,D,var = 10, 20, 50, 2, 1e-3\n",
    "X = var*torch.randn((A,M,D), dtype=torch.double)\n",
    "Y = var*torch.randn(A,N,D, dtype=torch.double)\n",
    "X.requires_grad = True"
   ]
  },
  {
   "cell_type": "code",
   "execution_count": 164,
   "metadata": {},
   "outputs": [],
   "source": [
    "n=0"
   ]
  },
  {
   "cell_type": "code",
   "execution_count": 165,
   "metadata": {},
   "outputs": [
    {
     "name": "stdout",
     "output_type": "stream",
     "text": [
      "9.9999865807189\n",
      "0.7885005474090576\n"
     ]
    }
   ],
   "source": [
    "t = time.time()\n",
    "a = SigKernel_PDE.apply(X,Y,n)\n",
    "print(a.sum().item())\n",
    "print(time.time()-t)"
   ]
  },
  {
   "cell_type": "code",
   "execution_count": 166,
   "metadata": {},
   "outputs": [
    {
     "name": "stdout",
     "output_type": "stream",
     "text": [
      "9.9999865807189\n",
      "0.647498369216919\n"
     ]
    }
   ],
   "source": [
    "t = time.time()\n",
    "b = SigKernel_torch(X,Y,n)\n",
    "print(b.sum().item())\n",
    "print(time.time()-t)"
   ]
  },
  {
   "cell_type": "code",
   "execution_count": 167,
   "metadata": {},
   "outputs": [
    {
     "name": "stdout",
     "output_type": "stream",
     "text": [
      "9.999986580718923\n",
      "0.017952680587768555\n"
     ]
    }
   ],
   "source": [
    "t = time.time()\n",
    "c = SigKernel.apply(X,Y,n)\n",
    "print(c.sum().item())\n",
    "print(time.time()-t)"
   ]
  },
  {
   "cell_type": "code",
   "execution_count": 168,
   "metadata": {},
   "outputs": [
    {
     "data": {
      "text/plain": [
       "tensor(True)"
      ]
     },
     "execution_count": 168,
     "metadata": {},
     "output_type": "execute_result"
    }
   ],
   "source": [
    "torch.abs(a.sum() - b.sum()) < 1e-2"
   ]
  },
  {
   "cell_type": "code",
   "execution_count": 169,
   "metadata": {},
   "outputs": [
    {
     "data": {
      "text/plain": [
       "tensor(True)"
      ]
     },
     "execution_count": 169,
     "metadata": {},
     "output_type": "execute_result"
    }
   ],
   "source": [
    "torch.abs(a.sum() - c.sum()) < 1e-2"
   ]
  },
  {
   "cell_type": "code",
   "execution_count": 170,
   "metadata": {},
   "outputs": [
    {
     "name": "stdout",
     "output_type": "stream",
     "text": [
      "0.0019941329956054688\n"
     ]
    }
   ],
   "source": [
    "l = a.mean()\n",
    "t = time.time()\n",
    "l.backward()\n",
    "print(time.time()-t)\n",
    "a_grad = X.grad"
   ]
  },
  {
   "cell_type": "code",
   "execution_count": 171,
   "metadata": {},
   "outputs": [
    {
     "name": "stdout",
     "output_type": "stream",
     "text": [
      "1.2136986255645752\n"
     ]
    }
   ],
   "source": [
    "X.grad.data.zero_()\n",
    "l = b.mean()\n",
    "t = time.time()\n",
    "l.backward()\n",
    "print(time.time()-t)\n",
    "b_grad = X.grad"
   ]
  },
  {
   "cell_type": "code",
   "execution_count": 172,
   "metadata": {},
   "outputs": [
    {
     "name": "stdout",
     "output_type": "stream",
     "text": [
      "0.0010628700256347656\n"
     ]
    }
   ],
   "source": [
    "X.grad.data.zero_()\n",
    "l = c.mean()\n",
    "t = time.time()\n",
    "l.backward()\n",
    "print(time.time()-t)\n",
    "c_grad = X.grad"
   ]
  },
  {
   "cell_type": "code",
   "execution_count": 149,
   "metadata": {},
   "outputs": [
    {
     "data": {
      "text/plain": [
       "-1.734723475976807e-18"
      ]
     },
     "execution_count": 149,
     "metadata": {},
     "output_type": "execute_result"
    }
   ],
   "source": [
    "a_grad.sum().item()"
   ]
  },
  {
   "cell_type": "code",
   "execution_count": 150,
   "metadata": {},
   "outputs": [
    {
     "data": {
      "text/plain": [
       "-1.734723475976807e-18"
      ]
     },
     "execution_count": 150,
     "metadata": {},
     "output_type": "execute_result"
    }
   ],
   "source": [
    "b_grad.sum().item()"
   ]
  },
  {
   "cell_type": "code",
   "execution_count": 151,
   "metadata": {},
   "outputs": [
    {
     "data": {
      "text/plain": [
       "-1.734723475976807e-18"
      ]
     },
     "execution_count": 151,
     "metadata": {},
     "output_type": "execute_result"
    }
   ],
   "source": [
    "c_grad.sum().item()"
   ]
  },
  {
   "cell_type": "code",
   "execution_count": null,
   "metadata": {},
   "outputs": [],
   "source": []
  }
 ],
 "metadata": {
  "kernelspec": {
   "display_name": "Python 3",
   "language": "python",
   "name": "python3"
  },
  "language_info": {
   "codemirror_mode": {
    "name": "ipython",
    "version": 3
   },
   "file_extension": ".py",
   "mimetype": "text/x-python",
   "name": "python",
   "nbconvert_exporter": "python",
   "pygments_lexer": "ipython3",
   "version": "3.8.3"
  }
 },
 "nbformat": 4,
 "nbformat_minor": 4
}
