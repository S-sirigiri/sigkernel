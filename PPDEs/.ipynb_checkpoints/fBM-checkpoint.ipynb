{
 "cells": [
  {
   "cell_type": "markdown",
   "id": "d34f9cbb",
   "metadata": {},
   "source": [
    "Let $t_0 \\in [0,T]$ and let $W$ be a one-dimensional Brownian motion on $[0,T]$ and consider the following three processes\n",
    "\n",
    "$$\n",
    "X_t = \\int_0^t K(t,s)\\,dW_s, \n",
    "\\qquad K^{t_0}_t = K(t,t_0), \n",
    "\\qquad \\Theta^{t_0}_t =\\begin{cases} \n",
    "                          \\int_0^{t_0} K(t,s) \\,dW_s & t > t_0  \\\\\n",
    "                          0 & t\\leq t_0 \n",
    "                       \\end{cases}\n",
    "$$\n",
    "\n",
    "where $K(s,t)=\\sqrt{2H}(s-t)^{H-1/2}$, for some $H\\in(0,1)$.\n",
    "\n",
    "It can be shown that the price of the European option $\\mathbb{E}[f(X_T)|\\mathcal{F}_{t_0}]$ is a function $u : C^p([0,T],\\mathbb{R}^2) \\to \\mathbb{R}$ that solves the following PPDE\n",
    "\n",
    "\\begin{equation}\n",
    "\\left(\\partial_{\\mathbf 1}  + \\frac{1}{2} \\partial^2_{\\mathbf K^{t_0} \\mathbf K^{t_0}}\\right) u (t \\mapsto (t_0,\\gamma_t)) = 0, \\quad \\forall \\gamma \\in C^p([0,T],\\mathbb{R})\n",
    "\\end{equation}\n",
    "\n",
    "with boundary $u(t \\mapsto (T,\\gamma_t))=f(\\gamma_T)$ for any $\\gamma \\in C^p([0,T],\\mathbb{R})$ and where $\\mathbf 1, \\mathbf K^{t_0} \\in C^p([0,T],\\mathbb{R}^2)$ are defined as follows\n",
    "\n",
    "$$\\mathbf{1} : t \\mapsto (1,0) \\quad \\mathbf K^{t_0} : t \\mapsto (0,K^{t_0})$$\n",
    "\n",
    "### Optimisation\n",
    "\n",
    "We fix M collocation points $\\hat\\gamma^1,...,\\hat\\gamma^M \\in \\hat \\Omega$\n",
    "\n",
    "$$\\min_{\\alpha_1,...,\\alpha_M} \\mathbb{E}_{\\hat\\gamma \\sim \\mu} \\left[ \\left| \\sum_{i=1}^M \\alpha_i \\partial_\\tau k(\\hat\\gamma^i,\\hat\\gamma) + \\right|\\right]$$"
   ]
  },
  {
   "cell_type": "code",
   "execution_count": null,
   "id": "014297af",
   "metadata": {},
   "outputs": [],
   "source": []
  }
 ],
 "metadata": {
  "kernelspec": {
   "display_name": "Python 3 (ipykernel)",
   "language": "python",
   "name": "python3"
  },
  "language_info": {
   "codemirror_mode": {
    "name": "ipython",
    "version": 3
   },
   "file_extension": ".py",
   "mimetype": "text/x-python",
   "name": "python",
   "nbconvert_exporter": "python",
   "pygments_lexer": "ipython3",
   "version": "3.9.12"
  }
 },
 "nbformat": 4,
 "nbformat_minor": 5
}
