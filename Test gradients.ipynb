{
 "cells": [
  {
   "cell_type": "code",
   "execution_count": 7,
   "metadata": {},
   "outputs": [],
   "source": [
    "import torch\n",
    "import time\n",
    "from sigKer_torch import SigLoss, SigKernel\n",
    "from kernel_gradients_PDE import SigKernel_PDE\n",
    "from kernel_gradient_torch import SigKernel_torch, SigLoss_torch"
   ]
  },
  {
   "cell_type": "code",
   "execution_count": 43,
   "metadata": {},
   "outputs": [],
   "source": [
    "A,M,N,D,var = 5, 20, 50, 2, 1e-1\n",
    "X = var*torch.randn((A,M,D), dtype=torch.double)\n",
    "Y = var*torch.randn((A,N,D), dtype=torch.double)\n",
    "X.requires_grad = True"
   ]
  },
  {
   "cell_type": "code",
   "execution_count": 44,
   "metadata": {},
   "outputs": [],
   "source": [
    "n=0"
   ]
  },
  {
   "cell_type": "code",
   "execution_count": 4,
   "metadata": {},
   "outputs": [
    {
     "name": "stdout",
     "output_type": "stream",
     "text": [
      "10.000011338969458\n",
      "0.7475769519805908\n"
     ]
    }
   ],
   "source": [
    "t = time.time()\n",
    "a = SigKernel_PDE.apply(X,Y,n)\n",
    "print(a.sum().item())\n",
    "print(time.time()-t)"
   ]
  },
  {
   "cell_type": "code",
   "execution_count": 45,
   "metadata": {},
   "outputs": [
    {
     "name": "stdout",
     "output_type": "stream",
     "text": [
      "0.3651738163634092\n",
      "1.9140262603759766\n"
     ]
    }
   ],
   "source": [
    "t = time.time()\n",
    "# b = SigKernel_torch(X,Y,n)\n",
    "# print(b.sum().item())\n",
    "b = SigLoss_torch(n).forward(X,Y)\n",
    "print(b.item())\n",
    "print(time.time()-t)"
   ]
  },
  {
   "cell_type": "code",
   "execution_count": 46,
   "metadata": {},
   "outputs": [
    {
     "name": "stdout",
     "output_type": "stream",
     "text": [
      "0.36517381636342144\n",
      "0.021903514862060547\n"
     ]
    }
   ],
   "source": [
    "t = time.time()\n",
    "# c = SigKernel.apply(X,Y,n)\n",
    "# print(c.sum().item())\n",
    "c = SigLoss(n).forward(X,Y)\n",
    "print(c.item())\n",
    "print(time.time()-t)"
   ]
  },
  {
   "cell_type": "code",
   "execution_count": 168,
   "metadata": {},
   "outputs": [
    {
     "data": {
      "text/plain": [
       "tensor(True)"
      ]
     },
     "execution_count": 168,
     "metadata": {},
     "output_type": "execute_result"
    }
   ],
   "source": [
    "torch.abs(a.sum() - b.sum()) < 1e-2"
   ]
  },
  {
   "cell_type": "code",
   "execution_count": 169,
   "metadata": {},
   "outputs": [
    {
     "data": {
      "text/plain": [
       "tensor(True)"
      ]
     },
     "execution_count": 169,
     "metadata": {},
     "output_type": "execute_result"
    }
   ],
   "source": [
    "torch.abs(a.sum() - c.sum()) < 1e-2"
   ]
  },
  {
   "cell_type": "code",
   "execution_count": 170,
   "metadata": {},
   "outputs": [
    {
     "name": "stdout",
     "output_type": "stream",
     "text": [
      "0.0019941329956054688\n"
     ]
    }
   ],
   "source": [
    "l = a.mean()\n",
    "t = time.time()\n",
    "l.backward()\n",
    "print(time.time()-t)\n",
    "a_grad = X.grad"
   ]
  },
  {
   "cell_type": "code",
   "execution_count": 47,
   "metadata": {},
   "outputs": [
    {
     "name": "stdout",
     "output_type": "stream",
     "text": [
      "1.358457088470459\n"
     ]
    }
   ],
   "source": [
    "# X.grad.data.zero_()\n",
    "# l = b.mean()\n",
    "t = time.time()\n",
    "b.backward()\n",
    "print(time.time()-t)\n",
    "b_grad = X.grad"
   ]
  },
  {
   "cell_type": "code",
   "execution_count": 48,
   "metadata": {},
   "outputs": [
    {
     "name": "stdout",
     "output_type": "stream",
     "text": [
      "tensor([-0.4000, -0.4000, -0.4000, -0.4000, -0.4000], dtype=torch.float64)\n",
      "tensor([0.2000, 0.2000, 0.2000, 0.2000, 0.2000], dtype=torch.float64)\n",
      "0.004727602005004883\n"
     ]
    }
   ],
   "source": [
    "X.grad.data.zero_()\n",
    "# l = c.mean()\n",
    "t = time.time()\n",
    "c.backward()\n",
    "print(time.time()-t)\n",
    "c_grad = X.grad"
   ]
  },
  {
   "cell_type": "code",
   "execution_count": 149,
   "metadata": {},
   "outputs": [
    {
     "data": {
      "text/plain": [
       "-1.734723475976807e-18"
      ]
     },
     "execution_count": 149,
     "metadata": {},
     "output_type": "execute_result"
    }
   ],
   "source": [
    "a_grad.sum().item()"
   ]
  },
  {
   "cell_type": "code",
   "execution_count": 49,
   "metadata": {},
   "outputs": [
    {
     "data": {
      "text/plain": [
       "-2.220446049250313e-16"
      ]
     },
     "execution_count": 49,
     "metadata": {},
     "output_type": "execute_result"
    }
   ],
   "source": [
    "b_grad.sum().item()"
   ]
  },
  {
   "cell_type": "code",
   "execution_count": 50,
   "metadata": {},
   "outputs": [
    {
     "data": {
      "text/plain": [
       "-2.220446049250313e-16"
      ]
     },
     "execution_count": 50,
     "metadata": {},
     "output_type": "execute_result"
    }
   ],
   "source": [
    "c_grad.sum().item()"
   ]
  },
  {
   "cell_type": "code",
   "execution_count": null,
   "metadata": {},
   "outputs": [],
   "source": []
  }
 ],
 "metadata": {
  "kernelspec": {
   "display_name": "Python 3",
   "language": "python",
   "name": "python3"
  },
  "language_info": {
   "codemirror_mode": {
    "name": "ipython",
    "version": 3
   },
   "file_extension": ".py",
   "mimetype": "text/x-python",
   "name": "python",
   "nbconvert_exporter": "python",
   "pygments_lexer": "ipython3",
   "version": "3.8.3"
  }
 },
 "nbformat": 4,
 "nbformat_minor": 4
}
