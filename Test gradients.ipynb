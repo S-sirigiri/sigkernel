{
 "cells": [
  {
   "cell_type": "markdown",
   "metadata": {
    "toc": true
   },
   "source": [
    "<h1>Table of Contents<span class=\"tocSkip\"></span></h1>\n",
    "<div class=\"toc\"><ul class=\"toc-item\"></ul></div>"
   ]
  },
  {
   "cell_type": "code",
   "execution_count": 8,
   "metadata": {},
   "outputs": [],
   "source": [
    "import torch\n",
    "import time\n",
    "from sigKer_torch import SigLoss, SigKernel\n",
    "from kernel_gradients_PDE import SigKernel_PDE\n",
    "from kernel_gradient_torch import SigKernel_torch, SigLoss_torch"
   ]
  },
  {
   "cell_type": "code",
   "execution_count": 20,
   "metadata": {},
   "outputs": [],
   "source": [
    "A,M,N,D,var = 5, 20, 50, 2, 1e-1\n",
    "X = var*torch.randn((A,M,D), dtype=torch.double)\n",
    "Y = var*torch.randn((A,N,D), dtype=torch.double)\n",
    "X.requires_grad = True"
   ]
  },
  {
   "cell_type": "code",
   "execution_count": 21,
   "metadata": {},
   "outputs": [],
   "source": [
    "n=0"
   ]
  },
  {
   "cell_type": "code",
   "execution_count": 11,
   "metadata": {},
   "outputs": [
    {
     "name": "stdout",
     "output_type": "stream",
     "text": [
      "0.35539984703063965\n",
      "6.157471582706902\n"
     ]
    }
   ],
   "source": [
    "t = time.time()\n",
    "a = SigKernel_PDE.apply(X,Y,n)\n",
    "print(time.time()-t)\n",
    "print(a.sum().item())"
   ]
  },
  {
   "cell_type": "code",
   "execution_count": 22,
   "metadata": {},
   "outputs": [
    {
     "name": "stdout",
     "output_type": "stream",
     "text": [
      "4.57763671875e-05\n",
      "0.4225846631265552\n"
     ]
    }
   ],
   "source": [
    "# t = time.time()\n",
    "# b = SigKernel_torch(X,X,n)\n",
    "# print(time.time()-t)\n",
    "# print(b.sum().item())\n",
    "\n",
    "t = time.time()\n",
    "print(time.time()-t)\n",
    "b = SigLoss_torch(n).forward(X,Y)\n",
    "print(b.item())"
   ]
  },
  {
   "cell_type": "code",
   "execution_count": 24,
   "metadata": {},
   "outputs": [
    {
     "name": "stdout",
     "output_type": "stream",
     "text": [
      "4.291534423828125e-05\n",
      "0.4225846631265403\n"
     ]
    }
   ],
   "source": [
    "# t = time.time()\n",
    "# c = SigKernel.apply(X,None,n)\n",
    "# print(time.time()-t)\n",
    "# print(c.sum().item())\n",
    "\n",
    "t = time.time()\n",
    "print(time.time()-t)\n",
    "c = SigLoss(n).forward(X,Y)\n",
    "print(c.item())"
   ]
  },
  {
   "cell_type": "code",
   "execution_count": 16,
   "metadata": {},
   "outputs": [],
   "source": [
    "# torch.abs(a.sum() - b.sum()) < 1e-2"
   ]
  },
  {
   "cell_type": "code",
   "execution_count": 8,
   "metadata": {},
   "outputs": [
    {
     "data": {
      "text/plain": [
       "tensor(True)"
      ]
     },
     "execution_count": 8,
     "metadata": {},
     "output_type": "execute_result"
    }
   ],
   "source": [
    "torch.abs(b.sum() - c.sum()) < 1e-6"
   ]
  },
  {
   "cell_type": "code",
   "execution_count": 7,
   "metadata": {},
   "outputs": [],
   "source": [
    "# l = a.mean()\n",
    "# t = time.time()\n",
    "# l.backward()\n",
    "# print(time.time()-t)\n",
    "# a_grad = X.grad\n",
    "# print(a_grad[0][:10,:])"
   ]
  },
  {
   "cell_type": "code",
   "execution_count": 25,
   "metadata": {},
   "outputs": [
    {
     "name": "stdout",
     "output_type": "stream",
     "text": [
      "0.646521806716919\n",
      "tensor([[ 4.3478e-02, -9.0219e-02],\n",
      "        [-2.5751e-02, -3.6979e-02],\n",
      "        [-5.4518e-05,  1.3961e-02],\n",
      "        [-8.1929e-04, -5.5828e-03],\n",
      "        [ 3.5598e-02,  2.9023e-02],\n",
      "        [-6.9951e-02, -4.2953e-02],\n",
      "        [ 6.6387e-02,  2.2030e-02],\n",
      "        [-8.7313e-03,  1.2401e-02],\n",
      "        [-2.0887e-02, -1.9296e-03],\n",
      "        [-2.6239e-02, -3.0252e-02]], dtype=torch.float64)\n"
     ]
    }
   ],
   "source": [
    "# X.grad.data.zero_()\n",
    "t = time.time()\n",
    "# l = b.mean()\n",
    "# l.backward()\n",
    "b.backward()\n",
    "print(time.time()-t)\n",
    "b_grad = X.grad\n",
    "\n",
    "print(b_grad[0][:10,:])"
   ]
  },
  {
   "cell_type": "code",
   "execution_count": 26,
   "metadata": {},
   "outputs": [
    {
     "name": "stdout",
     "output_type": "stream",
     "text": [
      "tensor([-0.4000, -0.4000, -0.4000, -0.4000, -0.4000], dtype=torch.float64)\n",
      "tensor([0.2000, 0.2000, 0.2000, 0.2000, 0.2000], dtype=torch.float64)\n",
      "0.006036043167114258\n",
      "tensor([[ 4.3478e-02, -9.0219e-02],\n",
      "        [-2.5751e-02, -3.6979e-02],\n",
      "        [-5.4518e-05,  1.3961e-02],\n",
      "        [-8.1929e-04, -5.5828e-03],\n",
      "        [ 3.5598e-02,  2.9023e-02],\n",
      "        [-6.9951e-02, -4.2953e-02],\n",
      "        [ 6.6387e-02,  2.2030e-02],\n",
      "        [-8.7313e-03,  1.2401e-02],\n",
      "        [-2.0887e-02, -1.9296e-03],\n",
      "        [-2.6239e-02, -3.0252e-02]], dtype=torch.float64)\n"
     ]
    }
   ],
   "source": [
    "X.grad.data.zero_()\n",
    "t = time.time()\n",
    "# l = c.mean()\n",
    "# l.backward()\n",
    "c.backward()\n",
    "print(time.time()-t)\n",
    "c_grad = X.grad\n",
    "print(c_grad[0][:10,:])"
   ]
  },
  {
   "cell_type": "code",
   "execution_count": 149,
   "metadata": {},
   "outputs": [
    {
     "data": {
      "text/plain": [
       "-1.734723475976807e-18"
      ]
     },
     "execution_count": 149,
     "metadata": {},
     "output_type": "execute_result"
    }
   ],
   "source": [
    "a_grad.sum().item()"
   ]
  },
  {
   "cell_type": "code",
   "execution_count": 10,
   "metadata": {},
   "outputs": [
    {
     "data": {
      "text/plain": [
       "-5.551115123125783e-16"
      ]
     },
     "execution_count": 10,
     "metadata": {},
     "output_type": "execute_result"
    }
   ],
   "source": [
    "b_grad.sum().item()"
   ]
  },
  {
   "cell_type": "code",
   "execution_count": 11,
   "metadata": {},
   "outputs": [
    {
     "data": {
      "text/plain": [
       "-5.551115123125783e-16"
      ]
     },
     "execution_count": 11,
     "metadata": {},
     "output_type": "execute_result"
    }
   ],
   "source": [
    "c_grad.sum().item()"
   ]
  },
  {
   "cell_type": "code",
   "execution_count": 15,
   "metadata": {},
   "outputs": [
    {
     "data": {
      "text/plain": [
       "tensor([[-0.0168,  0.0081],\n",
       "        [ 0.0220, -0.0471],\n",
       "        [-0.0190,  0.1122],\n",
       "        [-0.0022, -0.0779],\n",
       "        [ 0.0062,  0.0161],\n",
       "        [ 0.0203, -0.0392],\n",
       "        [-0.0076,  0.0203],\n",
       "        [-0.0062,  0.0635],\n",
       "        [ 0.0046, -0.0735],\n",
       "        [-0.0168,  0.0360]], dtype=torch.float64)"
      ]
     },
     "execution_count": 15,
     "metadata": {},
     "output_type": "execute_result"
    }
   ],
   "source": [
    "b_grad[0][:10,:]"
   ]
  },
  {
   "cell_type": "code",
   "execution_count": 16,
   "metadata": {},
   "outputs": [
    {
     "data": {
      "text/plain": [
       "tensor([[-0.0168,  0.0081],\n",
       "        [ 0.0220, -0.0471],\n",
       "        [-0.0190,  0.1122],\n",
       "        [-0.0022, -0.0779],\n",
       "        [ 0.0062,  0.0161],\n",
       "        [ 0.0203, -0.0392],\n",
       "        [-0.0076,  0.0203],\n",
       "        [-0.0062,  0.0635],\n",
       "        [ 0.0046, -0.0735],\n",
       "        [-0.0168,  0.0360]], dtype=torch.float64)"
      ]
     },
     "execution_count": 16,
     "metadata": {},
     "output_type": "execute_result"
    }
   ],
   "source": [
    "c_grad[0][:10,:]"
   ]
  },
  {
   "cell_type": "code",
   "execution_count": null,
   "metadata": {},
   "outputs": [],
   "source": []
  }
 ],
 "metadata": {
  "kernelspec": {
   "display_name": "Python 3",
   "language": "python",
   "name": "python3"
  },
  "language_info": {
   "codemirror_mode": {
    "name": "ipython",
    "version": 3
   },
   "file_extension": ".py",
   "mimetype": "text/x-python",
   "name": "python",
   "nbconvert_exporter": "python",
   "pygments_lexer": "ipython3",
   "version": "3.7.4"
  },
  "latex_envs": {
   "LaTeX_envs_menu_present": true,
   "autoclose": false,
   "autocomplete": true,
   "bibliofile": "biblio.bib",
   "cite_by": "apalike",
   "current_citInitial": 1,
   "eqLabelWithNumbers": true,
   "eqNumInitial": 1,
   "hotkeys": {
    "equation": "Ctrl-E",
    "itemize": "Ctrl-I"
   },
   "labels_anchors": false,
   "latex_user_defs": false,
   "report_style_numbering": false,
   "user_envs_cfg": false
  },
  "toc": {
   "nav_menu": {},
   "number_sections": true,
   "sideBar": true,
   "skip_h1_title": false,
   "title_cell": "Table of Contents",
   "title_sidebar": "Contents",
   "toc_cell": true,
   "toc_position": {},
   "toc_section_display": true,
   "toc_window_display": true
  }
 },
 "nbformat": 4,
 "nbformat_minor": 4
}
