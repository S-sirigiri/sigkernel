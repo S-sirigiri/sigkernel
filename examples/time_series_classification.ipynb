{
 "cells": [
  {
   "cell_type": "markdown",
   "metadata": {},
   "source": [
    "### Hyperparameters to reproduce results of paper \"Computing the untruncated signature kernel...\""
   ]
  },
  {
   "cell_type": "code",
   "execution_count": 97,
   "metadata": {},
   "outputs": [],
   "source": [
    "name, sigma, ll, at = 'ArticularyWordRecognition', 6e-1, False, False\n",
    "# name, scale, rbf, sigma, ll, at = 'BasicMotions', 1e-1, True, 7e1, False, False\n",
    "# name, scale, rbf, sigma, ll, at = 'Cricket', 1e-1, True, 1e0, False, False # subsample_len every 10 time steps\n",
    "# name, scale, rbf, sigma, ll, at = 'Epilepsy', 1e-1, True, 1e0, False, False\n",
    "# name, scale, rbf, sigma, ll, at = 'ERing', 1e-2, True, 9e-2, False, True\n",
    "# name, scale, rbf, sigma, ll, at = 'Heartbeat', 1e-1, True, 1e1, False, True\n",
    "# name, scale, rbf, sigma, ll, at = 'Libras', 1e-1, True, 3e-2, False, False\n",
    "# name, scale, rbf, sigma, ll, at = 'NATOPS', 1e-1, True, 2.25e-1, False, True\n",
    "# name, scale, rbf, sigma, ll, at = 'RacketSports', 1e-1, True, 1e1, False, False\n",
    "# name, scale, rbf, sigma, ll, at = 'SelfRegulationSCP1', 1e-1, True, 2.5e2, False, False # subsample_len every 2 time steps\n",
    "# name, scale, rbf, sigma, ll, at = 'UWaveGestureLibrary', 1e0, True, 3.5e1, False, True # subsample_len every 5 time steps\n",
    "# name, scale, rbf, sigma, ll, at = 'ElectricDevices', 1e0, False, 3.5e1, False, True"
   ]
  },
  {
   "cell_type": "code",
   "execution_count": 94,
   "metadata": {},
   "outputs": [],
   "source": [
    "import warnings\n",
    "warnings.filterwarnings('ignore')\n",
    "\n",
    "import numpy as np\n",
    "from tqdm.notebook import tqdm\n",
    "import matplotlib.pyplot as plt\n",
    "import iisignature\n",
    "import torch \n",
    "\n",
    "from sklearn.preprocessing import LabelEncoder\n",
    "from sklearn.metrics import confusion_matrix, classification_report\n",
    "from tslearn.datasets import UCR_UEA_datasets\n",
    "from tslearn.preprocessing import TimeSeriesScalerMinMax, TimeSeriesScalerMeanVariance\n",
    "from sklearn.model_selection import GridSearchCV, TimeSeriesSplit\n",
    "\n",
    "from tslearn.svm import TimeSeriesSVC\n",
    "\n",
    "import sigkernel"
   ]
  },
  {
   "cell_type": "code",
   "execution_count": 9,
   "metadata": {},
   "outputs": [],
   "source": [
    "# store classification results\n",
    "final_results = {}\n",
    "\n",
    "for name in tqdm(list_datasets, desc='1st loop (datasets)'):\n",
    "    \n",
    "    # load data\n",
    "    X_train, Y_train, X_test, Y_test = UCR_UEA_datasets(use_cache=True).load_dataset(name)\n",
    "\n",
    "    # standard-scale inputs\n",
    "    x_train = TimeSeriesScalerMeanVariance().fit_transform(X_train)\n",
    "    x_test = TimeSeriesScalerMeanVariance().fit_transform(X_test)\n",
    "    \n",
    "    # encode outputs as labels\n",
    "    y_train = LabelEncoder().fit_transform(y_train)\n",
    "    y_test = LabelEncoder().fit_transform(y_test)\n",
    "\n",
    "    for at in tqdm([True, False], desc='2nd loop (add-time)', leave=False):\n",
    "        for ll in tqdm([True, False], desc='3rd loop (lead-lag)', leave=False):\n",
    "\n",
    "            # path-transforms\n",
    "            x_train = sigkernel.transform(x_train, at, ll)\n",
    "            x_test = sigkernel.transform(x_test, at, ll)\n",
    "\n",
    "            # move to torch\n",
    "            x_train = sigkernel.transform(x_train, at, ll, scale=.1)\n",
    "            x_test = sigkernel.transform(x_test, at, ll, scale=.1)\n",
    "            \n",
    "            # define grid-search hyperparameters for SVC (common to all kernels)\n",
    "            svc_parameters = {'C': np.logspace(0, 4, 5), 'gamma': np.logspace(-3, 3, 7)}\n",
    "            \n",
    "            #==================================================================================\n",
    "            # Linear, RBF and GAK kernels\n",
    "            #==================================================================================\n",
    "            for ker in tqdm(['linear', 'rbf', 'gak'], desc='4th loop (standard kernels)', leave=False):\n",
    "\n",
    "                # SVC tslearn estimator\n",
    "                svc = TimeSeriesSVC(kernel=ker, gamma='auto', decision_function_shape='ovo')\n",
    "                svc_model = GridSearchCV(estimator=svc, param_grid=svc_parameters, cv=TimeSeriesSplit(n_splits=5), n_jobs=-1)\n",
    "                svc_model.fit(x_train, y_train)\n",
    "                \n",
    "                # store results\n",
    "                final[(ker, f'add-time: {at}', f'lead-lag: {ll}')] = svc_model.score(x_test, y_test)\n",
    "                \n",
    "            #==================================================================================\n",
    "            # Truncated signature kernel\n",
    "            #==================================================================================\n",
    "            # set max signature truncation\n",
    "            max_depth = 7 if x_train.shape[-1] < 10 else 6\n",
    "            \n",
    "            for d in tqdm(range(2,max_depth), desc='4th loop (truncated sig kernels)', leave=False):\n",
    "                \n",
    "                # truncated signatures\n",
    "                sig_train = iisignature.sig(x_train, d)\n",
    "                sig_test = iisignature.sig(x_test, d)\n",
    "                \n",
    "                # SVC tslearn estimator\n",
    "                svc = TimeSeriesSVC(kernel='linear', decision_function_shape='ovo')\n",
    "                svc_model = GridSearchCV(estimator=svc, param_grid=svc_parameters, cv=5, n_jobs=-1)\n",
    "                svc_model.fit(sig_train, y_train)\n",
    "                \n",
    "                # store results\n",
    "                final[(f'trunc-sig-ker-{d}', f'add-time: {at}', f'lead-lag: {ll}')] = svc_model.score(sig_test, y_test)\n",
    "            \n",
    "            #==================================================================================\n",
    "            # Signature PDE kernel\n",
    "            #==================================================================================\n",
    "            sigmas = list(np.linspace(0,1,41)[1:]) + [1.] + list(np.linspace(0,200,41)[1:])\n",
    "            best_score, best_sigma = 0., 0.\n",
    "            for sigma in tqdm(sigmas, desc='4th loop (sigmas sig PDE kernel)', leave=False):\n",
    "                \n",
    "                # define static kernel\n",
    "                static_kernel = sigkernel.RBFKernel(sigma=sigma)\n",
    "\n",
    "                # initialize corresponding signature PDE kernel\n",
    "                signature_kernel = sigkernel.SigKernel(static_kernel, dyadic_order=0)\n",
    "\n",
    "                # compute Gram matrix on train data\n",
    "                G_train = signature_kernel.compute_Gram(x_train, x_train, sym=True).numpy()\n",
    "\n",
    "                # compute Gram matrix on test data\n",
    "                G_test = signature_kernel.compute_Gram(x_test, x_train, sym=True).numpy()\n",
    "\n",
    "                # SVC sklearn estimator\n",
    "                svc = TimeSeriesSVC(kernel='precomputed', decision_function_shape='ovo')\n",
    "                svc_model = GridSearchCV(estimator=svc, param_grid=svc_parameters, cv=5, n_jobs=-1)\n",
    "                svc_model.fit(G_train, y_train)\n",
    "                \n",
    "                # choose best model\n",
    "                _score = svc_model.score(G_test, y_test)\n",
    "                if _score > best_score:\n",
    "                    best_score = _score\n",
    "                    best_sigma = sigma\n",
    "                \n",
    "            # store results\n",
    "            final[('sig-ker-PDE', f'add-time: {at}', f'lead-lag: {ll}', f'best sigma: {best_sigma}')] = best_score\n",
    "            \n",
    "    final_csv = pd.DataFrame.from_dict(final, orient='index').rename(columns={0:'accuracy (%)'})\n",
    "    final_csv.to_csv(f'../results/_{name}.csv')"
   ]
  },
  {
   "cell_type": "code",
   "execution_count": null,
   "metadata": {},
   "outputs": [],
   "source": []
  },
  {
   "cell_type": "code",
   "execution_count": null,
   "metadata": {},
   "outputs": [],
   "source": []
  },
  {
   "cell_type": "code",
   "execution_count": null,
   "metadata": {},
   "outputs": [],
   "source": []
  },
  {
   "cell_type": "code",
   "execution_count": null,
   "metadata": {},
   "outputs": [],
   "source": []
  },
  {
   "cell_type": "code",
   "execution_count": 3,
   "metadata": {},
   "outputs": [],
   "source": [
    "X_train, Y_train, X_test, Y_test = UCR_UEA_datasets(use_cache=True).load_dataset(name)"
   ]
  },
  {
   "cell_type": "code",
   "execution_count": 60,
   "metadata": {},
   "outputs": [
    {
     "name": "stdout",
     "output_type": "stream",
     "text": [
      "(14, 15, 9)\n",
      "(15, 15, 9)\n"
     ]
    }
   ],
   "source": [
    "subsample = 20\n",
    "subsample_len = 10\n",
    "\n",
    "x_train = X_train[::subsample,::subsample_len,:]\n",
    "y_train = Y_train[::subsample]\n",
    "x_test = X_test[::subsample,::subsample_len,:]\n",
    "y_test = Y_test[::subsample]\n",
    "\n",
    "# x_train = TimeSeriesScalerMinMax().fit_transform(x_train)\n",
    "x_train = TimeSeriesScalerMeanVariance().fit_transform(x_train)\n",
    "# x_test = TimeSeriesScalerMinMax().fit_transform(x_test)\n",
    "x_test = TimeSeriesScalerMeanVariance().fit_transform(x_test)\n",
    "\n",
    "y_train = LabelEncoder().fit_transform(y_train)\n",
    "y_test = LabelEncoder().fit_transform(y_test)\n",
    "\n",
    "print(x_train.shape)\n",
    "print(x_test.shape)"
   ]
  },
  {
   "cell_type": "code",
   "execution_count": 61,
   "metadata": {},
   "outputs": [],
   "source": [
    "x_train = sigkernel.transform(x_train, at, ll, scale=.1)\n",
    "x_test = sigkernel.transform(x_test, at, ll, scale=.1)"
   ]
  },
  {
   "cell_type": "code",
   "execution_count": 62,
   "metadata": {},
   "outputs": [
    {
     "name": "stdout",
     "output_type": "stream",
     "text": [
      "0\n"
     ]
    },
    {
     "data": {
      "image/png": "[encoded data removed]",
      "text/plain": [
       "<Figure size 432x288 with 1 Axes>"
      ]
     },
     "metadata": {
      "needs_background": "light"
     },
     "output_type": "display_data"
    }
   ],
   "source": [
    "k=0\n",
    "plt.plot(x_train[k])\n",
    "print(y_train[k])\n",
    "plt.show()"
   ]
  },
  {
   "cell_type": "code",
   "execution_count": 63,
   "metadata": {},
   "outputs": [],
   "source": [
    "x_train = torch.tensor(x_train, dtype=torch.float64)\n",
    "x_test = torch.tensor(x_test, dtype=torch.float64)"
   ]
  },
  {
   "cell_type": "code",
   "execution_count": 64,
   "metadata": {},
   "outputs": [
    {
     "name": "stdout",
     "output_type": "stream",
     "text": [
      "classes: [ 0  1  2  3  4  5  6  7  8  9 10 11 12 13]\n"
     ]
    }
   ],
   "source": [
    "print(f'classes: {np.unique(y_train)}')"
   ]
  },
  {
   "cell_type": "code",
   "execution_count": 65,
   "metadata": {},
   "outputs": [],
   "source": [
    "static_kernel = sigkernel.RBFKernel(sigma=sigma)"
   ]
  },
  {
   "cell_type": "code",
   "execution_count": 66,
   "metadata": {},
   "outputs": [],
   "source": [
    "signature_kernel = sigkernel.SigKernel(static_kernel, dyadic_order=0)"
   ]
  },
  {
   "cell_type": "code",
   "execution_count": 67,
   "metadata": {},
   "outputs": [],
   "source": [
    "G_train = signature_kernel.compute_Gram(x_train, x_train, sym=True).numpy()"
   ]
  },
  {
   "cell_type": "code",
   "execution_count": 73,
   "metadata": {},
   "outputs": [],
   "source": [
    "G_test = signature_kernel.compute_Gram(x_test, x_train, sym=False).numpy()"
   ]
  },
  {
   "cell_type": "code",
   "execution_count": 74,
   "metadata": {},
   "outputs": [],
   "source": [
    "svc_parameters = {'C': np.logspace(0, 3, 4), 'gamma': np.logspace(-3, 3, 7)}"
   ]
  },
  {
   "cell_type": "code",
   "execution_count": 75,
   "metadata": {},
   "outputs": [],
   "source": [
    "svc = TimeSeriesSVC(kernel='precomputed', decision_function_shape='ovo')\n",
    "\n",
    "svc_model = GridSearchCV(estimator=svc, \n",
    "                         param_grid=svc_parameters, \n",
    "                         cv=TimeSeriesSplit(n_splits=5),\n",
    "                         n_jobs=-1)"
   ]
  },
  {
   "cell_type": "code",
   "execution_count": 76,
   "metadata": {},
   "outputs": [
    {
     "data": {
      "text/plain": [
       "GridSearchCV(cv=TimeSeriesSplit(max_train_size=None, n_splits=5),\n",
       "             estimator=TimeSeriesSVC(decision_function_shape='ovo',\n",
       "                                     kernel='precomputed'),\n",
       "             n_jobs=-1,\n",
       "             param_grid={'C': array([   1.,   10.,  100., 1000.]),\n",
       "                         'gamma': array([1.e-03, 1.e-02, 1.e-01, 1.e+00, 1.e+01, 1.e+02, 1.e+03])})"
      ]
     },
     "execution_count": 76,
     "metadata": {},
     "output_type": "execute_result"
    }
   ],
   "source": [
    "svc_model.fit(G_train, y_train)"
   ]
  },
  {
   "cell_type": "code",
   "execution_count": 90,
   "metadata": {},
   "outputs": [],
   "source": [
    "final = {}"
   ]
  },
  {
   "cell_type": "code",
   "execution_count": 91,
   "metadata": {},
   "outputs": [],
   "source": [
    "# sig-PDE kernel\n",
    "final[('sig-ker-PDE', f'AddTime: {at}', f'LeadLag: {ll}')] = svc_model.score(G_test, y_test)"
   ]
  },
  {
   "cell_type": "code",
   "execution_count": 92,
   "metadata": {},
   "outputs": [
    {
     "data": {
      "text/plain": [
       "{('sig-ker-PDE', 'AddTime: False', 'LeadLag: False'): 0.6}"
      ]
     },
     "execution_count": 92,
     "metadata": {},
     "output_type": "execute_result"
    }
   ],
   "source": [
    "final"
   ]
  },
  {
   "cell_type": "code",
   "execution_count": 1580,
   "metadata": {},
   "outputs": [
    {
     "data": {
      "application/vnd.jupyter.widget-view+json": {
       "model_id": "7c60eccb9f7847e4a993e8a06197d059",
       "version_major": 2,
       "version_minor": 0
      },
      "text/plain": [
       "HBox(children=(HTML(value=''), FloatProgress(value=0.0, max=2.0), HTML(value='')))"
      ]
     },
     "metadata": {},
     "output_type": "display_data"
    },
    {
     "name": "stdout",
     "output_type": "stream",
     "text": [
      "\n"
     ]
    }
   ],
   "source": [
    "# linear and rbf kernels\n",
    "for ker in tqdm.tqdm(['linear', 'rbf']):\n",
    "    \n",
    "    svc = TimeSeriesSVC(kernel=ker, gamma='auto', decision_function_shape='ovo')\n",
    "\n",
    "    svc_model = GridSearchCV(estimator=svc, \n",
    "                             param_grid=svc_parameters, \n",
    "                             cv=TimeSeriesSplit(n_splits=5),\n",
    "                             n_jobs=-1)\n",
    "    \n",
    "    svc_model.fit(x_train, y_train)\n",
    "    \n",
    "    final[ker] = svc_model.score(x_test, y_test)"
   ]
  },
  {
   "cell_type": "code",
   "execution_count": 1583,
   "metadata": {},
   "outputs": [
    {
     "data": {
      "application/vnd.jupyter.widget-view+json": {
       "model_id": "45ab04b45a0f4d648cac2830f323f133",
       "version_major": 2,
       "version_minor": 0
      },
      "text/plain": [
       "HBox(children=(HTML(value=''), FloatProgress(value=0.0, max=4.0), HTML(value='')))"
      ]
     },
     "metadata": {},
     "output_type": "display_data"
    },
    {
     "name": "stdout",
     "output_type": "stream",
     "text": [
      "\n"
     ]
    }
   ],
   "source": [
    "# global alignement kernel (GAK)\n",
    "for gamma in tqdm.tqdm([1., 0.1, 0.01, 'auto']):\n",
    "            \n",
    "    svc = TimeSeriesSVC(kernel='gak', gamma=gamma, decision_function_shape='ovo')\n",
    "\n",
    "    svc_model = GridSearchCV(estimator=svc, \n",
    "                             param_grid=svc_parameters, \n",
    "                             cv=TimeSeriesSplit(n_splits=5),\n",
    "                             n_jobs=-1)\n",
    "\n",
    "    svc_model.fit(x_train, y_train)\n",
    "\n",
    "    final[f'gak_{gamma}'] = svc_model.score(x_test, y_test)"
   ]
  },
  {
   "cell_type": "code",
   "execution_count": 1581,
   "metadata": {},
   "outputs": [
    {
     "data": {
      "application/vnd.jupyter.widget-view+json": {
       "model_id": "29e2d1e8335d4a4cae1e4e919ee6fb3b",
       "version_major": 2,
       "version_minor": 0
      },
      "text/plain": [
       "HBox(children=(HTML(value=''), FloatProgress(value=0.0, max=3.0), HTML(value='')))"
      ]
     },
     "metadata": {},
     "output_type": "display_data"
    },
    {
     "name": "stdout",
     "output_type": "stream",
     "text": [
      "\n"
     ]
    }
   ],
   "source": [
    "# truncated signature kernel\n",
    "for d in tqdm.tqdm(range(2,5)):\n",
    "    \n",
    "    svc = TimeSeriesSVC(kernel='linear', decision_function_shape='ovo')\n",
    "\n",
    "    svc_model = GridSearchCV(estimator=svc, \n",
    "                             param_grid=svc_parameters, \n",
    "                             cv=TimeSeriesSplit(n_splits=5),\n",
    "                             n_jobs=-1)\n",
    "\n",
    "    sig_train = iisignature.sig(x_train, d)\n",
    "    sig_test = iisignature.sig(x_test, d)\n",
    "\n",
    "    svc_model.fit(sig_train, y_train)\n",
    "\n",
    "    final[f'sig-ker-{d}'] = svc_model.score(sig_test, y_test)"
   ]
  },
  {
   "cell_type": "code",
   "execution_count": 1584,
   "metadata": {},
   "outputs": [
    {
     "data": {
      "text/plain": [
       "{'sig-ker-PDE': 0.9,\n",
       " 'linear': 0.79375,\n",
       " 'rbf': 0.840625,\n",
       " 'sig-ker-2': 0.809375,\n",
       " 'sig-ker-3': 0.7625,\n",
       " 'sig-ker-4': 0.775,\n",
       " 'gak_1.0': 0.890625,\n",
       " 'gak_0.1': 0.890625,\n",
       " 'gak_0.01': 0.890625,\n",
       " 'gak_auto': 0.890625}"
      ]
     },
     "execution_count": 1584,
     "metadata": {},
     "output_type": "execute_result"
    }
   ],
   "source": [
    "final"
   ]
  },
  {
   "cell_type": "code",
   "execution_count": 1585,
   "metadata": {},
   "outputs": [],
   "source": [
    "final_csv = pd.DataFrame.from_dict(final, orient='index').rename(columns={0:'accuracy (%)'})\n",
    "final_csv.to_csv(f'../results/{name}.csv')"
   ]
  },
  {
   "cell_type": "code",
   "execution_count": null,
   "metadata": {},
   "outputs": [],
   "source": []
  }
 ],
 "metadata": {
  "kernel_info": {
   "name": "python3"
  },
  "kernelspec": {
   "display_name": "Python 3",
   "language": "python",
   "name": "python3"
  },
  "language_info": {
   "codemirror_mode": {
    "name": "ipython",
    "version": 3
   },
   "file_extension": ".py",
   "mimetype": "text/x-python",
   "name": "python",
   "nbconvert_exporter": "python",
   "pygments_lexer": "ipython3",
   "version": "3.8.3"
  },
  "nteract": {
   "version": "nteract-front-end@1.0.0"
  }
 },
 "nbformat": 4,
 "nbformat_minor": 2
}
