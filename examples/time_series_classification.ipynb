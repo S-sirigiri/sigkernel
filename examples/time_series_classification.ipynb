{
 "cells": [
  {
   "cell_type": "markdown",
   "metadata": {},
   "source": [
    "### Hyperparameters to reproduce results of paper \"Computing the untruncated signature kernel...\""
   ]
  },
  {
   "cell_type": "code",
   "execution_count": 2,
   "metadata": {},
   "outputs": [],
   "source": [
    "# name, sigma, ll, at = 'ArticularyWordRecognition', 6e-1, False, False\n",
    "# name, scale, rbf, sigma, ll, at = 'BasicMotions', 1e-1, True, 7e1, False, False\n",
    "# name, scale, rbf, sigma, ll, at = 'Cricket', 1e-1, True, 1e0, False, False # subsample_len every 10 time steps\n",
    "# name, scale, rbf, sigma, ll, at = 'Epilepsy', 1e-1, True, 1e0, False, False\n",
    "# name, scale, rbf, sigma, ll, at = 'ERing', 1e-2, True, 9e-2, False, True\n",
    "# name, scale, rbf, sigma, ll, at = 'Heartbeat', 1e-1, True, 1e1, False, True\n",
    "# name, scale, rbf, sigma, ll, at = 'Libras', 1e-1, True, 3e-2, False, False\n",
    "# name, scale, rbf, sigma, ll, at = 'NATOPS', 1e-1, True, 2.25e-1, False, True\n",
    "# name, scale, rbf, sigma, ll, at = 'RacketSports', 1e-1, True, 1e1, False, False\n",
    "# name, scale, rbf, sigma, ll, at = 'SelfRegulationSCP1', 1e-1, True, 2.5e2, False, False # subsample_len every 2 time steps\n",
    "# name, scale, rbf, sigma, ll, at = 'UWaveGestureLibrary', 1e0, True, 3.5e1, False, True # subsample_len every 5 time steps\n",
    "# name, scale, rbf, sigma, ll, at = 'ElectricDevices', 1e0, False, 3.5e1, False, True"
   ]
  },
  {
   "cell_type": "code",
   "execution_count": 3,
   "metadata": {},
   "outputs": [],
   "source": [
    "import warnings\n",
    "warnings.filterwarnings('ignore')\n",
    "\n",
    "import numpy as np\n",
    "import pandas as pd\n",
    "from tqdm.notebook import tqdm\n",
    "import matplotlib.pyplot as plt\n",
    "import iisignature\n",
    "import torch \n",
    "\n",
    "from sklearn.preprocessing import LabelEncoder\n",
    "from sklearn.metrics import confusion_matrix, classification_report\n",
    "from tslearn.datasets import UCR_UEA_datasets\n",
    "from tslearn.preprocessing import TimeSeriesScalerMinMax, TimeSeriesScalerMeanVariance\n",
    "from sklearn.model_selection import GridSearchCV, TimeSeriesSplit\n",
    "\n",
    "from tslearn.svm import TimeSeriesSVC\n",
    "\n",
    "import sigkernel"
   ]
  },
  {
   "cell_type": "code",
   "execution_count": 19,
   "metadata": {},
   "outputs": [],
   "source": [
    "X_train, Y_train, X_test, Y_test = UCR_UEA_datasets(use_cache=True).load_dataset('Epilepsy')"
   ]
  },
  {
   "cell_type": "code",
   "execution_count": 20,
   "metadata": {},
   "outputs": [
    {
     "data": {
      "text/plain": [
       "(137, 206, 3)"
      ]
     },
     "execution_count": 20,
     "metadata": {},
     "output_type": "execute_result"
    }
   ],
   "source": [
    "X_train.shape"
   ]
  },
  {
   "cell_type": "code",
   "execution_count": 22,
   "metadata": {},
   "outputs": [
    {
     "data": {
      "application/vnd.jupyter.widget-view+json": {
       "model_id": "1ac0c3a69c894767b989699afee8442c",
       "version_major": 2,
       "version_minor": 0
      },
      "text/plain": [
       "  0%|          | 0/1 [00:00<?, ?it/s]"
      ]
     },
     "metadata": {},
     "output_type": "display_data"
    },
    {
     "data": {
      "application/vnd.jupyter.widget-view+json": {
       "model_id": "efb95bb2b34844518ff0ef2ea8ba845e",
       "version_major": 2,
       "version_minor": 0
      },
      "text/plain": [
       "  0%|          | 0/81 [00:00<?, ?it/s]"
      ]
     },
     "metadata": {},
     "output_type": "display_data"
    },
    {
     "ename": "RuntimeError",
     "evalue": "CUDA out of memory. Tried to allocate 5.94 GiB (GPU 0; 15.90 GiB total capacity; 9.65 GiB already allocated; 5.50 GiB free; 9.70 GiB reserved in total by PyTorch)",
     "output_type": "error",
     "traceback": [
      "\u001b[0;31m---------------------------------------------------------------------------\u001b[0m",
      "\u001b[0;31mRuntimeError\u001b[0m                              Traceback (most recent call last)",
      "\u001b[0;32m<ipython-input-22-5ee9df27feab>\u001b[0m in \u001b[0;36m<module>\u001b[0;34m\u001b[0m\n\u001b[1;32m     95\u001b[0m \u001b[0;34m\u001b[0m\u001b[0m\n\u001b[1;32m     96\u001b[0m         \u001b[0;31m# compute Gram matrix on train data\u001b[0m\u001b[0;34m\u001b[0m\u001b[0;34m\u001b[0m\u001b[0;34m\u001b[0m\u001b[0m\n\u001b[0;32m---> 97\u001b[0;31m         \u001b[0mG_train\u001b[0m \u001b[0;34m=\u001b[0m \u001b[0msignature_kernel\u001b[0m\u001b[0;34m.\u001b[0m\u001b[0mcompute_Gram\u001b[0m\u001b[0;34m(\u001b[0m\u001b[0mx_train\u001b[0m\u001b[0;34m,\u001b[0m \u001b[0mx_train\u001b[0m\u001b[0;34m,\u001b[0m \u001b[0msym\u001b[0m\u001b[0;34m=\u001b[0m\u001b[0;32mTrue\u001b[0m\u001b[0;34m)\u001b[0m\u001b[0;34m.\u001b[0m\u001b[0mcpu\u001b[0m\u001b[0;34m(\u001b[0m\u001b[0;34m)\u001b[0m\u001b[0;34m.\u001b[0m\u001b[0mnumpy\u001b[0m\u001b[0;34m(\u001b[0m\u001b[0;34m)\u001b[0m\u001b[0;34m\u001b[0m\u001b[0;34m\u001b[0m\u001b[0m\n\u001b[0m\u001b[1;32m     98\u001b[0m \u001b[0;34m\u001b[0m\u001b[0m\n\u001b[1;32m     99\u001b[0m         \u001b[0;31m# compute Gram matrix on test data\u001b[0m\u001b[0;34m\u001b[0m\u001b[0;34m\u001b[0m\u001b[0;34m\u001b[0m\u001b[0m\n",
      "\u001b[0;32m/anaconda/envs/azureml_py36/lib/python3.6/site-packages/sigkernel/sigkernel.py\u001b[0m in \u001b[0;36mcompute_Gram\u001b[0;34m(self, X, Y, sym)\u001b[0m\n\u001b[1;32m    102\u001b[0m                   \u001b[0;34m-\u001b[0m \u001b[0mmatrix\u001b[0m \u001b[0mk\u001b[0m\u001b[0;34m(\u001b[0m\u001b[0mX\u001b[0m\u001b[0;34m^\u001b[0m\u001b[0mi_T\u001b[0m\u001b[0;34m,\u001b[0m\u001b[0mY\u001b[0m\u001b[0;34m^\u001b[0m\u001b[0mj_T\u001b[0m\u001b[0;34m)\u001b[0m \u001b[0mof\u001b[0m \u001b[0mshape\u001b[0m \u001b[0;34m(\u001b[0m\u001b[0mbatch_X\u001b[0m\u001b[0;34m,\u001b[0m \u001b[0mbatch_Y\u001b[0m\u001b[0;34m)\u001b[0m\u001b[0;34m\u001b[0m\u001b[0;34m\u001b[0m\u001b[0m\n\u001b[1;32m    103\u001b[0m         \"\"\"\n\u001b[0;32m--> 104\u001b[0;31m         \u001b[0;32mreturn\u001b[0m \u001b[0m_SigKernelGram\u001b[0m\u001b[0;34m.\u001b[0m\u001b[0mapply\u001b[0m\u001b[0;34m(\u001b[0m\u001b[0mX\u001b[0m\u001b[0;34m,\u001b[0m \u001b[0mY\u001b[0m\u001b[0;34m,\u001b[0m \u001b[0mself\u001b[0m\u001b[0;34m.\u001b[0m\u001b[0mstatic_kernel\u001b[0m\u001b[0;34m,\u001b[0m \u001b[0mself\u001b[0m\u001b[0;34m.\u001b[0m\u001b[0mdyadic_order\u001b[0m\u001b[0;34m,\u001b[0m \u001b[0msym\u001b[0m\u001b[0;34m,\u001b[0m \u001b[0mself\u001b[0m\u001b[0;34m.\u001b[0m\u001b[0m_naive_solver\u001b[0m\u001b[0;34m)\u001b[0m\u001b[0;34m\u001b[0m\u001b[0;34m\u001b[0m\u001b[0m\n\u001b[0m\u001b[1;32m    105\u001b[0m \u001b[0;34m\u001b[0m\u001b[0m\n\u001b[1;32m    106\u001b[0m     \u001b[0;32mdef\u001b[0m \u001b[0mcompute_distance\u001b[0m\u001b[0;34m(\u001b[0m\u001b[0mself\u001b[0m\u001b[0;34m,\u001b[0m \u001b[0mX\u001b[0m\u001b[0;34m,\u001b[0m \u001b[0mY\u001b[0m\u001b[0;34m)\u001b[0m\u001b[0;34m:\u001b[0m\u001b[0;34m\u001b[0m\u001b[0;34m\u001b[0m\u001b[0m\n",
      "\u001b[0;32m/anaconda/envs/azureml_py36/lib/python3.6/site-packages/sigkernel/sigkernel.py\u001b[0m in \u001b[0;36mforward\u001b[0;34m(ctx, X, Y, static_kernel, dyadic_order, sym, _naive_solver)\u001b[0m\n\u001b[1;32m    290\u001b[0m \u001b[0;34m\u001b[0m\u001b[0m\n\u001b[1;32m    291\u001b[0m         \u001b[0;31m# computing dsdt k(X^i_s,Y^j_t)\u001b[0m\u001b[0;34m\u001b[0m\u001b[0;34m\u001b[0m\u001b[0;34m\u001b[0m\u001b[0m\n\u001b[0;32m--> 292\u001b[0;31m         \u001b[0mG_static\u001b[0m \u001b[0;34m=\u001b[0m \u001b[0mstatic_kernel\u001b[0m\u001b[0;34m.\u001b[0m\u001b[0mGram_matrix\u001b[0m\u001b[0;34m(\u001b[0m\u001b[0mX\u001b[0m\u001b[0;34m,\u001b[0m\u001b[0mY\u001b[0m\u001b[0;34m)\u001b[0m\u001b[0;34m\u001b[0m\u001b[0;34m\u001b[0m\u001b[0m\n\u001b[0m\u001b[1;32m    293\u001b[0m         \u001b[0mG_static_\u001b[0m \u001b[0;34m=\u001b[0m \u001b[0mG_static\u001b[0m\u001b[0;34m[\u001b[0m\u001b[0;34m:\u001b[0m\u001b[0;34m,\u001b[0m\u001b[0;34m:\u001b[0m\u001b[0;34m,\u001b[0m\u001b[0;36m1\u001b[0m\u001b[0;34m:\u001b[0m\u001b[0;34m,\u001b[0m\u001b[0;36m1\u001b[0m\u001b[0;34m:\u001b[0m\u001b[0;34m]\u001b[0m \u001b[0;34m+\u001b[0m \u001b[0mG_static\u001b[0m\u001b[0;34m[\u001b[0m\u001b[0;34m:\u001b[0m\u001b[0;34m,\u001b[0m\u001b[0;34m:\u001b[0m\u001b[0;34m,\u001b[0m\u001b[0;34m:\u001b[0m\u001b[0;34m-\u001b[0m\u001b[0;36m1\u001b[0m\u001b[0;34m,\u001b[0m\u001b[0;34m:\u001b[0m\u001b[0;34m-\u001b[0m\u001b[0;36m1\u001b[0m\u001b[0;34m]\u001b[0m \u001b[0;34m-\u001b[0m \u001b[0mG_static\u001b[0m\u001b[0;34m[\u001b[0m\u001b[0;34m:\u001b[0m\u001b[0;34m,\u001b[0m\u001b[0;34m:\u001b[0m\u001b[0;34m,\u001b[0m\u001b[0;36m1\u001b[0m\u001b[0;34m:\u001b[0m\u001b[0;34m,\u001b[0m\u001b[0;34m:\u001b[0m\u001b[0;34m-\u001b[0m\u001b[0;36m1\u001b[0m\u001b[0;34m]\u001b[0m \u001b[0;34m-\u001b[0m \u001b[0mG_static\u001b[0m\u001b[0;34m[\u001b[0m\u001b[0;34m:\u001b[0m\u001b[0;34m,\u001b[0m\u001b[0;34m:\u001b[0m\u001b[0;34m,\u001b[0m\u001b[0;34m:\u001b[0m\u001b[0;34m-\u001b[0m\u001b[0;36m1\u001b[0m\u001b[0;34m,\u001b[0m\u001b[0;36m1\u001b[0m\u001b[0;34m:\u001b[0m\u001b[0;34m]\u001b[0m\u001b[0;34m\u001b[0m\u001b[0;34m\u001b[0m\u001b[0m\n\u001b[1;32m    294\u001b[0m         \u001b[0mG_static_\u001b[0m \u001b[0;34m=\u001b[0m \u001b[0mtile\u001b[0m\u001b[0;34m(\u001b[0m\u001b[0mtile\u001b[0m\u001b[0;34m(\u001b[0m\u001b[0mG_static_\u001b[0m\u001b[0;34m,\u001b[0m\u001b[0;36m2\u001b[0m\u001b[0;34m,\u001b[0m\u001b[0;36m2\u001b[0m\u001b[0;34m**\u001b[0m\u001b[0mdyadic_order\u001b[0m\u001b[0;34m)\u001b[0m\u001b[0;34m/\u001b[0m\u001b[0mfloat\u001b[0m\u001b[0;34m(\u001b[0m\u001b[0;36m2\u001b[0m\u001b[0;34m**\u001b[0m\u001b[0mdyadic_order\u001b[0m\u001b[0;34m)\u001b[0m\u001b[0;34m,\u001b[0m\u001b[0;36m3\u001b[0m\u001b[0;34m,\u001b[0m\u001b[0;36m2\u001b[0m\u001b[0;34m**\u001b[0m\u001b[0mdyadic_order\u001b[0m\u001b[0;34m)\u001b[0m\u001b[0;34m/\u001b[0m\u001b[0mfloat\u001b[0m\u001b[0;34m(\u001b[0m\u001b[0;36m2\u001b[0m\u001b[0;34m**\u001b[0m\u001b[0mdyadic_order\u001b[0m\u001b[0;34m)\u001b[0m\u001b[0;34m\u001b[0m\u001b[0;34m\u001b[0m\u001b[0m\n",
      "\u001b[0;32m/anaconda/envs/azureml_py36/lib/python3.6/site-packages/sigkernel/sigkernel.py\u001b[0m in \u001b[0;36mGram_matrix\u001b[0;34m(self, X, Y)\u001b[0m\n\u001b[1;32m     68\u001b[0m         \u001b[0mXs\u001b[0m \u001b[0;34m=\u001b[0m \u001b[0mtorch\u001b[0m\u001b[0;34m.\u001b[0m\u001b[0msum\u001b[0m\u001b[0;34m(\u001b[0m\u001b[0mX\u001b[0m\u001b[0;34m**\u001b[0m\u001b[0;36m2\u001b[0m\u001b[0;34m,\u001b[0m \u001b[0mdim\u001b[0m\u001b[0;34m=\u001b[0m\u001b[0;36m2\u001b[0m\u001b[0;34m)\u001b[0m\u001b[0;34m\u001b[0m\u001b[0;34m\u001b[0m\u001b[0m\n\u001b[1;32m     69\u001b[0m         \u001b[0mYs\u001b[0m \u001b[0;34m=\u001b[0m \u001b[0mtorch\u001b[0m\u001b[0;34m.\u001b[0m\u001b[0msum\u001b[0m\u001b[0;34m(\u001b[0m\u001b[0mY\u001b[0m\u001b[0;34m**\u001b[0m\u001b[0;36m2\u001b[0m\u001b[0;34m,\u001b[0m \u001b[0mdim\u001b[0m\u001b[0;34m=\u001b[0m\u001b[0;36m2\u001b[0m\u001b[0;34m)\u001b[0m\u001b[0;34m\u001b[0m\u001b[0;34m\u001b[0m\u001b[0m\n\u001b[0;32m---> 70\u001b[0;31m         \u001b[0mdist\u001b[0m \u001b[0;34m=\u001b[0m \u001b[0;34m-\u001b[0m\u001b[0;36m2.\u001b[0m\u001b[0;34m*\u001b[0m\u001b[0mtorch\u001b[0m\u001b[0;34m.\u001b[0m\u001b[0meinsum\u001b[0m\u001b[0;34m(\u001b[0m\u001b[0;34m'ipk,jqk->ijpq'\u001b[0m\u001b[0;34m,\u001b[0m \u001b[0mX\u001b[0m\u001b[0;34m,\u001b[0m \u001b[0mY\u001b[0m\u001b[0;34m)\u001b[0m\u001b[0;34m\u001b[0m\u001b[0;34m\u001b[0m\u001b[0m\n\u001b[0m\u001b[1;32m     71\u001b[0m         \u001b[0mdist\u001b[0m \u001b[0;34m+=\u001b[0m \u001b[0mtorch\u001b[0m\u001b[0;34m.\u001b[0m\u001b[0mreshape\u001b[0m\u001b[0;34m(\u001b[0m\u001b[0mXs\u001b[0m\u001b[0;34m,\u001b[0m\u001b[0;34m(\u001b[0m\u001b[0mA\u001b[0m\u001b[0;34m,\u001b[0m\u001b[0;36m1\u001b[0m\u001b[0;34m,\u001b[0m\u001b[0mM\u001b[0m\u001b[0;34m,\u001b[0m\u001b[0;36m1\u001b[0m\u001b[0;34m)\u001b[0m\u001b[0;34m)\u001b[0m \u001b[0;34m+\u001b[0m \u001b[0mtorch\u001b[0m\u001b[0;34m.\u001b[0m\u001b[0mreshape\u001b[0m\u001b[0;34m(\u001b[0m\u001b[0mYs\u001b[0m\u001b[0;34m,\u001b[0m\u001b[0;34m(\u001b[0m\u001b[0;36m1\u001b[0m\u001b[0;34m,\u001b[0m\u001b[0mB\u001b[0m\u001b[0;34m,\u001b[0m\u001b[0;36m1\u001b[0m\u001b[0;34m,\u001b[0m\u001b[0mN\u001b[0m\u001b[0;34m)\u001b[0m\u001b[0;34m)\u001b[0m\u001b[0;34m\u001b[0m\u001b[0;34m\u001b[0m\u001b[0m\n\u001b[1;32m     72\u001b[0m         \u001b[0;32mreturn\u001b[0m \u001b[0mtorch\u001b[0m\u001b[0;34m.\u001b[0m\u001b[0mexp\u001b[0m\u001b[0;34m(\u001b[0m\u001b[0;34m-\u001b[0m\u001b[0mdist\u001b[0m\u001b[0;34m/\u001b[0m\u001b[0mself\u001b[0m\u001b[0;34m.\u001b[0m\u001b[0msigma\u001b[0m\u001b[0;34m)\u001b[0m\u001b[0;34m\u001b[0m\u001b[0;34m\u001b[0m\u001b[0m\n",
      "\u001b[0;31mRuntimeError\u001b[0m: CUDA out of memory. Tried to allocate 5.94 GiB (GPU 0; 15.90 GiB total capacity; 9.65 GiB already allocated; 5.50 GiB free; 9.70 GiB reserved in total by PyTorch)"
     ]
    }
   ],
   "source": [
    "# store classification results\n",
    "final = {}\n",
    "\n",
    "datasets = tqdm([\n",
    "#             'ArticularyWordRecognition'\n",
    "#             'BasicMotions',\n",
    "#             'Cricket',\n",
    "            'Epilepsy'\n",
    "           ])\n",
    "\n",
    "for name in datasets:\n",
    "    datasets.set_description(f\"processing dataset: {name}\")\n",
    "    \n",
    "    # load data\n",
    "    X_train, Y_train, X_test, Y_test = UCR_UEA_datasets(use_cache=True).load_dataset(name)\n",
    "    \n",
    "    # subsample every time steps if length exceeds 1000\n",
    "    if X_train.shape[1]>1000:\n",
    "        subsample = 10\n",
    "        X_train = X_train[:,::subsample,:]\n",
    "        X_test = X_test[:,::subsample,:]\n",
    "\n",
    "    # standard-scale inputs\n",
    "    x_train = TimeSeriesScalerMeanVariance().fit_transform(X_train)\n",
    "    x_test = TimeSeriesScalerMeanVariance().fit_transform(X_test)\n",
    "    \n",
    "    # path-transforms\n",
    "    x_train = sigkernel.transform(x_train, at=True, scale=.1)\n",
    "    x_test = sigkernel.transform(x_test, at=True, scale=.1)\n",
    "    \n",
    "    # encode outputs as labels\n",
    "    y_train = LabelEncoder().fit_transform(Y_train)\n",
    "    y_test = LabelEncoder().fit_transform(Y_test)\n",
    "\n",
    "    # define grid-search hyperparameters for SVC (common to all kernels)\n",
    "    svc_parameters = {'C': np.logspace(0, 4, 5), 'gamma': np.logspace(-3, 3, 7)}\n",
    "\n",
    "    #==================================================================================\n",
    "    # Linear, RBF and GAK kernels\n",
    "    #==================================================================================\n",
    "#             for ker in tqdm(['linear', 'rbf', 'gak'], desc=f'4th loop (standard kernels)', leave=False):\n",
    "\n",
    "#                 # SVC tslearn estimator\n",
    "#                 svc = TimeSeriesSVC(kernel=ker, gamma='auto', decision_function_shape='ovo')\n",
    "#                 svc_model = GridSearchCV(estimator=svc, param_grid=svc_parameters, cv=TimeSeriesSplit(n_splits=5), n_jobs=-1)\n",
    "#                 svc_model.fit(x_train, y_train)\n",
    "\n",
    "#                 # store results\n",
    "#                 final[(ker, f'add-time: {at}', f'lead-lag: {ll}')] = svc_model.score(x_test, y_test)\n",
    "\n",
    "    #==================================================================================\n",
    "    # Truncated signature kernels\n",
    "    #==================================================================================\n",
    "#             # set max signature truncation\n",
    "#             max_depth = 7 if x_train.shape[-1] < 10 else 6\n",
    "\n",
    "#             for d in tqdm(range(2,max_depth), desc='4th loop (truncated sig kernels)', leave=False):\n",
    "\n",
    "#                 # truncated signatures\n",
    "#                 sig_train = iisignature.sig(x_train, d)\n",
    "#                 sig_test = iisignature.sig(x_test, d)\n",
    "\n",
    "#                 # SVC tslearn estimator\n",
    "#                 svc = TimeSeriesSVC(kernel='linear', decision_function_shape='ovo')\n",
    "#                 svc_model = GridSearchCV(estimator=svc, param_grid=svc_parameters, cv=5, n_jobs=-1)\n",
    "#                 svc_model.fit(sig_train, y_train)\n",
    "\n",
    "#                 # store results\n",
    "#                 final[(f'trunc-sig-ker-{d}', f'add-time: {at}', f'lead-lag: {ll}')] = svc_model.score(sig_test, y_test)\n",
    "\n",
    "    #==================================================================================\n",
    "    # Signature PDE kernel\n",
    "    #==================================================================================\n",
    "    # define grid for sigmas\n",
    "    sigmas = tqdm(list(np.linspace(0,1,41)[1:]) + [1.] + list(np.linspace(0,200,41)[1:]), leave=False)\n",
    "    best_score, best_sigma = 0., 0.\n",
    "\n",
    "    for sigma in sigmas:\n",
    "        sigmas.set_description(f\"sig PDE kernel sigma: {sigma}\")\n",
    "\n",
    "        # define static kernel\n",
    "        static_kernel = sigkernel.RBFKernel(sigma=sigma)\n",
    "\n",
    "        # initialize corresponding signature PDE kernel\n",
    "        signature_kernel = sigkernel.SigKernel(static_kernel, dyadic_order=0)\n",
    "        \n",
    "        if x_train.shape[0]<110 and x_train.shape[1]<1000:\n",
    "            # move to torch\n",
    "            x_train = torch.tensor(x_train, dtype=torch.float64, device=torch.device('cuda' if torch.cuda.is_available() else 'cpu'))\n",
    "            x_test = torch.tensor(x_test, dtype=torch.float64, device=torch.device('cuda' if torch.cuda.is_available() else 'cpu'))\n",
    "        else:\n",
    "            # move to torch\n",
    "            x_train = torch.tensor(x_train, dtype=torch.float64, device='cpu')\n",
    "            x_test = torch.tensor(x_test, dtype=torch.float64, device='cpu')\n",
    "                    \n",
    "        # compute Gram matrix on train data\n",
    "        G_train = signature_kernel.compute_Gram(x_train, x_train, sym=True).cpu().numpy()\n",
    "\n",
    "        # compute Gram matrix on test data\n",
    "        G_test = signature_kernel.compute_Gram(x_test, x_train, sym=False).cpu().numpy()\n",
    "\n",
    "        # SVC sklearn estimator\n",
    "        svc = TimeSeriesSVC(kernel='precomputed', decision_function_shape='ovo')\n",
    "        svc_model = GridSearchCV(estimator=svc, param_grid=svc_parameters, cv=5, n_jobs=-1)\n",
    "        svc_model.fit(G_train, y_train)\n",
    "\n",
    "        # choose best model\n",
    "        _score = svc_model.score(G_test, y_test)\n",
    "        if _score > best_score:\n",
    "            best_score = _score\n",
    "            best_sigma = sigma\n",
    "            \n",
    "        del G_train\n",
    "        del G_test\n",
    "        torch.cuda.empty_cache()\n",
    "\n",
    "    # store results\n",
    "    final[('sig-ker-PDE', f'best sigma: {best_sigma}')] = best_score\n",
    "            \n",
    "    final_csv = pd.DataFrame.from_dict(final, orient='index').rename(columns={0:'accuracy (%)'})\n",
    "    final_csv.to_csv(f'../results/_{name}.csv')"
   ]
  },
  {
   "cell_type": "code",
   "execution_count": 9,
   "metadata": {},
   "outputs": [
    {
     "data": {
      "text/plain": [
       "{('sig-ker-PDE', 'best sigma: 0.47500000000000003'): 0.9722222222222222}"
      ]
     },
     "execution_count": 9,
     "metadata": {},
     "output_type": "execute_result"
    }
   ],
   "source": [
    "final"
   ]
  },
  {
   "cell_type": "code",
   "execution_count": null,
   "metadata": {},
   "outputs": [],
   "source": []
  }
 ],
 "metadata": {
  "kernel_info": {
   "name": "python3"
  },
  "kernelspec": {
   "display_name": "Python 3",
   "language": "python",
   "name": "python3"
  },
  "language_info": {
   "codemirror_mode": {
    "name": "ipython",
    "version": 3
   },
   "file_extension": ".py",
   "mimetype": "text/x-python",
   "name": "python",
   "nbconvert_exporter": "python",
   "pygments_lexer": "ipython3",
   "version": "3.6.9"
  },
  "nteract": {
   "version": "nteract-front-end@1.0.0"
  }
 },
 "nbformat": 4,
 "nbformat_minor": 2
}
