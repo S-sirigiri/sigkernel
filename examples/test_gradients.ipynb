{
 "cells": [
  {
   "cell_type": "code",
   "execution_count": 1,
   "metadata": {
    "id": "UrN5Dvd4zxMT"
   },
   "outputs": [],
   "source": [
    "import torch\n",
    "import time\n",
    "import numpy as np\n",
    "\n",
    "import sigkernel\n",
    "\n",
    "import matplotlib.pyplot as plt"
   ]
  },
  {
   "cell_type": "code",
   "execution_count": 32,
   "metadata": {},
   "outputs": [],
   "source": [
    "dyadic_order = 5\n",
    "_naive_solver = False"
   ]
  },
  {
   "cell_type": "code",
   "execution_count": 33,
   "metadata": {},
   "outputs": [],
   "source": [
    "# specify static kernel\n",
    "static_kernel = sigkernel.LinearKernel()\n",
    "# static_kernel = sigkernel.RBFKernel(sigma=.5)\n",
    "\n",
    "# initialize signature kernel\n",
    "signature_kernel = sigkernel.SigKernel(static_kernel, dyadic_order, _naive_solver)"
   ]
  },
  {
   "cell_type": "markdown",
   "metadata": {
    "id": "O2_Sd6NYzxMW"
   },
   "source": [
    "# Sig Loss gradients"
   ]
  },
  {
   "cell_type": "code",
   "execution_count": 4,
   "metadata": {
    "id": "K2et4eTUzxMW"
   },
   "outputs": [],
   "source": [
    "A = 1\n",
    "M = 3\n",
    "N = 2\n",
    "D = 2\n",
    "\n",
    "X = np.random.randn(A,M,D).cumsum(axis=1)\n",
    "Y = np.random.randn(A,N,D).cumsum(axis=1)\n",
    "\n",
    "X /= np.max(X)\n",
    "Y /= np.max(Y)"
   ]
  },
  {
   "cell_type": "code",
   "execution_count": 8,
   "metadata": {
    "id": "K2et4eTUzxMW"
   },
   "outputs": [],
   "source": [
    "X_naive = torch.tensor(X, dtype=torch.float64)\n",
    "Y_naive = torch.tensor(Y, dtype=torch.float64)\n",
    "\n",
    "X_cpu = X_naive.clone()\n",
    "Y_cpu = Y_naive.clone()\n",
    "\n",
    "X_gpu = X_naive.clone().cuda()\n",
    "Y_gpu = Y_naive.clone().cuda()\n",
    "\n",
    "X_naive.requires_grad = True\n",
    "X_cpu.requires_grad = True\n",
    "X_gpu.requires_grad = True"
   ]
  },
  {
   "cell_type": "code",
   "execution_count": 9,
   "metadata": {
    "colab": {
     "base_uri": "https://localhost:8080/"
    },
    "id": "rOTSlIhyWFqH",
    "outputId": "719ca5e7-80f7-458f-b65d-d3a7fffcdd45"
   },
   "outputs": [
    {
     "name": "stdout",
     "output_type": "stream",
     "text": [
      "time: 0.021 s\n",
      "tensor(54.1607, dtype=torch.float64, grad_fn=<SubBackward0>)\n"
     ]
    }
   ],
   "source": [
    "t = time.time()\n",
    "l_naive = sigkernel.SigLoss_naive(static_kernel, dyadic_order, _naive_solver).forward(X_naive,Y_naive)\n",
    "print('time:', np.round(time.time()-t,3), 's')\n",
    "print(l_naive)"
   ]
  },
  {
   "cell_type": "code",
   "execution_count": 10,
   "metadata": {
    "colab": {
     "base_uri": "https://localhost:8080/"
    },
    "id": "LM8j02BEzxMW",
    "outputId": "2410e04e-75b9-4754-b675-1aac52aaed15"
   },
   "outputs": [
    {
     "name": "stdout",
     "output_type": "stream",
     "text": [
      "time: 0.002 s\n",
      "tensor(54.1607, dtype=torch.float64, grad_fn=<SubBackward0>)\n"
     ]
    }
   ],
   "source": [
    "t = time.time()\n",
    "l_cpu = signature_kernel.compute_distance(X_cpu,Y_cpu)\n",
    "print('time:', np.round(time.time()-t,3), 's')\n",
    "print(l_cpu)"
   ]
  },
  {
   "cell_type": "code",
   "execution_count": 12,
   "metadata": {
    "colab": {
     "base_uri": "https://localhost:8080/"
    },
    "id": "D-2MG5sBzxMW",
    "outputId": "b7b14613-abe1-49e6-d6c1-26b334b64f84"
   },
   "outputs": [
    {
     "name": "stdout",
     "output_type": "stream",
     "text": [
      "time: 0.004 s\n",
      "tensor(54.1607, device='cuda:0', dtype=torch.float64, grad_fn=<SubBackward0>)\n"
     ]
    }
   ],
   "source": [
    "t = time.time()\n",
    "l_gpu = signature_kernel.compute_distance(X_gpu,Y_gpu)\n",
    "print('time:', np.round(time.time()-t,3), 's')\n",
    "print(l_gpu)"
   ]
  },
  {
   "cell_type": "code",
   "execution_count": 13,
   "metadata": {
    "colab": {
     "base_uri": "https://localhost:8080/"
    },
    "id": "Cvqh3o92zxMX",
    "outputId": "b52cc7af-4cef-477f-f7f5-961e4daf15fc"
   },
   "outputs": [
    {
     "name": "stdout",
     "output_type": "stream",
     "text": [
      "time: 0.078 s\n"
     ]
    }
   ],
   "source": [
    "t = time.time()\n",
    "l_naive.backward()\n",
    "print('time:', np.round(time.time()-t,3), 's')"
   ]
  },
  {
   "cell_type": "code",
   "execution_count": 14,
   "metadata": {
    "colab": {
     "base_uri": "https://localhost:8080/"
    },
    "id": "PAZCj0uSXORY",
    "outputId": "8f104cf1-7225-4dea-f1d6-73a627a5a610"
   },
   "outputs": [
    {
     "name": "stdout",
     "output_type": "stream",
     "text": [
      "201\n",
      "215\n",
      "220\n",
      "250\n",
      "259\n",
      "265\n",
      "273\n",
      "278\n",
      "285\n",
      "292\n",
      "201\n",
      "215\n",
      "220\n",
      "250\n",
      "259\n",
      "265\n",
      "273\n",
      "278\n",
      "285\n",
      "292\n",
      "time: 0.052 s\n"
     ]
    }
   ],
   "source": [
    "t = time.time()\n",
    "l_cpu.backward()\n",
    "print('time:', np.round(time.time()-t,3), 's')"
   ]
  },
  {
   "cell_type": "code",
   "execution_count": 15,
   "metadata": {
    "colab": {
     "base_uri": "https://localhost:8080/"
    },
    "id": "h7_ouXPGzxMX",
    "outputId": "bc3bfdfe-e6c6-44ed-dd44-c818eef95406"
   },
   "outputs": [
    {
     "name": "stdout",
     "output_type": "stream",
     "text": [
      "201\n",
      "215\n",
      "220\n",
      "239\n",
      "250\n",
      "259\n",
      "265\n",
      "273\n",
      "278\n",
      "285\n",
      "292\n",
      "201\n",
      "215\n",
      "220\n",
      "239\n",
      "250\n",
      "259\n",
      "265\n",
      "273\n",
      "278\n",
      "285\n",
      "292\n",
      "time: 0.633 s\n"
     ]
    }
   ],
   "source": [
    "t = time.time()\n",
    "l_gpu.backward()\n",
    "print('time:', np.round(time.time()-t,3), 's')"
   ]
  },
  {
   "cell_type": "code",
   "execution_count": 16,
   "metadata": {},
   "outputs": [
    {
     "data": {
      "text/plain": [
       "tensor([[[ 3.7926,  0.2543],\n",
       "         [ 0.0415,  0.2326],\n",
       "         [-3.8342, -0.4869]]], dtype=torch.float64)"
      ]
     },
     "execution_count": 16,
     "metadata": {},
     "output_type": "execute_result"
    }
   ],
   "source": [
    "X_naive.grad"
   ]
  },
  {
   "cell_type": "code",
   "execution_count": 17,
   "metadata": {},
   "outputs": [
    {
     "data": {
      "text/plain": [
       "tensor([[[ 4.5570,  0.6105],\n",
       "         [ 0.1850,  0.2697],\n",
       "         [-4.7420, -0.8801]]], dtype=torch.float64)"
      ]
     },
     "execution_count": 17,
     "metadata": {},
     "output_type": "execute_result"
    }
   ],
   "source": [
    "X_cpu.grad"
   ]
  },
  {
   "cell_type": "code",
   "execution_count": 18,
   "metadata": {},
   "outputs": [
    {
     "data": {
      "text/plain": [
       "tensor([[[ 4.5570,  0.6105],\n",
       "         [ 0.1850,  0.2697],\n",
       "         [-4.7420, -0.8801]]], dtype=torch.float64)"
      ]
     },
     "execution_count": 18,
     "metadata": {},
     "output_type": "execute_result"
    }
   ],
   "source": [
    "X_gpu.grad.cpu()"
   ]
  },
  {
   "cell_type": "markdown",
   "metadata": {
    "id": "aCN0FtGju96Z"
   },
   "source": [
    "# Sig MMD gradients"
   ]
  },
  {
   "cell_type": "code",
   "execution_count": 34,
   "metadata": {
    "id": "pG_7n-IWvA7P"
   },
   "outputs": [],
   "source": [
    "A = 2\n",
    "B = 3\n",
    "M = 4\n",
    "N = 3\n",
    "D = 2\n",
    "\n",
    "X = np.random.randn(A,M,D).cumsum(axis=1)\n",
    "Y = np.random.randn(B,N,D).cumsum(axis=1)\n",
    "\n",
    "X /= np.max(X)\n",
    "Y /= np.max(Y)"
   ]
  },
  {
   "cell_type": "code",
   "execution_count": 35,
   "metadata": {
    "id": "pG_7n-IWvA7P"
   },
   "outputs": [],
   "source": [
    "X_naive = torch.tensor(X, dtype=torch.float64)\n",
    "Y_naive = torch.tensor(Y, dtype=torch.float64)\n",
    "\n",
    "X_cpu = X_naive.clone()\n",
    "Y_cpu = Y_naive.clone()\n",
    "\n",
    "X_gpu = X_naive.clone().cuda()\n",
    "Y_gpu = Y_naive.clone().cuda()\n",
    "\n",
    "X_naive.requires_grad = True\n",
    "X_cpu.requires_grad = True\n",
    "X_gpu.requires_grad = True"
   ]
  },
  {
   "cell_type": "code",
   "execution_count": 36,
   "metadata": {
    "colab": {
     "base_uri": "https://localhost:8080/"
    },
    "id": "fYiCXpsKvbvX",
    "outputId": "3fcb700c-244a-4e7e-c384-7be60570cd13"
   },
   "outputs": [
    {
     "name": "stdout",
     "output_type": "stream",
     "text": [
      "time: 3.351 s\n",
      "tensor(0.3812, dtype=torch.float64, grad_fn=<SubBackward0>)\n"
     ]
    }
   ],
   "source": [
    "t = time.time()\n",
    "mmd_naive = sigkernel.SigMMD_naive(static_kernel, dyadic_order, _naive_solver).forward(X_naive,Y_naive)\n",
    "print('time:', np.round(time.time()-t,3), 's')\n",
    "print(mmd_naive)"
   ]
  },
  {
   "cell_type": "code",
   "execution_count": 37,
   "metadata": {
    "colab": {
     "base_uri": "https://localhost:8080/"
    },
    "id": "jqdYxBgrvib-",
    "outputId": "406570c1-0d30-4ee0-9265-0b06fe9253fc"
   },
   "outputs": [
    {
     "name": "stdout",
     "output_type": "stream",
     "text": [
      "time: 0.008 s\n",
      "tensor(0.3812, dtype=torch.float64, grad_fn=<SubBackward0>)\n"
     ]
    }
   ],
   "source": [
    "t = time.time()\n",
    "mmd_cpu = signature_kernel.compute_mmd(X_cpu,Y_cpu)\n",
    "print('time:', np.round(time.time()-t,3), 's')\n",
    "print(mmd_cpu)"
   ]
  },
  {
   "cell_type": "code",
   "execution_count": 38,
   "metadata": {
    "colab": {
     "base_uri": "https://localhost:8080/"
    },
    "id": "PQ4wjDykvtv3",
    "outputId": "430d6a12-e194-4e24-da95-471a4c9daa57"
   },
   "outputs": [
    {
     "name": "stdout",
     "output_type": "stream",
     "text": [
      "time: 0.005 s\n",
      "tensor(0.3812, device='cuda:0', dtype=torch.float64, grad_fn=<SubBackward0>)\n"
     ]
    }
   ],
   "source": [
    "t = time.time()\n",
    "mmd_gpu = signature_kernel.compute_mmd(X_gpu,Y_gpu)\n",
    "print('time:', np.round(time.time()-t,3), 's')\n",
    "print(mmd_gpu)"
   ]
  },
  {
   "cell_type": "code",
   "execution_count": 39,
   "metadata": {
    "colab": {
     "base_uri": "https://localhost:8080/"
    },
    "id": "_Vbdm979ytGu",
    "outputId": "5999feea-3b0b-4e00-b13c-5a1e588e5539"
   },
   "outputs": [
    {
     "name": "stdout",
     "output_type": "stream",
     "text": [
      "time: 11.47 s\n"
     ]
    }
   ],
   "source": [
    "t = time.time()\n",
    "mmd_naive.backward()\n",
    "print('time:', np.round(time.time()-t,3), 's')"
   ]
  },
  {
   "cell_type": "code",
   "execution_count": 40,
   "metadata": {
    "colab": {
     "base_uri": "https://localhost:8080/"
    },
    "id": "tgzFxfL2yx4s",
    "outputId": "19ab2b26-36b5-4490-d84c-68b4d3b099d1"
   },
   "outputs": [
    {
     "name": "stdout",
     "output_type": "stream",
     "text": [
      "time: 0.014 s\n"
     ]
    }
   ],
   "source": [
    "t = time.time()\n",
    "mmd_cpu.backward()\n",
    "print('time:', np.round(time.time()-t,3), 's')"
   ]
  },
  {
   "cell_type": "code",
   "execution_count": 41,
   "metadata": {
    "colab": {
     "base_uri": "https://localhost:8080/"
    },
    "id": "A6KVhOyzy8RY",
    "outputId": "43f1dbdd-960f-46ec-af81-dab60e1c92e5"
   },
   "outputs": [
    {
     "name": "stdout",
     "output_type": "stream",
     "text": [
      "time: 0.01 s\n"
     ]
    }
   ],
   "source": [
    "t = time.time()\n",
    "mmd_gpu.backward()\n",
    "print('time:', np.round(time.time()-t,3), 's')"
   ]
  },
  {
   "cell_type": "code",
   "execution_count": 42,
   "metadata": {
    "colab": {
     "base_uri": "https://localhost:8080/"
    },
    "id": "NVOUTzOyABqr",
    "outputId": "57e7c52c-c8a9-46cb-adc3-30124a4e786d"
   },
   "outputs": [
    {
     "data": {
      "text/plain": [
       "tensor([[[ 2.8969e-01,  5.5979e-01],\n",
       "         [ 2.0302e-02, -1.8834e-02],\n",
       "         [ 2.9239e-02, -2.2273e-02],\n",
       "         [-3.3923e-01, -5.1868e-01]],\n",
       "\n",
       "        [[ 3.2008e-01,  5.5694e-01],\n",
       "         [ 3.7343e-02, -2.0445e-02],\n",
       "         [-5.1021e-04, -1.6423e-02],\n",
       "         [-3.5692e-01, -5.2008e-01]]], dtype=torch.float64)"
      ]
     },
     "execution_count": 42,
     "metadata": {},
     "output_type": "execute_result"
    }
   ],
   "source": [
    "X_naive.grad"
   ]
  },
  {
   "cell_type": "code",
   "execution_count": 43,
   "metadata": {
    "colab": {
     "base_uri": "https://localhost:8080/"
    },
    "id": "NVOUTzOyABqr",
    "outputId": "57e7c52c-c8a9-46cb-adc3-30124a4e786d"
   },
   "outputs": [
    {
     "data": {
      "text/plain": [
       "tensor([[[ 2.8698e-01,  5.5858e-01],\n",
       "         [ 1.9109e-02, -2.0256e-02],\n",
       "         [ 3.0031e-02, -2.0848e-02],\n",
       "         [-3.3612e-01, -5.1748e-01]],\n",
       "\n",
       "        [[ 3.1639e-01,  5.5519e-01],\n",
       "         [ 3.7546e-02, -2.1233e-02],\n",
       "         [ 2.5978e-04, -1.5088e-02],\n",
       "         [-3.5420e-01, -5.1887e-01]]], dtype=torch.float64)"
      ]
     },
     "execution_count": 43,
     "metadata": {},
     "output_type": "execute_result"
    }
   ],
   "source": [
    "X_cpu.grad"
   ]
  },
  {
   "cell_type": "code",
   "execution_count": 44,
   "metadata": {},
   "outputs": [
    {
     "data": {
      "text/plain": [
       "tensor([[[ 2.8698e-01,  5.5858e-01],\n",
       "         [ 1.9109e-02, -2.0256e-02],\n",
       "         [ 3.0031e-02, -2.0848e-02],\n",
       "         [-3.3612e-01, -5.1748e-01]],\n",
       "\n",
       "        [[ 3.1639e-01,  5.5519e-01],\n",
       "         [ 3.7546e-02, -2.1233e-02],\n",
       "         [ 2.5978e-04, -1.5088e-02],\n",
       "         [-3.5420e-01, -5.1887e-01]]], dtype=torch.float64)"
      ]
     },
     "execution_count": 44,
     "metadata": {},
     "output_type": "execute_result"
    }
   ],
   "source": [
    "X_gpu.grad.cpu()"
   ]
  },
  {
   "cell_type": "code",
   "execution_count": null,
   "metadata": {},
   "outputs": [],
   "source": []
  }
 ],
 "metadata": {
  "accelerator": "GPU",
  "colab": {
   "collapsed_sections": [],
   "name": "test_gradients.ipynb",
   "provenance": []
  },
  "kernelspec": {
   "display_name": "Python 3",
   "language": "python",
   "name": "python3"
  },
  "language_info": {
   "codemirror_mode": {
    "name": "ipython",
    "version": 3
   },
   "file_extension": ".py",
   "mimetype": "text/x-python",
   "name": "python",
   "nbconvert_exporter": "python",
   "pygments_lexer": "ipython3",
   "version": "3.6.9"
  },
  "latex_envs": {
   "LaTeX_envs_menu_present": true,
   "autoclose": false,
   "autocomplete": true,
   "bibliofile": "biblio.bib",
   "cite_by": "apalike",
   "current_citInitial": 1,
   "eqLabelWithNumbers": true,
   "eqNumInitial": 1,
   "hotkeys": {
    "equation": "Ctrl-E",
    "itemize": "Ctrl-I"
   },
   "labels_anchors": false,
   "latex_user_defs": false,
   "report_style_numbering": false,
   "user_envs_cfg": false
  },
  "toc": {
   "nav_menu": {},
   "number_sections": true,
   "sideBar": true,
   "skip_h1_title": false,
   "title_cell": "Table of Contents",
   "title_sidebar": "Contents",
   "toc_cell": true,
   "toc_position": {},
   "toc_section_display": true,
   "toc_window_display": true
  }
 },
 "nbformat": 4,
 "nbformat_minor": 1
}
