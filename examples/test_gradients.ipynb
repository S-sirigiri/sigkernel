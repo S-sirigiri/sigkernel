{
 "cells": [
  {
   "cell_type": "code",
   "execution_count": 2,
   "metadata": {
    "id": "UrN5Dvd4zxMT"
   },
   "outputs": [],
   "source": [
    "import torch\n",
    "import time\n",
    "import numpy as np\n",
    "\n",
    "import sigkernel\n",
    "\n",
    "import matplotlib.pyplot as plt"
   ]
  },
  {
   "cell_type": "code",
   "execution_count": 3,
   "metadata": {},
   "outputs": [],
   "source": [
    "dyadic_order = 5\n",
    "_naive_solver = False"
   ]
  },
  {
   "cell_type": "code",
   "execution_count": 4,
   "metadata": {},
   "outputs": [],
   "source": [
    "# specify static kernel\n",
    "static_kernel = sigkernel.LinearKernel()\n",
    "# static_kernel = sigkernel.RBFKernel(sigma=.5)\n",
    "\n",
    "# initialize signature kernel\n",
    "signature_kernel = sigkernel.SigKernel(static_kernel, dyadic_order, _naive_solver)"
   ]
  },
  {
   "cell_type": "markdown",
   "metadata": {
    "id": "O2_Sd6NYzxMW"
   },
   "source": [
    "# Sig Loss gradients"
   ]
  },
  {
   "cell_type": "code",
   "execution_count": 5,
   "metadata": {
    "id": "K2et4eTUzxMW"
   },
   "outputs": [],
   "source": [
    "A = 1\n",
    "M = 3\n",
    "N = 2\n",
    "D = 2\n",
    "\n",
    "X = np.random.randn(A,M,D).cumsum(axis=1)\n",
    "Y = np.random.randn(A,N,D).cumsum(axis=1)\n",
    "\n",
    "X /= np.max(X)\n",
    "Y /= np.max(Y)"
   ]
  },
  {
   "cell_type": "code",
   "execution_count": 6,
   "metadata": {
    "id": "K2et4eTUzxMW"
   },
   "outputs": [],
   "source": [
    "X_naive = torch.tensor(X, dtype=torch.float32)\n",
    "Y_naive = torch.tensor(Y, dtype=torch.float32)\n",
    "\n",
    "X_cpu = X_naive.clone()\n",
    "Y_cpu = Y_naive.clone()\n",
    "\n",
    "# X_gpu = X_naive.clone().cuda()\n",
    "# Y_gpu = Y_naive.clone().cuda()\n",
    "\n",
    "X_naive.requires_grad = True\n",
    "X_cpu.requires_grad = True\n",
    "# X_gpu.requires_grad = True"
   ]
  },
  {
   "cell_type": "code",
   "execution_count": 8,
   "metadata": {
    "colab": {
     "base_uri": "https://localhost:8080/"
    },
    "id": "rOTSlIhyWFqH",
    "outputId": "719ca5e7-80f7-458f-b65d-d3a7fffcdd45"
   },
   "outputs": [
    {
     "name": "stdout",
     "output_type": "stream",
     "text": [
      "time: 3.62 s\n",
      "tensor(4.9382, grad_fn=<SubBackward0>)\n"
     ]
    }
   ],
   "source": [
    "t = time.time()\n",
    "l_naive = sigkernel.SigLoss_naive(static_kernel, dyadic_order, _naive_solver).forward(X_naive,Y_naive)\n",
    "print('time:', np.round(time.time()-t,3), 's')\n",
    "print(l_naive)"
   ]
  },
  {
   "cell_type": "code",
   "execution_count": 9,
   "metadata": {
    "colab": {
     "base_uri": "https://localhost:8080/"
    },
    "id": "LM8j02BEzxMW",
    "outputId": "2410e04e-75b9-4754-b675-1aac52aaed15"
   },
   "outputs": [
    {
     "ename": "ValueError",
     "evalue": "Buffer dtype mismatch, expected 'double' but got 'float'",
     "output_type": "error",
     "traceback": [
      "\u001b[1;31m---------------------------------------------------------------------------\u001b[0m",
      "\u001b[1;31mValueError\u001b[0m                                Traceback (most recent call last)",
      "\u001b[1;32m<ipython-input-9-4550e946891c>\u001b[0m in \u001b[0;36m<module>\u001b[1;34m\u001b[0m\n\u001b[0;32m      1\u001b[0m \u001b[0mt\u001b[0m \u001b[1;33m=\u001b[0m \u001b[0mtime\u001b[0m\u001b[1;33m.\u001b[0m\u001b[0mtime\u001b[0m\u001b[1;33m(\u001b[0m\u001b[1;33m)\u001b[0m\u001b[1;33m\u001b[0m\u001b[1;33m\u001b[0m\u001b[0m\n\u001b[1;32m----> 2\u001b[1;33m \u001b[0ml_cpu\u001b[0m \u001b[1;33m=\u001b[0m \u001b[0msignature_kernel\u001b[0m\u001b[1;33m.\u001b[0m\u001b[0mcompute_distance\u001b[0m\u001b[1;33m(\u001b[0m\u001b[0mX_cpu\u001b[0m\u001b[1;33m,\u001b[0m\u001b[0mY_cpu\u001b[0m\u001b[1;33m)\u001b[0m\u001b[1;33m\u001b[0m\u001b[1;33m\u001b[0m\u001b[0m\n\u001b[0m\u001b[0;32m      3\u001b[0m \u001b[0mprint\u001b[0m\u001b[1;33m(\u001b[0m\u001b[1;34m'time:'\u001b[0m\u001b[1;33m,\u001b[0m \u001b[0mnp\u001b[0m\u001b[1;33m.\u001b[0m\u001b[0mround\u001b[0m\u001b[1;33m(\u001b[0m\u001b[0mtime\u001b[0m\u001b[1;33m.\u001b[0m\u001b[0mtime\u001b[0m\u001b[1;33m(\u001b[0m\u001b[1;33m)\u001b[0m\u001b[1;33m-\u001b[0m\u001b[0mt\u001b[0m\u001b[1;33m,\u001b[0m\u001b[1;36m3\u001b[0m\u001b[1;33m)\u001b[0m\u001b[1;33m,\u001b[0m \u001b[1;34m's'\u001b[0m\u001b[1;33m)\u001b[0m\u001b[1;33m\u001b[0m\u001b[1;33m\u001b[0m\u001b[0m\n\u001b[0;32m      4\u001b[0m \u001b[0mprint\u001b[0m\u001b[1;33m(\u001b[0m\u001b[0ml_cpu\u001b[0m\u001b[1;33m)\u001b[0m\u001b[1;33m\u001b[0m\u001b[1;33m\u001b[0m\u001b[0m\n",
      "\u001b[1;32m~\\anaconda3\\lib\\site-packages\\sigkernel-0.0.1-py3.8-win-amd64.egg\\sigkernel\\sigkernel.py\u001b[0m in \u001b[0;36mcompute_distance\u001b[1;34m(self, X, Y)\u001b[0m\n\u001b[0;32m    114\u001b[0m         \u001b[1;32massert\u001b[0m \u001b[1;32mnot\u001b[0m \u001b[0mY\u001b[0m\u001b[1;33m.\u001b[0m\u001b[0mrequires_grad\u001b[0m\u001b[1;33m,\u001b[0m \u001b[1;34m\"the second input should not require grad\"\u001b[0m\u001b[1;33m\u001b[0m\u001b[1;33m\u001b[0m\u001b[0m\n\u001b[0;32m    115\u001b[0m \u001b[1;33m\u001b[0m\u001b[0m\n\u001b[1;32m--> 116\u001b[1;33m         \u001b[0mk_XX\u001b[0m \u001b[1;33m=\u001b[0m \u001b[0mself\u001b[0m\u001b[1;33m.\u001b[0m\u001b[0mcompute_kernel\u001b[0m\u001b[1;33m(\u001b[0m\u001b[0mX\u001b[0m\u001b[1;33m,\u001b[0m \u001b[0mX\u001b[0m\u001b[1;33m)\u001b[0m\u001b[1;33m\u001b[0m\u001b[1;33m\u001b[0m\u001b[0m\n\u001b[0m\u001b[0;32m    117\u001b[0m         \u001b[0mk_YY\u001b[0m \u001b[1;33m=\u001b[0m \u001b[0mself\u001b[0m\u001b[1;33m.\u001b[0m\u001b[0mcompute_kernel\u001b[0m\u001b[1;33m(\u001b[0m\u001b[0mY\u001b[0m\u001b[1;33m,\u001b[0m \u001b[0mY\u001b[0m\u001b[1;33m)\u001b[0m\u001b[1;33m\u001b[0m\u001b[1;33m\u001b[0m\u001b[0m\n\u001b[0;32m    118\u001b[0m         \u001b[0mk_XY\u001b[0m \u001b[1;33m=\u001b[0m \u001b[0mself\u001b[0m\u001b[1;33m.\u001b[0m\u001b[0mcompute_kernel\u001b[0m\u001b[1;33m(\u001b[0m\u001b[0mX\u001b[0m\u001b[1;33m,\u001b[0m \u001b[0mY\u001b[0m\u001b[1;33m)\u001b[0m\u001b[1;33m\u001b[0m\u001b[1;33m\u001b[0m\u001b[0m\n",
      "\u001b[1;32m~\\anaconda3\\lib\\site-packages\\sigkernel-0.0.1-py3.8-win-amd64.egg\\sigkernel\\sigkernel.py\u001b[0m in \u001b[0;36mcompute_kernel\u001b[1;34m(self, X, Y)\u001b[0m\n\u001b[0;32m     93\u001b[0m                   \u001b[1;33m-\u001b[0m \u001b[0mvector\u001b[0m \u001b[0mk\u001b[0m\u001b[1;33m(\u001b[0m\u001b[0mX\u001b[0m\u001b[1;33m^\u001b[0m\u001b[0mi_T\u001b[0m\u001b[1;33m,\u001b[0m\u001b[0mY\u001b[0m\u001b[1;33m^\u001b[0m\u001b[0mi_T\u001b[0m\u001b[1;33m)\u001b[0m \u001b[0mof\u001b[0m \u001b[0mshape\u001b[0m \u001b[1;33m(\u001b[0m\u001b[0mbatch\u001b[0m\u001b[1;33m,\u001b[0m\u001b[1;33m)\u001b[0m\u001b[1;33m\u001b[0m\u001b[1;33m\u001b[0m\u001b[0m\n\u001b[0;32m     94\u001b[0m         \"\"\"\n\u001b[1;32m---> 95\u001b[1;33m         \u001b[1;32mreturn\u001b[0m \u001b[0m_SigKernel\u001b[0m\u001b[1;33m.\u001b[0m\u001b[0mapply\u001b[0m\u001b[1;33m(\u001b[0m\u001b[0mX\u001b[0m\u001b[1;33m,\u001b[0m \u001b[0mY\u001b[0m\u001b[1;33m,\u001b[0m \u001b[0mself\u001b[0m\u001b[1;33m.\u001b[0m\u001b[0mstatic_kernel\u001b[0m\u001b[1;33m,\u001b[0m \u001b[0mself\u001b[0m\u001b[1;33m.\u001b[0m\u001b[0mdyadic_order\u001b[0m\u001b[1;33m,\u001b[0m \u001b[0mself\u001b[0m\u001b[1;33m.\u001b[0m\u001b[0m_naive_solver\u001b[0m\u001b[1;33m)\u001b[0m\u001b[1;33m\u001b[0m\u001b[1;33m\u001b[0m\u001b[0m\n\u001b[0m\u001b[0;32m     96\u001b[0m \u001b[1;33m\u001b[0m\u001b[0m\n\u001b[0;32m     97\u001b[0m     \u001b[1;32mdef\u001b[0m \u001b[0mcompute_Gram\u001b[0m\u001b[1;33m(\u001b[0m\u001b[0mself\u001b[0m\u001b[1;33m,\u001b[0m \u001b[0mX\u001b[0m\u001b[1;33m,\u001b[0m \u001b[0mY\u001b[0m\u001b[1;33m,\u001b[0m \u001b[0msym\u001b[0m\u001b[1;33m=\u001b[0m\u001b[1;32mFalse\u001b[0m\u001b[1;33m)\u001b[0m\u001b[1;33m:\u001b[0m\u001b[1;33m\u001b[0m\u001b[1;33m\u001b[0m\u001b[0m\n",
      "\u001b[1;32m~\\anaconda3\\lib\\site-packages\\sigkernel-0.0.1-py3.8-win-amd64.egg\\sigkernel\\sigkernel.py\u001b[0m in \u001b[0;36mforward\u001b[1;34m(ctx, X, Y, static_kernel, dyadic_order, _naive_solver)\u001b[0m\n\u001b[0;32m    178\u001b[0m         \u001b[1;31m# if on CPU\u001b[0m\u001b[1;33m\u001b[0m\u001b[1;33m\u001b[0m\u001b[1;33m\u001b[0m\u001b[0m\n\u001b[0;32m    179\u001b[0m         \u001b[1;32melse\u001b[0m\u001b[1;33m:\u001b[0m\u001b[1;33m\u001b[0m\u001b[1;33m\u001b[0m\u001b[0m\n\u001b[1;32m--> 180\u001b[1;33m             \u001b[0mK\u001b[0m \u001b[1;33m=\u001b[0m \u001b[0mtorch\u001b[0m\u001b[1;33m.\u001b[0m\u001b[0mtensor\u001b[0m\u001b[1;33m(\u001b[0m\u001b[0msig_kernel_batch_varpar\u001b[0m\u001b[1;33m(\u001b[0m\u001b[0mG_static_\u001b[0m\u001b[1;33m.\u001b[0m\u001b[0mdetach\u001b[0m\u001b[1;33m(\u001b[0m\u001b[1;33m)\u001b[0m\u001b[1;33m.\u001b[0m\u001b[0mnumpy\u001b[0m\u001b[1;33m(\u001b[0m\u001b[1;33m)\u001b[0m\u001b[1;33m,\u001b[0m \u001b[0m_naive_solver\u001b[0m\u001b[1;33m)\u001b[0m\u001b[1;33m)\u001b[0m\u001b[1;33m\u001b[0m\u001b[1;33m\u001b[0m\u001b[0m\n\u001b[0m\u001b[0;32m    181\u001b[0m \u001b[1;33m\u001b[0m\u001b[0m\n\u001b[0;32m    182\u001b[0m         \u001b[0mctx\u001b[0m\u001b[1;33m.\u001b[0m\u001b[0msave_for_backward\u001b[0m\u001b[1;33m(\u001b[0m\u001b[0mX\u001b[0m\u001b[1;33m,\u001b[0m\u001b[0mY\u001b[0m\u001b[1;33m,\u001b[0m\u001b[0mG_static\u001b[0m\u001b[1;33m,\u001b[0m\u001b[0mK\u001b[0m\u001b[1;33m)\u001b[0m\u001b[1;33m\u001b[0m\u001b[1;33m\u001b[0m\u001b[0m\n",
      "\u001b[1;32msigkernel\\cython_backend.pyx\u001b[0m in \u001b[0;36mcython_backend.sig_kernel_batch_varpar\u001b[1;34m()\u001b[0m\n",
      "\u001b[1;31mValueError\u001b[0m: Buffer dtype mismatch, expected 'double' but got 'float'"
     ]
    }
   ],
   "source": [
    "t = time.time()\n",
    "l_cpu = signature_kernel.compute_distance(X_cpu,Y_cpu)\n",
    "print('time:', np.round(time.time()-t,3), 's')\n",
    "print(l_cpu)"
   ]
  },
  {
   "cell_type": "code",
   "execution_count": 37,
   "metadata": {
    "colab": {
     "base_uri": "https://localhost:8080/"
    },
    "id": "D-2MG5sBzxMW",
    "outputId": "b7b14613-abe1-49e6-d6c1-26b334b64f84"
   },
   "outputs": [],
   "source": [
    "# t = time.time()\n",
    "# l_gpu = signature_kernel.compute_distance(X_gpu,Y_gpu)\n",
    "# print('time:', np.round(time.time()-t,3), 's')\n",
    "# print(l_gpu)"
   ]
  },
  {
   "cell_type": "code",
   "execution_count": 38,
   "metadata": {
    "colab": {
     "base_uri": "https://localhost:8080/"
    },
    "id": "Cvqh3o92zxMX",
    "outputId": "b52cc7af-4cef-477f-f7f5-961e4daf15fc"
   },
   "outputs": [
    {
     "name": "stdout",
     "output_type": "stream",
     "text": [
      "time: 1.673 s\n"
     ]
    }
   ],
   "source": [
    "t = time.time()\n",
    "l_naive.backward()\n",
    "print('time:', np.round(time.time()-t,3), 's')"
   ]
  },
  {
   "cell_type": "code",
   "execution_count": 39,
   "metadata": {
    "colab": {
     "base_uri": "https://localhost:8080/"
    },
    "id": "PAZCj0uSXORY",
    "outputId": "8f104cf1-7225-4dea-f1d6-73a627a5a610"
   },
   "outputs": [
    {
     "name": "stdout",
     "output_type": "stream",
     "text": [
      "time: 0.004 s\n"
     ]
    }
   ],
   "source": [
    "t = time.time()\n",
    "l_cpu.backward()\n",
    "print('time:', np.round(time.time()-t,3), 's')"
   ]
  },
  {
   "cell_type": "code",
   "execution_count": 40,
   "metadata": {
    "colab": {
     "base_uri": "https://localhost:8080/"
    },
    "id": "h7_ouXPGzxMX",
    "outputId": "bc3bfdfe-e6c6-44ed-dd44-c818eef95406"
   },
   "outputs": [],
   "source": [
    "# t = time.time()\n",
    "# l_gpu.backward()\n",
    "# print('time:', np.round(time.time()-t,3), 's')"
   ]
  },
  {
   "cell_type": "code",
   "execution_count": 41,
   "metadata": {},
   "outputs": [
    {
     "data": {
      "text/plain": [
       "tensor([[[-10.4859,  23.4210],\n",
       "         [ -0.8974,  -0.4398],\n",
       "         [ 11.3833, -22.9812]]], dtype=torch.float64)"
      ]
     },
     "execution_count": 41,
     "metadata": {},
     "output_type": "execute_result"
    }
   ],
   "source": [
    "X_naive.grad"
   ]
  },
  {
   "cell_type": "code",
   "execution_count": 42,
   "metadata": {},
   "outputs": [
    {
     "data": {
      "text/plain": [
       "tensor([[[-10.0129,  22.4212],\n",
       "         [ -0.7487,  -0.6734],\n",
       "         [ 10.7616, -21.7478]]], dtype=torch.float64)"
      ]
     },
     "execution_count": 42,
     "metadata": {},
     "output_type": "execute_result"
    }
   ],
   "source": [
    "X_cpu.grad"
   ]
  },
  {
   "cell_type": "code",
   "execution_count": 43,
   "metadata": {},
   "outputs": [],
   "source": [
    "# X_gpu.grad.cpu()"
   ]
  },
  {
   "cell_type": "markdown",
   "metadata": {
    "id": "aCN0FtGju96Z"
   },
   "source": [
    "# Sig MMD gradients"
   ]
  },
  {
   "cell_type": "code",
   "execution_count": 44,
   "metadata": {
    "id": "pG_7n-IWvA7P"
   },
   "outputs": [],
   "source": [
    "A = 2\n",
    "B = 3\n",
    "M = 4\n",
    "N = 3\n",
    "D = 2\n",
    "\n",
    "X = np.random.randn(A,M,D).cumsum(axis=1)\n",
    "Y = np.random.randn(B,N,D).cumsum(axis=1)\n",
    "\n",
    "X /= np.max(X)\n",
    "Y /= np.max(Y)"
   ]
  },
  {
   "cell_type": "code",
   "execution_count": 45,
   "metadata": {
    "id": "pG_7n-IWvA7P"
   },
   "outputs": [],
   "source": [
    "X_naive = torch.tensor(X, dtype=torch.float64)\n",
    "Y_naive = torch.tensor(Y, dtype=torch.float64)\n",
    "\n",
    "X_cpu = X_naive.clone()\n",
    "Y_cpu = Y_naive.clone()\n",
    "\n",
    "# X_gpu = X_naive.clone().cuda()\n",
    "# Y_gpu = Y_naive.clone().cuda()\n",
    "\n",
    "X_naive.requires_grad = True\n",
    "X_cpu.requires_grad = True\n",
    "# X_gpu.requires_grad = True"
   ]
  },
  {
   "cell_type": "code",
   "execution_count": 46,
   "metadata": {
    "colab": {
     "base_uri": "https://localhost:8080/"
    },
    "id": "fYiCXpsKvbvX",
    "outputId": "3fcb700c-244a-4e7e-c384-7be60570cd13"
   },
   "outputs": [
    {
     "name": "stdout",
     "output_type": "stream",
     "text": [
      "time: 3.11 s\n",
      "tensor(114.2561, dtype=torch.float64, grad_fn=<SubBackward0>)\n"
     ]
    }
   ],
   "source": [
    "t = time.time()\n",
    "mmd_naive = sigkernel.SigMMD_naive(static_kernel, dyadic_order, _naive_solver).forward(X_naive,Y_naive)\n",
    "print('time:', np.round(time.time()-t,3), 's')\n",
    "print(mmd_naive)"
   ]
  },
  {
   "cell_type": "code",
   "execution_count": 47,
   "metadata": {
    "colab": {
     "base_uri": "https://localhost:8080/"
    },
    "id": "jqdYxBgrvib-",
    "outputId": "406570c1-0d30-4ee0-9265-0b06fe9253fc"
   },
   "outputs": [
    {
     "name": "stdout",
     "output_type": "stream",
     "text": [
      "time: 0.008 s\n",
      "tensor(114.2561, dtype=torch.float64, grad_fn=<SubBackward0>)\n"
     ]
    }
   ],
   "source": [
    "t = time.time()\n",
    "mmd_cpu = signature_kernel.compute_mmd(X_cpu,Y_cpu)\n",
    "print('time:', np.round(time.time()-t,3), 's')\n",
    "print(mmd_cpu)"
   ]
  },
  {
   "cell_type": "code",
   "execution_count": 48,
   "metadata": {
    "colab": {
     "base_uri": "https://localhost:8080/"
    },
    "id": "PQ4wjDykvtv3",
    "outputId": "430d6a12-e194-4e24-da95-471a4c9daa57"
   },
   "outputs": [],
   "source": [
    "# t = time.time()\n",
    "# mmd_gpu = signature_kernel.compute_mmd(X_gpu,Y_gpu)\n",
    "# print('time:', np.round(time.time()-t,3), 's')\n",
    "# print(mmd_gpu)"
   ]
  },
  {
   "cell_type": "code",
   "execution_count": 49,
   "metadata": {
    "colab": {
     "base_uri": "https://localhost:8080/"
    },
    "id": "_Vbdm979ytGu",
    "outputId": "5999feea-3b0b-4e00-b13c-5a1e588e5539"
   },
   "outputs": [
    {
     "name": "stdout",
     "output_type": "stream",
     "text": [
      "time: 15.692 s\n"
     ]
    }
   ],
   "source": [
    "t = time.time()\n",
    "mmd_naive.backward()\n",
    "print('time:', np.round(time.time()-t,3), 's')"
   ]
  },
  {
   "cell_type": "code",
   "execution_count": 50,
   "metadata": {
    "colab": {
     "base_uri": "https://localhost:8080/"
    },
    "id": "tgzFxfL2yx4s",
    "outputId": "19ab2b26-36b5-4490-d84c-68b4d3b099d1"
   },
   "outputs": [
    {
     "name": "stdout",
     "output_type": "stream",
     "text": [
      "time: 0.026 s\n"
     ]
    }
   ],
   "source": [
    "t = time.time()\n",
    "mmd_cpu.backward()\n",
    "print('time:', np.round(time.time()-t,3), 's')"
   ]
  },
  {
   "cell_type": "code",
   "execution_count": 51,
   "metadata": {
    "colab": {
     "base_uri": "https://localhost:8080/"
    },
    "id": "A6KVhOyzy8RY",
    "outputId": "43f1dbdd-960f-46ec-af81-dab60e1c92e5"
   },
   "outputs": [],
   "source": [
    "# t = time.time()\n",
    "# mmd_gpu.backward()\n",
    "# print('time:', np.round(time.time()-t,3), 's')"
   ]
  },
  {
   "cell_type": "code",
   "execution_count": 52,
   "metadata": {
    "colab": {
     "base_uri": "https://localhost:8080/"
    },
    "id": "NVOUTzOyABqr",
    "outputId": "57e7c52c-c8a9-46cb-adc3-30124a4e786d"
   },
   "outputs": [
    {
     "data": {
      "text/plain": [
       "tensor([[[  0.1502,  -3.0669],\n",
       "         [ -0.2185,   0.3906],\n",
       "         [ -0.0877,   0.0856],\n",
       "         [  0.1559,   2.5907]],\n",
       "\n",
       "        [[  2.2565, -20.2559],\n",
       "         [  0.3197,  -0.8927],\n",
       "         [  3.9567,   1.1642],\n",
       "         [ -6.5329,  19.9844]]], dtype=torch.float64)"
      ]
     },
     "execution_count": 52,
     "metadata": {},
     "output_type": "execute_result"
    }
   ],
   "source": [
    "X_naive.grad"
   ]
  },
  {
   "cell_type": "code",
   "execution_count": 53,
   "metadata": {
    "colab": {
     "base_uri": "https://localhost:8080/"
    },
    "id": "NVOUTzOyABqr",
    "outputId": "57e7c52c-c8a9-46cb-adc3-30124a4e786d"
   },
   "outputs": [
    {
     "data": {
      "text/plain": [
       "tensor([[[  0.0916,  -2.9034],\n",
       "         [ -0.1113,   0.1997],\n",
       "         [ -0.1646,   0.2093],\n",
       "         [  0.1842,   2.4944]],\n",
       "\n",
       "        [[  2.2402, -19.5380],\n",
       "         [  0.4181,  -0.4812],\n",
       "         [  3.4843,   1.8208],\n",
       "         [ -6.1426,  18.1984]]], dtype=torch.float64)"
      ]
     },
     "execution_count": 53,
     "metadata": {},
     "output_type": "execute_result"
    }
   ],
   "source": [
    "X_cpu.grad"
   ]
  },
  {
   "cell_type": "code",
   "execution_count": null,
   "metadata": {},
   "outputs": [],
   "source": []
  }
 ],
 "metadata": {
  "accelerator": "GPU",
  "colab": {
   "collapsed_sections": [],
   "name": "test_gradients.ipynb",
   "provenance": []
  },
  "kernelspec": {
   "display_name": "Python 3",
   "language": "python",
   "name": "python3"
  },
  "language_info": {
   "codemirror_mode": {
    "name": "ipython",
    "version": 3
   },
   "file_extension": ".py",
   "mimetype": "text/x-python",
   "name": "python",
   "nbconvert_exporter": "python",
   "pygments_lexer": "ipython3",
   "version": "3.8.3"
  },
  "latex_envs": {
   "LaTeX_envs_menu_present": true,
   "autoclose": false,
   "autocomplete": true,
   "bibliofile": "biblio.bib",
   "cite_by": "apalike",
   "current_citInitial": 1,
   "eqLabelWithNumbers": true,
   "eqNumInitial": 1,
   "hotkeys": {
    "equation": "Ctrl-E",
    "itemize": "Ctrl-I"
   },
   "labels_anchors": false,
   "latex_user_defs": false,
   "report_style_numbering": false,
   "user_envs_cfg": false
  },
  "toc": {
   "nav_menu": {},
   "number_sections": true,
   "sideBar": true,
   "skip_h1_title": false,
   "title_cell": "Table of Contents",
   "title_sidebar": "Contents",
   "toc_cell": true,
   "toc_position": {},
   "toc_section_display": true,
   "toc_window_display": true
  }
 },
 "nbformat": 4,
 "nbformat_minor": 1
}
