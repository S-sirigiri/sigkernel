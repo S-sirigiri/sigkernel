{
 "cells": [
  {
   "cell_type": "code",
   "execution_count": 23,
   "metadata": {},
   "outputs": [],
   "source": [
    "import pandas as pd\n",
    "import numpy as np\n",
    "import torch\n",
    "from tqdm.notebook import tqdm\n",
    "import iisignature\n",
    "import pickle\n",
    "\n",
    "from sklearn.model_selection import train_test_split, GridSearchCV, TimeSeriesSplit\n",
    "from tslearn.preprocessing import TimeSeriesScalerMinMax, TimeSeriesScalerMeanVariance\n",
    "from sklearn.metrics import mean_absolute_error\n",
    "\n",
    "from tslearn.svm import TimeSeriesSVR\n",
    "from sklearn.svm import SVR\n",
    "\n",
    "import sigkernel\n",
    "\n",
    "import matplotlib.pyplot as plt\n",
    "import matplotlib.pylab as pylab\n",
    "params = {'legend.fontsize': 'large',\n",
    "          'figure.figsize': (16, 5),\n",
    "          'axes.labelsize': 'large',\n",
    "          'axes.titlesize':'large',\n",
    "          'xtick.labelsize':'large',\n",
    "          'ytick.labelsize':'large'}\n",
    "pylab.rcParams.update(params)"
   ]
  },
  {
   "cell_type": "code",
   "execution_count": 6,
   "metadata": {},
   "outputs": [],
   "source": [
    "def mean_absolute_percentage_error(y_true, y_pred): \n",
    "    return 100.*np.mean(np.abs((y_true - y_pred) / y_true)) "
   ]
  },
  {
   "cell_type": "code",
   "execution_count": 7,
   "metadata": {},
   "outputs": [],
   "source": [
    "#Helper function that extract rolling windows of historical prices of size h and means of the next future f prices.\n",
    "def GetWindow(x, h_window=30, f_window=10):\n",
    "\n",
    "    # First window\n",
    "    X = np.array(x.iloc[:h_window,]).reshape(1,-1)\n",
    "   \n",
    "    # Append next window\n",
    "    for i in range(1,len(x)-h_window+1):\n",
    "        x_i = np.array(x.iloc[i:i+h_window,]).reshape(1,-1)\n",
    "        X = np.append(X, x_i, axis=0)\n",
    "        \n",
    "    # Cut the end that we can't use to predict future price\n",
    "    rolling_window = (pd.DataFrame(X)).iloc[:-f_window,]\n",
    "    return rolling_window\n",
    "\n",
    "def GetNextMean(x, h_window=30, f_window=10):\n",
    "    return pd.DataFrame((x.rolling(f_window).mean().iloc[h_window+f_window-1:,]))"
   ]
  },
  {
   "cell_type": "code",
   "execution_count": 19,
   "metadata": {},
   "outputs": [],
   "source": [
    "def PlotResult(y_train, y_test, y_train_predict, y_test_predict, name):\n",
    "    \n",
    "    train_len = len(y_train)\n",
    "    test_len = len(y_test)\n",
    "    \n",
    "    #Visualise\n",
    "    fig, ax = plt.subplots(1, figsize=(12, 5))\n",
    "    ax.plot(y_train_predict,color='red')\n",
    "\n",
    "    ax.plot(range(train_len, train_len+test_len),\n",
    "            y_test_predict,\n",
    "            label='Predicted average price',\n",
    "            color='red',linestyle = '--')\n",
    "\n",
    "    ax.plot(np.array((y_train).append(y_test)),\n",
    "             label='Actual average price',\n",
    "             color='green')\n",
    "\n",
    "    ax.axvspan(len(y_train), len(y_train)+len(y_test),\n",
    "                alpha=0.3, color='lightgrey')\n",
    "\n",
    "    plt.grid(True)\n",
    "    plt.axis('tight')\n",
    "    plt.legend(loc=\"best\")\n",
    "    plt.xlabel('Days')\n",
    "    plt.ylabel('Bitcoin prices')\n",
    "    plt.savefig('./pictures/bitcoin_prices_prediction_{}'.format(name))\n",
    "    plt.show()"
   ]
  },
  {
   "cell_type": "code",
   "execution_count": 10,
   "metadata": {},
   "outputs": [],
   "source": [
    "# load data (source is https://www.cryptodatadownload.com)\n",
    "BTC_price = pd.read_csv('gemini_BTCUSD_day.csv',header=1)\n",
    "\n",
    "# drop the first column and reverse order\n",
    "BTC_price = BTC_price.iloc[1:,:]\n",
    "BTC_price = BTC_price.iloc[::-1]\n",
    "BTC_price['Date'] = pd.to_datetime(BTC_price['Date'])\n",
    "BTC_price.set_index('Date', inplace=True)\n",
    "\n",
    "# select duration\n",
    "initial_date = '2017-06-01'\n",
    "finish_date = '2018-08-01'\n",
    "BTC_price = BTC_price.loc[BTC_price.index >= initial_date]\n",
    "BTC_price = BTC_price.loc[BTC_price.index <= finish_date]"
   ]
  },
  {
   "cell_type": "code",
   "execution_count": 11,
   "metadata": {},
   "outputs": [],
   "source": [
    "# use only close price\n",
    "close_price = BTC_price.loc[:,'Close']\n",
    "# close_price = TimeSeriesScalerMeanVariance().fit_transform(close_price.values[None,:])\n",
    "close_price = pd.DataFrame(np.squeeze(close_price))\n",
    "\n",
    "# use last h_window observations to predict mean over next f_window observations\n",
    "h_window = 36\n",
    "f_window = 2\n",
    "\n",
    "# scaling\n",
    "scale=1e-5\n",
    "\n",
    "# next mean price\n",
    "y = GetNextMean(close_price, h_window=h_window , f_window=f_window)\n",
    "\n",
    "# normal window features\n",
    "X_window = GetWindow(close_price, h_window, f_window).values\n",
    "X_window = torch.tensor(X_window, dtype=torch.float64)\n",
    "X_window = sigkernel.transform(X_window, at=True, ll=True, scale=scale)\n",
    "\n",
    "# train test split\n",
    "x_train, x_test, y_train, y_test = train_test_split(X_window, y, test_size=0.2, shuffle=False)\n",
    "x_train = torch.tensor(x_train, dtype=torch.float64, device='cpu')\n",
    "x_test = torch.tensor(x_test, dtype=torch.float64, device='cpu')"
   ]
  },
  {
   "cell_type": "markdown",
   "metadata": {},
   "source": [
    "# Training phase"
   ]
  },
  {
   "cell_type": "code",
   "execution_count": 12,
   "metadata": {},
   "outputs": [],
   "source": [
    "# hyperparameters for grid search\n",
    "svr_parameters = {'C': np.logspace(0, 4, 5), 'gamma': np.logspace(-4, 4, 9)}"
   ]
  },
  {
   "cell_type": "markdown",
   "metadata": {},
   "source": [
    "### signature PDE kernel"
   ]
  },
  {
   "cell_type": "code",
   "execution_count": 13,
   "metadata": {},
   "outputs": [
    {
     "data": {
      "application/vnd.jupyter.widget-view+json": {
       "model_id": "2e2574c3b8d04231aba5aacb6da6afe5",
       "version_major": 2,
       "version_minor": 0
      },
      "text/plain": [
       "  0%|          | 0/6 [00:00<?, ?it/s]"
      ]
     },
     "metadata": {},
     "output_type": "display_data"
    }
   ],
   "source": [
    "best_error = 1e8\n",
    "\n",
    "for sigma in tqdm([5e-2, 1e-1, 2.5e-1, 5e-1, 7.5e-1, 1.]):\n",
    "    \n",
    "    # Specify the static kernel \n",
    "    static_kernel = sigkernel.RBFKernel(sigma=sigma)\n",
    "\n",
    "    # Initialize the corresponding signature kernel\n",
    "    signature_kernel = sigkernel.SigKernel(static_kernel, dyadic_order=0)\n",
    "    \n",
    "    # Gram matrix train\n",
    "    G_train = signature_kernel.compute_Gram(x_train, x_train, sym=True).numpy()\n",
    "    \n",
    "    # fit the model\n",
    "    svr = SVR(kernel='precomputed')\n",
    "    svr_pde = GridSearchCV(estimator=svr, param_grid=svr_parameters, cv=5, n_jobs=-1)\n",
    "    svr_pde.fit(G_train, np.squeeze(y_train))\n",
    "            \n",
    "    if np.abs(1.-svr_pde.best_score_) < np.abs(1.-best_error):\n",
    "        best_pde_model = svr_pde\n",
    "        best_error = svr_pde.best_score_\n",
    "        best_sigma = sigma"
   ]
  },
  {
   "cell_type": "markdown",
   "metadata": {},
   "source": [
    "### truncated signature kernel "
   ]
  },
  {
   "cell_type": "code",
   "execution_count": 20,
   "metadata": {},
   "outputs": [
    {
     "data": {
      "application/vnd.jupyter.widget-view+json": {
       "model_id": "e7c2875cf7784b459945bde56d64a1fd",
       "version_major": 2,
       "version_minor": 0
      },
      "text/plain": [
       "  0%|          | 0/8 [00:00<?, ?it/s]"
      ]
     },
     "metadata": {},
     "output_type": "display_data"
    },
    {
     "name": "stderr",
     "output_type": "stream",
     "text": [
      "/anaconda/envs/azureml_py36/lib/python3.6/site-packages/joblib/externals/loky/process_executor.py:706: UserWarning: A worker stopped while some jobs were given to the executor. This can be caused by a too short worker timeout or by a memory leak.\n",
      "  \"timeout or by a memory leak.\", UserWarning\n"
     ]
    }
   ],
   "source": [
    "best_error = 1e8\n",
    "depths = [1, 2, 3, 4, 5, 6, 7, 8]\n",
    "\n",
    "for d in tqdm(depths):\n",
    "        \n",
    "    # truncated signatures\n",
    "    sig_train = iisignature.sig(x_train.numpy(), d)\n",
    "\n",
    "    # normalization\n",
    "    sig_train = sigkernel.normalize(sig_train, x_train.shape[-1], d)\n",
    "    \n",
    "    # fit the model\n",
    "    svr = SVR(kernel='linear')\n",
    "    svr_sig_model = GridSearchCV(estimator=svr, param_grid=svr_parameters, cv=5, n_jobs=-1)\n",
    "    svr_sig_model.fit(sig_train, np.squeeze(y_train))\n",
    "    \n",
    "    # select best model\n",
    "    if np.abs(1.-svr_sig_model.best_score_) < np.abs(1.-best_error):\n",
    "        best_sig_model = svr_sig_model\n",
    "        best_error = svr_sig_model.best_score_\n",
    "        best_depth = d"
   ]
  },
  {
   "cell_type": "markdown",
   "metadata": {},
   "source": [
    "# Testing phase"
   ]
  },
  {
   "cell_type": "code",
   "execution_count": 24,
   "metadata": {},
   "outputs": [],
   "source": [
    "# kernels to test\n",
    "kernels = ['rbf', 'gak', 'sig', 'sig_PDE']\n",
    "\n",
    "# store final results\n",
    "final = {}"
   ]
  },
  {
   "cell_type": "code",
   "execution_count": 25,
   "metadata": {},
   "outputs": [
    {
     "data": {
      "application/vnd.jupyter.widget-view+json": {
       "model_id": "60c05b01665640eaae8b05865c2aa176",
       "version_major": 2,
       "version_minor": 0
      },
      "text/plain": [
       "  0%|          | 0/3 [00:00<?, ?it/s]"
      ]
     },
     "metadata": {},
     "output_type": "display_data"
    },
    {
     "data": {
      "image/png": "[encoded data removed]",
      "text/plain": [
       "<Figure size 864x360 with 1 Axes>"
      ]
     },
     "metadata": {
      "needs_background": "light"
     },
     "output_type": "display_data"
    }
   ],
   "source": [
    "for ker in tqdm(kernels):\n",
    "\n",
    "    if ker=='sig_PDE':\n",
    "        \n",
    "        # Specify the static kernel \n",
    "        static_kernel = sigkernel.RBFKernel(sigma=best_sigma)\n",
    "\n",
    "        # Initialize the corresponding signature kernel\n",
    "        signature_kernel = sigkernel.SigKernel(static_kernel, dyadic_order=0)\n",
    "    \n",
    "        # Gram matrix test\n",
    "        G_train = signature_kernel.compute_Gram(x_train, x_train, sym=True).numpy()\n",
    "        G_test = signature_kernel.compute_Gram(x_test, x_train, sym=False).numpy()\n",
    "        \n",
    "        # predict\n",
    "        y_train_predict = best_pde_model.predict(G_train)\n",
    "        y_test_predict = best_pde_model.predict(G_test)  \n",
    "        \n",
    "        # calculate errors\n",
    "        p_error_test = mean_absolute_percentage_error(np.array(y_test).reshape(-1,1), np.array(y_test_predict).reshape(-1,1))\n",
    "        final[ker] = p_error_test\n",
    "        \n",
    "        # plot results\n",
    "        PlotResult(y_train, y_test, y_train_predict, y_test_predict, ker)\n",
    "        \n",
    "    elif ker in ['rbf', 'gak']:\n",
    "        \n",
    "        # fit \n",
    "        svr = TimeSeriesSVR(kernel=ker)\n",
    "        svr_model = GridSearchCV(estimator=svr, param_grid=svr_parameters, cv=TimeSeriesSplit(n_splits=5), n_jobs=-1)\n",
    "        svr_model.fit(x_train.numpy(), np.squeeze(y_train))\n",
    "        \n",
    "        # predict\n",
    "        y_train_predict = svr_model.predict(x_train.numpy())\n",
    "        y_test_predict = svr_model.predict(x_test.numpy())\n",
    "        \n",
    "        # calculate errors\n",
    "        p_error_test = mean_absolute_percentage_error(np.array(y_test).reshape(-1,1), np.array(y_test_predict).reshape(-1,1))\n",
    "        final[ker] = p_error_test\n",
    "\n",
    "    else:            \n",
    "        # truncated signatures\n",
    "        sig_train = iisignature.sig(x_train.numpy(), best_depth)\n",
    "        sig_test = iisignature.sig(x_test.numpy(), best_depth)\n",
    "\n",
    "        # normalization\n",
    "        sig_train = sigkernel.normalize(sig_train, x_train.shape[-1], best_depth)\n",
    "        sig_test = sigkernel.normalize(sig_test, x_test.shape[-1], best_depth)\n",
    "\n",
    "        # predict\n",
    "        y_train_predict = best_sig_model.predict(sig_train)\n",
    "        y_test_predict = best_sig_model.predict(sig_test)\n",
    "            \n",
    "        # calculate errors\n",
    "        p_error_test = mean_absolute_percentage_error(np.array(y_test).reshape(-1,1), \n",
    "                                                      np.array(y_test_predict).reshape(-1,1))\n",
    "        final[ker + f'_best_depth_{best_depth}'] = p_error_test\n",
    "\n",
    "# save results\n",
    "with open('./results/bitcoin_results.pkl', 'wb') as file:\n",
    "    pickle.dump(final, file)"
   ]
  },
  {
   "cell_type": "code",
   "execution_count": 26,
   "metadata": {},
   "outputs": [
    {
     "data": {
      "text/plain": [
       "{'rbf': 4.094652105558635,\n",
       " 'sig_PDE': 3.2531876957220742,\n",
       " 'sig_best_depth_1': 13.420879507389571}"
      ]
     },
     "execution_count": 26,
     "metadata": {},
     "output_type": "execute_result"
    }
   ],
   "source": [
    "final"
   ]
  },
  {
   "cell_type": "code",
   "execution_count": 118,
   "metadata": {},
   "outputs": [
    {
     "name": "stdout",
     "output_type": "stream",
     "text": [
      "{'rbf': 8.939583538866353, 'gak': 6.9860291659170235, 'sig_PDE': 4.264447801086189, 'sig_best_depth_2': 12.788256906597544}\n"
     ]
    }
   ],
   "source": [
    "# print results\n",
    "with open('./results/bitcoin_results.pkl', 'rb') as file:\n",
    "    final = pickle.load(file)\n",
    "    \n",
    "print(final)"
   ]
  },
  {
   "cell_type": "code",
   "execution_count": null,
   "metadata": {},
   "outputs": [],
   "source": []
  }
 ],
 "metadata": {
  "kernel_info": {
   "name": "python3"
  },
  "kernelspec": {
   "display_name": "Python 3",
   "language": "python",
   "name": "python3"
  },
  "language_info": {
   "codemirror_mode": {
    "name": "ipython",
    "version": 3
   },
   "file_extension": ".py",
   "mimetype": "text/x-python",
   "name": "python",
   "nbconvert_exporter": "python",
   "pygments_lexer": "ipython3",
   "version": "3.6.9"
  },
  "nteract": {
   "version": "nteract-front-end@1.0.0"
  }
 },
 "nbformat": 4,
 "nbformat_minor": 4
}
