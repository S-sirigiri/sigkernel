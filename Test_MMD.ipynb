{
 "cells": [
  {
   "cell_type": "markdown",
   "metadata": {
    "toc": true
   },
   "source": [
    "<h1>Table of Contents<span class=\"tocSkip\"></span></h1>\n",
    "<div class=\"toc\"><ul class=\"toc-item\"></ul></div>"
   ]
  },
  {
   "cell_type": "code",
   "execution_count": 1,
   "metadata": {},
   "outputs": [],
   "source": [
    "import torch\n",
    "import time\n",
    "from sigMMD_torch import SigLoss_MMD, SigKernel_Gram\n",
    "from sigKer_torch import SigLoss, SigKernel\n",
    "from kernel_gradients_PDE import SigKernel_PDE\n",
    "from kernel_gradient_torch import SigKernel_torch, SigLoss_torch\n",
    "from mmd_gradient_torch import SigKernel_torch_gram, SigLoss_torch_mmd"
   ]
  },
  {
   "cell_type": "code",
   "execution_count": 8,
   "metadata": {},
   "outputs": [],
   "source": [
    "A,B,M,N,D,var = 15,10, 20, 50, 2, 1e-1\n",
    "X = var*torch.randn((A,M,D), dtype=torch.double)\n",
    "Y = var*torch.randn((A,N,D), dtype=torch.double)\n",
    "X.requires_grad = True"
   ]
  },
  {
   "cell_type": "code",
   "execution_count": 9,
   "metadata": {},
   "outputs": [],
   "source": [
    "n=0"
   ]
  },
  {
   "cell_type": "code",
   "execution_count": 10,
   "metadata": {},
   "outputs": [
    {
     "name": "stdout",
     "output_type": "stream",
     "text": [
      "4.1961669921875e-05\n",
      "0.1841500722179199\n"
     ]
    }
   ],
   "source": [
    "# t = time.time()\n",
    "# c = SigKernel_torch_gram(X,Y,n)\n",
    "# print(time.time()-t)\n",
    "# print(c.sum().item())\n",
    "\n",
    "t = time.time()\n",
    "print(time.time()-t)\n",
    "b = SigLoss_torch_mmd(n).forward(X,Y)\n",
    "print(b.item())"
   ]
  },
  {
   "cell_type": "code",
   "execution_count": 11,
   "metadata": {},
   "outputs": [
    {
     "name": "stdout",
     "output_type": "stream",
     "text": [
      "5.91278076171875e-05\n",
      "0.1841500722179199\n"
     ]
    }
   ],
   "source": [
    "# t = time.time()\n",
    "# c = SigKernel.apply(X,None,n)\n",
    "# print(time.time()-t)\n",
    "# print(c.sum().item())\n",
    "\n",
    "t = time.time()\n",
    "print(time.time()-t)\n",
    "c = SigLoss_MMD(n).forward(X,Y)\n",
    "print(c.item())"
   ]
  },
  {
   "cell_type": "code",
   "execution_count": 12,
   "metadata": {},
   "outputs": [
    {
     "name": "stdout",
     "output_type": "stream",
     "text": [
      "6.707485914230347\n",
      "tensor([[-0.0101,  0.0134],\n",
      "        [ 0.0012,  0.0125],\n",
      "        [ 0.0114, -0.0119],\n",
      "        [-0.0160,  0.0094],\n",
      "        [ 0.0079, -0.0045],\n",
      "        [-0.0051,  0.0055],\n",
      "        [-0.0004, -0.0092],\n",
      "        [ 0.0047,  0.0055],\n",
      "        [ 0.0004,  0.0006],\n",
      "        [-0.0073, -0.0022]], dtype=torch.float64)\n"
     ]
    }
   ],
   "source": [
    "# X.grad.data.zero_()\n",
    "t = time.time()\n",
    "# l = c.mean()\n",
    "# l.backward()\n",
    "b.backward()\n",
    "print(time.time()-t)\n",
    "b_grad = X.grad\n",
    "print(b_grad[0][:10,:])"
   ]
  },
  {
   "cell_type": "code",
   "execution_count": 13,
   "metadata": {},
   "outputs": [
    {
     "name": "stdout",
     "output_type": "stream",
     "text": [
      "0.0028710365295410156\n",
      "tensor([[-0.0101,  0.0134],\n",
      "        [ 0.0012,  0.0125],\n",
      "        [ 0.0114, -0.0119],\n",
      "        [-0.0160,  0.0094],\n",
      "        [ 0.0079, -0.0045],\n",
      "        [-0.0051,  0.0055],\n",
      "        [-0.0004, -0.0092],\n",
      "        [ 0.0047,  0.0055],\n",
      "        [ 0.0004,  0.0006],\n",
      "        [-0.0073, -0.0022]], dtype=torch.float64)\n"
     ]
    }
   ],
   "source": [
    "X.grad.data.zero_()\n",
    "t = time.time()\n",
    "# l = c.mean()\n",
    "# l.backward()\n",
    "c.backward()\n",
    "print(time.time()-t)\n",
    "c_grad = X.grad\n",
    "print(c_grad[0][:10,:])"
   ]
  },
  {
   "cell_type": "code",
   "execution_count": null,
   "metadata": {},
   "outputs": [],
   "source": []
  }
 ],
 "metadata": {
  "kernelspec": {
   "display_name": "Python 3",
   "language": "python",
   "name": "python3"
  },
  "language_info": {
   "codemirror_mode": {
    "name": "ipython",
    "version": 3
   },
   "file_extension": ".py",
   "mimetype": "text/x-python",
   "name": "python",
   "nbconvert_exporter": "python",
   "pygments_lexer": "ipython3",
   "version": "3.7.4"
  },
  "latex_envs": {
   "LaTeX_envs_menu_present": true,
   "autoclose": false,
   "autocomplete": true,
   "bibliofile": "biblio.bib",
   "cite_by": "apalike",
   "current_citInitial": 1,
   "eqLabelWithNumbers": true,
   "eqNumInitial": 1,
   "hotkeys": {
    "equation": "Ctrl-E",
    "itemize": "Ctrl-I"
   },
   "labels_anchors": false,
   "latex_user_defs": false,
   "report_style_numbering": false,
   "user_envs_cfg": false
  },
  "toc": {
   "nav_menu": {},
   "number_sections": true,
   "sideBar": true,
   "skip_h1_title": false,
   "title_cell": "Table of Contents",
   "title_sidebar": "Contents",
   "toc_cell": true,
   "toc_position": {},
   "toc_section_display": true,
   "toc_window_display": true
  }
 },
 "nbformat": 4,
 "nbformat_minor": 4
}
