{
 "cells": [
  {
   "cell_type": "code",
   "execution_count": 1,
   "metadata": {},
   "outputs": [],
   "source": [
    "import numpy as np\n",
    "import torch\n",
    "import torch.nn as nn\n",
    "import torch.nn.functional as F\n",
    "import matplotlib.pyplot as plt\n",
    "from tools import brownian\n",
    "from transformers import AddTime"
   ]
  },
  {
   "cell_type": "code",
   "execution_count": 21,
   "metadata": {},
   "outputs": [],
   "source": [
    "# params\n",
    "length = 10\n",
    "width = 1\n",
    "total_obs = 10\n",
    "\n",
    "# generate brownian paths\n",
    "Brownians = [brownian(length, width, 1)[:-1] for j in range(total_obs)]\n",
    "\n",
    "# generate geometric brownian motion paths\n",
    "def geom_BM(brownian_path, a=0.8, b=2.1, x0=0.3):\n",
    "    time = np.linspace(0., 1., len(brownian_path)).reshape(-1,1)\n",
    "    return x0*np.exp((b-(a**2/2))*time + a*brownian_path) \n",
    "Geometrics = [geom_BM(bm) for bm in Brownians]\n",
    "\n",
    "# add-time\n",
    "Brownians = AddTime().fit_transform(Brownians)\n",
    "Geometrics = AddTime().fit_transform(Geometrics)"
   ]
  },
  {
   "cell_type": "code",
   "execution_count": 22,
   "metadata": {},
   "outputs": [
    {
     "data": {
      "image/png": "[encoded data removed]",
      "text/plain": [
       "<Figure size 432x288 with 1 Axes>"
      ]
     },
     "metadata": {},
     "output_type": "display_data"
    }
   ],
   "source": [
    "plt.plot(Brownians[0][:,0], Brownians[0][:,1])\n",
    "plt.plot(Geometrics[0][:,0], Geometrics[0][:,1])\n",
    "plt.show()"
   ]
  },
  {
   "cell_type": "code",
   "execution_count": 23,
   "metadata": {},
   "outputs": [],
   "source": [
    "# convert to torch\n",
    "X_train = torch.tensor(Brownians).type(torch.Tensor)\n",
    "y_train = torch.tensor(Geometrics).type(torch.Tensor)"
   ]
  },
  {
   "cell_type": "code",
   "execution_count": 24,
   "metadata": {},
   "outputs": [
    {
     "data": {
      "text/plain": [
       "torch.Size([10, 10, 2])"
      ]
     },
     "execution_count": 24,
     "metadata": {},
     "output_type": "execute_result"
    }
   ],
   "source": [
    "X_train.shape"
   ]
  },
  {
   "cell_type": "code",
   "execution_count": 25,
   "metadata": {},
   "outputs": [],
   "source": [
    "def cov(X,Y):\n",
    "    A = X.shape[0]\n",
    "    B = Y.shape[0]\n",
    "    M = X.shape[1]\n",
    "    N = Y.shape[1]\n",
    "\n",
    "    K = torch.zeros((A, B, M, N)).type(torch.Tensor)\n",
    "    K[:, :, 0, :] = 1.\n",
    "    K[:, :, :, 0] = 1.\n",
    "    \n",
    "    #increments\n",
    "    for i in range(M-1):\n",
    "        for j in range(N-1):\n",
    "            inc_X = (X[:, i+1, :] - X[:, i, :])\n",
    "            inc_Y = (Y[:, j+1, :] - Y[:, j, :])\n",
    "            increment = torch.einsum('ik,jk->ij', inc_X, inc_Y)\n",
    "            K[:,:,i+1,j+1] = K[:,:,i+1,j].clone() + K[:,:,i,j+1].clone() + K[:,:,i,j].clone()*increment.clone() - K[:,:,i,j].clone()\n",
    "        \n",
    "    return K[:,:,-1,-1].T"
   ]
  },
  {
   "cell_type": "code",
   "execution_count": 26,
   "metadata": {},
   "outputs": [],
   "source": [
    "def RoughMMD(X_train, y_train):\n",
    "    K1 = cov(X_train, X_train)\n",
    "    K2 = cov(X_train, y_train)\n",
    "    K3 = cov(y_train, y_train)\n",
    "    return (1./(K1.shape[0]**2))*K1.sum() - (2./(K1.shape[0]*K3.shape[0]))*K2.sum() + (1./(K3.shape[0]**2))*K3.sum()"
   ]
  },
  {
   "cell_type": "code",
   "execution_count": 27,
   "metadata": {},
   "outputs": [
    {
     "data": {
      "text/plain": [
       "tensor(5.6639)"
      ]
     },
     "execution_count": 27,
     "metadata": {},
     "output_type": "execute_result"
    }
   ],
   "source": [
    "RoughMMD(X_train, y_train)"
   ]
  },
  {
   "cell_type": "code",
   "execution_count": 28,
   "metadata": {},
   "outputs": [],
   "source": [
    "# Here we define our model as a class\n",
    "class NaiveNN(nn.Module):\n",
    "\n",
    "    def __init__(self, width, length):\n",
    "        super(NaiveNN, self).__init__()\n",
    "                \n",
    "        # Define the output layer\n",
    "        self.linear1 = nn.Conv1d(in_channels=width, out_channels=width, kernel_size=1)\n",
    "        self.linear2 = nn.Conv1d(in_channels=width, out_channels=width, kernel_size=1)\n",
    "\n",
    "    def forward(self, path):\n",
    "        \n",
    "        path = path.transpose(1,2)\n",
    "        path = self.linear1(path)\n",
    "        path = F.relu(path)\n",
    "        y_pred = self.linear2(path)\n",
    "        \n",
    "        return y_pred.transpose(2,1)"
   ]
  },
  {
   "cell_type": "code",
   "execution_count": 29,
   "metadata": {},
   "outputs": [],
   "source": [
    "model = NaiveNN(width+1, length)"
   ]
  },
  {
   "cell_type": "code",
   "execution_count": 31,
   "metadata": {},
   "outputs": [
    {
     "name": "stdout",
     "output_type": "stream",
     "text": [
      "Epoch  0 MSE:  4.839493751525879\n",
      "Epoch  1 MSE:  4.8088250160217285\n",
      "Epoch  2 MSE:  4.775838375091553\n",
      "Epoch  3 MSE:  4.74049186706543\n",
      "Epoch  4 MSE:  4.705956935882568\n",
      "Epoch  5 MSE:  4.667185306549072\n",
      "Epoch  6 MSE:  4.624061107635498\n",
      "Epoch  7 MSE:  4.581632614135742\n",
      "Epoch  8 MSE:  4.536417007446289\n",
      "Epoch  9 MSE:  4.488286018371582\n",
      "Epoch  10 MSE:  4.43712854385376\n",
      "Epoch  11 MSE:  4.382871627807617\n",
      "Epoch  12 MSE:  4.325553894042969\n",
      "Epoch  13 MSE:  4.2650885581970215\n",
      "Epoch  14 MSE:  4.204431533813477\n",
      "Epoch  15 MSE:  4.138238430023193\n",
      "Epoch  16 MSE:  4.068120002746582\n",
      "Epoch  17 MSE:  3.995108127593994\n",
      "Epoch  18 MSE:  3.919330596923828\n",
      "Epoch  19 MSE:  3.841733932495117\n",
      "Epoch  20 MSE:  3.760472297668457\n",
      "Epoch  21 MSE:  3.6752350330352783\n",
      "Epoch  22 MSE:  3.585805892944336\n",
      "Epoch  23 MSE:  3.4941816329956055\n",
      "Epoch  24 MSE:  3.3966894149780273\n",
      "Epoch  25 MSE:  3.2976632118225098\n",
      "Epoch  26 MSE:  3.196378231048584\n",
      "Epoch  27 MSE:  3.089878559112549\n",
      "Epoch  28 MSE:  2.978271961212158\n",
      "Epoch  29 MSE:  2.863107204437256\n",
      "Epoch  30 MSE:  2.745893955230713\n",
      "Epoch  31 MSE:  2.625147819519043\n",
      "Epoch  32 MSE:  2.5006465911865234\n",
      "Epoch  33 MSE:  2.372866630554199\n",
      "Epoch  34 MSE:  2.244446277618408\n",
      "Epoch  35 MSE:  2.114600419998169\n",
      "Epoch  36 MSE:  1.9816455841064453\n",
      "Epoch  37 MSE:  1.8463878631591797\n",
      "Epoch  38 MSE:  1.7098054885864258\n",
      "Epoch  39 MSE:  1.5783276557922363\n",
      "Epoch  40 MSE:  1.4449777603149414\n",
      "Epoch  41 MSE:  1.3114299774169922\n",
      "Epoch  42 MSE:  1.1843690872192383\n",
      "Epoch  43 MSE:  1.0614557266235352\n",
      "Epoch  44 MSE:  0.9445309638977051\n",
      "Epoch  45 MSE:  0.8359827995300293\n",
      "Epoch  46 MSE:  0.7375316619873047\n",
      "Epoch  47 MSE:  0.6504397392272949\n",
      "Epoch  48 MSE:  0.5767693519592285\n",
      "Epoch  49 MSE:  0.5170531272888184\n",
      "Epoch  50 MSE:  0.47260284423828125\n",
      "Epoch  51 MSE:  0.44379234313964844\n",
      "Epoch  52 MSE:  0.43001842498779297\n",
      "Epoch  53 MSE:  0.42921876907348633\n",
      "Epoch  54 MSE:  0.438443660736084\n",
      "Epoch  55 MSE:  0.4538397789001465\n",
      "Epoch  56 MSE:  0.4710092544555664\n",
      "Epoch  57 MSE:  0.4857292175292969\n",
      "Epoch  58 MSE:  0.4946255683898926\n",
      "Epoch  59 MSE:  0.49562931060791016\n",
      "Epoch  60 MSE:  0.4882349967956543\n",
      "Epoch  61 MSE:  0.47328996658325195\n",
      "Epoch  62 MSE:  0.4528160095214844\n",
      "Epoch  63 MSE:  0.4290909767150879\n",
      "Epoch  64 MSE:  0.40442609786987305\n",
      "Epoch  65 MSE:  0.380770206451416\n",
      "Epoch  66 MSE:  0.3599510192871094\n",
      "Epoch  67 MSE:  0.3430147171020508\n",
      "Epoch  68 MSE:  0.3304915428161621\n",
      "Epoch  69 MSE:  0.32229089736938477\n",
      "Epoch  70 MSE:  0.3178114891052246\n",
      "Epoch  71 MSE:  0.3161602020263672\n",
      "Epoch  72 MSE:  0.31622791290283203\n",
      "Epoch  73 MSE:  0.3169121742248535\n",
      "Epoch  74 MSE:  0.31733274459838867\n",
      "Epoch  75 MSE:  0.3167600631713867\n",
      "Epoch  76 MSE:  0.3148841857910156\n",
      "Epoch  77 MSE:  0.31160593032836914\n",
      "Epoch  78 MSE:  0.30704593658447266\n",
      "Epoch  79 MSE:  0.30152273178100586\n",
      "Epoch  80 MSE:  0.29570913314819336\n",
      "Epoch  81 MSE:  0.2897658348083496\n",
      "Epoch  82 MSE:  0.2839374542236328\n",
      "Epoch  83 MSE:  0.2785649299621582\n",
      "Epoch  84 MSE:  0.27388668060302734\n",
      "Epoch  85 MSE:  0.26990461349487305\n",
      "Epoch  86 MSE:  0.2666172981262207\n",
      "Epoch  87 MSE:  0.2640252113342285\n",
      "Epoch  88 MSE:  0.26195812225341797\n",
      "Epoch  89 MSE:  0.26047849655151367\n",
      "Epoch  90 MSE:  0.2593803405761719\n",
      "Epoch  91 MSE:  0.2583489418029785\n",
      "Epoch  92 MSE:  0.2572627067565918\n",
      "Epoch  93 MSE:  0.2560296058654785\n",
      "Epoch  94 MSE:  0.2546210289001465\n",
      "Epoch  95 MSE:  0.25302743911743164\n",
      "Epoch  96 MSE:  0.25129127502441406\n",
      "Epoch  97 MSE:  0.24947643280029297\n",
      "Epoch  98 MSE:  0.24765777587890625\n",
      "Epoch  99 MSE:  0.24590539932250977\n"
     ]
    }
   ],
   "source": [
    "learning_rate=0.01\n",
    "num_epochs = 100\n",
    "\n",
    "optimiser = torch.optim.Adam(model.parameters(), lr=learning_rate)\n",
    "\n",
    "hist = np.zeros(num_epochs)\n",
    "\n",
    "for t in range(num_epochs):\n",
    "    \n",
    "    # Forward pass\n",
    "    y_pred = model(X_train)\n",
    "\n",
    "    loss = RoughMMD(y_pred, y_train)\n",
    "    print(\"Epoch \", t, \"MSE: \", loss.item())\n",
    "    hist[t] = loss.item()\n",
    "\n",
    "    # Zero out gradient, else they will accumulate between epochs\n",
    "    optimiser.zero_grad()\n",
    "\n",
    "    # Backward pass\n",
    "    loss.backward()\n",
    "\n",
    "    # Update parameters\n",
    "    optimiser.step()"
   ]
  },
  {
   "cell_type": "code",
   "execution_count": 265,
   "metadata": {},
   "outputs": [
    {
     "name": "stdout",
     "output_type": "stream",
     "text": [
      "torch.Size([50, 2, 50])\n"
     ]
    },
    {
     "data": {
      "text/plain": [
       "torch.Size([50, 50, 2])"
      ]
     },
     "execution_count": 265,
     "metadata": {},
     "output_type": "execute_result"
    }
   ],
   "source": [
    "#####################\n",
    "# Plot preds and performance\n",
    "#####################\n",
    "\n",
    "plt.plot(y_pred.detach().numpy(), label=\"Preds\")\n",
    "plt.plot(y_train.detach().numpy(), label=\"Data\")\n",
    "plt.legend()\n",
    "plt.show()\n",
    "\n",
    "plt.plot(hist, label=\"Training loss\")\n",
    "plt.legend()\n",
    "plt.show()"
   ]
  }
 ],
 "metadata": {
  "kernelspec": {
   "display_name": "Python 3",
   "language": "python",
   "name": "python3"
  },
  "language_info": {
   "codemirror_mode": {
    "name": "ipython",
    "version": 3
   },
   "file_extension": ".py",
   "mimetype": "text/x-python",
   "name": "python",
   "nbconvert_exporter": "python",
   "pygments_lexer": "ipython3",
   "version": "3.6.5"
  }
 },
 "nbformat": 4,
 "nbformat_minor": 2
}
