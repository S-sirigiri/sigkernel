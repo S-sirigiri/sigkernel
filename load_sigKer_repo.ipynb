{
 "cells": [
  {
   "cell_type": "code",
   "execution_count": 1,
   "metadata": {},
   "outputs": [
    {
     "name": "stdout",
     "output_type": "stream",
     "text": [
      "Collecting iisignature\n",
      "  Downloading iisignature-0.24.tar.gz (1.3 MB)\n",
      "\u001b[K     |████████████████████████████████| 1.3 MB 9.8 MB/s eta 0:00:01\n",
      "\u001b[?25hRequirement already satisfied: numpy>1.7 in /anaconda/envs/azureml_py36/lib/python3.6/site-packages (from iisignature) (1.18.5)\n",
      "Building wheels for collected packages: iisignature\n",
      "  Building wheel for iisignature (setup.py) ... \u001b[?25ldone\n",
      "\u001b[?25h  Created wheel for iisignature: filename=iisignature-0.24-cp36-cp36m-linux_x86_64.whl size=2523019 sha256=80409c79186ba5f7e70962a01cc0be934aa47f45cab730589768514f4cc89a6d\n",
      "  Stored in directory: /home/azureuser/.cache/pip/wheels/4d/1d/7d/44bbe495b4af0c25baacc704f8b26e5def26268ce749688f0a\n",
      "Successfully built iisignature\n",
      "Installing collected packages: iisignature\n",
      "Successfully installed iisignature-0.24\n"
     ]
    }
   ],
   "source": [
    "!pip install iisignature"
   ]
  },
  {
   "cell_type": "code",
   "execution_count": 4,
   "metadata": {},
   "outputs": [
    {
     "name": "stdout",
     "output_type": "stream",
     "text": [
      "Collecting pandas_datareader\n",
      "  Downloading pandas_datareader-0.9.0-py3-none-any.whl (107 kB)\n",
      "\u001b[K     |████████████████████████████████| 107 kB 11.3 MB/s eta 0:00:01\n",
      "\u001b[?25hRequirement already satisfied: requests>=2.19.0 in /anaconda/envs/azureml_py36/lib/python3.6/site-packages (from pandas_datareader) (2.25.0)\n",
      "Requirement already satisfied: lxml in /anaconda/envs/azureml_py36/lib/python3.6/site-packages (from pandas_datareader) (4.6.2)\n",
      "Requirement already satisfied: pandas>=0.23 in /anaconda/envs/azureml_py36/lib/python3.6/site-packages (from pandas_datareader) (0.25.3)\n",
      "Requirement already satisfied: certifi>=2017.4.17 in /anaconda/envs/azureml_py36/lib/python3.6/site-packages (from requests>=2.19.0->pandas_datareader) (2020.11.8)\n",
      "Requirement already satisfied: chardet<4,>=3.0.2 in /anaconda/envs/azureml_py36/lib/python3.6/site-packages (from requests>=2.19.0->pandas_datareader) (3.0.4)\n",
      "Requirement already satisfied: urllib3<1.27,>=1.21.1 in /anaconda/envs/azureml_py36/lib/python3.6/site-packages (from requests>=2.19.0->pandas_datareader) (1.25.11)\n",
      "Requirement already satisfied: idna<3,>=2.5 in /anaconda/envs/azureml_py36/lib/python3.6/site-packages (from requests>=2.19.0->pandas_datareader) (2.10)\n",
      "Requirement already satisfied: python-dateutil>=2.6.1 in /anaconda/envs/azureml_py36/lib/python3.6/site-packages (from pandas>=0.23->pandas_datareader) (2.8.1)\n",
      "Requirement already satisfied: numpy>=1.13.3 in /anaconda/envs/azureml_py36/lib/python3.6/site-packages (from pandas>=0.23->pandas_datareader) (1.18.5)\n",
      "Requirement already satisfied: pytz>=2017.2 in /anaconda/envs/azureml_py36/lib/python3.6/site-packages (from pandas>=0.23->pandas_datareader) (2020.4)\n",
      "Requirement already satisfied: six>=1.5 in /anaconda/envs/azureml_py36/lib/python3.6/site-packages (from python-dateutil>=2.6.1->pandas>=0.23->pandas_datareader) (1.15.0)\n",
      "Installing collected packages: pandas-datareader\n",
      "Successfully installed pandas-datareader-0.9.0\n"
     ]
    }
   ],
   "source": [
    "!pip install pandas_datareader"
   ]
  },
  {
   "cell_type": "code",
   "execution_count": 2,
   "metadata": {},
   "outputs": [
    {
     "name": "stdout",
     "output_type": "stream",
     "text": [
      "Collecting tslearn\n",
      "  Downloading tslearn-0.4.1-cp36-cp36m-manylinux2010_x86_64.whl (770 kB)\n",
      "\u001b[K     |████████████████████████████████| 770 kB 16.6 MB/s eta 0:00:01\n",
      "\u001b[?25hRequirement already satisfied: Cython in /anaconda/envs/azureml_py36/lib/python3.6/site-packages (from tslearn) (0.29.21)\n",
      "Collecting numba\n",
      "  Downloading numba-0.52.0-cp36-cp36m-manylinux2014_x86_64.whl (3.1 MB)\n",
      "\u001b[K     |████████████████████████████████| 3.1 MB 67.4 MB/s eta 0:00:01\n",
      "\u001b[?25hRequirement already satisfied: scikit-learn in /anaconda/envs/azureml_py36/lib/python3.6/site-packages (from tslearn) (0.22.2.post1)\n",
      "Requirement already satisfied: joblib in /anaconda/envs/azureml_py36/lib/python3.6/site-packages (from tslearn) (0.14.1)\n",
      "Requirement already satisfied: scipy in /anaconda/envs/azureml_py36/lib/python3.6/site-packages (from tslearn) (1.5.2)\n",
      "Requirement already satisfied: numpy in /anaconda/envs/azureml_py36/lib/python3.6/site-packages (from tslearn) (1.18.5)\n",
      "Requirement already satisfied: setuptools in /anaconda/envs/azureml_py36/lib/python3.6/site-packages (from numba->tslearn) (50.3.0.post20201006)\n",
      "Collecting llvmlite<0.36,>=0.35.0\n",
      "  Downloading llvmlite-0.35.0-cp36-cp36m-manylinux2010_x86_64.whl (25.3 MB)\n",
      "\u001b[K     |████████████████████████████████| 25.3 MB 13.2 MB/s eta 0:00:01\n",
      "\u001b[?25hInstalling collected packages: llvmlite, numba, tslearn\n",
      "Successfully installed llvmlite-0.35.0 numba-0.52.0 tslearn-0.4.1\n"
     ]
    }
   ],
   "source": [
    "!pip install tslearn"
   ]
  },
  {
   "cell_type": "code",
   "execution_count": 2,
   "metadata": {},
   "outputs": [
    {
     "name": "stdout",
     "output_type": "stream",
     "text": [
      "Collecting git+https://github.com/patrick-kidger/torchcde.git\n",
      "  Cloning https://github.com/patrick-kidger/torchcde.git to /tmp/pip-req-build-iiq_85o0\n",
      "  Running command git clone -q https://github.com/patrick-kidger/torchcde.git /tmp/pip-req-build-iiq_85o0\n",
      "Requirement already satisfied: torch>=1.6.0 in /anaconda/envs/azureml_py36/lib/python3.6/site-packages (from torchcde==0.1.0) (1.6.0)\n",
      "Collecting torchdiffeq>=0.1.0\n",
      "  Downloading torchdiffeq-0.1.1-py3-none-any.whl (29 kB)\n",
      "Requirement already satisfied: future in /anaconda/envs/azureml_py36/lib/python3.6/site-packages (from torch>=1.6.0->torchcde==0.1.0) (0.18.2)\n",
      "Requirement already satisfied: numpy in /anaconda/envs/azureml_py36/lib/python3.6/site-packages (from torch>=1.6.0->torchcde==0.1.0) (1.18.5)\n",
      "Building wheels for collected packages: torchcde\n",
      "  Building wheel for torchcde (setup.py) ... \u001b[?25ldone\n",
      "\u001b[?25h  Created wheel for torchcde: filename=torchcde-0.1.0-py3-none-any.whl size=26887 sha256=bd74765e45126d412c5c3deadc08b808cd045aab03305ee9276ac3543bdeac10\n",
      "  Stored in directory: /tmp/pip-ephem-wheel-cache-h18xwxn6/wheels/c5/39/cc/d565aba71de7160b7cf6d2162178e8ef8ab3c52c76405f65d9\n",
      "Successfully built torchcde\n",
      "Installing collected packages: torchdiffeq, torchcde\n",
      "Successfully installed torchcde-0.1.0 torchdiffeq-0.1.1\n"
     ]
    }
   ],
   "source": [
    "!pip install git+https://github.com/patrick-kidger/torchcde.git"
   ]
  },
  {
   "cell_type": "code",
   "execution_count": 8,
   "metadata": {},
   "outputs": [],
   "source": [
    "# !pip install git+https://github.com/google-research/torchsde.git"
   ]
  },
  {
   "cell_type": "code",
   "execution_count": null,
   "metadata": {},
   "outputs": [],
   "source": [
    "# !pip install signatory==1.2.3.1.6.0 --no-cache-dir --force-reinstall"
   ]
  },
  {
   "cell_type": "code",
   "execution_count": 1,
   "metadata": {},
   "outputs": [
    {
     "name": "stdout",
     "output_type": "stream",
     "text": [
      "Cloning into 'Signature-Kernel'...\n",
      "remote: Enumerating objects: 303, done.\u001b[K\n",
      "remote: Counting objects: 100% (303/303), done.\u001b[K\n",
      "remote: Compressing objects: 100% (214/214), done.\u001b[K\n",
      "remote: Total 873 (delta 184), reused 204 (delta 89), pack-reused 570\u001b[K\n",
      "Receiving objects: 100% (873/873), 26.74 MiB | 12.78 MiB/s, done.\n",
      "Resolving deltas: 100% (486/486), done.\n",
      "Updating files: 100% (67/67), done.\n",
      "/mnt/batch/tasks/shared/LS_root/mounts/clusters/nc6-teslak80-56-cs/code/Users/csalvi/Signature-Kernel/src\n",
      "Compiling sigKer_fast.pyx because it changed.\n",
      "[1/1] Cythonizing sigKer_fast.pyx\n",
      "/anaconda/envs/azureml_py36/lib/python3.6/site-packages/Cython/Compiler/Main.py:369: FutureWarning: Cython directive 'language_level' not set, using 2 for now (Py2). This will change in a later release! File: /mnt/batch/tasks/shared/LS_root/mounts/clusters/nc6-teslak80-56-cs/code/Users/csalvi/Signature-Kernel/src/sigKer_fast.pyx\n",
      "  tree = Parsing.p_module(s, pxd, full_module_name)\n",
      "running build_ext\n",
      "building 'sigKer_fast' extension\n",
      "creating build/temp.linux-x86_64-3.6\n",
      "gcc -pthread -B /anaconda/envs/azureml_py36/compiler_compat -Wl,--sysroot=/ -Wsign-compare -DNDEBUG -g -fwrapv -O3 -Wall -Wstrict-prototypes -fPIC -I/anaconda/envs/azureml_py36/include/python3.6m -c sigKer_fast.c -o build/temp.linux-x86_64-3.6/sigKer_fast.o\n",
      "creating build/lib.linux-x86_64-3.6\n",
      "gcc -pthread -shared -B /anaconda/envs/azureml_py36/compiler_compat -L/anaconda/envs/azureml_py36/lib -Wl,-rpath=/anaconda/envs/azureml_py36/lib -Wl,--no-as-needed -Wl,--sysroot=/ build/temp.linux-x86_64-3.6/sigKer_fast.o -o build/lib.linux-x86_64-3.6/sigKer_fast.cpython-36m-x86_64-linux-gnu.so\n",
      "copying build/lib.linux-x86_64-3.6/sigKer_fast.cpython-36m-x86_64-linux-gnu.so -> \n"
     ]
    }
   ],
   "source": [
    "!git clone 'https://github.com/crispitagorico/Signature-Kernel.git'\n",
    "\n",
    "%cd Signature-Kernel/src/ \n",
    "\n",
    "!python setup.py build_ext --inplace"
   ]
  },
  {
   "cell_type": "code",
   "execution_count": null,
   "metadata": {},
   "outputs": [],
   "source": []
  }
 ],
 "metadata": {
  "kernel_info": {
   "name": "python3"
  },
  "kernelspec": {
   "display_name": "Python 3",
   "language": "python",
   "name": "python3"
  },
  "language_info": {
   "codemirror_mode": {
    "name": "ipython",
    "version": 3
   },
   "file_extension": ".py",
   "mimetype": "text/x-python",
   "name": "python",
   "nbconvert_exporter": "python",
   "pygments_lexer": "ipython3",
   "version": "3.6.9"
  },
  "nteract": {
   "version": "nteract-front-end@1.0.0"
  }
 },
 "nbformat": 4,
 "nbformat_minor": 2
}
